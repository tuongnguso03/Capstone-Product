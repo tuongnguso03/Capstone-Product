{
 "cells": [
  {
   "cell_type": "code",
   "execution_count": 1,
   "id": "a955083c",
   "metadata": {
    "execution": {
     "iopub.execute_input": "2025-05-27T06:17:38.746726Z",
     "iopub.status.busy": "2025-05-27T06:17:38.746079Z",
     "iopub.status.idle": "2025-05-27T06:17:38.752111Z",
     "shell.execute_reply": "2025-05-27T06:17:38.751613Z"
    },
    "id": "TnhanWBXCSnE",
    "papermill": {
     "duration": 0.017554,
     "end_time": "2025-05-27T06:17:38.753206",
     "exception": false,
     "start_time": "2025-05-27T06:17:38.735652",
     "status": "completed"
    },
    "tags": []
   },
   "outputs": [],
   "source": [
    "import warnings\n",
    "warnings.filterwarnings('ignore')"
   ]
  },
  {
   "cell_type": "markdown",
   "id": "85ab46d3",
   "metadata": {
    "id": "1CqYUjE3W5YA",
    "papermill": {
     "duration": 0.007781,
     "end_time": "2025-05-27T06:17:38.769287",
     "exception": false,
     "start_time": "2025-05-27T06:17:38.761506",
     "status": "completed"
    },
    "tags": []
   },
   "source": [
    "### Wandb session"
   ]
  },
  {
   "cell_type": "code",
   "execution_count": 2,
   "id": "9d82e1d9",
   "metadata": {
    "execution": {
     "iopub.execute_input": "2025-05-27T06:17:38.785850Z",
     "iopub.status.busy": "2025-05-27T06:17:38.785649Z",
     "iopub.status.idle": "2025-05-27T06:17:38.789005Z",
     "shell.execute_reply": "2025-05-27T06:17:38.788310Z"
    },
    "id": "A4kt78hJW5YC",
    "papermill": {
     "duration": 0.012996,
     "end_time": "2025-05-27T06:17:38.790117",
     "exception": false,
     "start_time": "2025-05-27T06:17:38.777121",
     "status": "completed"
    },
    "tags": []
   },
   "outputs": [],
   "source": [
    "# import wandb\n",
    "# wandb.login(key='6f62d15846ae3ef63e0c80b3ab1f4de94d5cc8a4')\n",
    "# wandb.init(project='augmented_test')\n",
    "\n",
    "import os\n",
    "os.environ[\"WANDB_DISABLED\"] = \"true\"\n"
   ]
  },
  {
   "cell_type": "markdown",
   "id": "f6457fd5",
   "metadata": {
    "id": "4lNqCZB8W5YC",
    "papermill": {
     "duration": 0.007523,
     "end_time": "2025-05-27T06:17:38.806241",
     "exception": false,
     "start_time": "2025-05-27T06:17:38.798718",
     "status": "completed"
    },
    "tags": []
   },
   "source": [
    "# model1.1.1:\n",
    "Description of the model format a.b.c\n",
    "* **a** means the phase of the dataset. Phase 1 means the first 1000 high-quality English-Bahnar sentences\n",
    "* **b** means the direction of translation. Direction 1 means Bahnar to English\n",
    "* **c** means the special technique and version to develop this model.\n",
    "\n",
    "Technique 0 means just feed English-Bahnar data into the pretrained model. Technique 1 means feed both English-Bahnar and English-Vietnamese into the model\n"
   ]
  },
  {
   "cell_type": "markdown",
   "id": "b380d007",
   "metadata": {
    "id": "pBdHIwc5W5YD",
    "papermill": {
     "duration": 0.008143,
     "end_time": "2025-05-27T06:17:38.822205",
     "exception": false,
     "start_time": "2025-05-27T06:17:38.814062",
     "status": "completed"
    },
    "tags": []
   },
   "source": [
    "### Cleaning the kaggle/working directory"
   ]
  },
  {
   "cell_type": "code",
   "execution_count": 3,
   "id": "c38d6e22",
   "metadata": {
    "execution": {
     "iopub.execute_input": "2025-05-27T06:17:38.838696Z",
     "iopub.status.busy": "2025-05-27T06:17:38.838516Z",
     "iopub.status.idle": "2025-05-27T06:17:38.843871Z",
     "shell.execute_reply": "2025-05-27T06:17:38.843261Z"
    },
    "id": "iMzQQ3TcW5YD",
    "papermill": {
     "duration": 0.014838,
     "end_time": "2025-05-27T06:17:38.844948",
     "exception": false,
     "start_time": "2025-05-27T06:17:38.830110",
     "status": "completed"
    },
    "tags": []
   },
   "outputs": [
    {
     "name": "stdout",
     "output_type": "stream",
     "text": [
      "Cleaning complete.\n"
     ]
    }
   ],
   "source": [
    "import os\n",
    "import shutil\n",
    "\n",
    "directory = '/kaggle/working'\n",
    "\n",
    "# Loop through each item in the directory\n",
    "for filename in os.listdir(directory):\n",
    "    file_path = os.path.join(directory, filename)\n",
    "    try:\n",
    "        if os.path.isfile(file_path) or os.path.islink(file_path):\n",
    "            os.unlink(file_path)  # Removes files and links\n",
    "        elif os.path.isdir(file_path):\n",
    "            shutil.rmtree(file_path)  # Removes directories and their contents\n",
    "    except Exception as e:\n",
    "        print(f'Failed to delete {file_path}. Reason: {e}')\n",
    "\n",
    "print(\"Cleaning complete.\")"
   ]
  },
  {
   "cell_type": "markdown",
   "id": "7aac948a",
   "metadata": {
    "id": "8Mbb_K3QW5YD",
    "papermill": {
     "duration": 0.007719,
     "end_time": "2025-05-27T06:17:38.860541",
     "exception": false,
     "start_time": "2025-05-27T06:17:38.852822",
     "status": "completed"
    },
    "tags": []
   },
   "source": [
    "### Installing dependencies"
   ]
  },
  {
   "cell_type": "code",
   "execution_count": 4,
   "id": "f8996edd",
   "metadata": {
    "execution": {
     "iopub.execute_input": "2025-05-27T06:17:38.876885Z",
     "iopub.status.busy": "2025-05-27T06:17:38.876684Z",
     "iopub.status.idle": "2025-05-27T06:17:50.058468Z",
     "shell.execute_reply": "2025-05-27T06:17:50.057687Z"
    },
    "id": "9-svHB12W5YD",
    "papermill": {
     "duration": 11.191608,
     "end_time": "2025-05-27T06:17:50.059898",
     "exception": false,
     "start_time": "2025-05-27T06:17:38.868290",
     "status": "completed"
    },
    "tags": []
   },
   "outputs": [
    {
     "name": "stdout",
     "output_type": "stream",
     "text": [
      "\u001b[2K   \u001b[90m━━━━━━━━━━━━━━━━━━━━━━━━━━━━━━━━━━━━━━━━\u001b[0m \u001b[32m193.6/193.6 kB\u001b[0m \u001b[31m7.7 MB/s\u001b[0m eta \u001b[36m0:00:00\u001b[0m\r\n",
      "\u001b[?25h\u001b[31mERROR: pip's dependency resolver does not currently take into account all the packages that are installed. This behaviour is the source of the following dependency conflicts.\r\n",
      "cesium 0.12.4 requires numpy<3.0,>=2.0, but you have numpy 1.26.4 which is incompatible.\r\n",
      "bigframes 1.42.0 requires rich<14,>=12.4.4, but you have rich 14.0.0 which is incompatible.\r\n",
      "torch 2.6.0+cu124 requires nvidia-cublas-cu12==12.4.5.8; platform_system == \"Linux\" and platform_machine == \"x86_64\", but you have nvidia-cublas-cu12 12.9.0.13 which is incompatible.\r\n",
      "torch 2.6.0+cu124 requires nvidia-cudnn-cu12==9.1.0.70; platform_system == \"Linux\" and platform_machine == \"x86_64\", but you have nvidia-cudnn-cu12 9.3.0.75 which is incompatible.\r\n",
      "torch 2.6.0+cu124 requires nvidia-cufft-cu12==11.2.1.3; platform_system == \"Linux\" and platform_machine == \"x86_64\", but you have nvidia-cufft-cu12 11.4.0.6 which is incompatible.\r\n",
      "torch 2.6.0+cu124 requires nvidia-curand-cu12==10.3.5.147; platform_system == \"Linux\" and platform_machine == \"x86_64\", but you have nvidia-curand-cu12 10.3.10.19 which is incompatible.\r\n",
      "torch 2.6.0+cu124 requires nvidia-cusolver-cu12==11.6.1.9; platform_system == \"Linux\" and platform_machine == \"x86_64\", but you have nvidia-cusolver-cu12 11.7.4.40 which is incompatible.\r\n",
      "torch 2.6.0+cu124 requires nvidia-cusparse-cu12==12.3.1.170; platform_system == \"Linux\" and platform_machine == \"x86_64\", but you have nvidia-cusparse-cu12 12.5.9.5 which is incompatible.\r\n",
      "torch 2.6.0+cu124 requires nvidia-nvjitlink-cu12==12.4.127; platform_system == \"Linux\" and platform_machine == \"x86_64\", but you have nvidia-nvjitlink-cu12 12.9.41 which is incompatible.\r\n",
      "gcsfs 2025.3.2 requires fsspec==2025.3.2, but you have fsspec 2025.3.0 which is incompatible.\u001b[0m\u001b[31m\r\n",
      "\u001b[2K     \u001b[90m━━━━━━━━━━━━━━━━━━━━━━━━━━━━━━━━━━━━━━━━\u001b[0m \u001b[32m51.8/51.8 kB\u001b[0m \u001b[31m2.3 MB/s\u001b[0m eta \u001b[36m0:00:00\u001b[0m\r\n",
      "\u001b[2K   \u001b[90m━━━━━━━━━━━━━━━━━━━━━━━━━━━━━━━━━━━━━━━━\u001b[0m \u001b[32m104.1/104.1 kB\u001b[0m \u001b[31m6.5 MB/s\u001b[0m eta \u001b[36m0:00:00\u001b[0m\r\n",
      "\u001b[?25h"
     ]
    }
   ],
   "source": [
    "!pip install -q -U sentencepiece\n",
    "!pip install -q -U datasets\n",
    "!pip install -q -U sacrebleu"
   ]
  },
  {
   "cell_type": "markdown",
   "id": "68ef1aea",
   "metadata": {
    "id": "fjvdNxXRW5YE",
    "papermill": {
     "duration": 0.008441,
     "end_time": "2025-05-27T06:17:50.077560",
     "exception": false,
     "start_time": "2025-05-27T06:17:50.069119",
     "status": "completed"
    },
    "tags": []
   },
   "source": [
    "### Importing libraries"
   ]
  },
  {
   "cell_type": "code",
   "execution_count": 5,
   "id": "c6f779aa",
   "metadata": {
    "execution": {
     "iopub.execute_input": "2025-05-27T06:17:50.095815Z",
     "iopub.status.busy": "2025-05-27T06:17:50.095534Z",
     "iopub.status.idle": "2025-05-27T06:17:52.908222Z",
     "shell.execute_reply": "2025-05-27T06:17:52.907640Z"
    },
    "id": "0NqLWvK1W5YE",
    "papermill": {
     "duration": 2.82386,
     "end_time": "2025-05-27T06:17:52.909874",
     "exception": false,
     "start_time": "2025-05-27T06:17:50.086014",
     "status": "completed"
    },
    "tags": []
   },
   "outputs": [],
   "source": [
    "from datasets import Dataset, concatenate_datasets"
   ]
  },
  {
   "cell_type": "code",
   "execution_count": 6,
   "id": "206b6ac4",
   "metadata": {
    "execution": {
     "iopub.execute_input": "2025-05-27T06:17:52.928778Z",
     "iopub.status.busy": "2025-05-27T06:17:52.928354Z",
     "iopub.status.idle": "2025-05-27T06:18:23.881008Z",
     "shell.execute_reply": "2025-05-27T06:18:23.880439Z"
    },
    "id": "I4SpTMyU2wcv",
    "papermill": {
     "duration": 30.963544,
     "end_time": "2025-05-27T06:18:23.882405",
     "exception": false,
     "start_time": "2025-05-27T06:17:52.918861",
     "status": "completed"
    },
    "tags": []
   },
   "outputs": [
    {
     "name": "stderr",
     "output_type": "stream",
     "text": [
      "2025-05-27 06:18:09.996161: E external/local_xla/xla/stream_executor/cuda/cuda_fft.cc:477] Unable to register cuFFT factory: Attempting to register factory for plugin cuFFT when one has already been registered\n",
      "WARNING: All log messages before absl::InitializeLog() is called are written to STDERR\n",
      "E0000 00:00:1748326690.228945      19 cuda_dnn.cc:8310] Unable to register cuDNN factory: Attempting to register factory for plugin cuDNN when one has already been registered\n",
      "E0000 00:00:1748326690.301669      19 cuda_blas.cc:1418] Unable to register cuBLAS factory: Attempting to register factory for plugin cuBLAS when one has already been registered\n"
     ]
    }
   ],
   "source": [
    "import torch\n",
    "import sentencepiece\n",
    "from transformers import AutoTokenizer, AutoModelForSeq2SeqLM, Seq2SeqTrainer, Seq2SeqTrainingArguments\n",
    "from datasets import load_dataset\n",
    "\n",
    "import pandas as pd\n",
    "from sklearn.model_selection import train_test_split\n",
    "from datasets import Dataset, concatenate_datasets\n",
    "\n",
    "import sacrebleu"
   ]
  },
  {
   "cell_type": "markdown",
   "id": "5d59988b",
   "metadata": {
    "id": "1bWdL6fRW5YE",
    "papermill": {
     "duration": 0.008464,
     "end_time": "2025-05-27T06:18:23.900003",
     "exception": false,
     "start_time": "2025-05-27T06:18:23.891539",
     "status": "completed"
    },
    "tags": []
   },
   "source": [
    "### Reproducibility"
   ]
  },
  {
   "cell_type": "code",
   "execution_count": 7,
   "id": "9e14e2ee",
   "metadata": {
    "execution": {
     "iopub.execute_input": "2025-05-27T06:18:23.918197Z",
     "iopub.status.busy": "2025-05-27T06:18:23.917635Z",
     "iopub.status.idle": "2025-05-27T06:18:23.927183Z",
     "shell.execute_reply": "2025-05-27T06:18:23.926479Z"
    },
    "id": "UjL5cNEc2wcw",
    "papermill": {
     "duration": 0.019885,
     "end_time": "2025-05-27T06:18:23.928372",
     "exception": false,
     "start_time": "2025-05-27T06:18:23.908487",
     "status": "completed"
    },
    "tags": []
   },
   "outputs": [],
   "source": [
    "RANDOM_SEED = 42\n",
    "\n",
    "torch.manual_seed(RANDOM_SEED)\n",
    "# If you are using CUDA\n",
    "torch.cuda.manual_seed_all(RANDOM_SEED)\n",
    "# Check if GPU is available\n",
    "device = torch.device(\"cuda\" if torch.cuda.is_available() else \"cpu\")\n",
    "\n",
    "MAX_LEN = 384\n",
    "PADDING_LEN = 228"
   ]
  },
  {
   "cell_type": "markdown",
   "id": "90ae2ae0",
   "metadata": {
    "id": "ZGw2ZPFnW5YE",
    "papermill": {
     "duration": 0.008128,
     "end_time": "2025-05-27T06:18:23.944883",
     "exception": false,
     "start_time": "2025-05-27T06:18:23.936755",
     "status": "completed"
    },
    "tags": []
   },
   "source": [
    "### Loading the pretrained model"
   ]
  },
  {
   "cell_type": "code",
   "execution_count": 8,
   "id": "57c7b91e",
   "metadata": {
    "execution": {
     "iopub.execute_input": "2025-05-27T06:18:23.962398Z",
     "iopub.status.busy": "2025-05-27T06:18:23.962144Z",
     "iopub.status.idle": "2025-05-27T06:18:29.666879Z",
     "shell.execute_reply": "2025-05-27T06:18:29.666011Z"
    },
    "id": "cR6SJn0l2wcx",
    "papermill": {
     "duration": 5.715244,
     "end_time": "2025-05-27T06:18:29.668404",
     "exception": false,
     "start_time": "2025-05-27T06:18:23.953160",
     "status": "completed"
    },
    "tags": []
   },
   "outputs": [
    {
     "data": {
      "application/vnd.jupyter.widget-view+json": {
       "model_id": "3c3f99d726c24fcc90e554603927d7f7",
       "version_major": 2,
       "version_minor": 0
      },
      "text/plain": [
       "tokenizer_config.json:   0%|          | 0.00/44.0 [00:00<?, ?B/s]"
      ]
     },
     "metadata": {},
     "output_type": "display_data"
    },
    {
     "data": {
      "application/vnd.jupyter.widget-view+json": {
       "model_id": "ce1a1cd3f13046dbb3d58cf43eab3fa5",
       "version_major": 2,
       "version_minor": 0
      },
      "text/plain": [
       "config.json:   0%|          | 0.00/1.39k [00:00<?, ?B/s]"
      ]
     },
     "metadata": {},
     "output_type": "display_data"
    },
    {
     "data": {
      "application/vnd.jupyter.widget-view+json": {
       "model_id": "f0ecf76387f5422a82ccc3522c0f39aa",
       "version_major": 2,
       "version_minor": 0
      },
      "text/plain": [
       "source.spm:   0%|          | 0.00/756k [00:00<?, ?B/s]"
      ]
     },
     "metadata": {},
     "output_type": "display_data"
    },
    {
     "data": {
      "application/vnd.jupyter.widget-view+json": {
       "model_id": "407ce5a8b63549fd86614868e64a45a5",
       "version_major": 2,
       "version_minor": 0
      },
      "text/plain": [
       "target.spm:   0%|          | 0.00/809k [00:00<?, ?B/s]"
      ]
     },
     "metadata": {},
     "output_type": "display_data"
    },
    {
     "data": {
      "application/vnd.jupyter.widget-view+json": {
       "model_id": "e2a79968206042bca76e2259c95f3cf2",
       "version_major": 2,
       "version_minor": 0
      },
      "text/plain": [
       "vocab.json:   0%|          | 0.00/1.19M [00:00<?, ?B/s]"
      ]
     },
     "metadata": {},
     "output_type": "display_data"
    },
    {
     "data": {
      "application/vnd.jupyter.widget-view+json": {
       "model_id": "9c475bf145da48db96eaff5fdf8db2d4",
       "version_major": 2,
       "version_minor": 0
      },
      "text/plain": [
       "pytorch_model.bin:   0%|          | 0.00/289M [00:00<?, ?B/s]"
      ]
     },
     "metadata": {},
     "output_type": "display_data"
    },
    {
     "data": {
      "application/vnd.jupyter.widget-view+json": {
       "model_id": "892cf77a85fa4aefabc7e5cc700c2854",
       "version_major": 2,
       "version_minor": 0
      },
      "text/plain": [
       "generation_config.json:   0%|          | 0.00/293 [00:00<?, ?B/s]"
      ]
     },
     "metadata": {},
     "output_type": "display_data"
    },
    {
     "data": {
      "application/vnd.jupyter.widget-view+json": {
       "model_id": "ba7c7344c68a42eaba44370ebd532e97",
       "version_major": 2,
       "version_minor": 0
      },
      "text/plain": [
       "model.safetensors:   0%|          | 0.00/289M [00:00<?, ?B/s]"
      ]
     },
     "metadata": {},
     "output_type": "display_data"
    }
   ],
   "source": [
    "model_name = \"Helsinki-NLP/opus-mt-vi-en\"  # Example model for Bahnar to English\n",
    "en_ba_tokenizer = AutoTokenizer.from_pretrained(model_name)\n",
    "en_vi_tokenizer = AutoTokenizer.from_pretrained(model_name)\n",
    "model = AutoModelForSeq2SeqLM.from_pretrained(model_name).to(device)"
   ]
  },
  {
   "cell_type": "markdown",
   "id": "793f22a4",
   "metadata": {
    "id": "W0FIGm6XW5YF",
    "papermill": {
     "duration": 0.009288,
     "end_time": "2025-05-27T06:18:29.745046",
     "exception": false,
     "start_time": "2025-05-27T06:18:29.735758",
     "status": "completed"
    },
    "tags": []
   },
   "source": [
    "### Loading the dataset"
   ]
  },
  {
   "cell_type": "code",
   "execution_count": 9,
   "id": "d5620322",
   "metadata": {
    "execution": {
     "iopub.execute_input": "2025-05-27T06:18:29.765027Z",
     "iopub.status.busy": "2025-05-27T06:18:29.764278Z",
     "iopub.status.idle": "2025-05-27T06:18:29.989854Z",
     "shell.execute_reply": "2025-05-27T06:18:29.989020Z"
    },
    "id": "LJz0myyQ2wcy",
    "papermill": {
     "duration": 0.237394,
     "end_time": "2025-05-27T06:18:29.991613",
     "exception": false,
     "start_time": "2025-05-27T06:18:29.754219",
     "status": "completed"
    },
    "tags": []
   },
   "outputs": [],
   "source": [
    "with open('/kaggle/input/enviba/train.ba', 'r', encoding='utf-8') as file_ba:\n",
    "    ba_data = file_ba.readlines()\n",
    "with open('/kaggle/input/enviba/train2.en', 'r', encoding='utf-8') as file_en:\n",
    "    en_data = file_en.readlines()\n",
    "assert len(ba_data) == len(en_data), \"The files don't have the same number of lines.\"\n",
    "train_df = pd.DataFrame({'English': en_data, 'Bahnar': ba_data})\n",
    "train_df, val_df = train_test_split(train_df, test_size=0.1, random_state=RANDOM_SEED)\n",
    "\n",
    "ba_en_train_dataset = Dataset.from_pandas(train_df)\n",
    "ba_en_val_dataset = Dataset.from_pandas(val_df)\n",
    "\n",
    "with open('/kaggle/input/train-vie-eng-phomt-dev-dataset/dev.vi', 'r', encoding='utf-8') as file_vi:\n",
    "    vi_data = file_vi.readlines()\n",
    "with open('/kaggle/input/train-vie-eng-phomt-dev-dataset/dev.en', 'r', encoding='utf-8') as file_en:\n",
    "    en_data = file_en.readlines()\n",
    "assert len(vi_data) == len(en_data), \"The files don't have the same number of lines.\"\n",
    "train_df = pd.DataFrame({'English': en_data, 'Vietnamese': vi_data})\n",
    "\n",
    "vi_en_train_dataset = Dataset.from_pandas(train_df[:4000])"
   ]
  },
  {
   "cell_type": "code",
   "execution_count": 10,
   "id": "459c8c10",
   "metadata": {
    "execution": {
     "iopub.execute_input": "2025-05-27T06:18:30.018230Z",
     "iopub.status.busy": "2025-05-27T06:18:30.017978Z",
     "iopub.status.idle": "2025-05-27T06:18:30.062449Z",
     "shell.execute_reply": "2025-05-27T06:18:30.061447Z"
    },
    "id": "bWR4szpNW5YF",
    "papermill": {
     "duration": 0.061,
     "end_time": "2025-05-27T06:18:30.064245",
     "exception": false,
     "start_time": "2025-05-27T06:18:30.003245",
     "status": "completed"
    },
    "tags": []
   },
   "outputs": [
    {
     "name": "stdout",
     "output_type": "stream",
     "text": [
      "8347 928 1987\n",
      "4000\n"
     ]
    }
   ],
   "source": [
    "\n",
    "with open('/kaggle/input/enviba/test.ba', 'r', encoding='utf-8') as file_ba:\n",
    "    ba_data = file_ba.readlines()\n",
    "with open('/kaggle/input/enviba/test.en', 'r', encoding='utf-8') as file_en:\n",
    "    en_data = file_en.readlines()\n",
    "assert len(ba_data) == len(en_data), \"The files don't have the same number of lines.\"\n",
    "test_df = pd.DataFrame({'English': en_data, 'Bahnar': ba_data})\n",
    "ba_en_test_dataset = Dataset.from_pandas(test_df)\n",
    "\n",
    "print(len(ba_en_train_dataset), len(ba_en_val_dataset), len(ba_en_test_dataset))\n",
    "print(len(vi_en_train_dataset))"
   ]
  },
  {
   "cell_type": "markdown",
   "id": "e9a20265",
   "metadata": {
    "papermill": {
     "duration": 0.013766,
     "end_time": "2025-05-27T06:18:30.090271",
     "exception": false,
     "start_time": "2025-05-27T06:18:30.076505",
     "status": "completed"
    },
    "tags": []
   },
   "source": [
    "### Adding more data with augmentation\n"
   ]
  },
  {
   "cell_type": "markdown",
   "id": "6830a63d",
   "metadata": {
    "papermill": {
     "duration": 0.01646,
     "end_time": "2025-05-27T06:18:30.121473",
     "exception": false,
     "start_time": "2025-05-27T06:18:30.105013",
     "status": "completed"
    },
    "tags": []
   },
   "source": [
    "#### Investigate current tokenizer"
   ]
  },
  {
   "cell_type": "code",
   "execution_count": 11,
   "id": "045ffcc2",
   "metadata": {
    "execution": {
     "iopub.execute_input": "2025-05-27T06:18:30.153161Z",
     "iopub.status.busy": "2025-05-27T06:18:30.152724Z",
     "iopub.status.idle": "2025-05-27T06:18:30.159464Z",
     "shell.execute_reply": "2025-05-27T06:18:30.158651Z"
    },
    "papermill": {
     "duration": 0.026824,
     "end_time": "2025-05-27T06:18:30.160687",
     "exception": false,
     "start_time": "2025-05-27T06:18:30.133863",
     "status": "completed"
    },
    "tags": []
   },
   "outputs": [
    {
     "data": {
      "text/plain": [
       "MarianTokenizer(name_or_path='Helsinki-NLP/opus-mt-vi-en', vocab_size=53739, model_max_length=512, is_fast=False, padding_side='right', truncation_side='right', special_tokens={'eos_token': '</s>', 'unk_token': '<unk>', 'pad_token': '<pad>'}, clean_up_tokenization_spaces=False, added_tokens_decoder={\n",
       "\t0: AddedToken(\"</s>\", rstrip=False, lstrip=False, single_word=False, normalized=False, special=True),\n",
       "\t1: AddedToken(\"<unk>\", rstrip=False, lstrip=False, single_word=False, normalized=False, special=True),\n",
       "\t53738: AddedToken(\"<pad>\", rstrip=False, lstrip=False, single_word=False, normalized=False, special=True),\n",
       "}\n",
       ")"
      ]
     },
     "execution_count": 11,
     "metadata": {},
     "output_type": "execute_result"
    }
   ],
   "source": [
    "en_ba_tokenizer"
   ]
  },
  {
   "cell_type": "code",
   "execution_count": 12,
   "id": "b91c2d5c",
   "metadata": {
    "execution": {
     "iopub.execute_input": "2025-05-27T06:18:30.181425Z",
     "iopub.status.busy": "2025-05-27T06:18:30.181087Z",
     "iopub.status.idle": "2025-05-27T06:18:30.186794Z",
     "shell.execute_reply": "2025-05-27T06:18:30.185982Z"
    },
    "papermill": {
     "duration": 0.017754,
     "end_time": "2025-05-27T06:18:30.187983",
     "exception": false,
     "start_time": "2025-05-27T06:18:30.170229",
     "status": "completed"
    },
    "tags": []
   },
   "outputs": [
    {
     "data": {
      "text/plain": [
       "53739"
      ]
     },
     "execution_count": 12,
     "metadata": {},
     "output_type": "execute_result"
    }
   ],
   "source": [
    "len(en_ba_tokenizer.encoder)"
   ]
  },
  {
   "cell_type": "code",
   "execution_count": 13,
   "id": "fa8f8d0f",
   "metadata": {
    "execution": {
     "iopub.execute_input": "2025-05-27T06:18:30.209950Z",
     "iopub.status.busy": "2025-05-27T06:18:30.209553Z",
     "iopub.status.idle": "2025-05-27T06:18:30.223870Z",
     "shell.execute_reply": "2025-05-27T06:18:30.223066Z"
    },
    "papermill": {
     "duration": 0.027655,
     "end_time": "2025-05-27T06:18:30.225276",
     "exception": false,
     "start_time": "2025-05-27T06:18:30.197621",
     "status": "completed"
    },
    "tags": []
   },
   "outputs": [
    {
     "name": "stdout",
     "output_type": "stream",
     "text": [
      "Mĭ ơ̆p ngoh weng 'yŏk 'mưĭ dơnol, tơbưk.\n",
      "\n",
      "['▁M', 'ĭ', '▁ơ', '̆', 'p', '▁ngo', 'h', '▁we', 'ng', \"▁'\", 'y', 'ŏ', 'k', \"▁'\", 'm', 'ư', 'ĭ', '▁dơ', 'n', 'ol', ',', '▁tơ', 'b', 'ư', 'k', '.']\n"
     ]
    },
    {
     "data": {
      "text/plain": [
       "[1757,\n",
       " 1,\n",
       " 1685,\n",
       " 49915,\n",
       " 883,\n",
       " 18645,\n",
       " 1266,\n",
       " 54,\n",
       " 373,\n",
       " 587,\n",
       " 337,\n",
       " 53675,\n",
       " 1735,\n",
       " 587,\n",
       " 78,\n",
       " 21999,\n",
       " 1,\n",
       " 7207,\n",
       " 270,\n",
       " 4341,\n",
       " 3,\n",
       " 3063,\n",
       " 1603,\n",
       " 21999,\n",
       " 1735,\n",
       " 2,\n",
       " 0]"
      ]
     },
     "execution_count": 13,
     "metadata": {},
     "output_type": "execute_result"
    }
   ],
   "source": [
    "print(ba_en_train_dataset[0][\"Bahnar\"])\n",
    "print(en_ba_tokenizer.tokenize(ba_en_train_dataset[0][\"Bahnar\"]))\n",
    "list(en_ba_tokenizer.encode(ba_en_train_dataset[0][\"Bahnar\"]))"
   ]
  },
  {
   "cell_type": "code",
   "execution_count": 14,
   "id": "f8a6e753",
   "metadata": {
    "execution": {
     "iopub.execute_input": "2025-05-27T06:18:30.252407Z",
     "iopub.status.busy": "2025-05-27T06:18:30.252111Z",
     "iopub.status.idle": "2025-05-27T06:18:30.266241Z",
     "shell.execute_reply": "2025-05-27T06:18:30.265332Z"
    },
    "papermill": {
     "duration": 0.027775,
     "end_time": "2025-05-27T06:18:30.267399",
     "exception": false,
     "start_time": "2025-05-27T06:18:30.239624",
     "status": "completed"
    },
    "tags": []
   },
   "outputs": [],
   "source": [
    "import numpy as np \n",
    "import random\n",
    "import math\n",
    "mask_token = \"<unk>\"\n",
    "mask_token_id = 1\n",
    "\n",
    "def token_dropout(examples, word_dropout_ratio = 0.3, en_ba_tokenizer = en_ba_tokenizer):\n",
    "    inputs = examples['Bahnar']\n",
    "    inputs = en_ba_tokenizer.batch_encode_plus(inputs)['input_ids']\n",
    "    modified_inputs = []\n",
    "    for single_input in inputs:\n",
    "        single_input = np.array(single_input)\n",
    "        # Create a mask array where elements are True with probability word_dropout_ratio\n",
    "        mask = np.random.random(single_input.shape) < word_dropout_ratio\n",
    "        # Apply the mask to replace elements with mask_token_id\n",
    "        single_input[mask] = mask_token_id\n",
    "        single_input[-1] = 0\n",
    "        modified_inputs.append(single_input)\n",
    "    examples[\"Bahnar\"] = en_ba_tokenizer.batch_decode(modified_inputs)\n",
    "    return examples\n",
    "\n",
    "def token_replacement(examples, word_dropout_ratio = 0.3, en_ba_tokenizer = en_ba_tokenizer):\n",
    "    inputs = examples['Bahnar']\n",
    "    inputs = en_ba_tokenizer.batch_encode_plus(inputs)['input_ids']\n",
    "    modified_inputs = []\n",
    "    for single_input in inputs:\n",
    "        single_input = np.array(single_input)\n",
    "        \n",
    "        # Create a mask array where elements are True with probability word_dropout_ratio\n",
    "        mask = np.random.random(single_input.shape) < word_dropout_ratio\n",
    "        random_replacements = np.random.randint(2, 15, size=mask.sum()) #may change later\n",
    "        # Replace the original token IDs at the masked positions\n",
    "        single_input[mask] = random_replacements\n",
    "        single_input[-1] = 0\n",
    "        modified_inputs.append(single_input)\n",
    "    examples[\"Bahnar\"] = en_ba_tokenizer.batch_decode(modified_inputs)\n",
    "    return examples\n",
    "\n",
    "def sentence_boundary(examples, proportion = 0.5, en_ba_tokenizer = en_ba_tokenizer):\n",
    "    inputs = en_ba_tokenizer.batch_encode_plus(examples['Bahnar'])['input_ids']\n",
    "    targets = en_ba_tokenizer.batch_encode_plus(examples['English'])['input_ids']\n",
    "    modified_inputs = []\n",
    "    modified_targets = []\n",
    "    for i in range(len(inputs)):\n",
    "        uniform_p = np.random.uniform(high=proportion)\n",
    "        s1, t1, s2, t2 = inputs[i-1][:-1], targets[i-1][:-1], inputs[i][:-1], targets[i][:-1]\n",
    "        p1S1, p1T1 = math.ceil(uniform_p*len(s1)), math.ceil(uniform_p*len(t1))\n",
    "        p2S2, p2T2 = math.ceil(uniform_p*len(s2)), math.ceil(uniform_p*len(t2))\n",
    "        modified_inputs.append(s1[p1S1:] + s2[:p2S2]+[0])\n",
    "        modified_targets.append(t1[p1T1:] + t2[:p2T2]+[0])\n",
    "    examples[\"Bahnar\"] = en_ba_tokenizer.batch_decode(modified_inputs)\n",
    "    examples[\"English\"] = en_ba_tokenizer.batch_decode(modified_targets)\n",
    "    return examples\n",
    "\n",
    "\n",
    "def token_swap(examples, swap_ratio = 0.1, en_ba_tokenizer = en_ba_tokenizer):\n",
    "    inputs = en_ba_tokenizer.batch_encode_plus(examples['Bahnar'])['input_ids']\n",
    "    targets = en_ba_tokenizer.batch_encode_plus(examples['English'])['input_ids']\n",
    "    modified_inputs = []\n",
    "    for single_input in inputs:\n",
    "        n_words_swap=int(len(single_input)*swap_ratio)\n",
    "        moved_pos=set()\n",
    "        while(len(moved_pos)<n_words_swap):\n",
    "            pos1, pos2 = random.sample(range(len(single_input)-1), 2)\n",
    "            single_input[pos1], single_input[pos2] = single_input[pos2], single_input[pos1]\n",
    "            moved_pos.add(pos1)\n",
    "            moved_pos.add(pos2)\n",
    "        single_input[-1] = 0\n",
    "        modified_inputs.append(single_input)\n",
    "    examples[\"Bahnar\"] = en_ba_tokenizer.batch_decode(modified_inputs)\n",
    "    return examples\n",
    "\n",
    "# augmented = ba_en_train_dataset.map(token_swap, batched = True)"
   ]
  },
  {
   "cell_type": "code",
   "execution_count": 15,
   "id": "9aeb97d7",
   "metadata": {
    "execution": {
     "iopub.execute_input": "2025-05-27T06:18:30.288410Z",
     "iopub.status.busy": "2025-05-27T06:18:30.288119Z",
     "iopub.status.idle": "2025-05-27T06:18:30.298587Z",
     "shell.execute_reply": "2025-05-27T06:18:30.297808Z"
    },
    "papermill": {
     "duration": 0.022759,
     "end_time": "2025-05-27T06:18:30.299987",
     "exception": false,
     "start_time": "2025-05-27T06:18:30.277228",
     "status": "completed"
    },
    "tags": []
   },
   "outputs": [],
   "source": [
    "def word_dropout(examples, word_dropout_ratio = 0.3, en_ba_tokenizer = en_ba_tokenizer):\n",
    "    inputs = examples['Bahnar']\n",
    "    modified_inputs = []\n",
    "    for single_input in inputs:\n",
    "        single_input = single_input.split(\" \")\n",
    "        # Create a mask array where elements are True with probability word_dropout_ratio\n",
    "        mask = np.random.random(len(single_input)) < word_dropout_ratio\n",
    "        # Apply the mask to replace elements with mask_token\n",
    "        single_input = [mask_token if mask[i] else word for i, word in enumerate(single_input)]\n",
    "        modified_inputs.append(\" \".join(map(str, single_input)))\n",
    "    examples[\"Bahnar\"] = modified_inputs\n",
    "    return examples\n",
    "\n",
    "\n",
    "def sentence_boundary_word(examples, proportion = 0.5, en_ba_tokenizer = en_ba_tokenizer):\n",
    "    inputs = [sentence.split(\" \") for sentence in examples['Bahnar']]\n",
    "    targets = [sentence.split(\" \") for sentence in examples['English']]\n",
    "    modified_inputs = []\n",
    "    modified_targets = []\n",
    "    for i in range(len(inputs)):\n",
    "        uniform_p = np.random.uniform(high=proportion)\n",
    "        s1, t1, s2, t2 = inputs[i-1], targets[i-1], inputs[i][:-1], targets[i]\n",
    "        p1S1, p1T1 = math.ceil(uniform_p*len(s1)), math.ceil(uniform_p*len(t1))\n",
    "        p2S2, p2T2 = math.ceil(uniform_p*len(s2)), math.ceil(uniform_p*len(t2))\n",
    "        modified_inputs.append(s1[p1S1:] + s2[:p2S2])\n",
    "        modified_targets.append(t1[p1T1:] + t2[:p2T2])\n",
    "    examples[\"Bahnar\"] = [\" \".join(map(str, single_input)) for single_input in modified_inputs]\n",
    "    examples[\"English\"] = [\" \".join(map(str, single_target)) for single_target in modified_targets]\n",
    "    return examples\n",
    "\n",
    "\n",
    "def word_swap(examples, swap_ratio = 0.1, en_ba_tokenizer = en_ba_tokenizer):\n",
    "    inputs = [sentence.split(\" \") for sentence in examples['Bahnar']]\n",
    "    modified_inputs = []\n",
    "    for single_input in inputs:\n",
    "        n_words_swap=int(len(single_input)*swap_ratio)\n",
    "        moved_pos=set()\n",
    "        while(len(moved_pos)<n_words_swap):\n",
    "            pos1, pos2 = random.sample(range(len(single_input)-1), 2)\n",
    "            single_input[pos1], single_input[pos2] = single_input[pos2], single_input[pos1]\n",
    "            moved_pos.add(pos1)\n",
    "            moved_pos.add(pos2)\n",
    "        modified_inputs.append(single_input)\n",
    "    examples[\"Bahnar\"] = [\" \".join(map(str, single_input)) for single_input in modified_inputs]\n",
    "    return examples\n",
    "\n",
    "# augmented = ba_en_train_dataset.map(word_dropout, batched = True)\n",
    "# ba_en_train_dataset = concatenate_datasets([ba_en_train_dataset, augmented])"
   ]
  },
  {
   "cell_type": "code",
   "execution_count": 16,
   "id": "19e81999",
   "metadata": {
    "execution": {
     "iopub.execute_input": "2025-05-27T06:18:30.336869Z",
     "iopub.status.busy": "2025-05-27T06:18:30.335954Z",
     "iopub.status.idle": "2025-05-27T06:18:30.340301Z",
     "shell.execute_reply": "2025-05-27T06:18:30.339176Z"
    },
    "papermill": {
     "duration": 0.030897,
     "end_time": "2025-05-27T06:18:30.341897",
     "exception": false,
     "start_time": "2025-05-27T06:18:30.311000",
     "status": "completed"
    },
    "tags": []
   },
   "outputs": [],
   "source": [
    "# !pip install -q -U requests nlpaug"
   ]
  },
  {
   "cell_type": "code",
   "execution_count": 17,
   "id": "b022ed0b",
   "metadata": {
    "execution": {
     "iopub.execute_input": "2025-05-27T06:18:30.370835Z",
     "iopub.status.busy": "2025-05-27T06:18:30.370478Z",
     "iopub.status.idle": "2025-05-27T06:18:30.375672Z",
     "shell.execute_reply": "2025-05-27T06:18:30.374529Z"
    },
    "papermill": {
     "duration": 0.017345,
     "end_time": "2025-05-27T06:18:30.377025",
     "exception": false,
     "start_time": "2025-05-27T06:18:30.359680",
     "status": "completed"
    },
    "tags": []
   },
   "outputs": [],
   "source": [
    "##TF_IDF \n",
    "\n",
    "# import os\n",
    "# os.environ[\"MODEL_DIR\"] = '../model'\n",
    "# import re\n",
    "\n",
    "# import nlpaug.augmenter.word as naw\n",
    "# import nlpaug.model.word_stats as nmw\n",
    "\n",
    "# def _tokenizer(text, token_pattern=r\"(?u)\\b\\w\\w+\\b\"):\n",
    "#     token_pattern = re.compile(token_pattern)\n",
    "#     return token_pattern.findall(text)\n",
    "\n",
    "# train_x = ba_en_train_dataset[:][\"Bahnar\"]\n",
    "# # Tokenize input\n",
    "# train_x_tokens = [_tokenizer(x) for x in train_x]\n",
    "\n",
    "# # Train TF-IDF model\n",
    "# tfidf_model = nmw.TfIdf()\n",
    "# tfidf_model.train(train_x_tokens)\n",
    "# tfidf_model.save('.')\n",
    "\n",
    "# # Load TF-IDF augmenter\n",
    "# aug = naw.TfIdfAug(model_path='.', tokenizer=_tokenizer)\n",
    "\n",
    "# def tfidf_replacement(examples, aug_model = aug):\n",
    "#     inputs = examples['Bahnar']\n",
    "#     modified_inputs = aug_model.augment(inputs)\n",
    "#     examples[\"Bahnar\"] = modified_inputs\n",
    "#     return examples\n"
   ]
  },
  {
   "cell_type": "code",
   "execution_count": 18,
   "id": "1c36614c",
   "metadata": {
    "execution": {
     "iopub.execute_input": "2025-05-27T06:18:30.397733Z",
     "iopub.status.busy": "2025-05-27T06:18:30.397474Z",
     "iopub.status.idle": "2025-05-27T06:18:30.401693Z",
     "shell.execute_reply": "2025-05-27T06:18:30.400613Z"
    },
    "papermill": {
     "duration": 0.016266,
     "end_time": "2025-05-27T06:18:30.403285",
     "exception": false,
     "start_time": "2025-05-27T06:18:30.387019",
     "status": "completed"
    },
    "tags": []
   },
   "outputs": [],
   "source": [
    "# augmented[1]\n",
    "# augmented = ba_en_train_dataset.map(tfidf_replacement, batched = True)\n",
    "# ba_en_train_dataset = concatenate_datasets([ba_en_train_dataset, augmented])"
   ]
  },
  {
   "cell_type": "code",
   "execution_count": 19,
   "id": "1f3d8726",
   "metadata": {
    "execution": {
     "iopub.execute_input": "2025-05-27T06:18:30.436010Z",
     "iopub.status.busy": "2025-05-27T06:18:30.435631Z",
     "iopub.status.idle": "2025-05-27T06:18:30.441682Z",
     "shell.execute_reply": "2025-05-27T06:18:30.440394Z"
    },
    "papermill": {
     "duration": 0.023617,
     "end_time": "2025-05-27T06:18:30.443645",
     "exception": false,
     "start_time": "2025-05-27T06:18:30.420028",
     "status": "completed"
    },
    "tags": []
   },
   "outputs": [],
   "source": [
    "# !pip install underthesea"
   ]
  },
  {
   "cell_type": "code",
   "execution_count": 20,
   "id": "44660cf5",
   "metadata": {
    "execution": {
     "iopub.execute_input": "2025-05-27T06:18:30.500624Z",
     "iopub.status.busy": "2025-05-27T06:18:30.500143Z",
     "iopub.status.idle": "2025-05-27T06:18:30.507391Z",
     "shell.execute_reply": "2025-05-27T06:18:30.504811Z"
    },
    "papermill": {
     "duration": 0.038845,
     "end_time": "2025-05-27T06:18:30.508932",
     "exception": false,
     "start_time": "2025-05-27T06:18:30.470087",
     "status": "completed"
    },
    "tags": []
   },
   "outputs": [],
   "source": [
    "# #Pseudo augmentation\n",
    "# #Load Vi-Ba dictionary\n",
    "# with open('/kaggle/input/vibadict/dict.vi', 'r', encoding='utf-8') as file_vi:\n",
    "#     vi_dict = file_vi.readlines()\n",
    "# with open('/kaggle/input/vibadict/dict.ba', 'r', encoding='utf-8') as file_ba:\n",
    "#     ba_dict = file_ba.readlines()\n",
    "# with open('/kaggle/input/vibadict/dict2.en', 'r', encoding='utf-8') as file_en:\n",
    "#     en_dict = file_en.readlines()\n",
    "# assert len(vi_dict) == len(ba_dict)\n",
    "\n",
    "# dict_df = pd.DataFrame({'Vietnamese': [vntokenizer(tokenizer, x[:-1]) for x in vi_dict], 'Bahnar': [x[:-1] for x in ba_dict]})"
   ]
  },
  {
   "cell_type": "code",
   "execution_count": 21,
   "id": "4a44e8a0",
   "metadata": {
    "execution": {
     "iopub.execute_input": "2025-05-27T06:18:30.532087Z",
     "iopub.status.busy": "2025-05-27T06:18:30.531337Z",
     "iopub.status.idle": "2025-05-27T06:18:30.535868Z",
     "shell.execute_reply": "2025-05-27T06:18:30.534957Z"
    },
    "papermill": {
     "duration": 0.016767,
     "end_time": "2025-05-27T06:18:30.537810",
     "exception": false,
     "start_time": "2025-05-27T06:18:30.521043",
     "status": "completed"
    },
    "tags": []
   },
   "outputs": [],
   "source": [
    "# #Test EN dict\n",
    "# preds = []\n",
    "# refs = []\n",
    "# dictionary = {en_dict[i][:-1]: ba_dict[i][:-1] for i in range(1, len(ba_dict))}\n",
    "# print(\"done dict\")\n",
    "# test_examples = [{'Bahnar': ex['Bahnar'], 'English': ex['English']} for ex in ba_en_test_dataset]\n",
    "# for example in test_examples:\n",
    "#     refs.append(example['Bahnar'])\n",
    "#     _input = example['English']\n",
    "#     words = _input.split(\" \")\n",
    "#     indices_to_replace = [i for i, word in enumerate(words) if word in dictionary]\n",
    "#     for i in indices_to_replace:\n",
    "#         words[i] = dictionary[words[i]]  # Replace word with its mapped meaning\n",
    "#     preds.append(\" \".join(words))\n",
    "\n",
    "# print(refs[:10])\n",
    "# print(preds[:10])\n",
    "    \n",
    "# # Calculate and print the BLEU score\n",
    "# bleu = sacrebleu.corpus_bleu(preds, refs)\n",
    "# print(\"BLEU: \", round(bleu.score, 2))\n",
    "\n",
    "# # Calculate CHRF\n",
    "# chrf = sacrebleu.corpus_chrf(preds, refs)\n",
    "# print(\"CHRF:\", round(chrf.score, 2))\n",
    "\n",
    "# # Calculate TER\n",
    "# metric = sacrebleu.metrics.TER()\n",
    "# ter = metric.corpus_score(preds, refs)\n",
    "# print(\"TER:\", round(ter.score, 2))    "
   ]
  },
  {
   "cell_type": "code",
   "execution_count": 22,
   "id": "8f655425",
   "metadata": {
    "execution": {
     "iopub.execute_input": "2025-05-27T06:18:30.574838Z",
     "iopub.status.busy": "2025-05-27T06:18:30.574366Z",
     "iopub.status.idle": "2025-05-27T06:18:30.579883Z",
     "shell.execute_reply": "2025-05-27T06:18:30.579060Z"
    },
    "papermill": {
     "duration": 0.025377,
     "end_time": "2025-05-27T06:18:30.581415",
     "exception": false,
     "start_time": "2025-05-27T06:18:30.556038",
     "status": "completed"
    },
    "tags": []
   },
   "outputs": [],
   "source": [
    "# dictionary"
   ]
  },
  {
   "cell_type": "code",
   "execution_count": 23,
   "id": "84b84fd7",
   "metadata": {
    "execution": {
     "iopub.execute_input": "2025-05-27T06:18:30.623548Z",
     "iopub.status.busy": "2025-05-27T06:18:30.623059Z",
     "iopub.status.idle": "2025-05-27T06:18:30.627893Z",
     "shell.execute_reply": "2025-05-27T06:18:30.627064Z"
    },
    "papermill": {
     "duration": 0.029434,
     "end_time": "2025-05-27T06:18:30.629849",
     "exception": false,
     "start_time": "2025-05-27T06:18:30.600415",
     "status": "completed"
    },
    "tags": []
   },
   "outputs": [],
   "source": [
    "# import underthesea\n",
    "\n",
    "# import random\n",
    "\n",
    "\n",
    "# dictionary = {vi_dict[i][:-1]: ba_dict[i][:-1] for i in range(len(ba_dict))}\n",
    "# print(\"done dict\")\n",
    "# def word_mapping(examples, word_mapping_ratio = 0.7, dictionary = dictionary):\n",
    "#     inputs = examples['Vietnamese']\n",
    "#     modified_inputs = []\n",
    "#     for single_input in inputs:\n",
    "#         words = underthesea.word_tokenize(single_input)\n",
    "#         #For every sentence, randomly choose words to map with its meaning in the dictionary\n",
    "#         #until the number of replaced words reach the ratio or there is no more replacable words \n",
    "\n",
    "#         replaceable_indices = [i for i, word in enumerate(words) if word in dictionary]\n",
    "#         num_replacements = min(len(replaceable_indices), int(len(words) * word_mapping_ratio))\n",
    "\n",
    "#         if num_replacements > 0:\n",
    "#             indices_to_replace = random.sample(replaceable_indices, num_replacements)\n",
    "#             for i in indices_to_replace:\n",
    "#                 words[i] = dictionary[words[i]]  # Replace word with its mapped meaning\n",
    "\n",
    "#         modified_inputs.append(\" \".join(words))\n",
    "#     examples[\"Vietnamese\"] = modified_inputs\n",
    "#     return examples\n",
    "\n",
    "# augmented_pivot = vi_en_train_dataset.map(word_mapping, batched = True)"
   ]
  },
  {
   "cell_type": "code",
   "execution_count": 24,
   "id": "64fdf143",
   "metadata": {
    "execution": {
     "iopub.execute_input": "2025-05-27T06:18:30.665147Z",
     "iopub.status.busy": "2025-05-27T06:18:30.664895Z",
     "iopub.status.idle": "2025-05-27T06:18:30.668055Z",
     "shell.execute_reply": "2025-05-27T06:18:30.667503Z"
    },
    "papermill": {
     "duration": 0.02452,
     "end_time": "2025-05-27T06:18:30.669192",
     "exception": false,
     "start_time": "2025-05-27T06:18:30.644672",
     "status": "completed"
    },
    "tags": []
   },
   "outputs": [],
   "source": [
    "# vi_en_train_dataset = concatenate_datasets([vi_en_train_dataset, augmented_pivot])"
   ]
  },
  {
   "cell_type": "code",
   "execution_count": 25,
   "id": "4d206f24",
   "metadata": {
    "execution": {
     "iopub.execute_input": "2025-05-27T06:18:30.690042Z",
     "iopub.status.busy": "2025-05-27T06:18:30.689639Z",
     "iopub.status.idle": "2025-05-27T06:18:30.692853Z",
     "shell.execute_reply": "2025-05-27T06:18:30.692117Z"
    },
    "papermill": {
     "duration": 0.015026,
     "end_time": "2025-05-27T06:18:30.694076",
     "exception": false,
     "start_time": "2025-05-27T06:18:30.679050",
     "status": "completed"
    },
    "tags": []
   },
   "outputs": [],
   "source": [
    "# augmented_pivot[:10][\"Vietnamese\"]"
   ]
  },
  {
   "cell_type": "markdown",
   "id": "0576d0b2",
   "metadata": {
    "id": "Lp7-10dFW5YF",
    "papermill": {
     "duration": 0.009229,
     "end_time": "2025-05-27T06:18:30.736931",
     "exception": false,
     "start_time": "2025-05-27T06:18:30.727702",
     "status": "completed"
    },
    "tags": []
   },
   "source": [
    "# Preprocess the dataset with tokenizer"
   ]
  },
  {
   "cell_type": "code",
   "execution_count": 27,
   "id": "978962a2",
   "metadata": {
    "execution": {
     "iopub.execute_input": "2025-05-27T06:18:30.756706Z",
     "iopub.status.busy": "2025-05-27T06:18:30.756170Z",
     "iopub.status.idle": "2025-05-27T06:18:36.680206Z",
     "shell.execute_reply": "2025-05-27T06:18:36.679671Z"
    },
    "id": "hs7OvOKu2wcz",
    "papermill": {
     "duration": 5.935143,
     "end_time": "2025-05-27T06:18:36.681290",
     "exception": false,
     "start_time": "2025-05-27T06:18:30.746147",
     "status": "completed"
    },
    "tags": []
   },
   "outputs": [
    {
     "data": {
      "application/vnd.jupyter.widget-view+json": {
       "model_id": "43bda1fef3f94ba6b3b96f0f5cea411a",
       "version_major": 2,
       "version_minor": 0
      },
      "text/plain": [
       "Map:   0%|          | 0/8347 [00:00<?, ? examples/s]"
      ]
     },
     "metadata": {},
     "output_type": "display_data"
    },
    {
     "data": {
      "application/vnd.jupyter.widget-view+json": {
       "model_id": "3b580ce004ff46308854b17820c7d450",
       "version_major": 2,
       "version_minor": 0
      },
      "text/plain": [
       "Map:   0%|          | 0/928 [00:00<?, ? examples/s]"
      ]
     },
     "metadata": {},
     "output_type": "display_data"
    }
   ],
   "source": [
    "def preprocess_function_target(examples):\n",
    "    inputs = examples['Bahnar']\n",
    "    targets = examples['English']\n",
    "    try:\n",
    "        model_inputs = en_ba_tokenizer(inputs, max_length=PADDING_LEN, padding='max_length', truncation=True)\n",
    "    \n",
    "        # Set up the tokenizer for Bahnar\n",
    "        with en_ba_tokenizer.as_target_tokenizer():\n",
    "            labels = en_ba_tokenizer(targets, max_length=PADDING_LEN, padding='max_length', truncation=True)\n",
    "    \n",
    "        model_inputs[\"labels\"] = labels[\"input_ids\"]\n",
    "        return model_inputs\n",
    "    except:\n",
    "        print(inputs)\n",
    "    \n",
    "\n",
    "tokenized_ba_en = ba_en_train_dataset.map(preprocess_function_target, batched=True)\n",
    "tokenized_ba_en_val = ba_en_val_dataset.map(preprocess_function_target, batched=True)"
   ]
  },
  {
   "cell_type": "code",
   "execution_count": 28,
   "id": "fd2889aa",
   "metadata": {
    "execution": {
     "iopub.execute_input": "2025-05-27T06:18:36.702423Z",
     "iopub.status.busy": "2025-05-27T06:18:36.702157Z",
     "iopub.status.idle": "2025-05-27T06:18:38.372497Z",
     "shell.execute_reply": "2025-05-27T06:18:38.371848Z"
    },
    "id": "qz9KfZueW5YF",
    "papermill": {
     "duration": 1.681931,
     "end_time": "2025-05-27T06:18:38.373674",
     "exception": false,
     "start_time": "2025-05-27T06:18:36.691743",
     "status": "completed"
    },
    "tags": []
   },
   "outputs": [
    {
     "data": {
      "application/vnd.jupyter.widget-view+json": {
       "model_id": "cd73f63cde0c4ccbafe3aca3afa57d9b",
       "version_major": 2,
       "version_minor": 0
      },
      "text/plain": [
       "Map:   0%|          | 0/4000 [00:00<?, ? examples/s]"
      ]
     },
     "metadata": {},
     "output_type": "display_data"
    }
   ],
   "source": [
    "def preprocess_function_source(examples):\n",
    "    inputs = examples['Vietnamese']\n",
    "    targets = examples['English']\n",
    "    model_inputs = en_vi_tokenizer(inputs, max_length=PADDING_LEN, padding='max_length', truncation=True)\n",
    "\n",
    "    # Set up the tokenizer for Vietnamese\n",
    "    with en_vi_tokenizer.as_target_tokenizer():\n",
    "        labels = en_vi_tokenizer(targets, max_length=PADDING_LEN, padding='max_length', truncation=True)\n",
    "\n",
    "    model_inputs[\"labels\"] = labels[\"input_ids\"]\n",
    "    return model_inputs\n",
    "\n",
    "tokenized_vi_en = vi_en_train_dataset.map(preprocess_function_source, batched=True)"
   ]
  },
  {
   "cell_type": "markdown",
   "id": "06b904ee",
   "metadata": {
    "id": "yleMRcFsW5YF",
    "papermill": {
     "duration": 0.009704,
     "end_time": "2025-05-27T06:18:38.393814",
     "exception": false,
     "start_time": "2025-05-27T06:18:38.384110",
     "status": "completed"
    },
    "tags": []
   },
   "source": [
    "### Concatenate Vietnamese-English and Bahnar-English Dataset"
   ]
  },
  {
   "cell_type": "code",
   "execution_count": 29,
   "id": "4238445b",
   "metadata": {
    "execution": {
     "iopub.execute_input": "2025-05-27T06:18:38.414140Z",
     "iopub.status.busy": "2025-05-27T06:18:38.413918Z",
     "iopub.status.idle": "2025-05-27T06:18:38.417831Z",
     "shell.execute_reply": "2025-05-27T06:18:38.416890Z"
    },
    "id": "1oAaZ6P0W5YF",
    "papermill": {
     "duration": 0.015503,
     "end_time": "2025-05-27T06:18:38.418921",
     "exception": false,
     "start_time": "2025-05-27T06:18:38.403418",
     "status": "completed"
    },
    "tags": []
   },
   "outputs": [
    {
     "name": "stdout",
     "output_type": "stream",
     "text": [
      "Dataset({\n",
      "    features: ['English', 'Bahnar', '__index_level_0__', 'input_ids', 'attention_mask', 'labels'],\n",
      "    num_rows: 8347\n",
      "})\n"
     ]
    }
   ],
   "source": [
    "# tokenized_viAndba_en = concatenate_datasets([tokenized_vi_en, tokenized_ba_en ])\n",
    "tokenized_viAndba_en = tokenized_ba_en\n",
    "# viOrba_en_dataset is now a combined dataset\n",
    "print(tokenized_viAndba_en)"
   ]
  },
  {
   "cell_type": "code",
   "execution_count": 30,
   "id": "44ebe3a4",
   "metadata": {
    "execution": {
     "iopub.execute_input": "2025-05-27T06:18:38.439269Z",
     "iopub.status.busy": "2025-05-27T06:18:38.439044Z",
     "iopub.status.idle": "2025-05-27T06:18:38.442170Z",
     "shell.execute_reply": "2025-05-27T06:18:38.441504Z"
    },
    "id": "vqlYgx3xW5YF",
    "papermill": {
     "duration": 0.014476,
     "end_time": "2025-05-27T06:18:38.443215",
     "exception": false,
     "start_time": "2025-05-27T06:18:38.428739",
     "status": "completed"
    },
    "tags": []
   },
   "outputs": [],
   "source": [
    "# shuffled_dataset = tokenized_viAndba_en.shuffle(seed=RANDOM_SEED)"
   ]
  },
  {
   "cell_type": "markdown",
   "id": "48116494",
   "metadata": {
    "id": "xhJRUO_UW5YG",
    "papermill": {
     "duration": 0.009741,
     "end_time": "2025-05-27T06:18:38.462621",
     "exception": false,
     "start_time": "2025-05-27T06:18:38.452880",
     "status": "completed"
    },
    "tags": []
   },
   "source": [
    "\n",
    "# Train the model"
   ]
  },
  {
   "cell_type": "code",
   "execution_count": 31,
   "id": "757aa2c0",
   "metadata": {
    "execution": {
     "iopub.execute_input": "2025-05-27T06:18:38.483752Z",
     "iopub.status.busy": "2025-05-27T06:18:38.483087Z",
     "iopub.status.idle": "2025-05-27T06:46:10.113570Z",
     "shell.execute_reply": "2025-05-27T06:46:10.112835Z"
    },
    "id": "9UIiL5ofW5YG",
    "papermill": {
     "duration": 1651.642679,
     "end_time": "2025-05-27T06:46:10.114880",
     "exception": false,
     "start_time": "2025-05-27T06:18:38.472201",
     "status": "completed"
    },
    "tags": []
   },
   "outputs": [
    {
     "name": "stderr",
     "output_type": "stream",
     "text": [
      "Using the `WANDB_DISABLED` environment variable is deprecated and will be removed in v5. Use the --report_to flag to control the integrations used for logging result (for instance --report_to none).\n"
     ]
    },
    {
     "name": "stdout",
     "output_type": "stream",
     "text": [
      "8347\n"
     ]
    },
    {
     "data": {
      "text/html": [
       "\n",
       "    <div>\n",
       "      \n",
       "      <progress value='2610' max='2610' style='width:300px; height:20px; vertical-align: middle;'></progress>\n",
       "      [2610/2610 27:29, Epoch 10/10]\n",
       "    </div>\n",
       "    <table border=\"1\" class=\"dataframe\">\n",
       "  <thead>\n",
       " <tr style=\"text-align: left;\">\n",
       "      <th>Epoch</th>\n",
       "      <th>Training Loss</th>\n",
       "      <th>Validation Loss</th>\n",
       "    </tr>\n",
       "  </thead>\n",
       "  <tbody>\n",
       "    <tr>\n",
       "      <td>1</td>\n",
       "      <td>No log</td>\n",
       "      <td>0.442061</td>\n",
       "    </tr>\n",
       "    <tr>\n",
       "      <td>2</td>\n",
       "      <td>0.565800</td>\n",
       "      <td>0.381456</td>\n",
       "    </tr>\n",
       "    <tr>\n",
       "      <td>3</td>\n",
       "      <td>0.565800</td>\n",
       "      <td>0.346640</td>\n",
       "    </tr>\n",
       "    <tr>\n",
       "      <td>4</td>\n",
       "      <td>0.357800</td>\n",
       "      <td>0.323059</td>\n",
       "    </tr>\n",
       "    <tr>\n",
       "      <td>5</td>\n",
       "      <td>0.357800</td>\n",
       "      <td>0.307425</td>\n",
       "    </tr>\n",
       "    <tr>\n",
       "      <td>6</td>\n",
       "      <td>0.305500</td>\n",
       "      <td>0.296401</td>\n",
       "    </tr>\n",
       "    <tr>\n",
       "      <td>7</td>\n",
       "      <td>0.305500</td>\n",
       "      <td>0.288246</td>\n",
       "    </tr>\n",
       "    <tr>\n",
       "      <td>8</td>\n",
       "      <td>0.276500</td>\n",
       "      <td>0.283000</td>\n",
       "    </tr>\n",
       "    <tr>\n",
       "      <td>9</td>\n",
       "      <td>0.276500</td>\n",
       "      <td>0.280288</td>\n",
       "    </tr>\n",
       "    <tr>\n",
       "      <td>10</td>\n",
       "      <td>0.262000</td>\n",
       "      <td>0.279319</td>\n",
       "    </tr>\n",
       "  </tbody>\n",
       "</table><p>"
      ],
      "text/plain": [
       "<IPython.core.display.HTML object>"
      ]
     },
     "metadata": {},
     "output_type": "display_data"
    },
    {
     "data": {
      "text/plain": [
       "TrainOutput(global_step=2610, training_loss=0.34957316533815813, metrics={'train_runtime': 1650.84, 'train_samples_per_second': 50.562, 'train_steps_per_second': 1.581, 'total_flos': 5040040677212160.0, 'train_loss': 0.34957316533815813, 'epoch': 10.0})"
      ]
     },
     "execution_count": 31,
     "metadata": {},
     "output_type": "execute_result"
    }
   ],
   "source": [
    "from transformers import DataCollatorForSeq2Seq, Seq2SeqTrainingArguments, Seq2SeqTrainer, EarlyStoppingCallback\n",
    "\n",
    "print((len(tokenized_viAndba_en)))\n",
    "# Use data collator\n",
    "data_collator = DataCollatorForSeq2Seq(en_ba_tokenizer, model=model)\n",
    "\n",
    "# Step 3: Fine-Tuning the Model on Bahnar to English\n",
    "training_args = Seq2SeqTrainingArguments(\n",
    "    output_dir=\"./results\",\n",
    "    eval_strategy=\"epoch\",\n",
    "    learning_rate=2e-5,\n",
    "    per_device_train_batch_size=32,\n",
    "    per_device_eval_batch_size=32,\n",
    "    num_train_epochs=10,\n",
    "    weight_decay=0.015,  # L2 regularization\n",
    "    save_total_limit=3,\n",
    ")\n",
    "\n",
    "\n",
    "trainer = Seq2SeqTrainer(\n",
    "    model=model,\n",
    "    args=training_args,\n",
    "    train_dataset=tokenized_viAndba_en,\n",
    "    eval_dataset=tokenized_ba_en_val,\n",
    "    data_collator=data_collator,\n",
    ")\n",
    "\n",
    "trainer.train()"
   ]
  },
  {
   "cell_type": "markdown",
   "id": "e5d1c027",
   "metadata": {
    "id": "8NGxbVFkW5YG",
    "papermill": {
     "duration": 0.009769,
     "end_time": "2025-05-27T06:46:10.135416",
     "exception": false,
     "start_time": "2025-05-27T06:46:10.125647",
     "status": "completed"
    },
    "tags": []
   },
   "source": [
    "# Test the model"
   ]
  },
  {
   "cell_type": "code",
   "execution_count": 32,
   "id": "0f545b4c",
   "metadata": {
    "execution": {
     "iopub.execute_input": "2025-05-27T06:46:10.156055Z",
     "iopub.status.busy": "2025-05-27T06:46:10.155828Z",
     "iopub.status.idle": "2025-05-27T06:46:10.160938Z",
     "shell.execute_reply": "2025-05-27T06:46:10.160325Z"
    },
    "id": "jsffqDumW5YG",
    "papermill": {
     "duration": 0.016754,
     "end_time": "2025-05-27T06:46:10.162019",
     "exception": false,
     "start_time": "2025-05-27T06:46:10.145265",
     "status": "completed"
    },
    "tags": []
   },
   "outputs": [],
   "source": [
    "import torch\n",
    "from tqdm.auto import tqdm\n",
    "\n",
    "def evaluate_model(model, encode_tokenizer, decode_tokenizer, dataset, device):\n",
    "    model.eval()\n",
    "    prt = True\n",
    "\n",
    "    predictions, references = [], []\n",
    "    for example in tqdm(dataset, desc=\"Translating\"):\n",
    "        with encode_tokenizer.as_target_tokenizer():\n",
    "            input_ids = encode_tokenizer.encode(example['Bahnar'], return_tensors='pt').to(device)\n",
    "\n",
    "        output_ids = model.generate(input_ids)[0]\n",
    "        pred = decode_tokenizer.decode(output_ids, skip_special_tokens=True)\n",
    "        predictions.append([pred])\n",
    "\n",
    "        references.append([example['English']])\n",
    "\n",
    "    return predictions, references\n"
   ]
  },
  {
   "cell_type": "code",
   "execution_count": 33,
   "id": "74055dcc",
   "metadata": {
    "execution": {
     "iopub.execute_input": "2025-05-27T06:46:10.182545Z",
     "iopub.status.busy": "2025-05-27T06:46:10.182305Z",
     "iopub.status.idle": "2025-05-27T06:58:51.344808Z",
     "shell.execute_reply": "2025-05-27T06:58:51.344245Z"
    },
    "id": "CNr4jLFB2wc1",
    "papermill": {
     "duration": 761.173915,
     "end_time": "2025-05-27T06:58:51.345923",
     "exception": false,
     "start_time": "2025-05-27T06:46:10.172008",
     "status": "completed"
    },
    "tags": []
   },
   "outputs": [
    {
     "data": {
      "application/vnd.jupyter.widget-view+json": {
       "model_id": "dfb1afe0b41d4288a2ba77152b3185f5",
       "version_major": 2,
       "version_minor": 0
      },
      "text/plain": [
       "Translating:   0%|          | 0/1987 [00:00<?, ?it/s]"
      ]
     },
     "metadata": {},
     "output_type": "display_data"
    }
   ],
   "source": [
    "test_examples = [{'Bahnar': ex['Bahnar'], 'English': ex['English']} for ex in ba_en_test_dataset]\n",
    "predictions, references = evaluate_model(model, en_ba_tokenizer, en_vi_tokenizer, test_examples, device)"
   ]
  },
  {
   "cell_type": "code",
   "execution_count": 34,
   "id": "4e3047b0",
   "metadata": {
    "execution": {
     "iopub.execute_input": "2025-05-27T06:58:51.368172Z",
     "iopub.status.busy": "2025-05-27T06:58:51.367766Z",
     "iopub.status.idle": "2025-05-27T06:58:51.372410Z",
     "shell.execute_reply": "2025-05-27T06:58:51.371720Z"
    },
    "id": "uUnFFH5g2wc6",
    "papermill": {
     "duration": 0.016648,
     "end_time": "2025-05-27T06:58:51.373475",
     "exception": false,
     "start_time": "2025-05-27T06:58:51.356827",
     "status": "completed"
    },
    "tags": []
   },
   "outputs": [
    {
     "data": {
      "text/plain": [
       "([\"At the same time, the district's news and the district's localities have been funded with the Prime Minister's plan on building a new countryside, leading to the Prime Minister's leadership.\"],\n",
       " ['Cooperate with the Department of Information and Communications and relevant units in preparing propagation publications and holding press conferences\\n'])"
      ]
     },
     "execution_count": 34,
     "metadata": {},
     "output_type": "execute_result"
    }
   ],
   "source": [
    "predictions[0], references[0] # Check format of predictions and references"
   ]
  },
  {
   "cell_type": "code",
   "execution_count": 35,
   "id": "b64bc7f7",
   "metadata": {
    "execution": {
     "iopub.execute_input": "2025-05-27T06:58:51.393906Z",
     "iopub.status.busy": "2025-05-27T06:58:51.393728Z",
     "iopub.status.idle": "2025-05-27T06:58:51.397862Z",
     "shell.execute_reply": "2025-05-27T06:58:51.397332Z"
    },
    "id": "-h_IaaDJW5YG",
    "papermill": {
     "duration": 0.015447,
     "end_time": "2025-05-27T06:58:51.398912",
     "exception": false,
     "start_time": "2025-05-27T06:58:51.383465",
     "status": "completed"
    },
    "tags": []
   },
   "outputs": [
    {
     "data": {
      "text/plain": [
       "(1987, 1987)"
      ]
     },
     "execution_count": 35,
     "metadata": {},
     "output_type": "execute_result"
    }
   ],
   "source": [
    "len(predictions), len(references)"
   ]
  },
  {
   "cell_type": "markdown",
   "id": "d7009e4c",
   "metadata": {
    "id": "YMXwgqipW5YG",
    "papermill": {
     "duration": 0.009797,
     "end_time": "2025-05-27T06:58:51.418871",
     "exception": false,
     "start_time": "2025-05-27T06:58:51.409074",
     "status": "completed"
    },
    "tags": []
   },
   "source": [
    "### Calculate sacreBLEU"
   ]
  },
  {
   "cell_type": "code",
   "execution_count": 36,
   "id": "c8f9cc7b",
   "metadata": {
    "execution": {
     "iopub.execute_input": "2025-05-27T06:58:51.439400Z",
     "iopub.status.busy": "2025-05-27T06:58:51.439173Z",
     "iopub.status.idle": "2025-05-27T06:58:51.444335Z",
     "shell.execute_reply": "2025-05-27T06:58:51.443692Z"
    },
    "id": "H7Z188QrW5YG",
    "papermill": {
     "duration": 0.016642,
     "end_time": "2025-05-27T06:58:51.445382",
     "exception": false,
     "start_time": "2025-05-27T06:58:51.428740",
     "status": "completed"
    },
    "tags": []
   },
   "outputs": [
    {
     "name": "stdout",
     "output_type": "stream",
     "text": [
      "[['Cooperate with the Department of Information and Communications and relevant units in preparing propagation publications and holding press conferences\\n'], ['In case of lack of space, the following priority order shall be given: out-of-province students, poor students, students with good academic records and first-year students.\\n']]\n",
      "[\"At the same time, the district's news and the district's localities have been funded with the Prime Minister's plan on building a new countryside, leading to the Prime Minister's leadership.\", \"At the same time, it is known that the capital source of the people's trust, the capital source, the capital of the district, the capital of the entire district, the capital of the entire district, the capital of the locality and the locality.\"]\n"
     ]
    }
   ],
   "source": [
    "preds = []\n",
    "refs = []\n",
    "for pred in predictions:\n",
    "    preds.append(pred[0])\n",
    "\n",
    "for ref in references:\n",
    "    refs.append(ref)\n",
    "\n",
    "print(refs[:2])\n",
    "print(preds[:2])"
   ]
  },
  {
   "cell_type": "code",
   "execution_count": 37,
   "id": "6b27cea1",
   "metadata": {
    "execution": {
     "iopub.execute_input": "2025-05-27T06:58:51.466523Z",
     "iopub.status.busy": "2025-05-27T06:58:51.466299Z",
     "iopub.status.idle": "2025-05-27T06:58:59.229328Z",
     "shell.execute_reply": "2025-05-27T06:58:59.228484Z"
    },
    "id": "LtQX-dIpW5YG",
    "papermill": {
     "duration": 7.774759,
     "end_time": "2025-05-27T06:58:59.230572",
     "exception": false,
     "start_time": "2025-05-27T06:58:51.455813",
     "status": "completed"
    },
    "tags": []
   },
   "outputs": [
    {
     "name": "stdout",
     "output_type": "stream",
     "text": [
      "BLEU:  51.77\n",
      "CHRF: 37.7\n",
      "TER: 113.4\n"
     ]
    }
   ],
   "source": [
    "# Calculate and print the BLEU score\n",
    "bleu = sacrebleu.corpus_bleu(preds, refs)\n",
    "print(\"BLEU: \", round(bleu.score, 2))\n",
    "\n",
    "# Calculate CHRF\n",
    "chrf = sacrebleu.corpus_chrf(preds, refs)\n",
    "print(\"CHRF:\", round(chrf.score, 2))\n",
    "\n",
    "# Calculate TER\n",
    "metric = sacrebleu.metrics.TER()\n",
    "ter = metric.corpus_score(preds, refs)\n",
    "print(\"TER:\", round(ter.score, 2))\n",
    "\n",
    "# wandb.log({\"BLEU\": round(bleu.score, 2), \"CHRF\": round(chrf.score, 2), \"TER\": round(ter.score, 2)})\n"
   ]
  },
  {
   "cell_type": "markdown",
   "id": "689f2af9",
   "metadata": {
    "papermill": {
     "duration": 0.010513,
     "end_time": "2025-05-27T06:58:59.252008",
     "exception": false,
     "start_time": "2025-05-27T06:58:59.241495",
     "status": "completed"
    },
    "tags": []
   },
   "source": [
    "### Test on our dataset:"
   ]
  },
  {
   "cell_type": "code",
   "execution_count": 38,
   "id": "abc76165",
   "metadata": {
    "execution": {
     "iopub.execute_input": "2025-05-27T06:58:59.273923Z",
     "iopub.status.busy": "2025-05-27T06:58:59.273263Z",
     "iopub.status.idle": "2025-05-27T07:04:30.553374Z",
     "shell.execute_reply": "2025-05-27T07:04:30.552597Z"
    },
    "papermill": {
     "duration": 331.292123,
     "end_time": "2025-05-27T07:04:30.554533",
     "exception": false,
     "start_time": "2025-05-27T06:58:59.262410",
     "status": "completed"
    },
    "tags": []
   },
   "outputs": [
    {
     "data": {
      "application/vnd.jupyter.widget-view+json": {
       "model_id": "4ed2943480cf48bfb96e35a3174e1694",
       "version_major": 2,
       "version_minor": 0
      },
      "text/plain": [
       "Translating:   0%|          | 0/1000 [00:00<?, ?it/s]"
      ]
     },
     "metadata": {},
     "output_type": "display_data"
    }
   ],
   "source": [
    "with open('/kaggle/input/test-eng-bdq-phase2dataset-v1/bdq-eng.test.bdq', 'r', encoding='utf-8') as file_ba:\n",
    "    ba_data = file_ba.readlines()\n",
    "with open('/kaggle/input/test-eng-bdq-phase2dataset-v1/bdq-eng.test.eng', 'r', encoding='utf-8') as file_en:\n",
    "    en_data = file_en.readlines()\n",
    "assert len(ba_data) == len(en_data), \"The files don't have the same number of lines.\"\n",
    "test_df = pd.DataFrame({'English': en_data, 'Bahnar': ba_data})\n",
    "ba_en_test_dataset = Dataset.from_pandas(test_df)\n",
    "\n",
    "test_examples = [{'Bahnar': ex['Bahnar'], 'English': ex['English']} for ex in ba_en_test_dataset]\n",
    "predictions, references = evaluate_model(model, en_ba_tokenizer, en_vi_tokenizer, test_examples, device)"
   ]
  },
  {
   "cell_type": "code",
   "execution_count": 39,
   "id": "e8f244f7",
   "metadata": {
    "execution": {
     "iopub.execute_input": "2025-05-27T07:04:30.576771Z",
     "iopub.status.busy": "2025-05-27T07:04:30.576540Z",
     "iopub.status.idle": "2025-05-27T07:04:30.581371Z",
     "shell.execute_reply": "2025-05-27T07:04:30.580451Z"
    },
    "papermill": {
     "duration": 0.017031,
     "end_time": "2025-05-27T07:04:30.582568",
     "exception": false,
     "start_time": "2025-05-27T07:04:30.565537",
     "status": "completed"
    },
    "tags": []
   },
   "outputs": [
    {
     "data": {
      "text/plain": [
       "([\"It's a long, beautiful place to build a new countryside.\"],\n",
       " ['I release you, but can do no more.\\n'])"
      ]
     },
     "execution_count": 39,
     "metadata": {},
     "output_type": "execute_result"
    }
   ],
   "source": [
    "predictions[0], references[0] # Check format of predictions and references"
   ]
  },
  {
   "cell_type": "code",
   "execution_count": 40,
   "id": "8ecc5a58",
   "metadata": {
    "execution": {
     "iopub.execute_input": "2025-05-27T07:04:30.603887Z",
     "iopub.status.busy": "2025-05-27T07:04:30.603674Z",
     "iopub.status.idle": "2025-05-27T07:04:30.608026Z",
     "shell.execute_reply": "2025-05-27T07:04:30.607353Z"
    },
    "papermill": {
     "duration": 0.016245,
     "end_time": "2025-05-27T07:04:30.609124",
     "exception": false,
     "start_time": "2025-05-27T07:04:30.592879",
     "status": "completed"
    },
    "tags": []
   },
   "outputs": [
    {
     "data": {
      "text/plain": [
       "(1000, 1000)"
      ]
     },
     "execution_count": 40,
     "metadata": {},
     "output_type": "execute_result"
    }
   ],
   "source": [
    "len(predictions), len(references)"
   ]
  },
  {
   "cell_type": "code",
   "execution_count": 41,
   "id": "1699e25f",
   "metadata": {
    "execution": {
     "iopub.execute_input": "2025-05-27T07:04:30.631000Z",
     "iopub.status.busy": "2025-05-27T07:04:30.630603Z",
     "iopub.status.idle": "2025-05-27T07:04:30.983971Z",
     "shell.execute_reply": "2025-05-27T07:04:30.983173Z"
    },
    "papermill": {
     "duration": 0.365718,
     "end_time": "2025-05-27T07:04:30.985394",
     "exception": false,
     "start_time": "2025-05-27T07:04:30.619676",
     "status": "completed"
    },
    "tags": []
   },
   "outputs": [
    {
     "name": "stdout",
     "output_type": "stream",
     "text": [
      "[['I release you, but can do no more.\\n'], ['You have as much right to be a knight as any man.\\n']]\n",
      "[\"It's a long, beautiful place to build a new countryside.\", \"I'm the leader of the people who are the ones who are the ones who are the ones who are the ones that are the ones that are the ones that are the ones that are the ones that are the ones that are the ones that are the ones that are the ones that are the ones that are the ones that are the ones that are the ones that are the ones that are the children of.\"]\n",
      "BLEU:  22.96\n",
      "CHRF: 30.42\n",
      "TER: 58.19\n"
     ]
    }
   ],
   "source": [
    "preds = []\n",
    "refs = []\n",
    "for pred in predictions:\n",
    "    preds.append(pred[0])\n",
    "\n",
    "for ref in references:\n",
    "    refs.append(ref)\n",
    "\n",
    "print(refs[:2])\n",
    "print(preds[:2])\n",
    "\n",
    "# Calculate and print the BLEU score\n",
    "bleu = sacrebleu.corpus_bleu(preds, refs)\n",
    "print(\"BLEU: \", round(bleu.score, 2))\n",
    "\n",
    "# Calculate CHRF\n",
    "chrf = sacrebleu.corpus_chrf(preds, refs)\n",
    "print(\"CHRF:\", round(chrf.score, 2))\n",
    "\n",
    "# Calculate TER\n",
    "metric = sacrebleu.metrics.TER()\n",
    "ter = metric.corpus_score(preds, refs)\n",
    "print(\"TER:\", round(ter.score, 2))\n",
    "\n",
    "# wandb.log({\"BLEU\": round(bleu.score, 2), \"CHRF\": round(chrf.score, 2), \"TER\": round(ter.score, 2)})"
   ]
  },
  {
   "cell_type": "markdown",
   "id": "f2b6089d",
   "metadata": {
    "id": "QZuGP2_CW5YH",
    "papermill": {
     "duration": 0.010637,
     "end_time": "2025-05-27T07:04:31.007240",
     "exception": false,
     "start_time": "2025-05-27T07:04:30.996603",
     "status": "completed"
    },
    "tags": []
   },
   "source": [
    "### Saving the model"
   ]
  },
  {
   "cell_type": "code",
   "execution_count": 42,
   "id": "9315f7fd",
   "metadata": {
    "execution": {
     "iopub.execute_input": "2025-05-27T07:04:31.029453Z",
     "iopub.status.busy": "2025-05-27T07:04:31.029197Z",
     "iopub.status.idle": "2025-05-27T07:04:31.771865Z",
     "shell.execute_reply": "2025-05-27T07:04:31.771213Z"
    },
    "id": "G-nAkj_vW5YH",
    "papermill": {
     "duration": 0.754963,
     "end_time": "2025-05-27T07:04:31.772987",
     "exception": false,
     "start_time": "2025-05-27T07:04:31.018024",
     "status": "completed"
    },
    "tags": []
   },
   "outputs": [
    {
     "data": {
      "text/plain": [
       "('./tokenizer/tokenizer_config.json',\n",
       " './tokenizer/special_tokens_map.json',\n",
       " './tokenizer/vocab.json',\n",
       " './tokenizer/source.spm',\n",
       " './tokenizer/target.spm',\n",
       " './tokenizer/added_tokens.json')"
      ]
     },
     "execution_count": 42,
     "metadata": {},
     "output_type": "execute_result"
    }
   ],
   "source": [
    "# Step 5: Save the Model\n",
    "model.save_pretrained(\"./model1.1.1\")\n",
    "en_ba_tokenizer.save_pretrained(\"./tokenizer1.1.1\")\n",
    "en_vi_tokenizer.save_pretrained(\"./tokenizer\")"
   ]
  },
  {
   "cell_type": "markdown",
   "id": "a9c82a5d",
   "metadata": {
    "id": "e_ls_NMnW5YH",
    "papermill": {
     "duration": 0.010544,
     "end_time": "2025-05-27T07:04:31.794741",
     "exception": false,
     "start_time": "2025-05-27T07:04:31.784197",
     "status": "completed"
    },
    "tags": []
   },
   "source": [
    "### Display translated and references for qualitative evaluation"
   ]
  },
  {
   "cell_type": "code",
   "execution_count": 43,
   "id": "cbd764ba",
   "metadata": {
    "execution": {
     "iopub.execute_input": "2025-05-27T07:04:31.817054Z",
     "iopub.status.busy": "2025-05-27T07:04:31.816804Z",
     "iopub.status.idle": "2025-05-27T07:04:31.821271Z",
     "shell.execute_reply": "2025-05-27T07:04:31.820433Z"
    },
    "id": "ojla4E232wc9",
    "papermill": {
     "duration": 0.016943,
     "end_time": "2025-05-27T07:04:31.822435",
     "exception": false,
     "start_time": "2025-05-27T07:04:31.805492",
     "status": "completed"
    },
    "tags": []
   },
   "outputs": [
    {
     "name": "stdout",
     "output_type": "stream",
     "text": [
      "Prediction 1: It's a long, beautiful place to build a new countryside.\n",
      "Reference 1: I release you, but can do no more.\n",
      "\n",
      "Prediction 2: I'm the leader of the people who are the ones who are the ones who are the ones who are the ones that are the ones that are the ones that are the ones that are the ones that are the ones that are the ones that are the ones that are the ones that are the ones that are the ones that are the ones that are the ones that are the ones that are the children of.\n",
      "Reference 2: You have as much right to be a knight as any man.\n",
      "\n",
      "Prediction 3: I'm sorry. I'm sorry.\n",
      "Reference 3: No. Leave me alone.\n",
      "\n",
      "Prediction 4: I'm sorry, I'm sorry, I'm sorry.\n",
      "Reference 4: I'm here to help!\n",
      "\n",
      "Prediction 5: I'm sorry, I'm sorry, I'm sorry. I'm sorry, I'm sorry.\n",
      "Reference 5: All you wanna do is pee.\n",
      "\n",
      "Prediction 6: At the beginning of the 20th century, the district's districts have built a new countryside in the district.\n",
      "Reference 6: And these platforms were certainly very helpful to activists in Tunisia and Egypt this past spring and beyond.\n",
      "\n",
      "Prediction 7: To protect the people's lives and actions, to build a new countryside and a new countryside.\n",
      "Reference 7: He's an architect, and Charlie is deeply concerned about global climate change.\n",
      "\n",
      "Prediction 8: The entire society is well-ventilated.\n",
      "Reference 8: She took my little girl.\n",
      "\n",
      "Prediction 9: At the same time, I'll take care of you.\n",
      "Reference 9: No, please, it's not my freedom I seek.\n",
      "\n",
      "Prediction 10: What's your name?\n",
      "Reference 10: After all, who am I?\n",
      "\n"
     ]
    }
   ],
   "source": [
    "# Display the first 3 prediction-reference pairs\n",
    "for i in range(10):\n",
    "    print(f\"Prediction {i+1}: {predictions[i][0]}\")\n",
    "    print(f\"Reference {i+1}: {references[i][0]}\")"
   ]
  },
  {
   "cell_type": "markdown",
   "id": "b0735e9f",
   "metadata": {
    "id": "ONNBI6jH2wc_",
    "papermill": {
     "duration": 0.011013,
     "end_time": "2025-05-27T07:04:31.844509",
     "exception": false,
     "start_time": "2025-05-27T07:04:31.833496",
     "status": "completed"
    },
    "tags": []
   },
   "source": [
    "### Clean up the output"
   ]
  },
  {
   "cell_type": "code",
   "execution_count": 44,
   "id": "d123f057",
   "metadata": {
    "execution": {
     "iopub.execute_input": "2025-05-27T07:04:31.866882Z",
     "iopub.status.busy": "2025-05-27T07:04:31.866653Z",
     "iopub.status.idle": "2025-05-27T07:04:31.938014Z",
     "shell.execute_reply": "2025-05-27T07:04:31.937452Z"
    },
    "id": "45JUmM8B2wc_",
    "papermill": {
     "duration": 0.083772,
     "end_time": "2025-05-27T07:04:31.939253",
     "exception": false,
     "start_time": "2025-05-27T07:04:31.855481",
     "status": "completed"
    },
    "tags": []
   },
   "outputs": [],
   "source": [
    "\n",
    "import os\n",
    "import shutil\n",
    "\n",
    "def clear_directory_except_subdir(directory, subdir):\n",
    "    for item in os.listdir(directory):\n",
    "        item_path = os.path.join(directory, item)\n",
    "        if os.path.isdir(item_path) and item_path not in subdir:\n",
    "            shutil.rmtree(item_path)  # Remove directories\n",
    "        elif os.path.isfile(item_path) and item_path not in subdir:\n",
    "            os.remove(item_path)  # Remove files\n",
    "\n",
    "# Usage\n",
    "working_dir = '/kaggle/working'\n",
    "results_dir = ['/kaggle/working/results', '/kaggle/working/en-ba-model', '/kaggle/working/en-ba-tokenizer', '/kaggle/working/en-ba-aug-tokenizer', '/kaggle/working/en-ba-aug-model']\n",
    "clear_directory_except_subdir(working_dir, results_dir)\n"
   ]
  },
  {
   "cell_type": "markdown",
   "id": "d6f1f975",
   "metadata": {
    "id": "aXccwetDW5YK",
    "papermill": {
     "duration": 0.010714,
     "end_time": "2025-05-27T07:04:31.961540",
     "exception": false,
     "start_time": "2025-05-27T07:04:31.950826",
     "status": "completed"
    },
    "tags": []
   },
   "source": [
    "# Zip the model"
   ]
  },
  {
   "cell_type": "code",
   "execution_count": 45,
   "id": "777c6a26",
   "metadata": {
    "execution": {
     "iopub.execute_input": "2025-05-27T07:04:31.983866Z",
     "iopub.status.busy": "2025-05-27T07:04:31.983459Z",
     "iopub.status.idle": "2025-05-27T07:04:32.159582Z",
     "shell.execute_reply": "2025-05-27T07:04:32.158827Z"
    },
    "id": "JOEbcY1tW5YK",
    "papermill": {
     "duration": 0.188801,
     "end_time": "2025-05-27T07:04:32.160969",
     "exception": false,
     "start_time": "2025-05-27T07:04:31.972168",
     "status": "completed"
    },
    "tags": []
   },
   "outputs": [
    {
     "name": "stdout",
     "output_type": "stream",
     "text": [
      "\tzip warning: name not matched: /kaggle/working/model1.1.1\r\n",
      "\r\n",
      "zip error: Nothing to do! (try: zip -r model1.1.1.zip . -i /kaggle/working/model1.1.1)\r\n"
     ]
    }
   ],
   "source": [
    "!zip -r model1.1.1.zip /kaggle/working/model1.1.1"
   ]
  },
  {
   "cell_type": "code",
   "execution_count": 46,
   "id": "ba721daa",
   "metadata": {
    "execution": {
     "iopub.execute_input": "2025-05-27T07:04:32.185103Z",
     "iopub.status.busy": "2025-05-27T07:04:32.184466Z",
     "iopub.status.idle": "2025-05-27T07:04:32.346830Z",
     "shell.execute_reply": "2025-05-27T07:04:32.345856Z"
    },
    "id": "l6WmW88JW5YK",
    "papermill": {
     "duration": 0.175802,
     "end_time": "2025-05-27T07:04:32.348232",
     "exception": false,
     "start_time": "2025-05-27T07:04:32.172430",
     "status": "completed"
    },
    "tags": []
   },
   "outputs": [
    {
     "name": "stdout",
     "output_type": "stream",
     "text": [
      "\tzip warning: name not matched: /kaggle/working/tokenizer1.1.1\r\n",
      "\r\n",
      "zip error: Nothing to do! (try: zip -r tokenizer1.1.1.zip . -i /kaggle/working/tokenizer1.1.1)\r\n"
     ]
    }
   ],
   "source": [
    "!zip -r tokenizer1.1.1.zip /kaggle/working/tokenizer1.1.1"
   ]
  },
  {
   "cell_type": "code",
   "execution_count": 47,
   "id": "e7803631",
   "metadata": {
    "execution": {
     "iopub.execute_input": "2025-05-27T07:04:32.371305Z",
     "iopub.status.busy": "2025-05-27T07:04:32.371057Z",
     "iopub.status.idle": "2025-05-27T07:04:32.532476Z",
     "shell.execute_reply": "2025-05-27T07:04:32.531342Z"
    },
    "id": "rS4irleCW5YK",
    "papermill": {
     "duration": 0.174427,
     "end_time": "2025-05-27T07:04:32.534085",
     "exception": false,
     "start_time": "2025-05-27T07:04:32.359658",
     "status": "completed"
    },
    "tags": []
   },
   "outputs": [
    {
     "name": "stdout",
     "output_type": "stream",
     "text": [
      "\tzip warning: name not matched: /kaggle/working/tokenizer\r\n",
      "\r\n",
      "zip error: Nothing to do! (try: zip -r tokenizer.zip . -i /kaggle/working/tokenizer)\r\n"
     ]
    }
   ],
   "source": [
    "!zip -r tokenizer.zip /kaggle/working/tokenizer"
   ]
  },
  {
   "cell_type": "markdown",
   "id": "e58e09b8",
   "metadata": {
    "id": "yJ7nY0QrW5YK",
    "papermill": {
     "duration": 0.011043,
     "end_time": "2025-05-27T07:04:32.557117",
     "exception": false,
     "start_time": "2025-05-27T07:04:32.546074",
     "status": "completed"
    },
    "tags": []
   },
   "source": [
    "# **Load the model and test**"
   ]
  },
  {
   "cell_type": "code",
   "execution_count": 48,
   "id": "38554649",
   "metadata": {
    "execution": {
     "iopub.execute_input": "2025-05-27T07:04:32.580439Z",
     "iopub.status.busy": "2025-05-27T07:04:32.580123Z",
     "iopub.status.idle": "2025-05-27T07:04:32.583890Z",
     "shell.execute_reply": "2025-05-27T07:04:32.583375Z"
    },
    "id": "pbJ_G7MWW5YK",
    "papermill": {
     "duration": 0.016815,
     "end_time": "2025-05-27T07:04:32.584996",
     "exception": false,
     "start_time": "2025-05-27T07:04:32.568181",
     "status": "completed"
    },
    "tags": []
   },
   "outputs": [],
   "source": [
    "# import torch\n",
    "# from tqdm.auto import tqdm\n",
    "\n",
    "# def evaluate_model(model, encode_tokenizer, decode_tokenizer, dataset, device):\n",
    "#     model.eval()\n",
    "\n",
    "#     predictions, references = [], []\n",
    "#     for example in tqdm(dataset, desc=\"Translating\"):\n",
    "#         with encode_tokenizer.as_target_tokenizer():\n",
    "#             input_ids = encode_tokenizer.encode(example['Bahnar'], return_tensors='pt').to(device)\n",
    "\n",
    "#         output_ids = model.generate(input_ids)[0]\n",
    "#         pred = decode_tokenizer.decode(output_ids, skip_special_tokens=True)\n",
    "#         predictions.append([pred])\n",
    "\n",
    "#         references.append([example['English']])\n",
    "\n",
    "#     return predictions, references\n"
   ]
  },
  {
   "cell_type": "code",
   "execution_count": 49,
   "id": "1863c404",
   "metadata": {
    "execution": {
     "iopub.execute_input": "2025-05-27T07:04:32.607703Z",
     "iopub.status.busy": "2025-05-27T07:04:32.607270Z",
     "iopub.status.idle": "2025-05-27T07:04:32.610621Z",
     "shell.execute_reply": "2025-05-27T07:04:32.609915Z"
    },
    "id": "-vXe4FLBW5YK",
    "papermill": {
     "duration": 0.01565,
     "end_time": "2025-05-27T07:04:32.611689",
     "exception": false,
     "start_time": "2025-05-27T07:04:32.596039",
     "status": "completed"
    },
    "tags": []
   },
   "outputs": [],
   "source": [
    "# model_path = '/kaggle/working/model1.1.1'\n",
    "# tokenizer_path = '/kaggle/working/model1.1.1'\n",
    "\n",
    "# # Load the model and tokenizer\n",
    "# loaded_model = AutoModelForSeq2SeqLM.from_pretrained(model_path).to(device)\n",
    "# loaded_tokenizer = AutoTokenizer.from_pretrained(tokenizer_path)\n",
    "\n",
    "# # Evaluate the model\n",
    "# test_examples = [{'Bahnar': ex['Bahnar'], 'English': ex['English']} for ex in ba_en_test_dataset]\n",
    "# predictions, references = evaluate_model(loaded_model, en_ba_tokenizer, en_ba_tokenizer, test_examples, device)"
   ]
  },
  {
   "cell_type": "code",
   "execution_count": 50,
   "id": "1c483a35",
   "metadata": {
    "execution": {
     "iopub.execute_input": "2025-05-27T07:04:32.634388Z",
     "iopub.status.busy": "2025-05-27T07:04:32.633759Z",
     "iopub.status.idle": "2025-05-27T07:04:32.637014Z",
     "shell.execute_reply": "2025-05-27T07:04:32.636302Z"
    },
    "id": "ogK4vNBoW5YK",
    "papermill": {
     "duration": 0.015405,
     "end_time": "2025-05-27T07:04:32.638051",
     "exception": false,
     "start_time": "2025-05-27T07:04:32.622646",
     "status": "completed"
    },
    "tags": []
   },
   "outputs": [],
   "source": [
    "# preds = []\n",
    "# refs = []\n",
    "# for pred in predictions:\n",
    "#     preds.append(pred[0])\n",
    "\n",
    "# for ref in references:\n",
    "#     refs.append(ref)\n",
    "\n",
    "# print(refs[:10])\n",
    "# print(preds[:10])"
   ]
  },
  {
   "cell_type": "code",
   "execution_count": 51,
   "id": "701c0cbe",
   "metadata": {
    "execution": {
     "iopub.execute_input": "2025-05-27T07:04:32.660649Z",
     "iopub.status.busy": "2025-05-27T07:04:32.660440Z",
     "iopub.status.idle": "2025-05-27T07:04:32.663308Z",
     "shell.execute_reply": "2025-05-27T07:04:32.662777Z"
    },
    "id": "8KXTa_jMW5YK",
    "papermill": {
     "duration": 0.015152,
     "end_time": "2025-05-27T07:04:32.664269",
     "exception": false,
     "start_time": "2025-05-27T07:04:32.649117",
     "status": "completed"
    },
    "tags": []
   },
   "outputs": [],
   "source": [
    "# # Calculate and print the BLEU score\n",
    "# bleu = sacrebleu.corpus_bleu(preds, refs)\n",
    "# print(\"BLEU: \", round(bleu.score, 2))\n",
    "\n",
    "# # Calculate CHRF\n",
    "# chrf = sacrebleu.corpus_chrf(preds, refs)\n",
    "# print(\"CHRF:\", round(chrf.score, 2))\n",
    "\n",
    "# # Calculate TER\n",
    "# metric = sacrebleu.metrics.TER()\n",
    "# ter = metric.corpus_score(preds, refs)\n",
    "# print(\"TER:\", round(ter.score, 2))"
   ]
  }
 ],
 "metadata": {
  "accelerator": "GPU",
  "colab": {
   "gpuType": "T4",
   "private_outputs": true,
   "provenance": []
  },
  "kaggle": {
   "accelerator": "gpu",
   "dataSources": [
    {
     "datasetId": 4245661,
     "sourceId": 7316566,
     "sourceType": "datasetVersion"
    },
    {
     "datasetId": 5063149,
     "sourceId": 8487291,
     "sourceType": "datasetVersion"
    },
    {
     "datasetId": 5063775,
     "sourceId": 8488207,
     "sourceType": "datasetVersion"
    },
    {
     "datasetId": 5074078,
     "sourceId": 8502007,
     "sourceType": "datasetVersion"
    },
    {
     "datasetId": 5105744,
     "sourceId": 8545653,
     "sourceType": "datasetVersion"
    },
    {
     "datasetId": 5105750,
     "sourceId": 8545660,
     "sourceType": "datasetVersion"
    },
    {
     "datasetId": 6732520,
     "sourceId": 10920203,
     "sourceType": "datasetVersion"
    },
    {
     "datasetId": 6796986,
     "sourceId": 10935781,
     "sourceType": "datasetVersion"
    },
    {
     "sourceId": 226562249,
     "sourceType": "kernelVersion"
    }
   ],
   "isGpuEnabled": true,
   "isInternetEnabled": true,
   "language": "python",
   "sourceType": "notebook"
  },
  "kernelspec": {
   "display_name": "Python 3",
   "language": "python",
   "name": "python3"
  },
  "language_info": {
   "codemirror_mode": {
    "name": "ipython",
    "version": 3
   },
   "file_extension": ".py",
   "mimetype": "text/x-python",
   "name": "python",
   "nbconvert_exporter": "python",
   "pygments_lexer": "ipython3",
   "version": "3.11.11"
  },
  "papermill": {
   "default_parameters": {},
   "duration": 2821.520664,
   "end_time": "2025-05-27T07:04:35.857942",
   "environment_variables": {},
   "exception": null,
   "input_path": "__notebook__.ipynb",
   "output_path": "__notebook__.ipynb",
   "parameters": {},
   "start_time": "2025-05-27T06:17:34.337278",
   "version": "2.6.0"
  },
  "widgets": {
   "application/vnd.jupyter.widget-state+json": {
    "state": {
     "03cc88c6de734ef58bf640ffc5cd18ef": {
      "model_module": "@jupyter-widgets/base",
      "model_module_version": "2.0.0",
      "model_name": "LayoutModel",
      "state": {
       "_model_module": "@jupyter-widgets/base",
       "_model_module_version": "2.0.0",
       "_model_name": "LayoutModel",
       "_view_count": null,
       "_view_module": "@jupyter-widgets/base",
       "_view_module_version": "2.0.0",
       "_view_name": "LayoutView",
       "align_content": null,
       "align_items": null,
       "align_self": null,
       "border_bottom": null,
       "border_left": null,
       "border_right": null,
       "border_top": null,
       "bottom": null,
       "display": null,
       "flex": null,
       "flex_flow": null,
       "grid_area": null,
       "grid_auto_columns": null,
       "grid_auto_flow": null,
       "grid_auto_rows": null,
       "grid_column": null,
       "grid_gap": null,
       "grid_row": null,
       "grid_template_areas": null,
       "grid_template_columns": null,
       "grid_template_rows": null,
       "height": null,
       "justify_content": null,
       "justify_items": null,
       "left": null,
       "margin": null,
       "max_height": null,
       "max_width": null,
       "min_height": null,
       "min_width": null,
       "object_fit": null,
       "object_position": null,
       "order": null,
       "overflow": null,
       "padding": null,
       "right": null,
       "top": null,
       "visibility": null,
       "width": null
      }
     },
     "078c656b55a24b5b89b544a493a480d5": {
      "model_module": "@jupyter-widgets/controls",
      "model_module_version": "2.0.0",
      "model_name": "FloatProgressModel",
      "state": {
       "_dom_classes": [],
       "_model_module": "@jupyter-widgets/controls",
       "_model_module_version": "2.0.0",
       "_model_name": "FloatProgressModel",
       "_view_count": null,
       "_view_module": "@jupyter-widgets/controls",
       "_view_module_version": "2.0.0",
       "_view_name": "ProgressView",
       "bar_style": "success",
       "description": "",
       "description_allow_html": false,
       "layout": "IPY_MODEL_f863d10f5fb546929551c5b9276fa85b",
       "max": 288977385,
       "min": 0,
       "orientation": "horizontal",
       "style": "IPY_MODEL_497a6fd5f14e4dcc88049964d224de51",
       "tabbable": null,
       "tooltip": null,
       "value": 288977385
      }
     },
     "0a6320c8dbd34109b8f4ccb2cd4c38b2": {
      "model_module": "@jupyter-widgets/controls",
      "model_module_version": "2.0.0",
      "model_name": "HTMLStyleModel",
      "state": {
       "_model_module": "@jupyter-widgets/controls",
       "_model_module_version": "2.0.0",
       "_model_name": "HTMLStyleModel",
       "_view_count": null,
       "_view_module": "@jupyter-widgets/base",
       "_view_module_version": "2.0.0",
       "_view_name": "StyleView",
       "background": null,
       "description_width": "",
       "font_size": null,
       "text_color": null
      }
     },
     "0b390391c32a47a2a2b4641aa1f11b3a": {
      "model_module": "@jupyter-widgets/base",
      "model_module_version": "2.0.0",
      "model_name": "LayoutModel",
      "state": {
       "_model_module": "@jupyter-widgets/base",
       "_model_module_version": "2.0.0",
       "_model_name": "LayoutModel",
       "_view_count": null,
       "_view_module": "@jupyter-widgets/base",
       "_view_module_version": "2.0.0",
       "_view_name": "LayoutView",
       "align_content": null,
       "align_items": null,
       "align_self": null,
       "border_bottom": null,
       "border_left": null,
       "border_right": null,
       "border_top": null,
       "bottom": null,
       "display": null,
       "flex": null,
       "flex_flow": null,
       "grid_area": null,
       "grid_auto_columns": null,
       "grid_auto_flow": null,
       "grid_auto_rows": null,
       "grid_column": null,
       "grid_gap": null,
       "grid_row": null,
       "grid_template_areas": null,
       "grid_template_columns": null,
       "grid_template_rows": null,
       "height": null,
       "justify_content": null,
       "justify_items": null,
       "left": null,
       "margin": null,
       "max_height": null,
       "max_width": null,
       "min_height": null,
       "min_width": null,
       "object_fit": null,
       "object_position": null,
       "order": null,
       "overflow": null,
       "padding": null,
       "right": null,
       "top": null,
       "visibility": null,
       "width": null
      }
     },
     "11a1a776b7c44506b915ae3c3bc49263": {
      "model_module": "@jupyter-widgets/base",
      "model_module_version": "2.0.0",
      "model_name": "LayoutModel",
      "state": {
       "_model_module": "@jupyter-widgets/base",
       "_model_module_version": "2.0.0",
       "_model_name": "LayoutModel",
       "_view_count": null,
       "_view_module": "@jupyter-widgets/base",
       "_view_module_version": "2.0.0",
       "_view_name": "LayoutView",
       "align_content": null,
       "align_items": null,
       "align_self": null,
       "border_bottom": null,
       "border_left": null,
       "border_right": null,
       "border_top": null,
       "bottom": null,
       "display": null,
       "flex": null,
       "flex_flow": null,
       "grid_area": null,
       "grid_auto_columns": null,
       "grid_auto_flow": null,
       "grid_auto_rows": null,
       "grid_column": null,
       "grid_gap": null,
       "grid_row": null,
       "grid_template_areas": null,
       "grid_template_columns": null,
       "grid_template_rows": null,
       "height": null,
       "justify_content": null,
       "justify_items": null,
       "left": null,
       "margin": null,
       "max_height": null,
       "max_width": null,
       "min_height": null,
       "min_width": null,
       "object_fit": null,
       "object_position": null,
       "order": null,
       "overflow": null,
       "padding": null,
       "right": null,
       "top": null,
       "visibility": null,
       "width": null
      }
     },
     "11c077d075c3403eb85a0bd34440b699": {
      "model_module": "@jupyter-widgets/controls",
      "model_module_version": "2.0.0",
      "model_name": "FloatProgressModel",
      "state": {
       "_dom_classes": [],
       "_model_module": "@jupyter-widgets/controls",
       "_model_module_version": "2.0.0",
       "_model_name": "FloatProgressModel",
       "_view_count": null,
       "_view_module": "@jupyter-widgets/controls",
       "_view_module_version": "2.0.0",
       "_view_name": "ProgressView",
       "bar_style": "success",
       "description": "",
       "description_allow_html": false,
       "layout": "IPY_MODEL_1b6bfc9e8b7c41438929339d0986fae0",
       "max": 8347,
       "min": 0,
       "orientation": "horizontal",
       "style": "IPY_MODEL_2d8533270355454197ff95debb9e2b7b",
       "tabbable": null,
       "tooltip": null,
       "value": 8347
      }
     },
     "1323ccf43e99443683f017410a82fada": {
      "model_module": "@jupyter-widgets/base",
      "model_module_version": "2.0.0",
      "model_name": "LayoutModel",
      "state": {
       "_model_module": "@jupyter-widgets/base",
       "_model_module_version": "2.0.0",
       "_model_name": "LayoutModel",
       "_view_count": null,
       "_view_module": "@jupyter-widgets/base",
       "_view_module_version": "2.0.0",
       "_view_name": "LayoutView",
       "align_content": null,
       "align_items": null,
       "align_self": null,
       "border_bottom": null,
       "border_left": null,
       "border_right": null,
       "border_top": null,
       "bottom": null,
       "display": null,
       "flex": null,
       "flex_flow": null,
       "grid_area": null,
       "grid_auto_columns": null,
       "grid_auto_flow": null,
       "grid_auto_rows": null,
       "grid_column": null,
       "grid_gap": null,
       "grid_row": null,
       "grid_template_areas": null,
       "grid_template_columns": null,
       "grid_template_rows": null,
       "height": null,
       "justify_content": null,
       "justify_items": null,
       "left": null,
       "margin": null,
       "max_height": null,
       "max_width": null,
       "min_height": null,
       "min_width": null,
       "object_fit": null,
       "object_position": null,
       "order": null,
       "overflow": null,
       "padding": null,
       "right": null,
       "top": null,
       "visibility": null,
       "width": null
      }
     },
     "14bdcef2d10e48b7a02ff519ce6761d7": {
      "model_module": "@jupyter-widgets/base",
      "model_module_version": "2.0.0",
      "model_name": "LayoutModel",
      "state": {
       "_model_module": "@jupyter-widgets/base",
       "_model_module_version": "2.0.0",
       "_model_name": "LayoutModel",
       "_view_count": null,
       "_view_module": "@jupyter-widgets/base",
       "_view_module_version": "2.0.0",
       "_view_name": "LayoutView",
       "align_content": null,
       "align_items": null,
       "align_self": null,
       "border_bottom": null,
       "border_left": null,
       "border_right": null,
       "border_top": null,
       "bottom": null,
       "display": null,
       "flex": null,
       "flex_flow": null,
       "grid_area": null,
       "grid_auto_columns": null,
       "grid_auto_flow": null,
       "grid_auto_rows": null,
       "grid_column": null,
       "grid_gap": null,
       "grid_row": null,
       "grid_template_areas": null,
       "grid_template_columns": null,
       "grid_template_rows": null,
       "height": null,
       "justify_content": null,
       "justify_items": null,
       "left": null,
       "margin": null,
       "max_height": null,
       "max_width": null,
       "min_height": null,
       "min_width": null,
       "object_fit": null,
       "object_position": null,
       "order": null,
       "overflow": null,
       "padding": null,
       "right": null,
       "top": null,
       "visibility": null,
       "width": null
      }
     },
     "153198b910de43c2957d087a82405835": {
      "model_module": "@jupyter-widgets/controls",
      "model_module_version": "2.0.0",
      "model_name": "FloatProgressModel",
      "state": {
       "_dom_classes": [],
       "_model_module": "@jupyter-widgets/controls",
       "_model_module_version": "2.0.0",
       "_model_name": "FloatProgressModel",
       "_view_count": null,
       "_view_module": "@jupyter-widgets/controls",
       "_view_module_version": "2.0.0",
       "_view_name": "ProgressView",
       "bar_style": "success",
       "description": "",
       "description_allow_html": false,
       "layout": "IPY_MODEL_31e8a3edd8a64fe2bef3e516714a4c0b",
       "max": 1987,
       "min": 0,
       "orientation": "horizontal",
       "style": "IPY_MODEL_56d300f8647249a1ab315efd9b84b6bb",
       "tabbable": null,
       "tooltip": null,
       "value": 1987
      }
     },
     "178b8a16e44b476c8716c6a9824b9896": {
      "model_module": "@jupyter-widgets/base",
      "model_module_version": "2.0.0",
      "model_name": "LayoutModel",
      "state": {
       "_model_module": "@jupyter-widgets/base",
       "_model_module_version": "2.0.0",
       "_model_name": "LayoutModel",
       "_view_count": null,
       "_view_module": "@jupyter-widgets/base",
       "_view_module_version": "2.0.0",
       "_view_name": "LayoutView",
       "align_content": null,
       "align_items": null,
       "align_self": null,
       "border_bottom": null,
       "border_left": null,
       "border_right": null,
       "border_top": null,
       "bottom": null,
       "display": null,
       "flex": null,
       "flex_flow": null,
       "grid_area": null,
       "grid_auto_columns": null,
       "grid_auto_flow": null,
       "grid_auto_rows": null,
       "grid_column": null,
       "grid_gap": null,
       "grid_row": null,
       "grid_template_areas": null,
       "grid_template_columns": null,
       "grid_template_rows": null,
       "height": null,
       "justify_content": null,
       "justify_items": null,
       "left": null,
       "margin": null,
       "max_height": null,
       "max_width": null,
       "min_height": null,
       "min_width": null,
       "object_fit": null,
       "object_position": null,
       "order": null,
       "overflow": null,
       "padding": null,
       "right": null,
       "top": null,
       "visibility": null,
       "width": null
      }
     },
     "1b6bfc9e8b7c41438929339d0986fae0": {
      "model_module": "@jupyter-widgets/base",
      "model_module_version": "2.0.0",
      "model_name": "LayoutModel",
      "state": {
       "_model_module": "@jupyter-widgets/base",
       "_model_module_version": "2.0.0",
       "_model_name": "LayoutModel",
       "_view_count": null,
       "_view_module": "@jupyter-widgets/base",
       "_view_module_version": "2.0.0",
       "_view_name": "LayoutView",
       "align_content": null,
       "align_items": null,
       "align_self": null,
       "border_bottom": null,
       "border_left": null,
       "border_right": null,
       "border_top": null,
       "bottom": null,
       "display": null,
       "flex": null,
       "flex_flow": null,
       "grid_area": null,
       "grid_auto_columns": null,
       "grid_auto_flow": null,
       "grid_auto_rows": null,
       "grid_column": null,
       "grid_gap": null,
       "grid_row": null,
       "grid_template_areas": null,
       "grid_template_columns": null,
       "grid_template_rows": null,
       "height": null,
       "justify_content": null,
       "justify_items": null,
       "left": null,
       "margin": null,
       "max_height": null,
       "max_width": null,
       "min_height": null,
       "min_width": null,
       "object_fit": null,
       "object_position": null,
       "order": null,
       "overflow": null,
       "padding": null,
       "right": null,
       "top": null,
       "visibility": null,
       "width": null
      }
     },
     "1ed0137ce9db4544bc575a0b271c9a3b": {
      "model_module": "@jupyter-widgets/base",
      "model_module_version": "2.0.0",
      "model_name": "LayoutModel",
      "state": {
       "_model_module": "@jupyter-widgets/base",
       "_model_module_version": "2.0.0",
       "_model_name": "LayoutModel",
       "_view_count": null,
       "_view_module": "@jupyter-widgets/base",
       "_view_module_version": "2.0.0",
       "_view_name": "LayoutView",
       "align_content": null,
       "align_items": null,
       "align_self": null,
       "border_bottom": null,
       "border_left": null,
       "border_right": null,
       "border_top": null,
       "bottom": null,
       "display": null,
       "flex": null,
       "flex_flow": null,
       "grid_area": null,
       "grid_auto_columns": null,
       "grid_auto_flow": null,
       "grid_auto_rows": null,
       "grid_column": null,
       "grid_gap": null,
       "grid_row": null,
       "grid_template_areas": null,
       "grid_template_columns": null,
       "grid_template_rows": null,
       "height": null,
       "justify_content": null,
       "justify_items": null,
       "left": null,
       "margin": null,
       "max_height": null,
       "max_width": null,
       "min_height": null,
       "min_width": null,
       "object_fit": null,
       "object_position": null,
       "order": null,
       "overflow": null,
       "padding": null,
       "right": null,
       "top": null,
       "visibility": null,
       "width": null
      }
     },
     "2140a33a38c343dd929fed33f23e357d": {
      "model_module": "@jupyter-widgets/base",
      "model_module_version": "2.0.0",
      "model_name": "LayoutModel",
      "state": {
       "_model_module": "@jupyter-widgets/base",
       "_model_module_version": "2.0.0",
       "_model_name": "LayoutModel",
       "_view_count": null,
       "_view_module": "@jupyter-widgets/base",
       "_view_module_version": "2.0.0",
       "_view_name": "LayoutView",
       "align_content": null,
       "align_items": null,
       "align_self": null,
       "border_bottom": null,
       "border_left": null,
       "border_right": null,
       "border_top": null,
       "bottom": null,
       "display": null,
       "flex": null,
       "flex_flow": null,
       "grid_area": null,
       "grid_auto_columns": null,
       "grid_auto_flow": null,
       "grid_auto_rows": null,
       "grid_column": null,
       "grid_gap": null,
       "grid_row": null,
       "grid_template_areas": null,
       "grid_template_columns": null,
       "grid_template_rows": null,
       "height": null,
       "justify_content": null,
       "justify_items": null,
       "left": null,
       "margin": null,
       "max_height": null,
       "max_width": null,
       "min_height": null,
       "min_width": null,
       "object_fit": null,
       "object_position": null,
       "order": null,
       "overflow": null,
       "padding": null,
       "right": null,
       "top": null,
       "visibility": null,
       "width": null
      }
     },
     "222fdc22fac64a7ba41b01a6114347ee": {
      "model_module": "@jupyter-widgets/base",
      "model_module_version": "2.0.0",
      "model_name": "LayoutModel",
      "state": {
       "_model_module": "@jupyter-widgets/base",
       "_model_module_version": "2.0.0",
       "_model_name": "LayoutModel",
       "_view_count": null,
       "_view_module": "@jupyter-widgets/base",
       "_view_module_version": "2.0.0",
       "_view_name": "LayoutView",
       "align_content": null,
       "align_items": null,
       "align_self": null,
       "border_bottom": null,
       "border_left": null,
       "border_right": null,
       "border_top": null,
       "bottom": null,
       "display": null,
       "flex": null,
       "flex_flow": null,
       "grid_area": null,
       "grid_auto_columns": null,
       "grid_auto_flow": null,
       "grid_auto_rows": null,
       "grid_column": null,
       "grid_gap": null,
       "grid_row": null,
       "grid_template_areas": null,
       "grid_template_columns": null,
       "grid_template_rows": null,
       "height": null,
       "justify_content": null,
       "justify_items": null,
       "left": null,
       "margin": null,
       "max_height": null,
       "max_width": null,
       "min_height": null,
       "min_width": null,
       "object_fit": null,
       "object_position": null,
       "order": null,
       "overflow": null,
       "padding": null,
       "right": null,
       "top": null,
       "visibility": null,
       "width": null
      }
     },
     "23f9f91bd0d24106a491564670e8211f": {
      "model_module": "@jupyter-widgets/controls",
      "model_module_version": "2.0.0",
      "model_name": "ProgressStyleModel",
      "state": {
       "_model_module": "@jupyter-widgets/controls",
       "_model_module_version": "2.0.0",
       "_model_name": "ProgressStyleModel",
       "_view_count": null,
       "_view_module": "@jupyter-widgets/base",
       "_view_module_version": "2.0.0",
       "_view_name": "StyleView",
       "bar_color": null,
       "description_width": ""
      }
     },
     "268e4cbba6cb4910bbf631886681f310": {
      "model_module": "@jupyter-widgets/controls",
      "model_module_version": "2.0.0",
      "model_name": "FloatProgressModel",
      "state": {
       "_dom_classes": [],
       "_model_module": "@jupyter-widgets/controls",
       "_model_module_version": "2.0.0",
       "_model_name": "FloatProgressModel",
       "_view_count": null,
       "_view_module": "@jupyter-widgets/controls",
       "_view_module_version": "2.0.0",
       "_view_name": "ProgressView",
       "bar_style": "success",
       "description": "",
       "description_allow_html": false,
       "layout": "IPY_MODEL_11a1a776b7c44506b915ae3c3bc49263",
       "max": 44,
       "min": 0,
       "orientation": "horizontal",
       "style": "IPY_MODEL_34dab2a5d4f74307afc197c500b13c73",
       "tabbable": null,
       "tooltip": null,
       "value": 44
      }
     },
     "2b1280fe37a14a92b17877f46998f10a": {
      "model_module": "@jupyter-widgets/controls",
      "model_module_version": "2.0.0",
      "model_name": "FloatProgressModel",
      "state": {
       "_dom_classes": [],
       "_model_module": "@jupyter-widgets/controls",
       "_model_module_version": "2.0.0",
       "_model_name": "FloatProgressModel",
       "_view_count": null,
       "_view_module": "@jupyter-widgets/controls",
       "_view_module_version": "2.0.0",
       "_view_name": "ProgressView",
       "bar_style": "success",
       "description": "",
       "description_allow_html": false,
       "layout": "IPY_MODEL_3caac6f2693d45c5ae0ee805af2b4aca",
       "max": 1394,
       "min": 0,
       "orientation": "horizontal",
       "style": "IPY_MODEL_5a8312034abf490b92a15cfe300f046a",
       "tabbable": null,
       "tooltip": null,
       "value": 1394
      }
     },
     "2d8533270355454197ff95debb9e2b7b": {
      "model_module": "@jupyter-widgets/controls",
      "model_module_version": "2.0.0",
      "model_name": "ProgressStyleModel",
      "state": {
       "_model_module": "@jupyter-widgets/controls",
       "_model_module_version": "2.0.0",
       "_model_name": "ProgressStyleModel",
       "_view_count": null,
       "_view_module": "@jupyter-widgets/base",
       "_view_module_version": "2.0.0",
       "_view_name": "StyleView",
       "bar_color": null,
       "description_width": ""
      }
     },
     "2f4efb71d7d74664baee2a4518d89b02": {
      "model_module": "@jupyter-widgets/base",
      "model_module_version": "2.0.0",
      "model_name": "LayoutModel",
      "state": {
       "_model_module": "@jupyter-widgets/base",
       "_model_module_version": "2.0.0",
       "_model_name": "LayoutModel",
       "_view_count": null,
       "_view_module": "@jupyter-widgets/base",
       "_view_module_version": "2.0.0",
       "_view_name": "LayoutView",
       "align_content": null,
       "align_items": null,
       "align_self": null,
       "border_bottom": null,
       "border_left": null,
       "border_right": null,
       "border_top": null,
       "bottom": null,
       "display": null,
       "flex": null,
       "flex_flow": null,
       "grid_area": null,
       "grid_auto_columns": null,
       "grid_auto_flow": null,
       "grid_auto_rows": null,
       "grid_column": null,
       "grid_gap": null,
       "grid_row": null,
       "grid_template_areas": null,
       "grid_template_columns": null,
       "grid_template_rows": null,
       "height": null,
       "justify_content": null,
       "justify_items": null,
       "left": null,
       "margin": null,
       "max_height": null,
       "max_width": null,
       "min_height": null,
       "min_width": null,
       "object_fit": null,
       "object_position": null,
       "order": null,
       "overflow": null,
       "padding": null,
       "right": null,
       "top": null,
       "visibility": null,
       "width": null
      }
     },
     "31b3bcd407b64af881e9b6df0cb46f6f": {
      "model_module": "@jupyter-widgets/base",
      "model_module_version": "2.0.0",
      "model_name": "LayoutModel",
      "state": {
       "_model_module": "@jupyter-widgets/base",
       "_model_module_version": "2.0.0",
       "_model_name": "LayoutModel",
       "_view_count": null,
       "_view_module": "@jupyter-widgets/base",
       "_view_module_version": "2.0.0",
       "_view_name": "LayoutView",
       "align_content": null,
       "align_items": null,
       "align_self": null,
       "border_bottom": null,
       "border_left": null,
       "border_right": null,
       "border_top": null,
       "bottom": null,
       "display": null,
       "flex": null,
       "flex_flow": null,
       "grid_area": null,
       "grid_auto_columns": null,
       "grid_auto_flow": null,
       "grid_auto_rows": null,
       "grid_column": null,
       "grid_gap": null,
       "grid_row": null,
       "grid_template_areas": null,
       "grid_template_columns": null,
       "grid_template_rows": null,
       "height": null,
       "justify_content": null,
       "justify_items": null,
       "left": null,
       "margin": null,
       "max_height": null,
       "max_width": null,
       "min_height": null,
       "min_width": null,
       "object_fit": null,
       "object_position": null,
       "order": null,
       "overflow": null,
       "padding": null,
       "right": null,
       "top": null,
       "visibility": null,
       "width": null
      }
     },
     "31e8a3edd8a64fe2bef3e516714a4c0b": {
      "model_module": "@jupyter-widgets/base",
      "model_module_version": "2.0.0",
      "model_name": "LayoutModel",
      "state": {
       "_model_module": "@jupyter-widgets/base",
       "_model_module_version": "2.0.0",
       "_model_name": "LayoutModel",
       "_view_count": null,
       "_view_module": "@jupyter-widgets/base",
       "_view_module_version": "2.0.0",
       "_view_name": "LayoutView",
       "align_content": null,
       "align_items": null,
       "align_self": null,
       "border_bottom": null,
       "border_left": null,
       "border_right": null,
       "border_top": null,
       "bottom": null,
       "display": null,
       "flex": null,
       "flex_flow": null,
       "grid_area": null,
       "grid_auto_columns": null,
       "grid_auto_flow": null,
       "grid_auto_rows": null,
       "grid_column": null,
       "grid_gap": null,
       "grid_row": null,
       "grid_template_areas": null,
       "grid_template_columns": null,
       "grid_template_rows": null,
       "height": null,
       "justify_content": null,
       "justify_items": null,
       "left": null,
       "margin": null,
       "max_height": null,
       "max_width": null,
       "min_height": null,
       "min_width": null,
       "object_fit": null,
       "object_position": null,
       "order": null,
       "overflow": null,
       "padding": null,
       "right": null,
       "top": null,
       "visibility": null,
       "width": null
      }
     },
     "34dab2a5d4f74307afc197c500b13c73": {
      "model_module": "@jupyter-widgets/controls",
      "model_module_version": "2.0.0",
      "model_name": "ProgressStyleModel",
      "state": {
       "_model_module": "@jupyter-widgets/controls",
       "_model_module_version": "2.0.0",
       "_model_name": "ProgressStyleModel",
       "_view_count": null,
       "_view_module": "@jupyter-widgets/base",
       "_view_module_version": "2.0.0",
       "_view_name": "StyleView",
       "bar_color": null,
       "description_width": ""
      }
     },
     "35c1fb26a1d64c3087ae6b9ee47e6809": {
      "model_module": "@jupyter-widgets/base",
      "model_module_version": "2.0.0",
      "model_name": "LayoutModel",
      "state": {
       "_model_module": "@jupyter-widgets/base",
       "_model_module_version": "2.0.0",
       "_model_name": "LayoutModel",
       "_view_count": null,
       "_view_module": "@jupyter-widgets/base",
       "_view_module_version": "2.0.0",
       "_view_name": "LayoutView",
       "align_content": null,
       "align_items": null,
       "align_self": null,
       "border_bottom": null,
       "border_left": null,
       "border_right": null,
       "border_top": null,
       "bottom": null,
       "display": null,
       "flex": null,
       "flex_flow": null,
       "grid_area": null,
       "grid_auto_columns": null,
       "grid_auto_flow": null,
       "grid_auto_rows": null,
       "grid_column": null,
       "grid_gap": null,
       "grid_row": null,
       "grid_template_areas": null,
       "grid_template_columns": null,
       "grid_template_rows": null,
       "height": null,
       "justify_content": null,
       "justify_items": null,
       "left": null,
       "margin": null,
       "max_height": null,
       "max_width": null,
       "min_height": null,
       "min_width": null,
       "object_fit": null,
       "object_position": null,
       "order": null,
       "overflow": null,
       "padding": null,
       "right": null,
       "top": null,
       "visibility": null,
       "width": null
      }
     },
     "3b580ce004ff46308854b17820c7d450": {
      "model_module": "@jupyter-widgets/controls",
      "model_module_version": "2.0.0",
      "model_name": "HBoxModel",
      "state": {
       "_dom_classes": [],
       "_model_module": "@jupyter-widgets/controls",
       "_model_module_version": "2.0.0",
       "_model_name": "HBoxModel",
       "_view_count": null,
       "_view_module": "@jupyter-widgets/controls",
       "_view_module_version": "2.0.0",
       "_view_name": "HBoxView",
       "box_style": "",
       "children": [
        "IPY_MODEL_7760da80d4bb4d5a9bc4956711e1c2d4",
        "IPY_MODEL_b5a9a46e16ad473588a72b0ba87d26fb",
        "IPY_MODEL_52a7d514ccd744cca2f11422d5989b7a"
       ],
       "layout": "IPY_MODEL_bbe0aee7b08746f2b55ff2d4f3aa5084",
       "tabbable": null,
       "tooltip": null
      }
     },
     "3c3f99d726c24fcc90e554603927d7f7": {
      "model_module": "@jupyter-widgets/controls",
      "model_module_version": "2.0.0",
      "model_name": "HBoxModel",
      "state": {
       "_dom_classes": [],
       "_model_module": "@jupyter-widgets/controls",
       "_model_module_version": "2.0.0",
       "_model_name": "HBoxModel",
       "_view_count": null,
       "_view_module": "@jupyter-widgets/controls",
       "_view_module_version": "2.0.0",
       "_view_name": "HBoxView",
       "box_style": "",
       "children": [
        "IPY_MODEL_7b081dc48c4e46cba9257528cbb08376",
        "IPY_MODEL_268e4cbba6cb4910bbf631886681f310",
        "IPY_MODEL_f12006213b1b4c849359dc9f88e32ca6"
       ],
       "layout": "IPY_MODEL_7885cacc874547458910af3b37ea65f9",
       "tabbable": null,
       "tooltip": null
      }
     },
     "3caac6f2693d45c5ae0ee805af2b4aca": {
      "model_module": "@jupyter-widgets/base",
      "model_module_version": "2.0.0",
      "model_name": "LayoutModel",
      "state": {
       "_model_module": "@jupyter-widgets/base",
       "_model_module_version": "2.0.0",
       "_model_name": "LayoutModel",
       "_view_count": null,
       "_view_module": "@jupyter-widgets/base",
       "_view_module_version": "2.0.0",
       "_view_name": "LayoutView",
       "align_content": null,
       "align_items": null,
       "align_self": null,
       "border_bottom": null,
       "border_left": null,
       "border_right": null,
       "border_top": null,
       "bottom": null,
       "display": null,
       "flex": null,
       "flex_flow": null,
       "grid_area": null,
       "grid_auto_columns": null,
       "grid_auto_flow": null,
       "grid_auto_rows": null,
       "grid_column": null,
       "grid_gap": null,
       "grid_row": null,
       "grid_template_areas": null,
       "grid_template_columns": null,
       "grid_template_rows": null,
       "height": null,
       "justify_content": null,
       "justify_items": null,
       "left": null,
       "margin": null,
       "max_height": null,
       "max_width": null,
       "min_height": null,
       "min_width": null,
       "object_fit": null,
       "object_position": null,
       "order": null,
       "overflow": null,
       "padding": null,
       "right": null,
       "top": null,
       "visibility": null,
       "width": null
      }
     },
     "3d1e49293498408bb1b47ff4583b0a68": {
      "model_module": "@jupyter-widgets/controls",
      "model_module_version": "2.0.0",
      "model_name": "HTMLModel",
      "state": {
       "_dom_classes": [],
       "_model_module": "@jupyter-widgets/controls",
       "_model_module_version": "2.0.0",
       "_model_name": "HTMLModel",
       "_view_count": null,
       "_view_module": "@jupyter-widgets/controls",
       "_view_module_version": "2.0.0",
       "_view_name": "HTMLView",
       "description": "",
       "description_allow_html": false,
       "layout": "IPY_MODEL_1ed0137ce9db4544bc575a0b271c9a3b",
       "placeholder": "​",
       "style": "IPY_MODEL_76c29a7e152347d792d621615f58cd9c",
       "tabbable": null,
       "tooltip": null,
       "value": "Map: 100%"
      }
     },
     "3df12890bb874a3f9279789a02ee6298": {
      "model_module": "@jupyter-widgets/base",
      "model_module_version": "2.0.0",
      "model_name": "LayoutModel",
      "state": {
       "_model_module": "@jupyter-widgets/base",
       "_model_module_version": "2.0.0",
       "_model_name": "LayoutModel",
       "_view_count": null,
       "_view_module": "@jupyter-widgets/base",
       "_view_module_version": "2.0.0",
       "_view_name": "LayoutView",
       "align_content": null,
       "align_items": null,
       "align_self": null,
       "border_bottom": null,
       "border_left": null,
       "border_right": null,
       "border_top": null,
       "bottom": null,
       "display": null,
       "flex": null,
       "flex_flow": null,
       "grid_area": null,
       "grid_auto_columns": null,
       "grid_auto_flow": null,
       "grid_auto_rows": null,
       "grid_column": null,
       "grid_gap": null,
       "grid_row": null,
       "grid_template_areas": null,
       "grid_template_columns": null,
       "grid_template_rows": null,
       "height": null,
       "justify_content": null,
       "justify_items": null,
       "left": null,
       "margin": null,
       "max_height": null,
       "max_width": null,
       "min_height": null,
       "min_width": null,
       "object_fit": null,
       "object_position": null,
       "order": null,
       "overflow": null,
       "padding": null,
       "right": null,
       "top": null,
       "visibility": null,
       "width": null
      }
     },
     "407ce5a8b63549fd86614868e64a45a5": {
      "model_module": "@jupyter-widgets/controls",
      "model_module_version": "2.0.0",
      "model_name": "HBoxModel",
      "state": {
       "_dom_classes": [],
       "_model_module": "@jupyter-widgets/controls",
       "_model_module_version": "2.0.0",
       "_model_name": "HBoxModel",
       "_view_count": null,
       "_view_module": "@jupyter-widgets/controls",
       "_view_module_version": "2.0.0",
       "_view_name": "HBoxView",
       "box_style": "",
       "children": [
        "IPY_MODEL_e39a4f6955bf473abad7a359fa3b8a7f",
        "IPY_MODEL_e4ed6a388c304f348a082ac5834ff448",
        "IPY_MODEL_496032dcad4f43d182a506a746e947f3"
       ],
       "layout": "IPY_MODEL_35c1fb26a1d64c3087ae6b9ee47e6809",
       "tabbable": null,
       "tooltip": null
      }
     },
     "43bda1fef3f94ba6b3b96f0f5cea411a": {
      "model_module": "@jupyter-widgets/controls",
      "model_module_version": "2.0.0",
      "model_name": "HBoxModel",
      "state": {
       "_dom_classes": [],
       "_model_module": "@jupyter-widgets/controls",
       "_model_module_version": "2.0.0",
       "_model_name": "HBoxModel",
       "_view_count": null,
       "_view_module": "@jupyter-widgets/controls",
       "_view_module_version": "2.0.0",
       "_view_name": "HBoxView",
       "box_style": "",
       "children": [
        "IPY_MODEL_3d1e49293498408bb1b47ff4583b0a68",
        "IPY_MODEL_11c077d075c3403eb85a0bd34440b699",
        "IPY_MODEL_86800e0da8f4451280523b86dd28a787"
       ],
       "layout": "IPY_MODEL_b4d023adaa104a159284657c6d542da5",
       "tabbable": null,
       "tooltip": null
      }
     },
     "43c75c62fbc447f2b755e7a4f3ba5e1a": {
      "model_module": "@jupyter-widgets/controls",
      "model_module_version": "2.0.0",
      "model_name": "FloatProgressModel",
      "state": {
       "_dom_classes": [],
       "_model_module": "@jupyter-widgets/controls",
       "_model_module_version": "2.0.0",
       "_model_name": "FloatProgressModel",
       "_view_count": null,
       "_view_module": "@jupyter-widgets/controls",
       "_view_module_version": "2.0.0",
       "_view_name": "ProgressView",
       "bar_style": "",
       "description": "",
       "description_allow_html": false,
       "layout": "IPY_MODEL_91a9e8f5afb04857824796aa5cd937f3",
       "max": 288952844,
       "min": 0,
       "orientation": "horizontal",
       "style": "IPY_MODEL_51e522f77e8248b39446704257429f94",
       "tabbable": null,
       "tooltip": null,
       "value": 94371840
      }
     },
     "440b9337b366491f91f7068ad764e28b": {
      "model_module": "@jupyter-widgets/base",
      "model_module_version": "2.0.0",
      "model_name": "LayoutModel",
      "state": {
       "_model_module": "@jupyter-widgets/base",
       "_model_module_version": "2.0.0",
       "_model_name": "LayoutModel",
       "_view_count": null,
       "_view_module": "@jupyter-widgets/base",
       "_view_module_version": "2.0.0",
       "_view_name": "LayoutView",
       "align_content": null,
       "align_items": null,
       "align_self": null,
       "border_bottom": null,
       "border_left": null,
       "border_right": null,
       "border_top": null,
       "bottom": null,
       "display": null,
       "flex": null,
       "flex_flow": null,
       "grid_area": null,
       "grid_auto_columns": null,
       "grid_auto_flow": null,
       "grid_auto_rows": null,
       "grid_column": null,
       "grid_gap": null,
       "grid_row": null,
       "grid_template_areas": null,
       "grid_template_columns": null,
       "grid_template_rows": null,
       "height": null,
       "justify_content": null,
       "justify_items": null,
       "left": null,
       "margin": null,
       "max_height": null,
       "max_width": null,
       "min_height": null,
       "min_width": null,
       "object_fit": null,
       "object_position": null,
       "order": null,
       "overflow": null,
       "padding": null,
       "right": null,
       "top": null,
       "visibility": null,
       "width": null
      }
     },
     "442d9f8f7bab45228af410a4f17847eb": {
      "model_module": "@jupyter-widgets/base",
      "model_module_version": "2.0.0",
      "model_name": "LayoutModel",
      "state": {
       "_model_module": "@jupyter-widgets/base",
       "_model_module_version": "2.0.0",
       "_model_name": "LayoutModel",
       "_view_count": null,
       "_view_module": "@jupyter-widgets/base",
       "_view_module_version": "2.0.0",
       "_view_name": "LayoutView",
       "align_content": null,
       "align_items": null,
       "align_self": null,
       "border_bottom": null,
       "border_left": null,
       "border_right": null,
       "border_top": null,
       "bottom": null,
       "display": null,
       "flex": null,
       "flex_flow": null,
       "grid_area": null,
       "grid_auto_columns": null,
       "grid_auto_flow": null,
       "grid_auto_rows": null,
       "grid_column": null,
       "grid_gap": null,
       "grid_row": null,
       "grid_template_areas": null,
       "grid_template_columns": null,
       "grid_template_rows": null,
       "height": null,
       "justify_content": null,
       "justify_items": null,
       "left": null,
       "margin": null,
       "max_height": null,
       "max_width": null,
       "min_height": null,
       "min_width": null,
       "object_fit": null,
       "object_position": null,
       "order": null,
       "overflow": null,
       "padding": null,
       "right": null,
       "top": null,
       "visibility": null,
       "width": null
      }
     },
     "444d066cb25b4d20a783e1bd264fe7e1": {
      "model_module": "@jupyter-widgets/controls",
      "model_module_version": "2.0.0",
      "model_name": "HTMLStyleModel",
      "state": {
       "_model_module": "@jupyter-widgets/controls",
       "_model_module_version": "2.0.0",
       "_model_name": "HTMLStyleModel",
       "_view_count": null,
       "_view_module": "@jupyter-widgets/base",
       "_view_module_version": "2.0.0",
       "_view_name": "StyleView",
       "background": null,
       "description_width": "",
       "font_size": null,
       "text_color": null
      }
     },
     "46b19b1a3ee64761a1f5b4a3fb573479": {
      "model_module": "@jupyter-widgets/controls",
      "model_module_version": "2.0.0",
      "model_name": "HTMLStyleModel",
      "state": {
       "_model_module": "@jupyter-widgets/controls",
       "_model_module_version": "2.0.0",
       "_model_name": "HTMLStyleModel",
       "_view_count": null,
       "_view_module": "@jupyter-widgets/base",
       "_view_module_version": "2.0.0",
       "_view_name": "StyleView",
       "background": null,
       "description_width": "",
       "font_size": null,
       "text_color": null
      }
     },
     "4719da5adbb84cc0a0b4d37652a6aa9d": {
      "model_module": "@jupyter-widgets/controls",
      "model_module_version": "2.0.0",
      "model_name": "ProgressStyleModel",
      "state": {
       "_model_module": "@jupyter-widgets/controls",
       "_model_module_version": "2.0.0",
       "_model_name": "ProgressStyleModel",
       "_view_count": null,
       "_view_module": "@jupyter-widgets/base",
       "_view_module_version": "2.0.0",
       "_view_name": "StyleView",
       "bar_color": null,
       "description_width": ""
      }
     },
     "496032dcad4f43d182a506a746e947f3": {
      "model_module": "@jupyter-widgets/controls",
      "model_module_version": "2.0.0",
      "model_name": "HTMLModel",
      "state": {
       "_dom_classes": [],
       "_model_module": "@jupyter-widgets/controls",
       "_model_module_version": "2.0.0",
       "_model_name": "HTMLModel",
       "_view_count": null,
       "_view_module": "@jupyter-widgets/controls",
       "_view_module_version": "2.0.0",
       "_view_name": "HTMLView",
       "description": "",
       "description_allow_html": false,
       "layout": "IPY_MODEL_5aeadf8b5eaa4be798130da346ba6c25",
       "placeholder": "​",
       "style": "IPY_MODEL_eb1fabfbaea4478494f8aa4cfd48f4ad",
       "tabbable": null,
       "tooltip": null,
       "value": " 809k/809k [00:00&lt;00:00, 4.84MB/s]"
      }
     },
     "497a6fd5f14e4dcc88049964d224de51": {
      "model_module": "@jupyter-widgets/controls",
      "model_module_version": "2.0.0",
      "model_name": "ProgressStyleModel",
      "state": {
       "_model_module": "@jupyter-widgets/controls",
       "_model_module_version": "2.0.0",
       "_model_name": "ProgressStyleModel",
       "_view_count": null,
       "_view_module": "@jupyter-widgets/base",
       "_view_module_version": "2.0.0",
       "_view_name": "StyleView",
       "bar_color": null,
       "description_width": ""
      }
     },
     "49dbb3ce00794ff3b2d7372792f5103c": {
      "model_module": "@jupyter-widgets/controls",
      "model_module_version": "2.0.0",
      "model_name": "FloatProgressModel",
      "state": {
       "_dom_classes": [],
       "_model_module": "@jupyter-widgets/controls",
       "_model_module_version": "2.0.0",
       "_model_name": "FloatProgressModel",
       "_view_count": null,
       "_view_module": "@jupyter-widgets/controls",
       "_view_module_version": "2.0.0",
       "_view_name": "ProgressView",
       "bar_style": "success",
       "description": "",
       "description_allow_html": false,
       "layout": "IPY_MODEL_0b390391c32a47a2a2b4641aa1f11b3a",
       "max": 756168,
       "min": 0,
       "orientation": "horizontal",
       "style": "IPY_MODEL_7afe03733db649c5a91e7dc8983b4f49",
       "tabbable": null,
       "tooltip": null,
       "value": 756168
      }
     },
     "4ed2943480cf48bfb96e35a3174e1694": {
      "model_module": "@jupyter-widgets/controls",
      "model_module_version": "2.0.0",
      "model_name": "HBoxModel",
      "state": {
       "_dom_classes": [],
       "_model_module": "@jupyter-widgets/controls",
       "_model_module_version": "2.0.0",
       "_model_name": "HBoxModel",
       "_view_count": null,
       "_view_module": "@jupyter-widgets/controls",
       "_view_module_version": "2.0.0",
       "_view_name": "HBoxView",
       "box_style": "",
       "children": [
        "IPY_MODEL_f634756457f846b2ae2d7c5c535a7446",
        "IPY_MODEL_aed7b5aea901424ca5bef5b1c13f31da",
        "IPY_MODEL_7ae96ab36cf34e859d22c05ac8852294"
       ],
       "layout": "IPY_MODEL_442d9f8f7bab45228af410a4f17847eb",
       "tabbable": null,
       "tooltip": null
      }
     },
     "51e522f77e8248b39446704257429f94": {
      "model_module": "@jupyter-widgets/controls",
      "model_module_version": "2.0.0",
      "model_name": "ProgressStyleModel",
      "state": {
       "_model_module": "@jupyter-widgets/controls",
       "_model_module_version": "2.0.0",
       "_model_name": "ProgressStyleModel",
       "_view_count": null,
       "_view_module": "@jupyter-widgets/base",
       "_view_module_version": "2.0.0",
       "_view_name": "StyleView",
       "bar_color": null,
       "description_width": ""
      }
     },
     "52a7d514ccd744cca2f11422d5989b7a": {
      "model_module": "@jupyter-widgets/controls",
      "model_module_version": "2.0.0",
      "model_name": "HTMLModel",
      "state": {
       "_dom_classes": [],
       "_model_module": "@jupyter-widgets/controls",
       "_model_module_version": "2.0.0",
       "_model_name": "HTMLModel",
       "_view_count": null,
       "_view_module": "@jupyter-widgets/controls",
       "_view_module_version": "2.0.0",
       "_view_name": "HTMLView",
       "description": "",
       "description_allow_html": false,
       "layout": "IPY_MODEL_82dd90c1d4084b148d613f60d917ae48",
       "placeholder": "​",
       "style": "IPY_MODEL_e7435bb6e9ce4d3f88bfc8d2e2bd84e9",
       "tabbable": null,
       "tooltip": null,
       "value": " 928/928 [00:00&lt;00:00, 1878.46 examples/s]"
      }
     },
     "55c43ee44a8844419d9bea892d2c73df": {
      "model_module": "@jupyter-widgets/controls",
      "model_module_version": "2.0.0",
      "model_name": "HTMLStyleModel",
      "state": {
       "_model_module": "@jupyter-widgets/controls",
       "_model_module_version": "2.0.0",
       "_model_name": "HTMLStyleModel",
       "_view_count": null,
       "_view_module": "@jupyter-widgets/base",
       "_view_module_version": "2.0.0",
       "_view_name": "StyleView",
       "background": null,
       "description_width": "",
       "font_size": null,
       "text_color": null
      }
     },
     "56d300f8647249a1ab315efd9b84b6bb": {
      "model_module": "@jupyter-widgets/controls",
      "model_module_version": "2.0.0",
      "model_name": "ProgressStyleModel",
      "state": {
       "_model_module": "@jupyter-widgets/controls",
       "_model_module_version": "2.0.0",
       "_model_name": "ProgressStyleModel",
       "_view_count": null,
       "_view_module": "@jupyter-widgets/base",
       "_view_module_version": "2.0.0",
       "_view_name": "StyleView",
       "bar_color": null,
       "description_width": ""
      }
     },
     "585eb33982774642a266ab7503c56bd6": {
      "model_module": "@jupyter-widgets/controls",
      "model_module_version": "2.0.0",
      "model_name": "HTMLModel",
      "state": {
       "_dom_classes": [],
       "_model_module": "@jupyter-widgets/controls",
       "_model_module_version": "2.0.0",
       "_model_name": "HTMLModel",
       "_view_count": null,
       "_view_module": "@jupyter-widgets/controls",
       "_view_module_version": "2.0.0",
       "_view_name": "HTMLView",
       "description": "",
       "description_allow_html": false,
       "layout": "IPY_MODEL_fbe9b57467994d969b4c8929b5d8a8ba",
       "placeholder": "​",
       "style": "IPY_MODEL_5bda3a83377746779aab878e4e1c7910",
       "tabbable": null,
       "tooltip": null,
       "value": "model.safetensors:  33%"
      }
     },
     "59340cdbc56b4aa3a5cc76bd7e8384cb": {
      "model_module": "@jupyter-widgets/base",
      "model_module_version": "2.0.0",
      "model_name": "LayoutModel",
      "state": {
       "_model_module": "@jupyter-widgets/base",
       "_model_module_version": "2.0.0",
       "_model_name": "LayoutModel",
       "_view_count": null,
       "_view_module": "@jupyter-widgets/base",
       "_view_module_version": "2.0.0",
       "_view_name": "LayoutView",
       "align_content": null,
       "align_items": null,
       "align_self": null,
       "border_bottom": null,
       "border_left": null,
       "border_right": null,
       "border_top": null,
       "bottom": null,
       "display": null,
       "flex": null,
       "flex_flow": null,
       "grid_area": null,
       "grid_auto_columns": null,
       "grid_auto_flow": null,
       "grid_auto_rows": null,
       "grid_column": null,
       "grid_gap": null,
       "grid_row": null,
       "grid_template_areas": null,
       "grid_template_columns": null,
       "grid_template_rows": null,
       "height": null,
       "justify_content": null,
       "justify_items": null,
       "left": null,
       "margin": null,
       "max_height": null,
       "max_width": null,
       "min_height": null,
       "min_width": null,
       "object_fit": null,
       "object_position": null,
       "order": null,
       "overflow": null,
       "padding": null,
       "right": null,
       "top": null,
       "visibility": null,
       "width": null
      }
     },
     "5a8312034abf490b92a15cfe300f046a": {
      "model_module": "@jupyter-widgets/controls",
      "model_module_version": "2.0.0",
      "model_name": "ProgressStyleModel",
      "state": {
       "_model_module": "@jupyter-widgets/controls",
       "_model_module_version": "2.0.0",
       "_model_name": "ProgressStyleModel",
       "_view_count": null,
       "_view_module": "@jupyter-widgets/base",
       "_view_module_version": "2.0.0",
       "_view_name": "StyleView",
       "bar_color": null,
       "description_width": ""
      }
     },
     "5aeadf8b5eaa4be798130da346ba6c25": {
      "model_module": "@jupyter-widgets/base",
      "model_module_version": "2.0.0",
      "model_name": "LayoutModel",
      "state": {
       "_model_module": "@jupyter-widgets/base",
       "_model_module_version": "2.0.0",
       "_model_name": "LayoutModel",
       "_view_count": null,
       "_view_module": "@jupyter-widgets/base",
       "_view_module_version": "2.0.0",
       "_view_name": "LayoutView",
       "align_content": null,
       "align_items": null,
       "align_self": null,
       "border_bottom": null,
       "border_left": null,
       "border_right": null,
       "border_top": null,
       "bottom": null,
       "display": null,
       "flex": null,
       "flex_flow": null,
       "grid_area": null,
       "grid_auto_columns": null,
       "grid_auto_flow": null,
       "grid_auto_rows": null,
       "grid_column": null,
       "grid_gap": null,
       "grid_row": null,
       "grid_template_areas": null,
       "grid_template_columns": null,
       "grid_template_rows": null,
       "height": null,
       "justify_content": null,
       "justify_items": null,
       "left": null,
       "margin": null,
       "max_height": null,
       "max_width": null,
       "min_height": null,
       "min_width": null,
       "object_fit": null,
       "object_position": null,
       "order": null,
       "overflow": null,
       "padding": null,
       "right": null,
       "top": null,
       "visibility": null,
       "width": null
      }
     },
     "5bda3a83377746779aab878e4e1c7910": {
      "model_module": "@jupyter-widgets/controls",
      "model_module_version": "2.0.0",
      "model_name": "HTMLStyleModel",
      "state": {
       "_model_module": "@jupyter-widgets/controls",
       "_model_module_version": "2.0.0",
       "_model_name": "HTMLStyleModel",
       "_view_count": null,
       "_view_module": "@jupyter-widgets/base",
       "_view_module_version": "2.0.0",
       "_view_name": "StyleView",
       "background": null,
       "description_width": "",
       "font_size": null,
       "text_color": null
      }
     },
     "5dbd093dceb14a7988e5c1044783d531": {
      "model_module": "@jupyter-widgets/base",
      "model_module_version": "2.0.0",
      "model_name": "LayoutModel",
      "state": {
       "_model_module": "@jupyter-widgets/base",
       "_model_module_version": "2.0.0",
       "_model_name": "LayoutModel",
       "_view_count": null,
       "_view_module": "@jupyter-widgets/base",
       "_view_module_version": "2.0.0",
       "_view_name": "LayoutView",
       "align_content": null,
       "align_items": null,
       "align_self": null,
       "border_bottom": null,
       "border_left": null,
       "border_right": null,
       "border_top": null,
       "bottom": null,
       "display": null,
       "flex": null,
       "flex_flow": null,
       "grid_area": null,
       "grid_auto_columns": null,
       "grid_auto_flow": null,
       "grid_auto_rows": null,
       "grid_column": null,
       "grid_gap": null,
       "grid_row": null,
       "grid_template_areas": null,
       "grid_template_columns": null,
       "grid_template_rows": null,
       "height": null,
       "justify_content": null,
       "justify_items": null,
       "left": null,
       "margin": null,
       "max_height": null,
       "max_width": null,
       "min_height": null,
       "min_width": null,
       "object_fit": null,
       "object_position": null,
       "order": null,
       "overflow": null,
       "padding": null,
       "right": null,
       "top": null,
       "visibility": null,
       "width": null
      }
     },
     "627e57fb54f140bc87633edb3b38de50": {
      "model_module": "@jupyter-widgets/controls",
      "model_module_version": "2.0.0",
      "model_name": "HTMLModel",
      "state": {
       "_dom_classes": [],
       "_model_module": "@jupyter-widgets/controls",
       "_model_module_version": "2.0.0",
       "_model_name": "HTMLModel",
       "_view_count": null,
       "_view_module": "@jupyter-widgets/controls",
       "_view_module_version": "2.0.0",
       "_view_name": "HTMLView",
       "description": "",
       "description_allow_html": false,
       "layout": "IPY_MODEL_eced3680c63948f09ea0e9ee6f4b9a6f",
       "placeholder": "​",
       "style": "IPY_MODEL_0a6320c8dbd34109b8f4ccb2cd4c38b2",
       "tabbable": null,
       "tooltip": null,
       "value": " 1.39k/1.39k [00:00&lt;00:00, 159kB/s]"
      }
     },
     "6e002a7a0bdf419aaaaebb021d17161d": {
      "model_module": "@jupyter-widgets/controls",
      "model_module_version": "2.0.0",
      "model_name": "HTMLStyleModel",
      "state": {
       "_model_module": "@jupyter-widgets/controls",
       "_model_module_version": "2.0.0",
       "_model_name": "HTMLStyleModel",
       "_view_count": null,
       "_view_module": "@jupyter-widgets/base",
       "_view_module_version": "2.0.0",
       "_view_name": "StyleView",
       "background": null,
       "description_width": "",
       "font_size": null,
       "text_color": null
      }
     },
     "6efb512f64594b0db3bf116a796aec04": {
      "model_module": "@jupyter-widgets/controls",
      "model_module_version": "2.0.0",
      "model_name": "HTMLStyleModel",
      "state": {
       "_model_module": "@jupyter-widgets/controls",
       "_model_module_version": "2.0.0",
       "_model_name": "HTMLStyleModel",
       "_view_count": null,
       "_view_module": "@jupyter-widgets/base",
       "_view_module_version": "2.0.0",
       "_view_name": "StyleView",
       "background": null,
       "description_width": "",
       "font_size": null,
       "text_color": null
      }
     },
     "706072441a38417d9a2cfa3fe6e39fb7": {
      "model_module": "@jupyter-widgets/base",
      "model_module_version": "2.0.0",
      "model_name": "LayoutModel",
      "state": {
       "_model_module": "@jupyter-widgets/base",
       "_model_module_version": "2.0.0",
       "_model_name": "LayoutModel",
       "_view_count": null,
       "_view_module": "@jupyter-widgets/base",
       "_view_module_version": "2.0.0",
       "_view_name": "LayoutView",
       "align_content": null,
       "align_items": null,
       "align_self": null,
       "border_bottom": null,
       "border_left": null,
       "border_right": null,
       "border_top": null,
       "bottom": null,
       "display": null,
       "flex": null,
       "flex_flow": null,
       "grid_area": null,
       "grid_auto_columns": null,
       "grid_auto_flow": null,
       "grid_auto_rows": null,
       "grid_column": null,
       "grid_gap": null,
       "grid_row": null,
       "grid_template_areas": null,
       "grid_template_columns": null,
       "grid_template_rows": null,
       "height": null,
       "justify_content": null,
       "justify_items": null,
       "left": null,
       "margin": null,
       "max_height": null,
       "max_width": null,
       "min_height": null,
       "min_width": null,
       "object_fit": null,
       "object_position": null,
       "order": null,
       "overflow": null,
       "padding": null,
       "right": null,
       "top": null,
       "visibility": null,
       "width": null
      }
     },
     "70d40a6357a0481ba6d7c762a6b61e55": {
      "model_module": "@jupyter-widgets/base",
      "model_module_version": "2.0.0",
      "model_name": "LayoutModel",
      "state": {
       "_model_module": "@jupyter-widgets/base",
       "_model_module_version": "2.0.0",
       "_model_name": "LayoutModel",
       "_view_count": null,
       "_view_module": "@jupyter-widgets/base",
       "_view_module_version": "2.0.0",
       "_view_name": "LayoutView",
       "align_content": null,
       "align_items": null,
       "align_self": null,
       "border_bottom": null,
       "border_left": null,
       "border_right": null,
       "border_top": null,
       "bottom": null,
       "display": null,
       "flex": null,
       "flex_flow": null,
       "grid_area": null,
       "grid_auto_columns": null,
       "grid_auto_flow": null,
       "grid_auto_rows": null,
       "grid_column": null,
       "grid_gap": null,
       "grid_row": null,
       "grid_template_areas": null,
       "grid_template_columns": null,
       "grid_template_rows": null,
       "height": null,
       "justify_content": null,
       "justify_items": null,
       "left": null,
       "margin": null,
       "max_height": null,
       "max_width": null,
       "min_height": null,
       "min_width": null,
       "object_fit": null,
       "object_position": null,
       "order": null,
       "overflow": null,
       "padding": null,
       "right": null,
       "top": null,
       "visibility": null,
       "width": null
      }
     },
     "710a2a60765242389abf1ac141a31394": {
      "model_module": "@jupyter-widgets/controls",
      "model_module_version": "2.0.0",
      "model_name": "HTMLModel",
      "state": {
       "_dom_classes": [],
       "_model_module": "@jupyter-widgets/controls",
       "_model_module_version": "2.0.0",
       "_model_name": "HTMLModel",
       "_view_count": null,
       "_view_module": "@jupyter-widgets/controls",
       "_view_module_version": "2.0.0",
       "_view_name": "HTMLView",
       "description": "",
       "description_allow_html": false,
       "layout": "IPY_MODEL_706072441a38417d9a2cfa3fe6e39fb7",
       "placeholder": "​",
       "style": "IPY_MODEL_444d066cb25b4d20a783e1bd264fe7e1",
       "tabbable": null,
       "tooltip": null,
       "value": " 4000/4000 [00:01&lt;00:00, 3245.39 examples/s]"
      }
     },
     "7398f303c31048ac8d144bea49b715f7": {
      "model_module": "@jupyter-widgets/controls",
      "model_module_version": "2.0.0",
      "model_name": "FloatProgressModel",
      "state": {
       "_dom_classes": [],
       "_model_module": "@jupyter-widgets/controls",
       "_model_module_version": "2.0.0",
       "_model_name": "FloatProgressModel",
       "_view_count": null,
       "_view_module": "@jupyter-widgets/controls",
       "_view_module_version": "2.0.0",
       "_view_name": "ProgressView",
       "bar_style": "success",
       "description": "",
       "description_allow_html": false,
       "layout": "IPY_MODEL_222fdc22fac64a7ba41b01a6114347ee",
       "max": 293,
       "min": 0,
       "orientation": "horizontal",
       "style": "IPY_MODEL_95d4086d1e13480b989fea895612565c",
       "tabbable": null,
       "tooltip": null,
       "value": 293
      }
     },
     "73d1966875f64268bf02666895c900bf": {
      "model_module": "@jupyter-widgets/base",
      "model_module_version": "2.0.0",
      "model_name": "LayoutModel",
      "state": {
       "_model_module": "@jupyter-widgets/base",
       "_model_module_version": "2.0.0",
       "_model_name": "LayoutModel",
       "_view_count": null,
       "_view_module": "@jupyter-widgets/base",
       "_view_module_version": "2.0.0",
       "_view_name": "LayoutView",
       "align_content": null,
       "align_items": null,
       "align_self": null,
       "border_bottom": null,
       "border_left": null,
       "border_right": null,
       "border_top": null,
       "bottom": null,
       "display": null,
       "flex": null,
       "flex_flow": null,
       "grid_area": null,
       "grid_auto_columns": null,
       "grid_auto_flow": null,
       "grid_auto_rows": null,
       "grid_column": null,
       "grid_gap": null,
       "grid_row": null,
       "grid_template_areas": null,
       "grid_template_columns": null,
       "grid_template_rows": null,
       "height": null,
       "justify_content": null,
       "justify_items": null,
       "left": null,
       "margin": null,
       "max_height": null,
       "max_width": null,
       "min_height": null,
       "min_width": null,
       "object_fit": null,
       "object_position": null,
       "order": null,
       "overflow": null,
       "padding": null,
       "right": null,
       "top": null,
       "visibility": null,
       "width": null
      }
     },
     "76b43573cf224e9f8b60bcb7e1fddc91": {
      "model_module": "@jupyter-widgets/controls",
      "model_module_version": "2.0.0",
      "model_name": "HTMLModel",
      "state": {
       "_dom_classes": [],
       "_model_module": "@jupyter-widgets/controls",
       "_model_module_version": "2.0.0",
       "_model_name": "HTMLModel",
       "_view_count": null,
       "_view_module": "@jupyter-widgets/controls",
       "_view_module_version": "2.0.0",
       "_view_name": "HTMLView",
       "description": "",
       "description_allow_html": false,
       "layout": "IPY_MODEL_aa746ac92dfc461299627a3f8ca09298",
       "placeholder": "​",
       "style": "IPY_MODEL_6e002a7a0bdf419aaaaebb021d17161d",
       "tabbable": null,
       "tooltip": null,
       "value": "config.json: 100%"
      }
     },
     "76c29a7e152347d792d621615f58cd9c": {
      "model_module": "@jupyter-widgets/controls",
      "model_module_version": "2.0.0",
      "model_name": "HTMLStyleModel",
      "state": {
       "_model_module": "@jupyter-widgets/controls",
       "_model_module_version": "2.0.0",
       "_model_name": "HTMLStyleModel",
       "_view_count": null,
       "_view_module": "@jupyter-widgets/base",
       "_view_module_version": "2.0.0",
       "_view_name": "StyleView",
       "background": null,
       "description_width": "",
       "font_size": null,
       "text_color": null
      }
     },
     "7760da80d4bb4d5a9bc4956711e1c2d4": {
      "model_module": "@jupyter-widgets/controls",
      "model_module_version": "2.0.0",
      "model_name": "HTMLModel",
      "state": {
       "_dom_classes": [],
       "_model_module": "@jupyter-widgets/controls",
       "_model_module_version": "2.0.0",
       "_model_name": "HTMLModel",
       "_view_count": null,
       "_view_module": "@jupyter-widgets/controls",
       "_view_module_version": "2.0.0",
       "_view_name": "HTMLView",
       "description": "",
       "description_allow_html": false,
       "layout": "IPY_MODEL_440b9337b366491f91f7068ad764e28b",
       "placeholder": "​",
       "style": "IPY_MODEL_a0bc5ec36d574fc6b623066cff070f18",
       "tabbable": null,
       "tooltip": null,
       "value": "Map: 100%"
      }
     },
     "7885cacc874547458910af3b37ea65f9": {
      "model_module": "@jupyter-widgets/base",
      "model_module_version": "2.0.0",
      "model_name": "LayoutModel",
      "state": {
       "_model_module": "@jupyter-widgets/base",
       "_model_module_version": "2.0.0",
       "_model_name": "LayoutModel",
       "_view_count": null,
       "_view_module": "@jupyter-widgets/base",
       "_view_module_version": "2.0.0",
       "_view_name": "LayoutView",
       "align_content": null,
       "align_items": null,
       "align_self": null,
       "border_bottom": null,
       "border_left": null,
       "border_right": null,
       "border_top": null,
       "bottom": null,
       "display": null,
       "flex": null,
       "flex_flow": null,
       "grid_area": null,
       "grid_auto_columns": null,
       "grid_auto_flow": null,
       "grid_auto_rows": null,
       "grid_column": null,
       "grid_gap": null,
       "grid_row": null,
       "grid_template_areas": null,
       "grid_template_columns": null,
       "grid_template_rows": null,
       "height": null,
       "justify_content": null,
       "justify_items": null,
       "left": null,
       "margin": null,
       "max_height": null,
       "max_width": null,
       "min_height": null,
       "min_width": null,
       "object_fit": null,
       "object_position": null,
       "order": null,
       "overflow": null,
       "padding": null,
       "right": null,
       "top": null,
       "visibility": null,
       "width": null
      }
     },
     "7a549ff03fef409887b0a4d64345ed07": {
      "model_module": "@jupyter-widgets/base",
      "model_module_version": "2.0.0",
      "model_name": "LayoutModel",
      "state": {
       "_model_module": "@jupyter-widgets/base",
       "_model_module_version": "2.0.0",
       "_model_name": "LayoutModel",
       "_view_count": null,
       "_view_module": "@jupyter-widgets/base",
       "_view_module_version": "2.0.0",
       "_view_name": "LayoutView",
       "align_content": null,
       "align_items": null,
       "align_self": null,
       "border_bottom": null,
       "border_left": null,
       "border_right": null,
       "border_top": null,
       "bottom": null,
       "display": null,
       "flex": null,
       "flex_flow": null,
       "grid_area": null,
       "grid_auto_columns": null,
       "grid_auto_flow": null,
       "grid_auto_rows": null,
       "grid_column": null,
       "grid_gap": null,
       "grid_row": null,
       "grid_template_areas": null,
       "grid_template_columns": null,
       "grid_template_rows": null,
       "height": null,
       "justify_content": null,
       "justify_items": null,
       "left": null,
       "margin": null,
       "max_height": null,
       "max_width": null,
       "min_height": null,
       "min_width": null,
       "object_fit": null,
       "object_position": null,
       "order": null,
       "overflow": null,
       "padding": null,
       "right": null,
       "top": null,
       "visibility": null,
       "width": null
      }
     },
     "7ae96ab36cf34e859d22c05ac8852294": {
      "model_module": "@jupyter-widgets/controls",
      "model_module_version": "2.0.0",
      "model_name": "HTMLModel",
      "state": {
       "_dom_classes": [],
       "_model_module": "@jupyter-widgets/controls",
       "_model_module_version": "2.0.0",
       "_model_name": "HTMLModel",
       "_view_count": null,
       "_view_module": "@jupyter-widgets/controls",
       "_view_module_version": "2.0.0",
       "_view_name": "HTMLView",
       "description": "",
       "description_allow_html": false,
       "layout": "IPY_MODEL_03cc88c6de734ef58bf640ffc5cd18ef",
       "placeholder": "​",
       "style": "IPY_MODEL_808d3d46e21942babe8a325360d6435c",
       "tabbable": null,
       "tooltip": null,
       "value": " 1000/1000 [05:31&lt;00:00,  4.05it/s]"
      }
     },
     "7afe03733db649c5a91e7dc8983b4f49": {
      "model_module": "@jupyter-widgets/controls",
      "model_module_version": "2.0.0",
      "model_name": "ProgressStyleModel",
      "state": {
       "_model_module": "@jupyter-widgets/controls",
       "_model_module_version": "2.0.0",
       "_model_name": "ProgressStyleModel",
       "_view_count": null,
       "_view_module": "@jupyter-widgets/base",
       "_view_module_version": "2.0.0",
       "_view_name": "StyleView",
       "bar_color": null,
       "description_width": ""
      }
     },
     "7b081dc48c4e46cba9257528cbb08376": {
      "model_module": "@jupyter-widgets/controls",
      "model_module_version": "2.0.0",
      "model_name": "HTMLModel",
      "state": {
       "_dom_classes": [],
       "_model_module": "@jupyter-widgets/controls",
       "_model_module_version": "2.0.0",
       "_model_name": "HTMLModel",
       "_view_count": null,
       "_view_module": "@jupyter-widgets/controls",
       "_view_module_version": "2.0.0",
       "_view_name": "HTMLView",
       "description": "",
       "description_allow_html": false,
       "layout": "IPY_MODEL_d65521917832436f9a1a3846e2fd7b24",
       "placeholder": "​",
       "style": "IPY_MODEL_55c43ee44a8844419d9bea892d2c73df",
       "tabbable": null,
       "tooltip": null,
       "value": "tokenizer_config.json: 100%"
      }
     },
     "7ba5795c567c43bf9fbdee11d6fdab43": {
      "model_module": "@jupyter-widgets/controls",
      "model_module_version": "2.0.0",
      "model_name": "HTMLStyleModel",
      "state": {
       "_model_module": "@jupyter-widgets/controls",
       "_model_module_version": "2.0.0",
       "_model_name": "HTMLStyleModel",
       "_view_count": null,
       "_view_module": "@jupyter-widgets/base",
       "_view_module_version": "2.0.0",
       "_view_name": "StyleView",
       "background": null,
       "description_width": "",
       "font_size": null,
       "text_color": null
      }
     },
     "808d3d46e21942babe8a325360d6435c": {
      "model_module": "@jupyter-widgets/controls",
      "model_module_version": "2.0.0",
      "model_name": "HTMLStyleModel",
      "state": {
       "_model_module": "@jupyter-widgets/controls",
       "_model_module_version": "2.0.0",
       "_model_name": "HTMLStyleModel",
       "_view_count": null,
       "_view_module": "@jupyter-widgets/base",
       "_view_module_version": "2.0.0",
       "_view_name": "StyleView",
       "background": null,
       "description_width": "",
       "font_size": null,
       "text_color": null
      }
     },
     "8182b22e0abc47f2a732d60d3bf7e70e": {
      "model_module": "@jupyter-widgets/controls",
      "model_module_version": "2.0.0",
      "model_name": "HTMLModel",
      "state": {
       "_dom_classes": [],
       "_model_module": "@jupyter-widgets/controls",
       "_model_module_version": "2.0.0",
       "_model_name": "HTMLModel",
       "_view_count": null,
       "_view_module": "@jupyter-widgets/controls",
       "_view_module_version": "2.0.0",
       "_view_name": "HTMLView",
       "description": "",
       "description_allow_html": false,
       "layout": "IPY_MODEL_73d1966875f64268bf02666895c900bf",
       "placeholder": "​",
       "style": "IPY_MODEL_c05465acb4dd483ba3e696c797af95c7",
       "tabbable": null,
       "tooltip": null,
       "value": " 756k/756k [00:00&lt;00:00, 3.14MB/s]"
      }
     },
     "82dd90c1d4084b148d613f60d917ae48": {
      "model_module": "@jupyter-widgets/base",
      "model_module_version": "2.0.0",
      "model_name": "LayoutModel",
      "state": {
       "_model_module": "@jupyter-widgets/base",
       "_model_module_version": "2.0.0",
       "_model_name": "LayoutModel",
       "_view_count": null,
       "_view_module": "@jupyter-widgets/base",
       "_view_module_version": "2.0.0",
       "_view_name": "LayoutView",
       "align_content": null,
       "align_items": null,
       "align_self": null,
       "border_bottom": null,
       "border_left": null,
       "border_right": null,
       "border_top": null,
       "bottom": null,
       "display": null,
       "flex": null,
       "flex_flow": null,
       "grid_area": null,
       "grid_auto_columns": null,
       "grid_auto_flow": null,
       "grid_auto_rows": null,
       "grid_column": null,
       "grid_gap": null,
       "grid_row": null,
       "grid_template_areas": null,
       "grid_template_columns": null,
       "grid_template_rows": null,
       "height": null,
       "justify_content": null,
       "justify_items": null,
       "left": null,
       "margin": null,
       "max_height": null,
       "max_width": null,
       "min_height": null,
       "min_width": null,
       "object_fit": null,
       "object_position": null,
       "order": null,
       "overflow": null,
       "padding": null,
       "right": null,
       "top": null,
       "visibility": null,
       "width": null
      }
     },
     "83ab6ac99c154c8aa20f2f24a1a18ada": {
      "model_module": "@jupyter-widgets/controls",
      "model_module_version": "2.0.0",
      "model_name": "HTMLStyleModel",
      "state": {
       "_model_module": "@jupyter-widgets/controls",
       "_model_module_version": "2.0.0",
       "_model_name": "HTMLStyleModel",
       "_view_count": null,
       "_view_module": "@jupyter-widgets/base",
       "_view_module_version": "2.0.0",
       "_view_name": "StyleView",
       "background": null,
       "description_width": "",
       "font_size": null,
       "text_color": null
      }
     },
     "86800e0da8f4451280523b86dd28a787": {
      "model_module": "@jupyter-widgets/controls",
      "model_module_version": "2.0.0",
      "model_name": "HTMLModel",
      "state": {
       "_dom_classes": [],
       "_model_module": "@jupyter-widgets/controls",
       "_model_module_version": "2.0.0",
       "_model_name": "HTMLModel",
       "_view_count": null,
       "_view_module": "@jupyter-widgets/controls",
       "_view_module_version": "2.0.0",
       "_view_name": "HTMLView",
       "description": "",
       "description_allow_html": false,
       "layout": "IPY_MODEL_2f4efb71d7d74664baee2a4518d89b02",
       "placeholder": "​",
       "style": "IPY_MODEL_b8647479ee93483089a08e090b739447",
       "tabbable": null,
       "tooltip": null,
       "value": " 8347/8347 [00:04&lt;00:00, 1970.79 examples/s]"
      }
     },
     "892cf77a85fa4aefabc7e5cc700c2854": {
      "model_module": "@jupyter-widgets/controls",
      "model_module_version": "2.0.0",
      "model_name": "HBoxModel",
      "state": {
       "_dom_classes": [],
       "_model_module": "@jupyter-widgets/controls",
       "_model_module_version": "2.0.0",
       "_model_name": "HBoxModel",
       "_view_count": null,
       "_view_module": "@jupyter-widgets/controls",
       "_view_module_version": "2.0.0",
       "_view_name": "HBoxView",
       "box_style": "",
       "children": [
        "IPY_MODEL_aefba6e0fa1c437593c1f2cbcc1bb9b3",
        "IPY_MODEL_7398f303c31048ac8d144bea49b715f7",
        "IPY_MODEL_c9f5637ad0574f21b8e39f6b49de4dc5"
       ],
       "layout": "IPY_MODEL_59340cdbc56b4aa3a5cc76bd7e8384cb",
       "tabbable": null,
       "tooltip": null
      }
     },
     "8b854e677cb6408bbd197e3f96008b25": {
      "model_module": "@jupyter-widgets/controls",
      "model_module_version": "2.0.0",
      "model_name": "HTMLStyleModel",
      "state": {
       "_model_module": "@jupyter-widgets/controls",
       "_model_module_version": "2.0.0",
       "_model_name": "HTMLStyleModel",
       "_view_count": null,
       "_view_module": "@jupyter-widgets/base",
       "_view_module_version": "2.0.0",
       "_view_name": "StyleView",
       "background": null,
       "description_width": "",
       "font_size": null,
       "text_color": null
      }
     },
     "90c0e77a599c41a8bdbca6b2442a5ca0": {
      "model_module": "@jupyter-widgets/controls",
      "model_module_version": "2.0.0",
      "model_name": "HTMLModel",
      "state": {
       "_dom_classes": [],
       "_model_module": "@jupyter-widgets/controls",
       "_model_module_version": "2.0.0",
       "_model_name": "HTMLModel",
       "_view_count": null,
       "_view_module": "@jupyter-widgets/controls",
       "_view_module_version": "2.0.0",
       "_view_name": "HTMLView",
       "description": "",
       "description_allow_html": false,
       "layout": "IPY_MODEL_b6892677c4da45dfba56187382ba56d1",
       "placeholder": "​",
       "style": "IPY_MODEL_7ba5795c567c43bf9fbdee11d6fdab43",
       "tabbable": null,
       "tooltip": null,
       "value": "source.spm: 100%"
      }
     },
     "91a9e8f5afb04857824796aa5cd937f3": {
      "model_module": "@jupyter-widgets/base",
      "model_module_version": "2.0.0",
      "model_name": "LayoutModel",
      "state": {
       "_model_module": "@jupyter-widgets/base",
       "_model_module_version": "2.0.0",
       "_model_name": "LayoutModel",
       "_view_count": null,
       "_view_module": "@jupyter-widgets/base",
       "_view_module_version": "2.0.0",
       "_view_name": "LayoutView",
       "align_content": null,
       "align_items": null,
       "align_self": null,
       "border_bottom": null,
       "border_left": null,
       "border_right": null,
       "border_top": null,
       "bottom": null,
       "display": null,
       "flex": null,
       "flex_flow": null,
       "grid_area": null,
       "grid_auto_columns": null,
       "grid_auto_flow": null,
       "grid_auto_rows": null,
       "grid_column": null,
       "grid_gap": null,
       "grid_row": null,
       "grid_template_areas": null,
       "grid_template_columns": null,
       "grid_template_rows": null,
       "height": null,
       "justify_content": null,
       "justify_items": null,
       "left": null,
       "margin": null,
       "max_height": null,
       "max_width": null,
       "min_height": null,
       "min_width": null,
       "object_fit": null,
       "object_position": null,
       "order": null,
       "overflow": null,
       "padding": null,
       "right": null,
       "top": null,
       "visibility": null,
       "width": null
      }
     },
     "928b11b97c3840778df2697cc647736a": {
      "model_module": "@jupyter-widgets/controls",
      "model_module_version": "2.0.0",
      "model_name": "ProgressStyleModel",
      "state": {
       "_model_module": "@jupyter-widgets/controls",
       "_model_module_version": "2.0.0",
       "_model_name": "ProgressStyleModel",
       "_view_count": null,
       "_view_module": "@jupyter-widgets/base",
       "_view_module_version": "2.0.0",
       "_view_name": "StyleView",
       "bar_color": null,
       "description_width": ""
      }
     },
     "94d1a8578d0c4f0b873192f91df84c14": {
      "model_module": "@jupyter-widgets/controls",
      "model_module_version": "2.0.0",
      "model_name": "HTMLModel",
      "state": {
       "_dom_classes": [],
       "_model_module": "@jupyter-widgets/controls",
       "_model_module_version": "2.0.0",
       "_model_name": "HTMLModel",
       "_view_count": null,
       "_view_module": "@jupyter-widgets/controls",
       "_view_module_version": "2.0.0",
       "_view_name": "HTMLView",
       "description": "",
       "description_allow_html": false,
       "layout": "IPY_MODEL_31b3bcd407b64af881e9b6df0cb46f6f",
       "placeholder": "​",
       "style": "IPY_MODEL_a7c2c4e39a144b82b1195a8b707a0344",
       "tabbable": null,
       "tooltip": null,
       "value": " 289M/289M [00:00&lt;00:00, 393MB/s]"
      }
     },
     "95d4086d1e13480b989fea895612565c": {
      "model_module": "@jupyter-widgets/controls",
      "model_module_version": "2.0.0",
      "model_name": "ProgressStyleModel",
      "state": {
       "_model_module": "@jupyter-widgets/controls",
       "_model_module_version": "2.0.0",
       "_model_name": "ProgressStyleModel",
       "_view_count": null,
       "_view_module": "@jupyter-widgets/base",
       "_view_module_version": "2.0.0",
       "_view_name": "StyleView",
       "bar_color": null,
       "description_width": ""
      }
     },
     "98b4c9373f1140f68f9be066414e439d": {
      "model_module": "@jupyter-widgets/base",
      "model_module_version": "2.0.0",
      "model_name": "LayoutModel",
      "state": {
       "_model_module": "@jupyter-widgets/base",
       "_model_module_version": "2.0.0",
       "_model_name": "LayoutModel",
       "_view_count": null,
       "_view_module": "@jupyter-widgets/base",
       "_view_module_version": "2.0.0",
       "_view_name": "LayoutView",
       "align_content": null,
       "align_items": null,
       "align_self": null,
       "border_bottom": null,
       "border_left": null,
       "border_right": null,
       "border_top": null,
       "bottom": null,
       "display": null,
       "flex": null,
       "flex_flow": null,
       "grid_area": null,
       "grid_auto_columns": null,
       "grid_auto_flow": null,
       "grid_auto_rows": null,
       "grid_column": null,
       "grid_gap": null,
       "grid_row": null,
       "grid_template_areas": null,
       "grid_template_columns": null,
       "grid_template_rows": null,
       "height": null,
       "justify_content": null,
       "justify_items": null,
       "left": null,
       "margin": null,
       "max_height": null,
       "max_width": null,
       "min_height": null,
       "min_width": null,
       "object_fit": null,
       "object_position": null,
       "order": null,
       "overflow": null,
       "padding": null,
       "right": null,
       "top": null,
       "visibility": null,
       "width": null
      }
     },
     "9c475bf145da48db96eaff5fdf8db2d4": {
      "model_module": "@jupyter-widgets/controls",
      "model_module_version": "2.0.0",
      "model_name": "HBoxModel",
      "state": {
       "_dom_classes": [],
       "_model_module": "@jupyter-widgets/controls",
       "_model_module_version": "2.0.0",
       "_model_name": "HBoxModel",
       "_view_count": null,
       "_view_module": "@jupyter-widgets/controls",
       "_view_module_version": "2.0.0",
       "_view_name": "HBoxView",
       "box_style": "",
       "children": [
        "IPY_MODEL_cffad38230ce49dcb0c71a02feecfdc5",
        "IPY_MODEL_078c656b55a24b5b89b544a493a480d5",
        "IPY_MODEL_94d1a8578d0c4f0b873192f91df84c14"
       ],
       "layout": "IPY_MODEL_e91b6ad76f584c6c9bd6c8220f283795",
       "tabbable": null,
       "tooltip": null
      }
     },
     "a0bc5ec36d574fc6b623066cff070f18": {
      "model_module": "@jupyter-widgets/controls",
      "model_module_version": "2.0.0",
      "model_name": "HTMLStyleModel",
      "state": {
       "_model_module": "@jupyter-widgets/controls",
       "_model_module_version": "2.0.0",
       "_model_name": "HTMLStyleModel",
       "_view_count": null,
       "_view_module": "@jupyter-widgets/base",
       "_view_module_version": "2.0.0",
       "_view_name": "StyleView",
       "background": null,
       "description_width": "",
       "font_size": null,
       "text_color": null
      }
     },
     "a67905c012d3453b8e7dd0ee74753d76": {
      "model_module": "@jupyter-widgets/base",
      "model_module_version": "2.0.0",
      "model_name": "LayoutModel",
      "state": {
       "_model_module": "@jupyter-widgets/base",
       "_model_module_version": "2.0.0",
       "_model_name": "LayoutModel",
       "_view_count": null,
       "_view_module": "@jupyter-widgets/base",
       "_view_module_version": "2.0.0",
       "_view_name": "LayoutView",
       "align_content": null,
       "align_items": null,
       "align_self": null,
       "border_bottom": null,
       "border_left": null,
       "border_right": null,
       "border_top": null,
       "bottom": null,
       "display": null,
       "flex": null,
       "flex_flow": null,
       "grid_area": null,
       "grid_auto_columns": null,
       "grid_auto_flow": null,
       "grid_auto_rows": null,
       "grid_column": null,
       "grid_gap": null,
       "grid_row": null,
       "grid_template_areas": null,
       "grid_template_columns": null,
       "grid_template_rows": null,
       "height": null,
       "justify_content": null,
       "justify_items": null,
       "left": null,
       "margin": null,
       "max_height": null,
       "max_width": null,
       "min_height": null,
       "min_width": null,
       "object_fit": null,
       "object_position": null,
       "order": null,
       "overflow": null,
       "padding": null,
       "right": null,
       "top": null,
       "visibility": null,
       "width": null
      }
     },
     "a72b141cee9a4d7b8c75cd47ff1b05d6": {
      "model_module": "@jupyter-widgets/base",
      "model_module_version": "2.0.0",
      "model_name": "LayoutModel",
      "state": {
       "_model_module": "@jupyter-widgets/base",
       "_model_module_version": "2.0.0",
       "_model_name": "LayoutModel",
       "_view_count": null,
       "_view_module": "@jupyter-widgets/base",
       "_view_module_version": "2.0.0",
       "_view_name": "LayoutView",
       "align_content": null,
       "align_items": null,
       "align_self": null,
       "border_bottom": null,
       "border_left": null,
       "border_right": null,
       "border_top": null,
       "bottom": null,
       "display": null,
       "flex": null,
       "flex_flow": null,
       "grid_area": null,
       "grid_auto_columns": null,
       "grid_auto_flow": null,
       "grid_auto_rows": null,
       "grid_column": null,
       "grid_gap": null,
       "grid_row": null,
       "grid_template_areas": null,
       "grid_template_columns": null,
       "grid_template_rows": null,
       "height": null,
       "justify_content": null,
       "justify_items": null,
       "left": null,
       "margin": null,
       "max_height": null,
       "max_width": null,
       "min_height": null,
       "min_width": null,
       "object_fit": null,
       "object_position": null,
       "order": null,
       "overflow": null,
       "padding": null,
       "right": null,
       "top": null,
       "visibility": null,
       "width": null
      }
     },
     "a7c2c4e39a144b82b1195a8b707a0344": {
      "model_module": "@jupyter-widgets/controls",
      "model_module_version": "2.0.0",
      "model_name": "HTMLStyleModel",
      "state": {
       "_model_module": "@jupyter-widgets/controls",
       "_model_module_version": "2.0.0",
       "_model_name": "HTMLStyleModel",
       "_view_count": null,
       "_view_module": "@jupyter-widgets/base",
       "_view_module_version": "2.0.0",
       "_view_name": "StyleView",
       "background": null,
       "description_width": "",
       "font_size": null,
       "text_color": null
      }
     },
     "aa746ac92dfc461299627a3f8ca09298": {
      "model_module": "@jupyter-widgets/base",
      "model_module_version": "2.0.0",
      "model_name": "LayoutModel",
      "state": {
       "_model_module": "@jupyter-widgets/base",
       "_model_module_version": "2.0.0",
       "_model_name": "LayoutModel",
       "_view_count": null,
       "_view_module": "@jupyter-widgets/base",
       "_view_module_version": "2.0.0",
       "_view_name": "LayoutView",
       "align_content": null,
       "align_items": null,
       "align_self": null,
       "border_bottom": null,
       "border_left": null,
       "border_right": null,
       "border_top": null,
       "bottom": null,
       "display": null,
       "flex": null,
       "flex_flow": null,
       "grid_area": null,
       "grid_auto_columns": null,
       "grid_auto_flow": null,
       "grid_auto_rows": null,
       "grid_column": null,
       "grid_gap": null,
       "grid_row": null,
       "grid_template_areas": null,
       "grid_template_columns": null,
       "grid_template_rows": null,
       "height": null,
       "justify_content": null,
       "justify_items": null,
       "left": null,
       "margin": null,
       "max_height": null,
       "max_width": null,
       "min_height": null,
       "min_width": null,
       "object_fit": null,
       "object_position": null,
       "order": null,
       "overflow": null,
       "padding": null,
       "right": null,
       "top": null,
       "visibility": null,
       "width": null
      }
     },
     "adbd71c154d042678054f419b43b201c": {
      "model_module": "@jupyter-widgets/base",
      "model_module_version": "2.0.0",
      "model_name": "LayoutModel",
      "state": {
       "_model_module": "@jupyter-widgets/base",
       "_model_module_version": "2.0.0",
       "_model_name": "LayoutModel",
       "_view_count": null,
       "_view_module": "@jupyter-widgets/base",
       "_view_module_version": "2.0.0",
       "_view_name": "LayoutView",
       "align_content": null,
       "align_items": null,
       "align_self": null,
       "border_bottom": null,
       "border_left": null,
       "border_right": null,
       "border_top": null,
       "bottom": null,
       "display": null,
       "flex": null,
       "flex_flow": null,
       "grid_area": null,
       "grid_auto_columns": null,
       "grid_auto_flow": null,
       "grid_auto_rows": null,
       "grid_column": null,
       "grid_gap": null,
       "grid_row": null,
       "grid_template_areas": null,
       "grid_template_columns": null,
       "grid_template_rows": null,
       "height": null,
       "justify_content": null,
       "justify_items": null,
       "left": null,
       "margin": null,
       "max_height": null,
       "max_width": null,
       "min_height": null,
       "min_width": null,
       "object_fit": null,
       "object_position": null,
       "order": null,
       "overflow": null,
       "padding": null,
       "right": null,
       "top": null,
       "visibility": null,
       "width": null
      }
     },
     "aed7b5aea901424ca5bef5b1c13f31da": {
      "model_module": "@jupyter-widgets/controls",
      "model_module_version": "2.0.0",
      "model_name": "FloatProgressModel",
      "state": {
       "_dom_classes": [],
       "_model_module": "@jupyter-widgets/controls",
       "_model_module_version": "2.0.0",
       "_model_name": "FloatProgressModel",
       "_view_count": null,
       "_view_module": "@jupyter-widgets/controls",
       "_view_module_version": "2.0.0",
       "_view_name": "ProgressView",
       "bar_style": "success",
       "description": "",
       "description_allow_html": false,
       "layout": "IPY_MODEL_dc5794b6d82e4349b98915ac364c74c8",
       "max": 1000,
       "min": 0,
       "orientation": "horizontal",
       "style": "IPY_MODEL_23f9f91bd0d24106a491564670e8211f",
       "tabbable": null,
       "tooltip": null,
       "value": 1000
      }
     },
     "aefba6e0fa1c437593c1f2cbcc1bb9b3": {
      "model_module": "@jupyter-widgets/controls",
      "model_module_version": "2.0.0",
      "model_name": "HTMLModel",
      "state": {
       "_dom_classes": [],
       "_model_module": "@jupyter-widgets/controls",
       "_model_module_version": "2.0.0",
       "_model_name": "HTMLModel",
       "_view_count": null,
       "_view_module": "@jupyter-widgets/controls",
       "_view_module_version": "2.0.0",
       "_view_name": "HTMLView",
       "description": "",
       "description_allow_html": false,
       "layout": "IPY_MODEL_14bdcef2d10e48b7a02ff519ce6761d7",
       "placeholder": "​",
       "style": "IPY_MODEL_d7a31a3affdb4450a7a479f2dc5211b3",
       "tabbable": null,
       "tooltip": null,
       "value": "generation_config.json: 100%"
      }
     },
     "af50ba80004f4750b522877d4176646c": {
      "model_module": "@jupyter-widgets/controls",
      "model_module_version": "2.0.0",
      "model_name": "HTMLModel",
      "state": {
       "_dom_classes": [],
       "_model_module": "@jupyter-widgets/controls",
       "_model_module_version": "2.0.0",
       "_model_name": "HTMLModel",
       "_view_count": null,
       "_view_module": "@jupyter-widgets/controls",
       "_view_module_version": "2.0.0",
       "_view_name": "HTMLView",
       "description": "",
       "description_allow_html": false,
       "layout": "IPY_MODEL_adbd71c154d042678054f419b43b201c",
       "placeholder": "​",
       "style": "IPY_MODEL_83ab6ac99c154c8aa20f2f24a1a18ada",
       "tabbable": null,
       "tooltip": null,
       "value": "Translating: 100%"
      }
     },
     "b213a1b0454a4a72b9ab93aa543d1c43": {
      "model_module": "@jupyter-widgets/controls",
      "model_module_version": "2.0.0",
      "model_name": "HTMLStyleModel",
      "state": {
       "_model_module": "@jupyter-widgets/controls",
       "_model_module_version": "2.0.0",
       "_model_name": "HTMLStyleModel",
       "_view_count": null,
       "_view_module": "@jupyter-widgets/base",
       "_view_module_version": "2.0.0",
       "_view_name": "StyleView",
       "background": null,
       "description_width": "",
       "font_size": null,
       "text_color": null
      }
     },
     "b3233e725eb349c98fd6a3c519792c89": {
      "model_module": "@jupyter-widgets/controls",
      "model_module_version": "2.0.0",
      "model_name": "ProgressStyleModel",
      "state": {
       "_model_module": "@jupyter-widgets/controls",
       "_model_module_version": "2.0.0",
       "_model_name": "ProgressStyleModel",
       "_view_count": null,
       "_view_module": "@jupyter-widgets/base",
       "_view_module_version": "2.0.0",
       "_view_name": "StyleView",
       "bar_color": null,
       "description_width": ""
      }
     },
     "b33a538d116046bbb63a734a3abdbae1": {
      "model_module": "@jupyter-widgets/controls",
      "model_module_version": "2.0.0",
      "model_name": "HTMLModel",
      "state": {
       "_dom_classes": [],
       "_model_module": "@jupyter-widgets/controls",
       "_model_module_version": "2.0.0",
       "_model_name": "HTMLModel",
       "_view_count": null,
       "_view_module": "@jupyter-widgets/controls",
       "_view_module_version": "2.0.0",
       "_view_name": "HTMLView",
       "description": "",
       "description_allow_html": false,
       "layout": "IPY_MODEL_3df12890bb874a3f9279789a02ee6298",
       "placeholder": "​",
       "style": "IPY_MODEL_d44e11ef448e41758b93f6260342db90",
       "tabbable": null,
       "tooltip": null,
       "value": "vocab.json: 100%"
      }
     },
     "b4d023adaa104a159284657c6d542da5": {
      "model_module": "@jupyter-widgets/base",
      "model_module_version": "2.0.0",
      "model_name": "LayoutModel",
      "state": {
       "_model_module": "@jupyter-widgets/base",
       "_model_module_version": "2.0.0",
       "_model_name": "LayoutModel",
       "_view_count": null,
       "_view_module": "@jupyter-widgets/base",
       "_view_module_version": "2.0.0",
       "_view_name": "LayoutView",
       "align_content": null,
       "align_items": null,
       "align_self": null,
       "border_bottom": null,
       "border_left": null,
       "border_right": null,
       "border_top": null,
       "bottom": null,
       "display": null,
       "flex": null,
       "flex_flow": null,
       "grid_area": null,
       "grid_auto_columns": null,
       "grid_auto_flow": null,
       "grid_auto_rows": null,
       "grid_column": null,
       "grid_gap": null,
       "grid_row": null,
       "grid_template_areas": null,
       "grid_template_columns": null,
       "grid_template_rows": null,
       "height": null,
       "justify_content": null,
       "justify_items": null,
       "left": null,
       "margin": null,
       "max_height": null,
       "max_width": null,
       "min_height": null,
       "min_width": null,
       "object_fit": null,
       "object_position": null,
       "order": null,
       "overflow": null,
       "padding": null,
       "right": null,
       "top": null,
       "visibility": null,
       "width": null
      }
     },
     "b5a9a46e16ad473588a72b0ba87d26fb": {
      "model_module": "@jupyter-widgets/controls",
      "model_module_version": "2.0.0",
      "model_name": "FloatProgressModel",
      "state": {
       "_dom_classes": [],
       "_model_module": "@jupyter-widgets/controls",
       "_model_module_version": "2.0.0",
       "_model_name": "FloatProgressModel",
       "_view_count": null,
       "_view_module": "@jupyter-widgets/controls",
       "_view_module_version": "2.0.0",
       "_view_name": "ProgressView",
       "bar_style": "success",
       "description": "",
       "description_allow_html": false,
       "layout": "IPY_MODEL_da779ad27b7c4140b5adaabdc1eba53e",
       "max": 928,
       "min": 0,
       "orientation": "horizontal",
       "style": "IPY_MODEL_4719da5adbb84cc0a0b4d37652a6aa9d",
       "tabbable": null,
       "tooltip": null,
       "value": 928
      }
     },
     "b5b4269e30624fb99113e2f2b5ee9f1a": {
      "model_module": "@jupyter-widgets/base",
      "model_module_version": "2.0.0",
      "model_name": "LayoutModel",
      "state": {
       "_model_module": "@jupyter-widgets/base",
       "_model_module_version": "2.0.0",
       "_model_name": "LayoutModel",
       "_view_count": null,
       "_view_module": "@jupyter-widgets/base",
       "_view_module_version": "2.0.0",
       "_view_name": "LayoutView",
       "align_content": null,
       "align_items": null,
       "align_self": null,
       "border_bottom": null,
       "border_left": null,
       "border_right": null,
       "border_top": null,
       "bottom": null,
       "display": null,
       "flex": null,
       "flex_flow": null,
       "grid_area": null,
       "grid_auto_columns": null,
       "grid_auto_flow": null,
       "grid_auto_rows": null,
       "grid_column": null,
       "grid_gap": null,
       "grid_row": null,
       "grid_template_areas": null,
       "grid_template_columns": null,
       "grid_template_rows": null,
       "height": null,
       "justify_content": null,
       "justify_items": null,
       "left": null,
       "margin": null,
       "max_height": null,
       "max_width": null,
       "min_height": null,
       "min_width": null,
       "object_fit": null,
       "object_position": null,
       "order": null,
       "overflow": null,
       "padding": null,
       "right": null,
       "top": null,
       "visibility": null,
       "width": null
      }
     },
     "b6892677c4da45dfba56187382ba56d1": {
      "model_module": "@jupyter-widgets/base",
      "model_module_version": "2.0.0",
      "model_name": "LayoutModel",
      "state": {
       "_model_module": "@jupyter-widgets/base",
       "_model_module_version": "2.0.0",
       "_model_name": "LayoutModel",
       "_view_count": null,
       "_view_module": "@jupyter-widgets/base",
       "_view_module_version": "2.0.0",
       "_view_name": "LayoutView",
       "align_content": null,
       "align_items": null,
       "align_self": null,
       "border_bottom": null,
       "border_left": null,
       "border_right": null,
       "border_top": null,
       "bottom": null,
       "display": null,
       "flex": null,
       "flex_flow": null,
       "grid_area": null,
       "grid_auto_columns": null,
       "grid_auto_flow": null,
       "grid_auto_rows": null,
       "grid_column": null,
       "grid_gap": null,
       "grid_row": null,
       "grid_template_areas": null,
       "grid_template_columns": null,
       "grid_template_rows": null,
       "height": null,
       "justify_content": null,
       "justify_items": null,
       "left": null,
       "margin": null,
       "max_height": null,
       "max_width": null,
       "min_height": null,
       "min_width": null,
       "object_fit": null,
       "object_position": null,
       "order": null,
       "overflow": null,
       "padding": null,
       "right": null,
       "top": null,
       "visibility": null,
       "width": null
      }
     },
     "b8647479ee93483089a08e090b739447": {
      "model_module": "@jupyter-widgets/controls",
      "model_module_version": "2.0.0",
      "model_name": "HTMLStyleModel",
      "state": {
       "_model_module": "@jupyter-widgets/controls",
       "_model_module_version": "2.0.0",
       "_model_name": "HTMLStyleModel",
       "_view_count": null,
       "_view_module": "@jupyter-widgets/base",
       "_view_module_version": "2.0.0",
       "_view_name": "StyleView",
       "background": null,
       "description_width": "",
       "font_size": null,
       "text_color": null
      }
     },
     "ba7c7344c68a42eaba44370ebd532e97": {
      "model_module": "@jupyter-widgets/controls",
      "model_module_version": "2.0.0",
      "model_name": "HBoxModel",
      "state": {
       "_dom_classes": [],
       "_model_module": "@jupyter-widgets/controls",
       "_model_module_version": "2.0.0",
       "_model_name": "HBoxModel",
       "_view_count": null,
       "_view_module": "@jupyter-widgets/controls",
       "_view_module_version": "2.0.0",
       "_view_name": "HBoxView",
       "box_style": "",
       "children": [
        "IPY_MODEL_585eb33982774642a266ab7503c56bd6",
        "IPY_MODEL_43c75c62fbc447f2b755e7a4f3ba5e1a",
        "IPY_MODEL_d6ed2b556fbc4e00ad954014a99507de"
       ],
       "layout": "IPY_MODEL_fa122110cd6540eb8fc1bd522650848d",
       "tabbable": null,
       "tooltip": null
      }
     },
     "bbe0aee7b08746f2b55ff2d4f3aa5084": {
      "model_module": "@jupyter-widgets/base",
      "model_module_version": "2.0.0",
      "model_name": "LayoutModel",
      "state": {
       "_model_module": "@jupyter-widgets/base",
       "_model_module_version": "2.0.0",
       "_model_name": "LayoutModel",
       "_view_count": null,
       "_view_module": "@jupyter-widgets/base",
       "_view_module_version": "2.0.0",
       "_view_name": "LayoutView",
       "align_content": null,
       "align_items": null,
       "align_self": null,
       "border_bottom": null,
       "border_left": null,
       "border_right": null,
       "border_top": null,
       "bottom": null,
       "display": null,
       "flex": null,
       "flex_flow": null,
       "grid_area": null,
       "grid_auto_columns": null,
       "grid_auto_flow": null,
       "grid_auto_rows": null,
       "grid_column": null,
       "grid_gap": null,
       "grid_row": null,
       "grid_template_areas": null,
       "grid_template_columns": null,
       "grid_template_rows": null,
       "height": null,
       "justify_content": null,
       "justify_items": null,
       "left": null,
       "margin": null,
       "max_height": null,
       "max_width": null,
       "min_height": null,
       "min_width": null,
       "object_fit": null,
       "object_position": null,
       "order": null,
       "overflow": null,
       "padding": null,
       "right": null,
       "top": null,
       "visibility": null,
       "width": null
      }
     },
     "bc49f07c77e648afa47b5e95f7f33880": {
      "model_module": "@jupyter-widgets/base",
      "model_module_version": "2.0.0",
      "model_name": "LayoutModel",
      "state": {
       "_model_module": "@jupyter-widgets/base",
       "_model_module_version": "2.0.0",
       "_model_name": "LayoutModel",
       "_view_count": null,
       "_view_module": "@jupyter-widgets/base",
       "_view_module_version": "2.0.0",
       "_view_name": "LayoutView",
       "align_content": null,
       "align_items": null,
       "align_self": null,
       "border_bottom": null,
       "border_left": null,
       "border_right": null,
       "border_top": null,
       "bottom": null,
       "display": null,
       "flex": null,
       "flex_flow": null,
       "grid_area": null,
       "grid_auto_columns": null,
       "grid_auto_flow": null,
       "grid_auto_rows": null,
       "grid_column": null,
       "grid_gap": null,
       "grid_row": null,
       "grid_template_areas": null,
       "grid_template_columns": null,
       "grid_template_rows": null,
       "height": null,
       "justify_content": null,
       "justify_items": null,
       "left": null,
       "margin": null,
       "max_height": null,
       "max_width": null,
       "min_height": null,
       "min_width": null,
       "object_fit": null,
       "object_position": null,
       "order": null,
       "overflow": null,
       "padding": null,
       "right": null,
       "top": null,
       "visibility": null,
       "width": null
      }
     },
     "bd6336d2648445e0b1d1da5b5d01314c": {
      "model_module": "@jupyter-widgets/base",
      "model_module_version": "2.0.0",
      "model_name": "LayoutModel",
      "state": {
       "_model_module": "@jupyter-widgets/base",
       "_model_module_version": "2.0.0",
       "_model_name": "LayoutModel",
       "_view_count": null,
       "_view_module": "@jupyter-widgets/base",
       "_view_module_version": "2.0.0",
       "_view_name": "LayoutView",
       "align_content": null,
       "align_items": null,
       "align_self": null,
       "border_bottom": null,
       "border_left": null,
       "border_right": null,
       "border_top": null,
       "bottom": null,
       "display": null,
       "flex": null,
       "flex_flow": null,
       "grid_area": null,
       "grid_auto_columns": null,
       "grid_auto_flow": null,
       "grid_auto_rows": null,
       "grid_column": null,
       "grid_gap": null,
       "grid_row": null,
       "grid_template_areas": null,
       "grid_template_columns": null,
       "grid_template_rows": null,
       "height": null,
       "justify_content": null,
       "justify_items": null,
       "left": null,
       "margin": null,
       "max_height": null,
       "max_width": null,
       "min_height": null,
       "min_width": null,
       "object_fit": null,
       "object_position": null,
       "order": null,
       "overflow": null,
       "padding": null,
       "right": null,
       "top": null,
       "visibility": null,
       "width": null
      }
     },
     "bf437cbe49074ca6943448ab91e03945": {
      "model_module": "@jupyter-widgets/controls",
      "model_module_version": "2.0.0",
      "model_name": "HTMLModel",
      "state": {
       "_dom_classes": [],
       "_model_module": "@jupyter-widgets/controls",
       "_model_module_version": "2.0.0",
       "_model_name": "HTMLModel",
       "_view_count": null,
       "_view_module": "@jupyter-widgets/controls",
       "_view_module_version": "2.0.0",
       "_view_name": "HTMLView",
       "description": "",
       "description_allow_html": false,
       "layout": "IPY_MODEL_1323ccf43e99443683f017410a82fada",
       "placeholder": "​",
       "style": "IPY_MODEL_c6eabf3ff9be4d279e093eb89cfc532b",
       "tabbable": null,
       "tooltip": null,
       "value": " 1.19M/1.19M [00:00&lt;00:00, 4.78MB/s]"
      }
     },
     "c05465acb4dd483ba3e696c797af95c7": {
      "model_module": "@jupyter-widgets/controls",
      "model_module_version": "2.0.0",
      "model_name": "HTMLStyleModel",
      "state": {
       "_model_module": "@jupyter-widgets/controls",
       "_model_module_version": "2.0.0",
       "_model_name": "HTMLStyleModel",
       "_view_count": null,
       "_view_module": "@jupyter-widgets/base",
       "_view_module_version": "2.0.0",
       "_view_name": "StyleView",
       "background": null,
       "description_width": "",
       "font_size": null,
       "text_color": null
      }
     },
     "c36000f7a2ae4c5f99e1f940cffd4042": {
      "model_module": "@jupyter-widgets/controls",
      "model_module_version": "2.0.0",
      "model_name": "HTMLStyleModel",
      "state": {
       "_model_module": "@jupyter-widgets/controls",
       "_model_module_version": "2.0.0",
       "_model_name": "HTMLStyleModel",
       "_view_count": null,
       "_view_module": "@jupyter-widgets/base",
       "_view_module_version": "2.0.0",
       "_view_name": "StyleView",
       "background": null,
       "description_width": "",
       "font_size": null,
       "text_color": null
      }
     },
     "c555300eb1f3409cbf90a424be099305": {
      "model_module": "@jupyter-widgets/controls",
      "model_module_version": "2.0.0",
      "model_name": "FloatProgressModel",
      "state": {
       "_dom_classes": [],
       "_model_module": "@jupyter-widgets/controls",
       "_model_module_version": "2.0.0",
       "_model_name": "FloatProgressModel",
       "_view_count": null,
       "_view_module": "@jupyter-widgets/controls",
       "_view_module_version": "2.0.0",
       "_view_name": "ProgressView",
       "bar_style": "success",
       "description": "",
       "description_allow_html": false,
       "layout": "IPY_MODEL_5dbd093dceb14a7988e5c1044783d531",
       "max": 4000,
       "min": 0,
       "orientation": "horizontal",
       "style": "IPY_MODEL_928b11b97c3840778df2697cc647736a",
       "tabbable": null,
       "tooltip": null,
       "value": 4000
      }
     },
     "c5d979cc3fb54b408feadd277deca04c": {
      "model_module": "@jupyter-widgets/base",
      "model_module_version": "2.0.0",
      "model_name": "LayoutModel",
      "state": {
       "_model_module": "@jupyter-widgets/base",
       "_model_module_version": "2.0.0",
       "_model_name": "LayoutModel",
       "_view_count": null,
       "_view_module": "@jupyter-widgets/base",
       "_view_module_version": "2.0.0",
       "_view_name": "LayoutView",
       "align_content": null,
       "align_items": null,
       "align_self": null,
       "border_bottom": null,
       "border_left": null,
       "border_right": null,
       "border_top": null,
       "bottom": null,
       "display": null,
       "flex": null,
       "flex_flow": null,
       "grid_area": null,
       "grid_auto_columns": null,
       "grid_auto_flow": null,
       "grid_auto_rows": null,
       "grid_column": null,
       "grid_gap": null,
       "grid_row": null,
       "grid_template_areas": null,
       "grid_template_columns": null,
       "grid_template_rows": null,
       "height": null,
       "justify_content": null,
       "justify_items": null,
       "left": null,
       "margin": null,
       "max_height": null,
       "max_width": null,
       "min_height": null,
       "min_width": null,
       "object_fit": null,
       "object_position": null,
       "order": null,
       "overflow": null,
       "padding": null,
       "right": null,
       "top": null,
       "visibility": null,
       "width": null
      }
     },
     "c6aa528fe85d4fa9b048012d44ed8ece": {
      "model_module": "@jupyter-widgets/base",
      "model_module_version": "2.0.0",
      "model_name": "LayoutModel",
      "state": {
       "_model_module": "@jupyter-widgets/base",
       "_model_module_version": "2.0.0",
       "_model_name": "LayoutModel",
       "_view_count": null,
       "_view_module": "@jupyter-widgets/base",
       "_view_module_version": "2.0.0",
       "_view_name": "LayoutView",
       "align_content": null,
       "align_items": null,
       "align_self": null,
       "border_bottom": null,
       "border_left": null,
       "border_right": null,
       "border_top": null,
       "bottom": null,
       "display": null,
       "flex": null,
       "flex_flow": null,
       "grid_area": null,
       "grid_auto_columns": null,
       "grid_auto_flow": null,
       "grid_auto_rows": null,
       "grid_column": null,
       "grid_gap": null,
       "grid_row": null,
       "grid_template_areas": null,
       "grid_template_columns": null,
       "grid_template_rows": null,
       "height": null,
       "justify_content": null,
       "justify_items": null,
       "left": null,
       "margin": null,
       "max_height": null,
       "max_width": null,
       "min_height": null,
       "min_width": null,
       "object_fit": null,
       "object_position": null,
       "order": null,
       "overflow": null,
       "padding": null,
       "right": null,
       "top": null,
       "visibility": null,
       "width": null
      }
     },
     "c6eabf3ff9be4d279e093eb89cfc532b": {
      "model_module": "@jupyter-widgets/controls",
      "model_module_version": "2.0.0",
      "model_name": "HTMLStyleModel",
      "state": {
       "_model_module": "@jupyter-widgets/controls",
       "_model_module_version": "2.0.0",
       "_model_name": "HTMLStyleModel",
       "_view_count": null,
       "_view_module": "@jupyter-widgets/base",
       "_view_module_version": "2.0.0",
       "_view_name": "StyleView",
       "background": null,
       "description_width": "",
       "font_size": null,
       "text_color": null
      }
     },
     "c8ce4d18b8244c63aa08e5885b6401f6": {
      "model_module": "@jupyter-widgets/base",
      "model_module_version": "2.0.0",
      "model_name": "LayoutModel",
      "state": {
       "_model_module": "@jupyter-widgets/base",
       "_model_module_version": "2.0.0",
       "_model_name": "LayoutModel",
       "_view_count": null,
       "_view_module": "@jupyter-widgets/base",
       "_view_module_version": "2.0.0",
       "_view_name": "LayoutView",
       "align_content": null,
       "align_items": null,
       "align_self": null,
       "border_bottom": null,
       "border_left": null,
       "border_right": null,
       "border_top": null,
       "bottom": null,
       "display": null,
       "flex": null,
       "flex_flow": null,
       "grid_area": null,
       "grid_auto_columns": null,
       "grid_auto_flow": null,
       "grid_auto_rows": null,
       "grid_column": null,
       "grid_gap": null,
       "grid_row": null,
       "grid_template_areas": null,
       "grid_template_columns": null,
       "grid_template_rows": null,
       "height": null,
       "justify_content": null,
       "justify_items": null,
       "left": null,
       "margin": null,
       "max_height": null,
       "max_width": null,
       "min_height": null,
       "min_width": null,
       "object_fit": null,
       "object_position": null,
       "order": null,
       "overflow": null,
       "padding": null,
       "right": null,
       "top": null,
       "visibility": null,
       "width": null
      }
     },
     "c9f5637ad0574f21b8e39f6b49de4dc5": {
      "model_module": "@jupyter-widgets/controls",
      "model_module_version": "2.0.0",
      "model_name": "HTMLModel",
      "state": {
       "_dom_classes": [],
       "_model_module": "@jupyter-widgets/controls",
       "_model_module_version": "2.0.0",
       "_model_name": "HTMLModel",
       "_view_count": null,
       "_view_module": "@jupyter-widgets/controls",
       "_view_module_version": "2.0.0",
       "_view_name": "HTMLView",
       "description": "",
       "description_allow_html": false,
       "layout": "IPY_MODEL_c6aa528fe85d4fa9b048012d44ed8ece",
       "placeholder": "​",
       "style": "IPY_MODEL_c36000f7a2ae4c5f99e1f940cffd4042",
       "tabbable": null,
       "tooltip": null,
       "value": " 293/293 [00:00&lt;00:00, 33.8kB/s]"
      }
     },
     "cb180607da7a4da9aa442fce60d5f378": {
      "model_module": "@jupyter-widgets/controls",
      "model_module_version": "2.0.0",
      "model_name": "ProgressStyleModel",
      "state": {
       "_model_module": "@jupyter-widgets/controls",
       "_model_module_version": "2.0.0",
       "_model_name": "ProgressStyleModel",
       "_view_count": null,
       "_view_module": "@jupyter-widgets/base",
       "_view_module_version": "2.0.0",
       "_view_name": "StyleView",
       "bar_color": null,
       "description_width": ""
      }
     },
     "cd73f63cde0c4ccbafe3aca3afa57d9b": {
      "model_module": "@jupyter-widgets/controls",
      "model_module_version": "2.0.0",
      "model_name": "HBoxModel",
      "state": {
       "_dom_classes": [],
       "_model_module": "@jupyter-widgets/controls",
       "_model_module_version": "2.0.0",
       "_model_name": "HBoxModel",
       "_view_count": null,
       "_view_module": "@jupyter-widgets/controls",
       "_view_module_version": "2.0.0",
       "_view_name": "HBoxView",
       "box_style": "",
       "children": [
        "IPY_MODEL_e31f176b18c44410934631d73cf1b6f5",
        "IPY_MODEL_c555300eb1f3409cbf90a424be099305",
        "IPY_MODEL_710a2a60765242389abf1ac141a31394"
       ],
       "layout": "IPY_MODEL_2140a33a38c343dd929fed33f23e357d",
       "tabbable": null,
       "tooltip": null
      }
     },
     "ce1a1cd3f13046dbb3d58cf43eab3fa5": {
      "model_module": "@jupyter-widgets/controls",
      "model_module_version": "2.0.0",
      "model_name": "HBoxModel",
      "state": {
       "_dom_classes": [],
       "_model_module": "@jupyter-widgets/controls",
       "_model_module_version": "2.0.0",
       "_model_name": "HBoxModel",
       "_view_count": null,
       "_view_module": "@jupyter-widgets/controls",
       "_view_module_version": "2.0.0",
       "_view_name": "HBoxView",
       "box_style": "",
       "children": [
        "IPY_MODEL_76b43573cf224e9f8b60bcb7e1fddc91",
        "IPY_MODEL_2b1280fe37a14a92b17877f46998f10a",
        "IPY_MODEL_627e57fb54f140bc87633edb3b38de50"
       ],
       "layout": "IPY_MODEL_a72b141cee9a4d7b8c75cd47ff1b05d6",
       "tabbable": null,
       "tooltip": null
      }
     },
     "cffad38230ce49dcb0c71a02feecfdc5": {
      "model_module": "@jupyter-widgets/controls",
      "model_module_version": "2.0.0",
      "model_name": "HTMLModel",
      "state": {
       "_dom_classes": [],
       "_model_module": "@jupyter-widgets/controls",
       "_model_module_version": "2.0.0",
       "_model_name": "HTMLModel",
       "_view_count": null,
       "_view_module": "@jupyter-widgets/controls",
       "_view_module_version": "2.0.0",
       "_view_name": "HTMLView",
       "description": "",
       "description_allow_html": false,
       "layout": "IPY_MODEL_a67905c012d3453b8e7dd0ee74753d76",
       "placeholder": "​",
       "style": "IPY_MODEL_8b854e677cb6408bbd197e3f96008b25",
       "tabbable": null,
       "tooltip": null,
       "value": "pytorch_model.bin: 100%"
      }
     },
     "d44e11ef448e41758b93f6260342db90": {
      "model_module": "@jupyter-widgets/controls",
      "model_module_version": "2.0.0",
      "model_name": "HTMLStyleModel",
      "state": {
       "_model_module": "@jupyter-widgets/controls",
       "_model_module_version": "2.0.0",
       "_model_name": "HTMLStyleModel",
       "_view_count": null,
       "_view_module": "@jupyter-widgets/base",
       "_view_module_version": "2.0.0",
       "_view_name": "StyleView",
       "background": null,
       "description_width": "",
       "font_size": null,
       "text_color": null
      }
     },
     "d65521917832436f9a1a3846e2fd7b24": {
      "model_module": "@jupyter-widgets/base",
      "model_module_version": "2.0.0",
      "model_name": "LayoutModel",
      "state": {
       "_model_module": "@jupyter-widgets/base",
       "_model_module_version": "2.0.0",
       "_model_name": "LayoutModel",
       "_view_count": null,
       "_view_module": "@jupyter-widgets/base",
       "_view_module_version": "2.0.0",
       "_view_name": "LayoutView",
       "align_content": null,
       "align_items": null,
       "align_self": null,
       "border_bottom": null,
       "border_left": null,
       "border_right": null,
       "border_top": null,
       "bottom": null,
       "display": null,
       "flex": null,
       "flex_flow": null,
       "grid_area": null,
       "grid_auto_columns": null,
       "grid_auto_flow": null,
       "grid_auto_rows": null,
       "grid_column": null,
       "grid_gap": null,
       "grid_row": null,
       "grid_template_areas": null,
       "grid_template_columns": null,
       "grid_template_rows": null,
       "height": null,
       "justify_content": null,
       "justify_items": null,
       "left": null,
       "margin": null,
       "max_height": null,
       "max_width": null,
       "min_height": null,
       "min_width": null,
       "object_fit": null,
       "object_position": null,
       "order": null,
       "overflow": null,
       "padding": null,
       "right": null,
       "top": null,
       "visibility": null,
       "width": null
      }
     },
     "d6ed2b556fbc4e00ad954014a99507de": {
      "model_module": "@jupyter-widgets/controls",
      "model_module_version": "2.0.0",
      "model_name": "HTMLModel",
      "state": {
       "_dom_classes": [],
       "_model_module": "@jupyter-widgets/controls",
       "_model_module_version": "2.0.0",
       "_model_name": "HTMLModel",
       "_view_count": null,
       "_view_module": "@jupyter-widgets/controls",
       "_view_module_version": "2.0.0",
       "_view_name": "HTMLView",
       "description": "",
       "description_allow_html": false,
       "layout": "IPY_MODEL_bc49f07c77e648afa47b5e95f7f33880",
       "placeholder": "​",
       "style": "IPY_MODEL_e851fa50dfb9498ca63999f71f00edfc",
       "tabbable": null,
       "tooltip": null,
       "value": " 94.4M/289M [00:00&lt;00:00, 255MB/s]"
      }
     },
     "d7a31a3affdb4450a7a479f2dc5211b3": {
      "model_module": "@jupyter-widgets/controls",
      "model_module_version": "2.0.0",
      "model_name": "HTMLStyleModel",
      "state": {
       "_model_module": "@jupyter-widgets/controls",
       "_model_module_version": "2.0.0",
       "_model_name": "HTMLStyleModel",
       "_view_count": null,
       "_view_module": "@jupyter-widgets/base",
       "_view_module_version": "2.0.0",
       "_view_name": "StyleView",
       "background": null,
       "description_width": "",
       "font_size": null,
       "text_color": null
      }
     },
     "da779ad27b7c4140b5adaabdc1eba53e": {
      "model_module": "@jupyter-widgets/base",
      "model_module_version": "2.0.0",
      "model_name": "LayoutModel",
      "state": {
       "_model_module": "@jupyter-widgets/base",
       "_model_module_version": "2.0.0",
       "_model_name": "LayoutModel",
       "_view_count": null,
       "_view_module": "@jupyter-widgets/base",
       "_view_module_version": "2.0.0",
       "_view_name": "LayoutView",
       "align_content": null,
       "align_items": null,
       "align_self": null,
       "border_bottom": null,
       "border_left": null,
       "border_right": null,
       "border_top": null,
       "bottom": null,
       "display": null,
       "flex": null,
       "flex_flow": null,
       "grid_area": null,
       "grid_auto_columns": null,
       "grid_auto_flow": null,
       "grid_auto_rows": null,
       "grid_column": null,
       "grid_gap": null,
       "grid_row": null,
       "grid_template_areas": null,
       "grid_template_columns": null,
       "grid_template_rows": null,
       "height": null,
       "justify_content": null,
       "justify_items": null,
       "left": null,
       "margin": null,
       "max_height": null,
       "max_width": null,
       "min_height": null,
       "min_width": null,
       "object_fit": null,
       "object_position": null,
       "order": null,
       "overflow": null,
       "padding": null,
       "right": null,
       "top": null,
       "visibility": null,
       "width": null
      }
     },
     "dc023b4b69a543f9b21deae532a6b2c9": {
      "model_module": "@jupyter-widgets/controls",
      "model_module_version": "2.0.0",
      "model_name": "HTMLStyleModel",
      "state": {
       "_model_module": "@jupyter-widgets/controls",
       "_model_module_version": "2.0.0",
       "_model_name": "HTMLStyleModel",
       "_view_count": null,
       "_view_module": "@jupyter-widgets/base",
       "_view_module_version": "2.0.0",
       "_view_name": "StyleView",
       "background": null,
       "description_width": "",
       "font_size": null,
       "text_color": null
      }
     },
     "dc5794b6d82e4349b98915ac364c74c8": {
      "model_module": "@jupyter-widgets/base",
      "model_module_version": "2.0.0",
      "model_name": "LayoutModel",
      "state": {
       "_model_module": "@jupyter-widgets/base",
       "_model_module_version": "2.0.0",
       "_model_name": "LayoutModel",
       "_view_count": null,
       "_view_module": "@jupyter-widgets/base",
       "_view_module_version": "2.0.0",
       "_view_name": "LayoutView",
       "align_content": null,
       "align_items": null,
       "align_self": null,
       "border_bottom": null,
       "border_left": null,
       "border_right": null,
       "border_top": null,
       "bottom": null,
       "display": null,
       "flex": null,
       "flex_flow": null,
       "grid_area": null,
       "grid_auto_columns": null,
       "grid_auto_flow": null,
       "grid_auto_rows": null,
       "grid_column": null,
       "grid_gap": null,
       "grid_row": null,
       "grid_template_areas": null,
       "grid_template_columns": null,
       "grid_template_rows": null,
       "height": null,
       "justify_content": null,
       "justify_items": null,
       "left": null,
       "margin": null,
       "max_height": null,
       "max_width": null,
       "min_height": null,
       "min_width": null,
       "object_fit": null,
       "object_position": null,
       "order": null,
       "overflow": null,
       "padding": null,
       "right": null,
       "top": null,
       "visibility": null,
       "width": null
      }
     },
     "dfacf0652362464e9eb6a9e0113014b5": {
      "model_module": "@jupyter-widgets/base",
      "model_module_version": "2.0.0",
      "model_name": "LayoutModel",
      "state": {
       "_model_module": "@jupyter-widgets/base",
       "_model_module_version": "2.0.0",
       "_model_name": "LayoutModel",
       "_view_count": null,
       "_view_module": "@jupyter-widgets/base",
       "_view_module_version": "2.0.0",
       "_view_name": "LayoutView",
       "align_content": null,
       "align_items": null,
       "align_self": null,
       "border_bottom": null,
       "border_left": null,
       "border_right": null,
       "border_top": null,
       "bottom": null,
       "display": null,
       "flex": null,
       "flex_flow": null,
       "grid_area": null,
       "grid_auto_columns": null,
       "grid_auto_flow": null,
       "grid_auto_rows": null,
       "grid_column": null,
       "grid_gap": null,
       "grid_row": null,
       "grid_template_areas": null,
       "grid_template_columns": null,
       "grid_template_rows": null,
       "height": null,
       "justify_content": null,
       "justify_items": null,
       "left": null,
       "margin": null,
       "max_height": null,
       "max_width": null,
       "min_height": null,
       "min_width": null,
       "object_fit": null,
       "object_position": null,
       "order": null,
       "overflow": null,
       "padding": null,
       "right": null,
       "top": null,
       "visibility": null,
       "width": null
      }
     },
     "dfb1afe0b41d4288a2ba77152b3185f5": {
      "model_module": "@jupyter-widgets/controls",
      "model_module_version": "2.0.0",
      "model_name": "HBoxModel",
      "state": {
       "_dom_classes": [],
       "_model_module": "@jupyter-widgets/controls",
       "_model_module_version": "2.0.0",
       "_model_name": "HBoxModel",
       "_view_count": null,
       "_view_module": "@jupyter-widgets/controls",
       "_view_module_version": "2.0.0",
       "_view_name": "HBoxView",
       "box_style": "",
       "children": [
        "IPY_MODEL_af50ba80004f4750b522877d4176646c",
        "IPY_MODEL_153198b910de43c2957d087a82405835",
        "IPY_MODEL_fef376db7a3847ca8d7fbcf500f12ca2"
       ],
       "layout": "IPY_MODEL_98b4c9373f1140f68f9be066414e439d",
       "tabbable": null,
       "tooltip": null
      }
     },
     "e2a79968206042bca76e2259c95f3cf2": {
      "model_module": "@jupyter-widgets/controls",
      "model_module_version": "2.0.0",
      "model_name": "HBoxModel",
      "state": {
       "_dom_classes": [],
       "_model_module": "@jupyter-widgets/controls",
       "_model_module_version": "2.0.0",
       "_model_name": "HBoxModel",
       "_view_count": null,
       "_view_module": "@jupyter-widgets/controls",
       "_view_module_version": "2.0.0",
       "_view_name": "HBoxView",
       "box_style": "",
       "children": [
        "IPY_MODEL_b33a538d116046bbb63a734a3abdbae1",
        "IPY_MODEL_fa995875a5204eb1b20184d6b7037e83",
        "IPY_MODEL_bf437cbe49074ca6943448ab91e03945"
       ],
       "layout": "IPY_MODEL_70d40a6357a0481ba6d7c762a6b61e55",
       "tabbable": null,
       "tooltip": null
      }
     },
     "e31f176b18c44410934631d73cf1b6f5": {
      "model_module": "@jupyter-widgets/controls",
      "model_module_version": "2.0.0",
      "model_name": "HTMLModel",
      "state": {
       "_dom_classes": [],
       "_model_module": "@jupyter-widgets/controls",
       "_model_module_version": "2.0.0",
       "_model_name": "HTMLModel",
       "_view_count": null,
       "_view_module": "@jupyter-widgets/controls",
       "_view_module_version": "2.0.0",
       "_view_name": "HTMLView",
       "description": "",
       "description_allow_html": false,
       "layout": "IPY_MODEL_bd6336d2648445e0b1d1da5b5d01314c",
       "placeholder": "​",
       "style": "IPY_MODEL_dc023b4b69a543f9b21deae532a6b2c9",
       "tabbable": null,
       "tooltip": null,
       "value": "Map: 100%"
      }
     },
     "e39a4f6955bf473abad7a359fa3b8a7f": {
      "model_module": "@jupyter-widgets/controls",
      "model_module_version": "2.0.0",
      "model_name": "HTMLModel",
      "state": {
       "_dom_classes": [],
       "_model_module": "@jupyter-widgets/controls",
       "_model_module_version": "2.0.0",
       "_model_name": "HTMLModel",
       "_view_count": null,
       "_view_module": "@jupyter-widgets/controls",
       "_view_module_version": "2.0.0",
       "_view_name": "HTMLView",
       "description": "",
       "description_allow_html": false,
       "layout": "IPY_MODEL_dfacf0652362464e9eb6a9e0113014b5",
       "placeholder": "​",
       "style": "IPY_MODEL_f1cf3d04929448e7bca39d4345754d1f",
       "tabbable": null,
       "tooltip": null,
       "value": "target.spm: 100%"
      }
     },
     "e4ed6a388c304f348a082ac5834ff448": {
      "model_module": "@jupyter-widgets/controls",
      "model_module_version": "2.0.0",
      "model_name": "FloatProgressModel",
      "state": {
       "_dom_classes": [],
       "_model_module": "@jupyter-widgets/controls",
       "_model_module_version": "2.0.0",
       "_model_name": "FloatProgressModel",
       "_view_count": null,
       "_view_module": "@jupyter-widgets/controls",
       "_view_module_version": "2.0.0",
       "_view_name": "ProgressView",
       "bar_style": "success",
       "description": "",
       "description_allow_html": false,
       "layout": "IPY_MODEL_ee51948d84f044cfbe92d383fabddf51",
       "max": 808853,
       "min": 0,
       "orientation": "horizontal",
       "style": "IPY_MODEL_b3233e725eb349c98fd6a3c519792c89",
       "tabbable": null,
       "tooltip": null,
       "value": 808853
      }
     },
     "e7435bb6e9ce4d3f88bfc8d2e2bd84e9": {
      "model_module": "@jupyter-widgets/controls",
      "model_module_version": "2.0.0",
      "model_name": "HTMLStyleModel",
      "state": {
       "_model_module": "@jupyter-widgets/controls",
       "_model_module_version": "2.0.0",
       "_model_name": "HTMLStyleModel",
       "_view_count": null,
       "_view_module": "@jupyter-widgets/base",
       "_view_module_version": "2.0.0",
       "_view_name": "StyleView",
       "background": null,
       "description_width": "",
       "font_size": null,
       "text_color": null
      }
     },
     "e851fa50dfb9498ca63999f71f00edfc": {
      "model_module": "@jupyter-widgets/controls",
      "model_module_version": "2.0.0",
      "model_name": "HTMLStyleModel",
      "state": {
       "_model_module": "@jupyter-widgets/controls",
       "_model_module_version": "2.0.0",
       "_model_name": "HTMLStyleModel",
       "_view_count": null,
       "_view_module": "@jupyter-widgets/base",
       "_view_module_version": "2.0.0",
       "_view_name": "StyleView",
       "background": null,
       "description_width": "",
       "font_size": null,
       "text_color": null
      }
     },
     "e91b6ad76f584c6c9bd6c8220f283795": {
      "model_module": "@jupyter-widgets/base",
      "model_module_version": "2.0.0",
      "model_name": "LayoutModel",
      "state": {
       "_model_module": "@jupyter-widgets/base",
       "_model_module_version": "2.0.0",
       "_model_name": "LayoutModel",
       "_view_count": null,
       "_view_module": "@jupyter-widgets/base",
       "_view_module_version": "2.0.0",
       "_view_name": "LayoutView",
       "align_content": null,
       "align_items": null,
       "align_self": null,
       "border_bottom": null,
       "border_left": null,
       "border_right": null,
       "border_top": null,
       "bottom": null,
       "display": null,
       "flex": null,
       "flex_flow": null,
       "grid_area": null,
       "grid_auto_columns": null,
       "grid_auto_flow": null,
       "grid_auto_rows": null,
       "grid_column": null,
       "grid_gap": null,
       "grid_row": null,
       "grid_template_areas": null,
       "grid_template_columns": null,
       "grid_template_rows": null,
       "height": null,
       "justify_content": null,
       "justify_items": null,
       "left": null,
       "margin": null,
       "max_height": null,
       "max_width": null,
       "min_height": null,
       "min_width": null,
       "object_fit": null,
       "object_position": null,
       "order": null,
       "overflow": null,
       "padding": null,
       "right": null,
       "top": null,
       "visibility": null,
       "width": null
      }
     },
     "eb1fabfbaea4478494f8aa4cfd48f4ad": {
      "model_module": "@jupyter-widgets/controls",
      "model_module_version": "2.0.0",
      "model_name": "HTMLStyleModel",
      "state": {
       "_model_module": "@jupyter-widgets/controls",
       "_model_module_version": "2.0.0",
       "_model_name": "HTMLStyleModel",
       "_view_count": null,
       "_view_module": "@jupyter-widgets/base",
       "_view_module_version": "2.0.0",
       "_view_name": "StyleView",
       "background": null,
       "description_width": "",
       "font_size": null,
       "text_color": null
      }
     },
     "eced3680c63948f09ea0e9ee6f4b9a6f": {
      "model_module": "@jupyter-widgets/base",
      "model_module_version": "2.0.0",
      "model_name": "LayoutModel",
      "state": {
       "_model_module": "@jupyter-widgets/base",
       "_model_module_version": "2.0.0",
       "_model_name": "LayoutModel",
       "_view_count": null,
       "_view_module": "@jupyter-widgets/base",
       "_view_module_version": "2.0.0",
       "_view_name": "LayoutView",
       "align_content": null,
       "align_items": null,
       "align_self": null,
       "border_bottom": null,
       "border_left": null,
       "border_right": null,
       "border_top": null,
       "bottom": null,
       "display": null,
       "flex": null,
       "flex_flow": null,
       "grid_area": null,
       "grid_auto_columns": null,
       "grid_auto_flow": null,
       "grid_auto_rows": null,
       "grid_column": null,
       "grid_gap": null,
       "grid_row": null,
       "grid_template_areas": null,
       "grid_template_columns": null,
       "grid_template_rows": null,
       "height": null,
       "justify_content": null,
       "justify_items": null,
       "left": null,
       "margin": null,
       "max_height": null,
       "max_width": null,
       "min_height": null,
       "min_width": null,
       "object_fit": null,
       "object_position": null,
       "order": null,
       "overflow": null,
       "padding": null,
       "right": null,
       "top": null,
       "visibility": null,
       "width": null
      }
     },
     "ee51948d84f044cfbe92d383fabddf51": {
      "model_module": "@jupyter-widgets/base",
      "model_module_version": "2.0.0",
      "model_name": "LayoutModel",
      "state": {
       "_model_module": "@jupyter-widgets/base",
       "_model_module_version": "2.0.0",
       "_model_name": "LayoutModel",
       "_view_count": null,
       "_view_module": "@jupyter-widgets/base",
       "_view_module_version": "2.0.0",
       "_view_name": "LayoutView",
       "align_content": null,
       "align_items": null,
       "align_self": null,
       "border_bottom": null,
       "border_left": null,
       "border_right": null,
       "border_top": null,
       "bottom": null,
       "display": null,
       "flex": null,
       "flex_flow": null,
       "grid_area": null,
       "grid_auto_columns": null,
       "grid_auto_flow": null,
       "grid_auto_rows": null,
       "grid_column": null,
       "grid_gap": null,
       "grid_row": null,
       "grid_template_areas": null,
       "grid_template_columns": null,
       "grid_template_rows": null,
       "height": null,
       "justify_content": null,
       "justify_items": null,
       "left": null,
       "margin": null,
       "max_height": null,
       "max_width": null,
       "min_height": null,
       "min_width": null,
       "object_fit": null,
       "object_position": null,
       "order": null,
       "overflow": null,
       "padding": null,
       "right": null,
       "top": null,
       "visibility": null,
       "width": null
      }
     },
     "f0ecf76387f5422a82ccc3522c0f39aa": {
      "model_module": "@jupyter-widgets/controls",
      "model_module_version": "2.0.0",
      "model_name": "HBoxModel",
      "state": {
       "_dom_classes": [],
       "_model_module": "@jupyter-widgets/controls",
       "_model_module_version": "2.0.0",
       "_model_name": "HBoxModel",
       "_view_count": null,
       "_view_module": "@jupyter-widgets/controls",
       "_view_module_version": "2.0.0",
       "_view_name": "HBoxView",
       "box_style": "",
       "children": [
        "IPY_MODEL_90c0e77a599c41a8bdbca6b2442a5ca0",
        "IPY_MODEL_49dbb3ce00794ff3b2d7372792f5103c",
        "IPY_MODEL_8182b22e0abc47f2a732d60d3bf7e70e"
       ],
       "layout": "IPY_MODEL_b5b4269e30624fb99113e2f2b5ee9f1a",
       "tabbable": null,
       "tooltip": null
      }
     },
     "f12006213b1b4c849359dc9f88e32ca6": {
      "model_module": "@jupyter-widgets/controls",
      "model_module_version": "2.0.0",
      "model_name": "HTMLModel",
      "state": {
       "_dom_classes": [],
       "_model_module": "@jupyter-widgets/controls",
       "_model_module_version": "2.0.0",
       "_model_name": "HTMLModel",
       "_view_count": null,
       "_view_module": "@jupyter-widgets/controls",
       "_view_module_version": "2.0.0",
       "_view_name": "HTMLView",
       "description": "",
       "description_allow_html": false,
       "layout": "IPY_MODEL_c5d979cc3fb54b408feadd277deca04c",
       "placeholder": "​",
       "style": "IPY_MODEL_46b19b1a3ee64761a1f5b4a3fb573479",
       "tabbable": null,
       "tooltip": null,
       "value": " 44.0/44.0 [00:00&lt;00:00, 4.40kB/s]"
      }
     },
     "f1cf3d04929448e7bca39d4345754d1f": {
      "model_module": "@jupyter-widgets/controls",
      "model_module_version": "2.0.0",
      "model_name": "HTMLStyleModel",
      "state": {
       "_model_module": "@jupyter-widgets/controls",
       "_model_module_version": "2.0.0",
       "_model_name": "HTMLStyleModel",
       "_view_count": null,
       "_view_module": "@jupyter-widgets/base",
       "_view_module_version": "2.0.0",
       "_view_name": "StyleView",
       "background": null,
       "description_width": "",
       "font_size": null,
       "text_color": null
      }
     },
     "f634756457f846b2ae2d7c5c535a7446": {
      "model_module": "@jupyter-widgets/controls",
      "model_module_version": "2.0.0",
      "model_name": "HTMLModel",
      "state": {
       "_dom_classes": [],
       "_model_module": "@jupyter-widgets/controls",
       "_model_module_version": "2.0.0",
       "_model_name": "HTMLModel",
       "_view_count": null,
       "_view_module": "@jupyter-widgets/controls",
       "_view_module_version": "2.0.0",
       "_view_name": "HTMLView",
       "description": "",
       "description_allow_html": false,
       "layout": "IPY_MODEL_c8ce4d18b8244c63aa08e5885b6401f6",
       "placeholder": "​",
       "style": "IPY_MODEL_b213a1b0454a4a72b9ab93aa543d1c43",
       "tabbable": null,
       "tooltip": null,
       "value": "Translating: 100%"
      }
     },
     "f863d10f5fb546929551c5b9276fa85b": {
      "model_module": "@jupyter-widgets/base",
      "model_module_version": "2.0.0",
      "model_name": "LayoutModel",
      "state": {
       "_model_module": "@jupyter-widgets/base",
       "_model_module_version": "2.0.0",
       "_model_name": "LayoutModel",
       "_view_count": null,
       "_view_module": "@jupyter-widgets/base",
       "_view_module_version": "2.0.0",
       "_view_name": "LayoutView",
       "align_content": null,
       "align_items": null,
       "align_self": null,
       "border_bottom": null,
       "border_left": null,
       "border_right": null,
       "border_top": null,
       "bottom": null,
       "display": null,
       "flex": null,
       "flex_flow": null,
       "grid_area": null,
       "grid_auto_columns": null,
       "grid_auto_flow": null,
       "grid_auto_rows": null,
       "grid_column": null,
       "grid_gap": null,
       "grid_row": null,
       "grid_template_areas": null,
       "grid_template_columns": null,
       "grid_template_rows": null,
       "height": null,
       "justify_content": null,
       "justify_items": null,
       "left": null,
       "margin": null,
       "max_height": null,
       "max_width": null,
       "min_height": null,
       "min_width": null,
       "object_fit": null,
       "object_position": null,
       "order": null,
       "overflow": null,
       "padding": null,
       "right": null,
       "top": null,
       "visibility": null,
       "width": null
      }
     },
     "fa122110cd6540eb8fc1bd522650848d": {
      "model_module": "@jupyter-widgets/base",
      "model_module_version": "2.0.0",
      "model_name": "LayoutModel",
      "state": {
       "_model_module": "@jupyter-widgets/base",
       "_model_module_version": "2.0.0",
       "_model_name": "LayoutModel",
       "_view_count": null,
       "_view_module": "@jupyter-widgets/base",
       "_view_module_version": "2.0.0",
       "_view_name": "LayoutView",
       "align_content": null,
       "align_items": null,
       "align_self": null,
       "border_bottom": null,
       "border_left": null,
       "border_right": null,
       "border_top": null,
       "bottom": null,
       "display": null,
       "flex": null,
       "flex_flow": null,
       "grid_area": null,
       "grid_auto_columns": null,
       "grid_auto_flow": null,
       "grid_auto_rows": null,
       "grid_column": null,
       "grid_gap": null,
       "grid_row": null,
       "grid_template_areas": null,
       "grid_template_columns": null,
       "grid_template_rows": null,
       "height": null,
       "justify_content": null,
       "justify_items": null,
       "left": null,
       "margin": null,
       "max_height": null,
       "max_width": null,
       "min_height": null,
       "min_width": null,
       "object_fit": null,
       "object_position": null,
       "order": null,
       "overflow": null,
       "padding": null,
       "right": null,
       "top": null,
       "visibility": null,
       "width": null
      }
     },
     "fa995875a5204eb1b20184d6b7037e83": {
      "model_module": "@jupyter-widgets/controls",
      "model_module_version": "2.0.0",
      "model_name": "FloatProgressModel",
      "state": {
       "_dom_classes": [],
       "_model_module": "@jupyter-widgets/controls",
       "_model_module_version": "2.0.0",
       "_model_name": "FloatProgressModel",
       "_view_count": null,
       "_view_module": "@jupyter-widgets/controls",
       "_view_module_version": "2.0.0",
       "_view_name": "ProgressView",
       "bar_style": "success",
       "description": "",
       "description_allow_html": false,
       "layout": "IPY_MODEL_7a549ff03fef409887b0a4d64345ed07",
       "max": 1193597,
       "min": 0,
       "orientation": "horizontal",
       "style": "IPY_MODEL_cb180607da7a4da9aa442fce60d5f378",
       "tabbable": null,
       "tooltip": null,
       "value": 1193597
      }
     },
     "fbe9b57467994d969b4c8929b5d8a8ba": {
      "model_module": "@jupyter-widgets/base",
      "model_module_version": "2.0.0",
      "model_name": "LayoutModel",
      "state": {
       "_model_module": "@jupyter-widgets/base",
       "_model_module_version": "2.0.0",
       "_model_name": "LayoutModel",
       "_view_count": null,
       "_view_module": "@jupyter-widgets/base",
       "_view_module_version": "2.0.0",
       "_view_name": "LayoutView",
       "align_content": null,
       "align_items": null,
       "align_self": null,
       "border_bottom": null,
       "border_left": null,
       "border_right": null,
       "border_top": null,
       "bottom": null,
       "display": null,
       "flex": null,
       "flex_flow": null,
       "grid_area": null,
       "grid_auto_columns": null,
       "grid_auto_flow": null,
       "grid_auto_rows": null,
       "grid_column": null,
       "grid_gap": null,
       "grid_row": null,
       "grid_template_areas": null,
       "grid_template_columns": null,
       "grid_template_rows": null,
       "height": null,
       "justify_content": null,
       "justify_items": null,
       "left": null,
       "margin": null,
       "max_height": null,
       "max_width": null,
       "min_height": null,
       "min_width": null,
       "object_fit": null,
       "object_position": null,
       "order": null,
       "overflow": null,
       "padding": null,
       "right": null,
       "top": null,
       "visibility": null,
       "width": null
      }
     },
     "fef376db7a3847ca8d7fbcf500f12ca2": {
      "model_module": "@jupyter-widgets/controls",
      "model_module_version": "2.0.0",
      "model_name": "HTMLModel",
      "state": {
       "_dom_classes": [],
       "_model_module": "@jupyter-widgets/controls",
       "_model_module_version": "2.0.0",
       "_model_name": "HTMLModel",
       "_view_count": null,
       "_view_module": "@jupyter-widgets/controls",
       "_view_module_version": "2.0.0",
       "_view_name": "HTMLView",
       "description": "",
       "description_allow_html": false,
       "layout": "IPY_MODEL_178b8a16e44b476c8716c6a9824b9896",
       "placeholder": "​",
       "style": "IPY_MODEL_6efb512f64594b0db3bf116a796aec04",
       "tabbable": null,
       "tooltip": null,
       "value": " 1987/1987 [12:41&lt;00:00,  2.36it/s]"
      }
     }
    },
    "version_major": 2,
    "version_minor": 0
   }
  }
 },
 "nbformat": 4,
 "nbformat_minor": 5
}
