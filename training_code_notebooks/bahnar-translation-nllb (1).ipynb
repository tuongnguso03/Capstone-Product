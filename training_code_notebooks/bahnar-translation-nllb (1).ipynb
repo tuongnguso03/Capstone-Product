{
 "cells": [
  {
   "cell_type": "code",
   "execution_count": 1,
   "id": "cc1f54a1",
   "metadata": {
    "execution": {
     "iopub.execute_input": "2025-06-09T10:56:57.351527Z",
     "iopub.status.busy": "2025-06-09T10:56:57.350786Z",
     "iopub.status.idle": "2025-06-09T10:56:57.354704Z",
     "shell.execute_reply": "2025-06-09T10:56:57.354138Z"
    },
    "papermill": {
     "duration": 0.012558,
     "end_time": "2025-06-09T10:56:57.355783",
     "exception": false,
     "start_time": "2025-06-09T10:56:57.343225",
     "status": "completed"
    },
    "tags": []
   },
   "outputs": [],
   "source": [
    "# from kaggle_secrets import UserSecretsClient\n",
    "# user_secrets = UserSecretsClient()\n",
    "# secret_value_0 = user_secrets.get_secret(\"token\")\n",
    "\n",
    "# from huggingface_hub import login\n",
    "\n",
    "# login(secret_value_0)"
   ]
  },
  {
   "cell_type": "code",
   "execution_count": 2,
   "id": "09f788bc",
   "metadata": {
    "execution": {
     "iopub.execute_input": "2025-06-09T10:56:57.367803Z",
     "iopub.status.busy": "2025-06-09T10:56:57.367345Z",
     "iopub.status.idle": "2025-06-09T10:57:02.144696Z",
     "shell.execute_reply": "2025-06-09T10:57:02.143752Z"
    },
    "papermill": {
     "duration": 4.784652,
     "end_time": "2025-06-09T10:57:02.146167",
     "exception": false,
     "start_time": "2025-06-09T10:56:57.361515",
     "status": "completed"
    },
    "tags": []
   },
   "outputs": [
    {
     "name": "stdout",
     "output_type": "stream",
     "text": [
      "\u001b[2K     \u001b[90m━━━━━━━━━━━━━━━━━━━━━━━━━━━━━━━━━━━━━━━━\u001b[0m \u001b[32m51.8/51.8 kB\u001b[0m \u001b[31m2.4 MB/s\u001b[0m eta \u001b[36m0:00:00\u001b[0m\r\n",
      "\u001b[2K   \u001b[90m━━━━━━━━━━━━━━━━━━━━━━━━━━━━━━━━━━━━━━━━\u001b[0m \u001b[32m897.5/897.5 kB\u001b[0m \u001b[31m23.0 MB/s\u001b[0m eta \u001b[36m0:00:00\u001b[0m\r\n",
      "\u001b[2K   \u001b[90m━━━━━━━━━━━━━━━━━━━━━━━━━━━━━━━━━━━━━━━━\u001b[0m \u001b[32m104.1/104.1 kB\u001b[0m \u001b[31m4.2 MB/s\u001b[0m eta \u001b[36m0:00:00\u001b[0m\r\n",
      "\u001b[2K   \u001b[90m━━━━━━━━━━━━━━━━━━━━━━━━━━━━━━━━━━━━━━━━\u001b[0m \u001b[32m183.9/183.9 kB\u001b[0m \u001b[31m13.5 MB/s\u001b[0m eta \u001b[36m0:00:00\u001b[0m\r\n",
      "\u001b[?25h\u001b[31mERROR: pip's dependency resolver does not currently take into account all the packages that are installed. This behaviour is the source of the following dependency conflicts.\r\n",
      "gcsfs 2024.10.0 requires fsspec==2024.10.0, but you have fsspec 2024.12.0 which is incompatible.\r\n",
      "torch 2.5.1+cu124 requires nvidia-cublas-cu12==12.4.5.8; platform_system == \"Linux\" and platform_machine == \"x86_64\", but you have nvidia-cublas-cu12 12.8.4.1 which is incompatible.\r\n",
      "torch 2.5.1+cu124 requires nvidia-cudnn-cu12==9.1.0.70; platform_system == \"Linux\" and platform_machine == \"x86_64\", but you have nvidia-cudnn-cu12 9.3.0.75 which is incompatible.\r\n",
      "torch 2.5.1+cu124 requires nvidia-cufft-cu12==11.2.1.3; platform_system == \"Linux\" and platform_machine == \"x86_64\", but you have nvidia-cufft-cu12 11.3.3.83 which is incompatible.\r\n",
      "torch 2.5.1+cu124 requires nvidia-curand-cu12==10.3.5.147; platform_system == \"Linux\" and platform_machine == \"x86_64\", but you have nvidia-curand-cu12 10.3.9.90 which is incompatible.\r\n",
      "torch 2.5.1+cu124 requires nvidia-cusolver-cu12==11.6.1.9; platform_system == \"Linux\" and platform_machine == \"x86_64\", but you have nvidia-cusolver-cu12 11.7.3.90 which is incompatible.\r\n",
      "torch 2.5.1+cu124 requires nvidia-cusparse-cu12==12.3.1.170; platform_system == \"Linux\" and platform_machine == \"x86_64\", but you have nvidia-cusparse-cu12 12.5.8.93 which is incompatible.\r\n",
      "torch 2.5.1+cu124 requires nvidia-nvjitlink-cu12==12.4.127; platform_system == \"Linux\" and platform_machine == \"x86_64\", but you have nvidia-nvjitlink-cu12 12.8.93 which is incompatible.\r\n",
      "bigframes 1.36.0 requires rich<14,>=12.4.4, but you have rich 14.0.0 which is incompatible.\u001b[0m\u001b[31m\r\n",
      "\u001b[0m"
     ]
    }
   ],
   "source": [
    "!pip install sentencepiece datasets sacremoses sacrebleu  -q"
   ]
  },
  {
   "cell_type": "code",
   "execution_count": 3,
   "id": "37b322dc",
   "metadata": {
    "execution": {
     "iopub.execute_input": "2025-06-09T10:57:02.159127Z",
     "iopub.status.busy": "2025-06-09T10:57:02.158869Z",
     "iopub.status.idle": "2025-06-09T10:57:02.162999Z",
     "shell.execute_reply": "2025-06-09T10:57:02.162296Z"
    },
    "papermill": {
     "duration": 0.011882,
     "end_time": "2025-06-09T10:57:02.164186",
     "exception": false,
     "start_time": "2025-06-09T10:57:02.152304",
     "status": "completed"
    },
    "tags": []
   },
   "outputs": [],
   "source": [
    "import locale\n",
    "import os\n",
    "def gpe(x=None):\n",
    "    return \"UTF-8\"\n",
    "locale.getpreferredencoding = gpe"
   ]
  },
  {
   "cell_type": "markdown",
   "id": "53d18ce2",
   "metadata": {
    "papermill": {
     "duration": 0.005321,
     "end_time": "2025-06-09T10:57:02.175073",
     "exception": false,
     "start_time": "2025-06-09T10:57:02.169752",
     "status": "completed"
    },
    "tags": []
   },
   "source": [
    "## 1. Dataset"
   ]
  },
  {
   "cell_type": "markdown",
   "id": "3c3d3f5c",
   "metadata": {},
   "source": [
    "#### Load the dataset"
   ]
  },
  {
   "cell_type": "code",
   "execution_count": 4,
   "id": "9e8a2df4",
   "metadata": {
    "execution": {
     "iopub.execute_input": "2025-06-09T10:57:02.186996Z",
     "iopub.status.busy": "2025-06-09T10:57:02.186635Z",
     "iopub.status.idle": "2025-06-09T10:57:30.719312Z",
     "shell.execute_reply": "2025-06-09T10:57:30.718524Z"
    },
    "papermill": {
     "duration": 28.540244,
     "end_time": "2025-06-09T10:57:30.720828",
     "exception": false,
     "start_time": "2025-06-09T10:57:02.180584",
     "status": "completed"
    },
    "tags": []
   },
   "outputs": [
    {
     "name": "stderr",
     "output_type": "stream",
     "text": [
      "2025-06-09 10:57:16.670493: E external/local_xla/xla/stream_executor/cuda/cuda_fft.cc:477] Unable to register cuFFT factory: Attempting to register factory for plugin cuFFT when one has already been registered\n",
      "WARNING: All log messages before absl::InitializeLog() is called are written to STDERR\n",
      "E0000 00:00:1749466636.847920      19 cuda_dnn.cc:8310] Unable to register cuDNN factory: Attempting to register factory for plugin cuDNN when one has already been registered\n",
      "E0000 00:00:1749466636.904095      19 cuda_blas.cc:1418] Unable to register cuBLAS factory: Attempting to register factory for plugin cuBLAS when one has already been registered\n"
     ]
    }
   ],
   "source": [
    "import torch\n",
    "import sentencepiece\n",
    "from transformers import AutoTokenizer, AutoModelForSeq2SeqLM, Seq2SeqTrainer, Seq2SeqTrainingArguments\n",
    "from datasets import load_dataset\n",
    "\n",
    "import pandas as pd\n",
    "from sklearn.model_selection import train_test_split\n",
    "from datasets import Dataset, concatenate_datasets\n",
    "import numpy as np \n",
    "import sacrebleu"
   ]
  },
  {
   "cell_type": "code",
   "execution_count": 5,
   "id": "3c70ae34",
   "metadata": {
    "execution": {
     "iopub.execute_input": "2025-06-09T10:57:30.734301Z",
     "iopub.status.busy": "2025-06-09T10:57:30.733840Z",
     "iopub.status.idle": "2025-06-09T10:57:31.013123Z",
     "shell.execute_reply": "2025-06-09T10:57:31.012338Z"
    },
    "papermill": {
     "duration": 0.2869,
     "end_time": "2025-06-09T10:57:31.014325",
     "exception": false,
     "start_time": "2025-06-09T10:57:30.727425",
     "status": "completed"
    },
    "tags": []
   },
   "outputs": [
    {
     "name": "stdout",
     "output_type": "stream",
     "text": [
      "24224 1000\n"
     ]
    }
   ],
   "source": [
    "RANDOM_SEED = 42\n",
    "\n",
    "with open('/kaggle/input/train-eng-bdq-phase2dataset-v1/bdq-eng.train.bdq', 'r', encoding='utf-8') as file_ba:\n",
    "    ba_data = file_ba.readlines()\n",
    "with open('/kaggle/input/train-eng-bdq-phase2dataset-v1/bdq-eng.train.eng', 'r', encoding='utf-8') as file_en:\n",
    "    en_data = file_en.readlines()\n",
    "assert len(ba_data) == len(en_data), \"The files don't have the same number of lines.\"\n",
    "train_df = pd.DataFrame({'English': en_data, 'Bahnar': ba_data})\n",
    "# train_df, val_df = train_test_split(train_df, test_size=0.1, random_state=RANDOM_SEED)\n",
    "#No val_df since no validation whatsoever \n",
    "\n",
    "ba_en_train_dataset = Dataset.from_pandas(train_df)\n",
    "# ba_en_val_dataset = Dataset.from_pandas(val_df)\n",
    "\n",
    "with open('/kaggle/input/test-eng-bdq-phase2dataset-v1/bdq-eng.test.bdq', 'r', encoding='utf-8') as file_ba:\n",
    "    ba_data = file_ba.readlines()\n",
    "with open('/kaggle/input/test-eng-bdq-phase2dataset-v1/bdq-eng.test.eng', 'r', encoding='utf-8') as file_en:\n",
    "    en_data = file_en.readlines()\n",
    "assert len(ba_data) == len(en_data), \"The files don't have the same number of lines.\"\n",
    "test_df = pd.DataFrame({'English': en_data, 'Bahnar': ba_data})\n",
    "ba_en_test_dataset = Dataset.from_pandas(test_df)\n",
    "\n",
    "print(len(ba_en_train_dataset), len(ba_en_test_dataset))"
   ]
  },
  {
   "cell_type": "code",
   "execution_count": 6,
   "id": "59c9b84d",
   "metadata": {
    "execution": {
     "iopub.execute_input": "2025-06-09T10:57:31.027317Z",
     "iopub.status.busy": "2025-06-09T10:57:31.026786Z",
     "iopub.status.idle": "2025-06-09T10:57:31.033265Z",
     "shell.execute_reply": "2025-06-09T10:57:31.032766Z"
    },
    "papermill": {
     "duration": 0.013897,
     "end_time": "2025-06-09T10:57:31.034255",
     "exception": false,
     "start_time": "2025-06-09T10:57:31.020358",
     "status": "completed"
    },
    "tags": []
   },
   "outputs": [],
   "source": [
    "from transformers import NllbTokenizer\n",
    "from tqdm.auto import tqdm, trange"
   ]
  },
  {
   "cell_type": "code",
   "execution_count": 7,
   "id": "8ff059c9",
   "metadata": {
    "execution": {
     "iopub.execute_input": "2025-06-09T10:57:31.046558Z",
     "iopub.status.busy": "2025-06-09T10:57:31.046120Z",
     "iopub.status.idle": "2025-06-09T10:57:32.027739Z",
     "shell.execute_reply": "2025-06-09T10:57:32.027111Z"
    },
    "papermill": {
     "duration": 0.989174,
     "end_time": "2025-06-09T10:57:32.029114",
     "exception": false,
     "start_time": "2025-06-09T10:57:31.039940",
     "status": "completed"
    },
    "tags": []
   },
   "outputs": [],
   "source": [
    "# tokenizer = NllbTokenizer.from_pretrained('facebook/nllb-200-distilled-600M')\n",
    "tokenizer = NllbTokenizer.from_pretrained('/kaggle/input/checkpoint-nllb/transformers/default/2')"
   ]
  },
  {
   "cell_type": "code",
   "execution_count": 8,
   "id": "1845b2e2",
   "metadata": {
    "execution": {
     "iopub.execute_input": "2025-06-09T10:57:32.041906Z",
     "iopub.status.busy": "2025-06-09T10:57:32.041691Z",
     "iopub.status.idle": "2025-06-09T10:57:32.045509Z",
     "shell.execute_reply": "2025-06-09T10:57:32.044790Z"
    },
    "papermill": {
     "duration": 0.011441,
     "end_time": "2025-06-09T10:57:32.046613",
     "exception": false,
     "start_time": "2025-06-09T10:57:32.035172",
     "status": "completed"
    },
    "tags": []
   },
   "outputs": [],
   "source": [
    "import re\n",
    "\n",
    "def word_tokenize(text):\n",
    "    # a very naive word tokenizer for languages with English-like orthography\n",
    "    return re.findall('(\\w+|[^\\w\\s])', text)"
   ]
  },
  {
   "cell_type": "code",
   "execution_count": 9,
   "id": "1bf64c97",
   "metadata": {
    "execution": {
     "iopub.execute_input": "2025-06-09T10:57:32.058723Z",
     "iopub.status.busy": "2025-06-09T10:57:32.058534Z",
     "iopub.status.idle": "2025-06-09T10:57:32.068301Z",
     "shell.execute_reply": "2025-06-09T10:57:32.067620Z"
    },
    "papermill": {
     "duration": 0.017089,
     "end_time": "2025-06-09T10:57:32.069316",
     "exception": false,
     "start_time": "2025-06-09T10:57:32.052227",
     "status": "completed"
    },
    "tags": []
   },
   "outputs": [
    {
     "data": {
      "text/plain": [
       "25224"
      ]
     },
     "execution_count": 9,
     "metadata": {},
     "output_type": "execute_result"
    }
   ],
   "source": [
    "from datasets import concatenate_datasets\n",
    "full_dataset = concatenate_datasets([ba_en_train_dataset, ba_en_test_dataset])\n",
    "len(full_dataset)"
   ]
  },
  {
   "cell_type": "markdown",
   "id": "7b8b41d1",
   "metadata": {},
   "source": [
    "#### Check NLLB tokenizer for unknown tokens"
   ]
  },
  {
   "cell_type": "code",
   "execution_count": 10,
   "id": "1769389c",
   "metadata": {
    "execution": {
     "iopub.execute_input": "2025-06-09T10:57:32.081448Z",
     "iopub.status.busy": "2025-06-09T10:57:32.081211Z",
     "iopub.status.idle": "2025-06-09T10:57:50.249268Z",
     "shell.execute_reply": "2025-06-09T10:57:50.248273Z"
    },
    "papermill": {
     "duration": 18.175553,
     "end_time": "2025-06-09T10:57:50.250544",
     "exception": false,
     "start_time": "2025-06-09T10:57:32.074991",
     "status": "completed"
    },
    "tags": []
   },
   "outputs": [
    {
     "data": {
      "application/vnd.jupyter.widget-view+json": {
       "model_id": "cbd6861b37364620981193cde87bc3e5",
       "version_major": 2,
       "version_minor": 0
      },
      "text/plain": [
       "Map:   0%|          | 0/25224 [00:00<?, ? examples/s]"
      ]
     },
     "metadata": {},
     "output_type": "display_data"
    },
    {
     "name": "stdout",
     "output_type": "stream",
     "text": [
      "1.1708776865933022\n",
      "2.205711089306838\n",
      "<unk> 3\n"
     ]
    }
   ],
   "source": [
    "import random\n",
    "from datasets import Dataset\n",
    "from nltk.tokenize import word_tokenize\n",
    "import pandas as pd\n",
    "\n",
    "# Step 1: Sample 10,000 examples\n",
    "sampled = full_dataset\n",
    "\n",
    "# Step 2: Apply subword tokenizer\n",
    "def tokenize_example(example):\n",
    "    return {\n",
    "        'en_toks': tokenizer.tokenize(example['English']),\n",
    "        'ba_toks': tokenizer.tokenize(example['Bahnar']),\n",
    "        'en_words': word_tokenize(example['English']),\n",
    "        'ba_words': word_tokenize(example['Bahnar'])\n",
    "    }\n",
    "\n",
    "tokenized_dataset = sampled.map(tokenize_example)\n",
    "\n",
    "# Step 3: Convert to pandas for stats\n",
    "df = tokenized_dataset.to_pandas()\n",
    "\n",
    "# Step 4: Compute length stats\n",
    "stats = df[['en_toks', 'ba_toks', 'en_words', 'ba_words']].map(len).describe()\n",
    "\n",
    "# Step 5: Print token/word ratios\n",
    "print(stats.en_toks['mean'] / stats.en_words['mean'])\n",
    "print(stats.ba_toks['mean'] / stats.ba_words['mean'])\n",
    "\n",
    "# Step 6: Print tokenizer UNK info\n",
    "print(tokenizer.unk_token, tokenizer.unk_token_id)"
   ]
  },
  {
   "cell_type": "code",
   "execution_count": 11,
   "id": "92eb0cb1",
   "metadata": {
    "execution": {
     "iopub.execute_input": "2025-06-09T10:57:50.263763Z",
     "iopub.status.busy": "2025-06-09T10:57:50.263557Z",
     "iopub.status.idle": "2025-06-09T10:57:50.279760Z",
     "shell.execute_reply": "2025-06-09T10:57:50.279191Z"
    },
    "papermill": {
     "duration": 0.024003,
     "end_time": "2025-06-09T10:57:50.280835",
     "exception": false,
     "start_time": "2025-06-09T10:57:50.256832",
     "status": "completed"
    },
    "tags": []
   },
   "outputs": [
    {
     "data": {
      "text/html": [
       "<div>\n",
       "<style scoped>\n",
       "    .dataframe tbody tr th:only-of-type {\n",
       "        vertical-align: middle;\n",
       "    }\n",
       "\n",
       "    .dataframe tbody tr th {\n",
       "        vertical-align: top;\n",
       "    }\n",
       "\n",
       "    .dataframe thead th {\n",
       "        text-align: right;\n",
       "    }\n",
       "</style>\n",
       "<table border=\"1\" class=\"dataframe\">\n",
       "  <thead>\n",
       "    <tr style=\"text-align: right;\">\n",
       "      <th></th>\n",
       "      <th>en_toks</th>\n",
       "      <th>ba_toks</th>\n",
       "      <th>en_words</th>\n",
       "      <th>ba_words</th>\n",
       "    </tr>\n",
       "  </thead>\n",
       "  <tbody>\n",
       "    <tr>\n",
       "      <th>count</th>\n",
       "      <td>25224.000000</td>\n",
       "      <td>25224.000000</td>\n",
       "      <td>25224.000000</td>\n",
       "      <td>25224.000000</td>\n",
       "    </tr>\n",
       "    <tr>\n",
       "      <th>mean</th>\n",
       "      <td>23.988463</td>\n",
       "      <td>47.679789</td>\n",
       "      <td>20.487591</td>\n",
       "      <td>21.616516</td>\n",
       "    </tr>\n",
       "    <tr>\n",
       "      <th>std</th>\n",
       "      <td>15.552951</td>\n",
       "      <td>30.325284</td>\n",
       "      <td>13.363663</td>\n",
       "      <td>13.869221</td>\n",
       "    </tr>\n",
       "    <tr>\n",
       "      <th>min</th>\n",
       "      <td>1.000000</td>\n",
       "      <td>0.000000</td>\n",
       "      <td>1.000000</td>\n",
       "      <td>0.000000</td>\n",
       "    </tr>\n",
       "    <tr>\n",
       "      <th>25%</th>\n",
       "      <td>11.000000</td>\n",
       "      <td>23.000000</td>\n",
       "      <td>9.000000</td>\n",
       "      <td>10.000000</td>\n",
       "    </tr>\n",
       "    <tr>\n",
       "      <th>50%</th>\n",
       "      <td>20.000000</td>\n",
       "      <td>40.000000</td>\n",
       "      <td>17.000000</td>\n",
       "      <td>18.000000</td>\n",
       "    </tr>\n",
       "    <tr>\n",
       "      <th>75%</th>\n",
       "      <td>34.000000</td>\n",
       "      <td>67.000000</td>\n",
       "      <td>29.000000</td>\n",
       "      <td>30.000000</td>\n",
       "    </tr>\n",
       "    <tr>\n",
       "      <th>max</th>\n",
       "      <td>105.000000</td>\n",
       "      <td>276.000000</td>\n",
       "      <td>91.000000</td>\n",
       "      <td>103.000000</td>\n",
       "    </tr>\n",
       "  </tbody>\n",
       "</table>\n",
       "</div>"
      ],
      "text/plain": [
       "            en_toks       ba_toks      en_words      ba_words\n",
       "count  25224.000000  25224.000000  25224.000000  25224.000000\n",
       "mean      23.988463     47.679789     20.487591     21.616516\n",
       "std       15.552951     30.325284     13.363663     13.869221\n",
       "min        1.000000      0.000000      1.000000      0.000000\n",
       "25%       11.000000     23.000000      9.000000     10.000000\n",
       "50%       20.000000     40.000000     17.000000     18.000000\n",
       "75%       34.000000     67.000000     29.000000     30.000000\n",
       "max      105.000000    276.000000     91.000000    103.000000"
      ]
     },
     "execution_count": 11,
     "metadata": {},
     "output_type": "execute_result"
    }
   ],
   "source": [
    "stats"
   ]
  },
  {
   "cell_type": "code",
   "execution_count": 12,
   "id": "21fbdc4d",
   "metadata": {
    "execution": {
     "iopub.execute_input": "2025-06-09T10:57:50.294129Z",
     "iopub.status.busy": "2025-06-09T10:57:50.293503Z",
     "iopub.status.idle": "2025-06-09T10:57:57.305757Z",
     "shell.execute_reply": "2025-06-09T10:57:57.304962Z"
    },
    "papermill": {
     "duration": 7.019963,
     "end_time": "2025-06-09T10:57:57.306852",
     "exception": false,
     "start_time": "2025-06-09T10:57:50.286889",
     "status": "completed"
    },
    "tags": []
   },
   "outputs": [
    {
     "data": {
      "application/vnd.jupyter.widget-view+json": {
       "model_id": "cda95bccab0d445da41aad4b4e05a846",
       "version_major": 2,
       "version_minor": 0
      },
      "text/plain": [
       "  0%|          | 0/25224 [00:00<?, ?it/s]"
      ]
     },
     "metadata": {},
     "output_type": "display_data"
    },
    {
     "name": "stdout",
     "output_type": "stream",
     "text": [
      "1514\n",
      "[\"Thoi noh Kră Yang Tih Hloh 'Bok Kei-Dei lu bơngai Isơrael khan: “'Nâu Inh gô 'me rong kon pơlei 'nâu hăm 'long tăng păng ăn kơ lu sư nhă đak hơkăm bơnhŭl\\n\", '“Mưh lu kon pơlei đĭch đam ih tơblah hăm lu ayăt, kiơ̆ kơ đơ̆ng Ih wơh; mưh sư krao khan hơdrĭ hăm anăn ih; sư tơwih gah pơlei âu pơlei mă Ih rơih bơih, sư tơkan tơ hnam akŭm mă đơ̆ng inh pơm\\n', \"Lu sư teh pơpuh lu aseh mă lu pơtao đe Juđa pơyơ̆r ăn kơ yang măt 'năr, pơdơ̆ng 'bơ̆t 'măng mơ̆t tơ Hnam akŭm kơkuh kơ Kră Yang, jê̆ hnam linh krĕo anăn sư Nathan Mêlek, 'bơ̆t cham Hnam akŭm,’ Jôsia soh rŭk lê̆ đĭ lu gre aseh pơyơ̆r kơ yang măt 'năr\\n\", \"Na Yêsu tơblang ăn kơ lu sư: “Bơngai mă rei adrĕch 'ba 'lơ̆ng noh wă khan Inh Kon Bơngai\\n\", \"“Đĭ rim 'nu kon bơngai gô đei tơdrong gleh pơmat-tat\\n\"]\n"
     ]
    }
   ],
   "source": [
    "# Find texts with UNK tokens in Bahnar field\n",
    "bahnar_texts = df['Bahnar'].tolist()\n",
    "texts_with_unk = [text for text in tqdm(bahnar_texts) if tokenizer.unk_token_id in tokenizer(text).input_ids]\n",
    "\n",
    "# Show count and sample\n",
    "print(len(texts_with_unk))\n",
    "print(random.sample(texts_with_unk, 5))"
   ]
  },
  {
   "cell_type": "markdown",
   "id": "4cb42ae3",
   "metadata": {
    "papermill": {
     "duration": 0.006077,
     "end_time": "2025-06-09T10:57:57.319635",
     "exception": false,
     "start_time": "2025-06-09T10:57:57.313558",
     "status": "completed"
    },
    "tags": []
   },
   "source": [
    "#### Fix encoding to fix unknown tokens"
   ]
  },
  {
   "cell_type": "code",
   "execution_count": 13,
   "id": "d342ce88",
   "metadata": {
    "execution": {
     "iopub.execute_input": "2025-06-09T10:57:57.333145Z",
     "iopub.status.busy": "2025-06-09T10:57:57.332920Z",
     "iopub.status.idle": "2025-06-09T10:57:58.834290Z",
     "shell.execute_reply": "2025-06-09T10:57:58.833659Z"
    },
    "papermill": {
     "duration": 1.509801,
     "end_time": "2025-06-09T10:57:58.835559",
     "exception": false,
     "start_time": "2025-06-09T10:57:57.325758",
     "status": "completed"
    },
    "tags": []
   },
   "outputs": [
    {
     "data": {
      "application/vnd.jupyter.widget-view+json": {
       "model_id": "b1fa16bbf1fc4a8ca3cbf65391672498",
       "version_major": 2,
       "version_minor": 0
      },
      "text/plain": [
       "  0%|          | 0/1514 [00:00<?, ?it/s]"
      ]
     },
     "metadata": {},
     "output_type": "display_data"
    },
    {
     "name": "stdout",
     "output_type": "stream",
     "text": [
      "Texts with UNKs (after normalization): 0\n"
     ]
    }
   ],
   "source": [
    "\n",
    "import re\n",
    "import sys\n",
    "import typing as tp\n",
    "import unicodedata\n",
    "from sacremoses import MosesPunctNormalizer\n",
    "\n",
    "# --- Normalization Setup ---\n",
    "mpn = MosesPunctNormalizer(lang=\"en\")\n",
    "mpn.substitutions = [(re.compile(r), sub) for r, sub in mpn.substitutions]\n",
    "\n",
    "def get_non_printing_char_replacer(replace_by: str = \" \") -> tp.Callable[[str], str]:\n",
    "    non_printable_map = {\n",
    "        ord(c): replace_by\n",
    "        for c in (chr(i) for i in range(sys.maxunicode + 1))\n",
    "        if unicodedata.category(c) in {\"C\", \"Cc\", \"Cf\", \"Cs\", \"Co\", \"Cn\"}\n",
    "    }\n",
    "\n",
    "    def replace_non_printing_char(line: str) -> str:\n",
    "        return line.translate(non_printable_map)\n",
    "\n",
    "    return replace_non_printing_char\n",
    "\n",
    "replace_nonprint = get_non_printing_char_replacer(\" \")\n",
    "\n",
    "# Custom character normalization for problematic characters\n",
    "def custom_char_normalizer(text: str) -> str:\n",
    "    # Replace problematic accented characters with their base versions or remove them\n",
    "    text = text.replace(\"Ĭ\", \"I\").replace(\"Ŭ\", \"U\").replace(\"Ŏ\", \"O\")\n",
    "    text = text.replace(\"Ĭ\", \"I\").replace(\"Ŭ\", \"U\").replace(\"Ĕ\", \"E\")\n",
    "    # Add more characters here as needed\n",
    "    return text\n",
    "\n",
    "\n",
    "def preproc(text: str) -> str:\n",
    "    text = custom_char_normalizer(text)\n",
    "    clean = mpn.normalize(text)\n",
    "    clean = replace_nonprint(clean)\n",
    "    clean = unicodedata.normalize(\"NFKC\", clean)\n",
    "    return clean\n",
    "\n",
    "# --- Texts with UNKs (after normalization) ---\n",
    "texts_with_unk_normed = [text for text in tqdm(texts_with_unk) if tokenizer.unk_token_id in tokenizer(preproc(text)).input_ids]\n",
    "print(\"Texts with UNKs (after normalization):\", len(texts_with_unk_normed))"
   ]
  },
  {
   "cell_type": "code",
   "execution_count": 14,
   "id": "15693623",
   "metadata": {
    "execution": {
     "iopub.execute_input": "2025-06-09T10:57:58.849487Z",
     "iopub.status.busy": "2025-06-09T10:57:58.849230Z",
     "iopub.status.idle": "2025-06-09T10:57:58.856257Z",
     "shell.execute_reply": "2025-06-09T10:57:58.855587Z"
    },
    "papermill": {
     "duration": 0.014932,
     "end_time": "2025-06-09T10:57:58.857260",
     "exception": false,
     "start_time": "2025-06-09T10:57:58.842328",
     "status": "completed"
    },
    "tags": []
   },
   "outputs": [
    {
     "name": "stdout",
     "output_type": "stream",
     "text": [
      "Original: Sư iŏk pơđĭ lu rup yang anhăk ba tơ dêh char Êyiptơ, hăm iŏk pơđĭ lu rup man păng đĭ lu maih păng đĭ lu pơnhan chhĕr pơm păng hu păng maih hai; dang 'bar pêng sơnăm sư ưh kơ blah pơtao yă-nơ̆m\n",
      "\n",
      "Preprocessed: Sư iŏk pơđĭ lu rup yang anhăk ba tơ dêh char Êyiptơ, hăm iŏk pơđĭ lu rup man păng đĭ lu maih păng đĭ lu pơnhan chhĕr pơm păng hu păng maih hai; dang 'bar pêng sơnăm sư ưh kơ blah pơtao yă-nơ̆m\n",
      "All Tokens: ['▁S', 'ư', '▁i', 'ŏ', 'k', '▁p', 'ơ', 'đ', 'ĭ', '▁lu', '▁rup', '▁yang', '▁anh', 'ă', 'k', '▁ba', '▁t', 'ơ', '▁dê', 'h', '▁char', '▁Ê', 'yi', 'pt', 'ơ', ',', '▁h', 'ăm', '▁i', 'ŏ', 'k', '▁p', 'ơ', 'đ', 'ĭ', '▁lu', '▁rup', '▁man', '▁p', 'ăng', '▁đ', 'ĭ', '▁lu', '▁mai', 'h', '▁p', 'ăng', '▁đ', 'ĭ', '▁lu', '▁p', 'ơn', 'han', '▁chh', 'ĕ', 'r', '▁p', 'ơ', 'm', '▁p', 'ăng', '▁hu', '▁p', 'ăng', '▁mai', 'h', '▁hai', ';', '▁dang', \"▁'\", 'bar', '▁pê', 'ng', '▁s', 'ơn', 'ăm', '▁sư', '▁', 'ư', 'h', '▁k', 'ơ', '▁blah', '▁p', 'ơ', 'tao', '▁y', 'ă', '-', 'n', 'ơ', '̆', 'm']\n",
      "UNK Tokens: []\n",
      "Tokens: [256047, 83, 248529, 30, 250706, 248071, 17, 249076, 248347, 253468, 873, 36809, 512, 11728, 248427, 248071, 161, 7, 249076, 45952, 248074, 21596, 41154, 486, 1943, 249076, 248079, 28, 4005, 30, 250706, 248071, 17, 249076, 248347, 253468, 873, 36809, 492, 17, 6914, 339, 253468, 873, 1111, 248074, 17, 6914, 339, 253468, 873, 17, 5311, 469, 18602, 253076, 248067, 17, 249076, 248070, 17, 6914, 1564, 17, 6914, 1111, 248074, 4235, 248280, 13502, 238, 2078, 16741, 163, 10, 5311, 4005, 63176, 248059, 248529, 248074, 8, 249076, 169313, 17, 249076, 19095, 35, 248427, 248105, 248063, 249076, 254034, 248070, 2]\n"
     ]
    }
   ],
   "source": [
    "# sample_text = random.choice(texts_with_unk_normed)\n",
    "sample_text = random.choice(bahnar_texts)\n",
    "\n",
    "preprocessed = preproc(sample_text)\n",
    "\n",
    "# Tokenize and get IDs\n",
    "encoding = tokenizer(preprocessed, return_tensors=None)\n",
    "tokens =  tokenizer.tokenize(preproc(sample_text))\n",
    "ids = encoding.input_ids\n",
    "\n",
    "# Identify tokens that are UNK\n",
    "unk_tokens = [tok for tok, id_ in zip(tokens, ids) if id_ == tokenizer.unk_token_id]\n",
    "\n",
    "# Print output\n",
    "print(\"Original:\", sample_text)\n",
    "print(\"Preprocessed:\", preprocessed)\n",
    "print(\"All Tokens:\", tokens)\n",
    "print(\"UNK Tokens:\", unk_tokens)\n",
    "print(\"Tokens:\", encoding.input_ids)"
   ]
  },
  {
   "cell_type": "code",
   "execution_count": 15,
   "id": "59bbe788",
   "metadata": {
    "execution": {
     "iopub.execute_input": "2025-06-09T10:57:58.870851Z",
     "iopub.status.busy": "2025-06-09T10:57:58.870653Z",
     "iopub.status.idle": "2025-06-09T10:57:58.875829Z",
     "shell.execute_reply": "2025-06-09T10:57:58.875100Z"
    },
    "papermill": {
     "duration": 0.01314,
     "end_time": "2025-06-09T10:57:58.876965",
     "exception": false,
     "start_time": "2025-06-09T10:57:58.863825",
     "status": "completed"
    },
    "tags": []
   },
   "outputs": [
    {
     "data": {
      "text/plain": [
       "['eng_Latn',\n",
       " '▁S',\n",
       " 'ư',\n",
       " '▁i',\n",
       " 'ŏ',\n",
       " 'k',\n",
       " '▁p',\n",
       " 'ơ',\n",
       " 'đ',\n",
       " 'ĭ',\n",
       " '▁lu',\n",
       " '▁rup',\n",
       " '▁yang',\n",
       " '▁anh',\n",
       " 'ă',\n",
       " 'k',\n",
       " '▁ba',\n",
       " '▁t',\n",
       " 'ơ',\n",
       " '▁dê',\n",
       " 'h',\n",
       " '▁char',\n",
       " '▁Ê',\n",
       " 'yi',\n",
       " 'pt',\n",
       " 'ơ',\n",
       " ',',\n",
       " '▁h',\n",
       " 'ăm',\n",
       " '▁i',\n",
       " 'ŏ',\n",
       " 'k',\n",
       " '▁p',\n",
       " 'ơ',\n",
       " 'đ',\n",
       " 'ĭ',\n",
       " '▁lu',\n",
       " '▁rup',\n",
       " '▁man',\n",
       " '▁p',\n",
       " 'ăng',\n",
       " '▁đ',\n",
       " 'ĭ',\n",
       " '▁lu',\n",
       " '▁mai',\n",
       " 'h',\n",
       " '▁p',\n",
       " 'ăng',\n",
       " '▁đ',\n",
       " 'ĭ',\n",
       " '▁lu',\n",
       " '▁p',\n",
       " 'ơn',\n",
       " 'han',\n",
       " '▁chh',\n",
       " 'ĕ',\n",
       " 'r',\n",
       " '▁p',\n",
       " 'ơ',\n",
       " 'm',\n",
       " '▁p',\n",
       " 'ăng',\n",
       " '▁hu',\n",
       " '▁p',\n",
       " 'ăng',\n",
       " '▁mai',\n",
       " 'h',\n",
       " '▁hai',\n",
       " ';',\n",
       " '▁dang',\n",
       " \"▁'\",\n",
       " 'bar',\n",
       " '▁pê',\n",
       " 'ng',\n",
       " '▁s',\n",
       " 'ơn',\n",
       " 'ăm',\n",
       " '▁sư',\n",
       " '▁',\n",
       " 'ư',\n",
       " 'h',\n",
       " '▁k',\n",
       " 'ơ',\n",
       " '▁blah',\n",
       " '▁p',\n",
       " 'ơ',\n",
       " 'tao',\n",
       " '▁y',\n",
       " 'ă',\n",
       " '-',\n",
       " 'n',\n",
       " 'ơ',\n",
       " '̆',\n",
       " 'm',\n",
       " '</s>']"
      ]
     },
     "execution_count": 15,
     "metadata": {},
     "output_type": "execute_result"
    }
   ],
   "source": [
    "tokenizer.convert_ids_to_tokens(encoding.input_ids)"
   ]
  },
  {
   "cell_type": "markdown",
   "id": "699d854d",
   "metadata": {
    "papermill": {
     "duration": 0.006406,
     "end_time": "2025-06-09T10:57:58.889948",
     "exception": false,
     "start_time": "2025-06-09T10:57:58.883542",
     "status": "completed"
    },
    "tags": []
   },
   "source": [
    "#### Add new language tag"
   ]
  },
  {
   "cell_type": "code",
   "execution_count": 16,
   "id": "22c97ae7",
   "metadata": {
    "execution": {
     "iopub.execute_input": "2025-06-09T10:57:58.903445Z",
     "iopub.status.busy": "2025-06-09T10:57:58.903222Z",
     "iopub.status.idle": "2025-06-09T10:57:58.906015Z",
     "shell.execute_reply": "2025-06-09T10:57:58.905528Z"
    },
    "papermill": {
     "duration": 0.010815,
     "end_time": "2025-06-09T10:57:58.907108",
     "exception": false,
     "start_time": "2025-06-09T10:57:58.896293",
     "status": "completed"
    },
    "tags": []
   },
   "outputs": [],
   "source": [
    "# from transformers import AutoModelForSeq2SeqLM\n",
    "# from transformers import NllbTokenizer\n",
    "\n",
    "# tokenizer = NllbTokenizer.from_pretrained('facebook/nllb-200-distilled-600M')\n",
    "# print(len(tokenizer))\n",
    "# print(tokenizer.convert_ids_to_tokens([256202, 256203]))\n"
   ]
  },
  {
   "cell_type": "code",
   "execution_count": 17,
   "id": "8cf0be6c",
   "metadata": {
    "execution": {
     "iopub.execute_input": "2025-06-09T10:57:58.920976Z",
     "iopub.status.busy": "2025-06-09T10:57:58.920799Z",
     "iopub.status.idle": "2025-06-09T10:57:58.923891Z",
     "shell.execute_reply": "2025-06-09T10:57:58.923207Z"
    },
    "papermill": {
     "duration": 0.011171,
     "end_time": "2025-06-09T10:57:58.924982",
     "exception": false,
     "start_time": "2025-06-09T10:57:58.913811",
     "status": "completed"
    },
    "tags": []
   },
   "outputs": [],
   "source": [
    "# def fix_tokenizer(tokenizer, new_lang='bah_Latn'):\n",
    "#     tokenizer.add_special_tokens({\"additional_special_tokens\": [new_lang]}, replace_additional_special_tokens=False)\n",
    "\n",
    "# fix_tokenizer(tokenizer)"
   ]
  },
  {
   "cell_type": "code",
   "execution_count": 18,
   "id": "7f568993",
   "metadata": {
    "execution": {
     "iopub.execute_input": "2025-06-09T10:57:58.984309Z",
     "iopub.status.busy": "2025-06-09T10:57:58.983808Z",
     "iopub.status.idle": "2025-06-09T10:57:58.987922Z",
     "shell.execute_reply": "2025-06-09T10:57:58.987350Z"
    },
    "papermill": {
     "duration": 0.01271,
     "end_time": "2025-06-09T10:57:58.988983",
     "exception": false,
     "start_time": "2025-06-09T10:57:58.976273",
     "status": "completed"
    },
    "tags": []
   },
   "outputs": [
    {
     "name": "stdout",
     "output_type": "stream",
     "text": [
      "256205\n",
      "['zul_Latn', '<mask>', 'bah_Latn']\n"
     ]
    }
   ],
   "source": [
    "print(len(tokenizer))\n",
    "print(tokenizer.convert_ids_to_tokens([256202, 256203, 256204])) \n",
    "# WTF why mask is not last token ?"
   ]
  },
  {
   "cell_type": "code",
   "execution_count": 19,
   "id": "be186dea",
   "metadata": {
    "execution": {
     "iopub.execute_input": "2025-06-09T10:57:59.003685Z",
     "iopub.status.busy": "2025-06-09T10:57:59.002897Z",
     "iopub.status.idle": "2025-06-09T10:57:59.006910Z",
     "shell.execute_reply": "2025-06-09T10:57:59.006275Z"
    },
    "papermill": {
     "duration": 0.012261,
     "end_time": "2025-06-09T10:57:59.007927",
     "exception": false,
     "start_time": "2025-06-09T10:57:58.995666",
     "status": "completed"
    },
    "tags": []
   },
   "outputs": [
    {
     "name": "stdout",
     "output_type": "stream",
     "text": [
      "256204 256193\n"
     ]
    }
   ],
   "source": [
    "added_token_id = tokenizer.convert_tokens_to_ids('bah_Latn')\n",
    "similar_lang_id = tokenizer.convert_tokens_to_ids('vie_Latn')\n",
    "print(added_token_id, similar_lang_id)"
   ]
  },
  {
   "cell_type": "markdown",
   "id": "69f527ad",
   "metadata": {
    "papermill": {
     "duration": 0.006544,
     "end_time": "2025-06-09T10:57:59.021231",
     "exception": false,
     "start_time": "2025-06-09T10:57:59.014687",
     "status": "completed"
    },
    "tags": []
   },
   "source": [
    "## 2. Model"
   ]
  },
  {
   "cell_type": "markdown",
   "id": "070277fe",
   "metadata": {},
   "source": [
    "#### Initialize Model and Training args"
   ]
  },
  {
   "cell_type": "code",
   "execution_count": 20,
   "id": "692be5ad",
   "metadata": {
    "execution": {
     "iopub.execute_input": "2025-06-09T10:57:59.035186Z",
     "iopub.status.busy": "2025-06-09T10:57:59.034960Z",
     "iopub.status.idle": "2025-06-09T10:57:59.037912Z",
     "shell.execute_reply": "2025-06-09T10:57:59.037417Z"
    },
    "papermill": {
     "duration": 0.011231,
     "end_time": "2025-06-09T10:57:59.038958",
     "exception": false,
     "start_time": "2025-06-09T10:57:59.027727",
     "status": "completed"
    },
    "tags": []
   },
   "outputs": [],
   "source": [
    "# model = AutoModelForSeq2SeqLM.from_pretrained('facebook/nllb-200-distilled-600M')\n",
    "# model.resize_token_embeddings(len(tokenizer))\n",
    "\n",
    "# # initializing new language token with a token of a similar language\n",
    "# model.model.shared.weight.data[added_token_id] = model.model.shared.weight.data[similar_lang_id]"
   ]
  },
  {
   "cell_type": "code",
   "execution_count": 21,
   "id": "267351eb",
   "metadata": {
    "execution": {
     "iopub.execute_input": "2025-06-09T10:57:59.052964Z",
     "iopub.status.busy": "2025-06-09T10:57:59.052770Z",
     "iopub.status.idle": "2025-06-09T10:58:00.820013Z",
     "shell.execute_reply": "2025-06-09T10:58:00.819420Z"
    },
    "papermill": {
     "duration": 1.775658,
     "end_time": "2025-06-09T10:58:00.821297",
     "exception": false,
     "start_time": "2025-06-09T10:57:59.045639",
     "status": "completed"
    },
    "tags": []
   },
   "outputs": [],
   "source": [
    "model = AutoModelForSeq2SeqLM.from_pretrained('/kaggle/input/checkpoint-nllb/transformers/default/2')"
   ]
  },
  {
   "cell_type": "code",
   "execution_count": 22,
   "id": "ee174567",
   "metadata": {
    "execution": {
     "iopub.execute_input": "2025-06-09T10:58:00.836038Z",
     "iopub.status.busy": "2025-06-09T10:58:00.835656Z",
     "iopub.status.idle": "2025-06-09T10:58:20.572820Z",
     "shell.execute_reply": "2025-06-09T10:58:20.572025Z"
    },
    "papermill": {
     "duration": 19.745859,
     "end_time": "2025-06-09T10:58:20.574188",
     "exception": false,
     "start_time": "2025-06-09T10:58:00.828329",
     "status": "completed"
    },
    "tags": []
   },
   "outputs": [],
   "source": [
    "\n",
    "import random\n",
    "import numpy as np\n",
    "import torch\n",
    "from tqdm.auto import tqdm, trange\n",
    "from transformers.optimization import Adafactor\n",
    "from transformers import get_constant_schedule_with_warmup\n",
    "\n",
    "torch.cuda.empty_cache()\n",
    "\n",
    "model.cuda()\n",
    "\n",
    "optimizer = Adafactor(\n",
    "    [p for p in model.parameters() if p.requires_grad],\n",
    "    scale_parameter=False,\n",
    "    relative_step=False,\n",
    "    lr=1e-4,\n",
    "    clip_threshold=1.0,\n",
    "    weight_decay=1e-3,\n",
    ")"
   ]
  },
  {
   "cell_type": "code",
   "execution_count": 23,
   "id": "973dc2fa",
   "metadata": {
    "execution": {
     "iopub.execute_input": "2025-06-09T10:58:20.588828Z",
     "iopub.status.busy": "2025-06-09T10:58:20.588627Z",
     "iopub.status.idle": "2025-06-09T10:58:20.591913Z",
     "shell.execute_reply": "2025-06-09T10:58:20.591402Z"
    },
    "papermill": {
     "duration": 0.0115,
     "end_time": "2025-06-09T10:58:20.592900",
     "exception": false,
     "start_time": "2025-06-09T10:58:20.581400",
     "status": "completed"
    },
    "tags": []
   },
   "outputs": [],
   "source": [
    "batch_size = 16  # 32 already doesn't fit well to 15GB of GPU memory\n",
    "max_length = 128\n",
    "warmup_steps = 1_000\n",
    "training_steps = 50000 #Less steps"
   ]
  },
  {
   "cell_type": "code",
   "execution_count": 24,
   "id": "244dcc02",
   "metadata": {
    "execution": {
     "iopub.execute_input": "2025-06-09T10:58:20.606638Z",
     "iopub.status.busy": "2025-06-09T10:58:20.606451Z",
     "iopub.status.idle": "2025-06-09T10:58:20.609444Z",
     "shell.execute_reply": "2025-06-09T10:58:20.608931Z"
    },
    "papermill": {
     "duration": 0.010974,
     "end_time": "2025-06-09T10:58:20.610425",
     "exception": false,
     "start_time": "2025-06-09T10:58:20.599451",
     "status": "completed"
    },
    "tags": []
   },
   "outputs": [],
   "source": [
    "losses = []\n",
    "scheduler = get_constant_schedule_with_warmup(optimizer, num_warmup_steps=warmup_steps)"
   ]
  },
  {
   "cell_type": "markdown",
   "id": "b058dbcc",
   "metadata": {
    "papermill": {
     "duration": 0.006906,
     "end_time": "2025-06-09T10:58:20.623814",
     "exception": false,
     "start_time": "2025-06-09T10:58:20.616908",
     "status": "completed"
    },
    "tags": []
   },
   "source": [
    "#### Batch pairs"
   ]
  },
  {
   "cell_type": "markdown",
   "id": "26b224fc",
   "metadata": {},
   "source": [
    "Pairs of sentences and language role (source-target) from the base training En-Ba dataset are randomly selected. "
   ]
  },
  {
   "cell_type": "code",
   "execution_count": 25,
   "id": "5de85dae",
   "metadata": {
    "execution": {
     "iopub.execute_input": "2025-06-09T10:58:20.637473Z",
     "iopub.status.busy": "2025-06-09T10:58:20.637260Z",
     "iopub.status.idle": "2025-06-09T10:58:20.642979Z",
     "shell.execute_reply": "2025-06-09T10:58:20.642182Z"
    },
    "papermill": {
     "duration": 0.013797,
     "end_time": "2025-06-09T10:58:20.644060",
     "exception": false,
     "start_time": "2025-06-09T10:58:20.630263",
     "status": "completed"
    },
    "tags": []
   },
   "outputs": [
    {
     "name": "stdout",
     "output_type": "stream",
     "text": [
      "([\"Ơ Kră Yang 'Bok Kei-Dei, Ih trŏ boih kơ nhôn hli kơkuh lăm anih 'lơ̆ng rơgoh\"], ['O God, thou art terrible out of thy holy places:'], 'bah_Latn', 'eng_Latn')\n"
     ]
    }
   ],
   "source": [
    "import random\n",
    "\n",
    "LANGS = [('English', 'eng_Latn'), ('Bahnar', 'bah_Latn')]\n",
    "\n",
    "def get_batch_pairs(batch_size, data):\n",
    "    (l1, long1), (l2, long2) = random.sample(LANGS, 2)\n",
    "    xx, yy = [], []\n",
    "\n",
    "    # Sample batch_size random indices\n",
    "    indices = random.sample(range(len(data)), batch_size)\n",
    "\n",
    "    for idx in indices:\n",
    "        item = data[idx]  # Hugging Face Dataset\n",
    "\n",
    "        xx.append(preproc(item[l1]))\n",
    "        yy.append(preproc(item[l2]))\n",
    "\n",
    "    return xx, yy, long1, long2\n",
    "print(get_batch_pairs(1, data = ba_en_train_dataset))"
   ]
  },
  {
   "cell_type": "markdown",
   "id": "fa2bd718",
   "metadata": {
    "papermill": {
     "duration": 0.00636,
     "end_time": "2025-06-09T10:58:20.656943",
     "exception": false,
     "start_time": "2025-06-09T10:58:20.650583",
     "status": "completed"
    },
    "tags": []
   },
   "source": [
    "### Training"
   ]
  },
  {
   "cell_type": "code",
   "execution_count": 26,
   "id": "101374a2",
   "metadata": {
    "execution": {
     "iopub.execute_input": "2025-06-09T10:58:20.670961Z",
     "iopub.status.busy": "2025-06-09T10:58:20.670306Z",
     "iopub.status.idle": "2025-06-09T10:58:20.673551Z",
     "shell.execute_reply": "2025-06-09T10:58:20.673027Z"
    },
    "papermill": {
     "duration": 0.011252,
     "end_time": "2025-06-09T10:58:20.674607",
     "exception": false,
     "start_time": "2025-06-09T10:58:20.663355",
     "status": "completed"
    },
    "tags": []
   },
   "outputs": [],
   "source": [
    "MODEL_SAVE_PATH = './nllb-bah-eng-v1'"
   ]
  },
  {
   "cell_type": "code",
   "execution_count": null,
   "id": "91c12d85",
   "metadata": {},
   "outputs": [],
   "source": [
    "optimizer.load_state_dict(torch.load('/kaggle/input/checkpoint-nllb/transformers/default/2/optimizer.pt'))\n",
    "scheduler.load_state_dict(torch.load('/kaggle/input/checkpoint-nllb/transformers/default/2/scheduler.pt'))\n",
    "### Comment to start training"
   ]
  },
  {
   "cell_type": "code",
   "execution_count": null,
   "id": "f6ebbcce",
   "metadata": {
    "execution": {
     "iopub.execute_input": "2025-06-09T10:58:20.705606Z",
     "iopub.status.busy": "2025-06-09T10:58:20.705431Z",
     "iopub.status.idle": "2025-06-09T13:41:36.844777Z",
     "shell.execute_reply": "2025-06-09T13:41:36.844003Z"
    },
    "papermill": {
     "duration": 9796.147577,
     "end_time": "2025-06-09T13:41:36.846043",
     "exception": false,
     "start_time": "2025-06-09T10:58:20.698466",
     "status": "completed"
    },
    "tags": []
   },
   "outputs": [
    {
     "name": "stderr",
     "output_type": "stream",
     "text": [
      "/tmp/ipykernel_19/130940138.py:1: FutureWarning: You are using `torch.load` with `weights_only=False` (the current default value), which uses the default pickle module implicitly. It is possible to construct malicious pickle data which will execute arbitrary code during unpickling (See https://github.com/pytorch/pytorch/blob/main/SECURITY.md#untrusted-models for more details). In a future release, the default value for `weights_only` will be flipped to `True`. This limits the functions that could be executed during unpickling. Arbitrary objects will no longer be allowed to be loaded via this mode unless they are explicitly allowlisted by the user via `torch.serialization.add_safe_globals`. We recommend you start setting `weights_only=True` for any use case where you don't have full control of the loaded file. Please open an issue on GitHub for any issues related to this experimental feature.\n",
      "  optimizer.load_state_dict(torch.load('/kaggle/input/checkpoint-nllb/transformers/default/2/optimizer.pt'))\n",
      "/tmp/ipykernel_19/130940138.py:2: FutureWarning: You are using `torch.load` with `weights_only=False` (the current default value), which uses the default pickle module implicitly. It is possible to construct malicious pickle data which will execute arbitrary code during unpickling (See https://github.com/pytorch/pytorch/blob/main/SECURITY.md#untrusted-models for more details). In a future release, the default value for `weights_only` will be flipped to `True`. This limits the functions that could be executed during unpickling. Arbitrary objects will no longer be allowed to be loaded via this mode unless they are explicitly allowlisted by the user via `torch.serialization.add_safe_globals`. We recommend you start setting `weights_only=True` for any use case where you don't have full control of the loaded file. Please open an issue on GitHub for any issues related to this experimental feature.\n",
      "  scheduler.load_state_dict(torch.load('/kaggle/input/checkpoint-nllb/transformers/default/2/scheduler.pt'))\n"
     ]
    },
    {
     "data": {
      "application/vnd.jupyter.widget-view+json": {
       "model_id": "bc3a8dec96ed4f6886358bc36a505865",
       "version_major": 2,
       "version_minor": 0
      },
      "text/plain": [
       "  0%|          | 0/10000 [00:00<?, ?it/s]"
      ]
     },
     "metadata": {},
     "output_type": "display_data"
    },
    {
     "name": "stdout",
     "output_type": "stream",
     "text": [
      "40000 0.2238229513168335\n",
      "41000 0.19313714187592268\n",
      "42000 0.18391387128457426\n",
      "43000 0.17346845465525984\n",
      "44000 0.17098603210784494\n",
      "45000 0.1659120639152825\n",
      "46000 0.15987090903893114\n",
      "47000 0.15264386088773607\n",
      "48000 0.1457504816353321\n",
      "49000 0.14082217466458677\n"
     ]
    }
   ],
   "source": [
    "\n",
    "model.train()\n",
    "x, y, loss = None, None, None\n",
    "torch.cuda.empty_cache()\n",
    "current_step = 40000 ### Set at 0 to start training\n",
    "\n",
    "tq = trange(current_step, training_steps)\n",
    "for i in tq:\n",
    "    xx, yy, lang1, lang2 = get_batch_pairs(batch_size, data = ba_en_train_dataset)\n",
    "    try:\n",
    "        tokenizer.src_lang = lang1\n",
    "        x = tokenizer(xx, return_tensors='pt', padding=True, truncation=True, max_length=max_length).to(model.device)\n",
    "        tokenizer.src_lang = lang2\n",
    "        y = tokenizer(yy, return_tensors='pt', padding=True, truncation=True, max_length=max_length).to(model.device)\n",
    "        y.input_ids[y.input_ids == tokenizer.pad_token_id] = -100\n",
    "\n",
    "        loss = model(**x, labels=y.input_ids).loss\n",
    "        loss.backward()\n",
    "        losses.append(loss.item())\n",
    "\n",
    "        optimizer.step()\n",
    "        optimizer.zero_grad(set_to_none=True)\n",
    "        scheduler.step()\n",
    "\n",
    "    except RuntimeError as e:\n",
    "        optimizer.zero_grad(set_to_none=True)\n",
    "        x, y, loss = None, None, None\n",
    "        torch.cuda.empty_cache()\n",
    "        print('error', max(len(s) for s in xx + yy), e)\n",
    "        continue\n",
    "\n",
    "    if i % 1000 == 0:\n",
    "        print(i, np.mean(losses[-1000:]))\n",
    "\n",
    "    if i % 1000 == 0 and i > 0:\n",
    "        model.save_pretrained(MODEL_SAVE_PATH)\n",
    "        tokenizer.save_pretrained(MODEL_SAVE_PATH)\n",
    "        torch.save(optimizer.state_dict(), os.path.join(MODEL_SAVE_PATH, 'optimizer.pt'))\n",
    "        torch.save(scheduler.state_dict(), os.path.join(MODEL_SAVE_PATH, 'scheduler.pt'))"
   ]
  },
  {
   "cell_type": "code",
   "execution_count": 29,
   "id": "0ac4e06e",
   "metadata": {
    "execution": {
     "iopub.execute_input": "2025-06-09T13:41:36.926617Z",
     "iopub.status.busy": "2025-06-09T13:41:36.926302Z",
     "iopub.status.idle": "2025-06-09T13:41:37.180566Z",
     "shell.execute_reply": "2025-06-09T13:41:37.179931Z"
    },
    "papermill": {
     "duration": 0.32794,
     "end_time": "2025-06-09T13:41:37.181906",
     "exception": false,
     "start_time": "2025-06-09T13:41:36.853966",
     "status": "completed"
    },
    "tags": []
   },
   "outputs": [
    {
     "data": {
      "image/png": "[encoded data removed]",
      "text/plain": [
       "<Figure size 640x480 with 1 Axes>"
      ]
     },
     "metadata": {},
     "output_type": "display_data"
    }
   ],
   "source": [
    "pd.Series(losses).ewm(100).mean().plot();"
   ]
  },
  {
   "cell_type": "markdown",
   "id": "97a7e015",
   "metadata": {
    "papermill": {
     "duration": 0.007381,
     "end_time": "2025-06-09T13:41:37.197172",
     "exception": false,
     "start_time": "2025-06-09T13:41:37.189791",
     "status": "completed"
    },
    "tags": []
   },
   "source": [
    "## 3. Testing"
   ]
  },
  {
   "cell_type": "code",
   "execution_count": 30,
   "id": "ecfd8476",
   "metadata": {
    "execution": {
     "iopub.execute_input": "2025-06-09T13:41:37.212900Z",
     "iopub.status.busy": "2025-06-09T13:41:37.212682Z",
     "iopub.status.idle": "2025-06-09T13:41:37.217386Z",
     "shell.execute_reply": "2025-06-09T13:41:37.216844Z"
    },
    "papermill": {
     "duration": 0.013876,
     "end_time": "2025-06-09T13:41:37.218469",
     "exception": false,
     "start_time": "2025-06-09T13:41:37.204593",
     "status": "completed"
    },
    "tags": []
   },
   "outputs": [],
   "source": [
    "#We only have one tokenizer so no need to care\n",
    "def translate(text, model, src_lang='bah_Latn', tgt_lang='eng_Latn', a=16, b=1.5, max_input_length=512, **kwargs):\n",
    "    tokenizer.src_lang = src_lang\n",
    "    tokenizer.tgt_lang = tgt_lang\n",
    "    inputs = tokenizer(text, return_tensors='pt', padding=True, truncation=True, max_length=max_input_length)\n",
    "    result = model.generate(\n",
    "        **inputs.to(model.device),\n",
    "        forced_bos_token_id=tokenizer.convert_tokens_to_ids(tgt_lang),\n",
    "        max_new_tokens=int(a + b * inputs.input_ids.shape[1]),\n",
    "        **kwargs\n",
    "    )\n",
    "    #print(inputs.input_ids.shape[1], result.shape[1])\n",
    "    return tokenizer.batch_decode(result, skip_special_tokens=True)"
   ]
  },
  {
   "cell_type": "code",
   "execution_count": 31,
   "id": "30a7afbc",
   "metadata": {
    "execution": {
     "iopub.execute_input": "2025-06-09T13:41:37.234136Z",
     "iopub.status.busy": "2025-06-09T13:41:37.233937Z",
     "iopub.status.idle": "2025-06-09T13:45:53.938446Z",
     "shell.execute_reply": "2025-06-09T13:45:53.937679Z"
    },
    "papermill": {
     "duration": 256.71389,
     "end_time": "2025-06-09T13:45:53.939835",
     "exception": false,
     "start_time": "2025-06-09T13:41:37.225945",
     "status": "completed"
    },
    "tags": []
   },
   "outputs": [
    {
     "data": {
      "application/vnd.jupyter.widget-view+json": {
       "model_id": "bada27b7113644808c0da5e811180055",
       "version_major": 2,
       "version_minor": 0
      },
      "text/plain": [
       "Translating:   0%|          | 0/1000 [00:00<?, ?it/s]"
      ]
     },
     "metadata": {},
     "output_type": "display_data"
    }
   ],
   "source": [
    "import torch\n",
    "from tqdm.auto import tqdm\n",
    "\n",
    "def evaluate_model(model, dataset):\n",
    "    model.eval()\n",
    "    prt = True\n",
    "\n",
    "    predictions, references = [], []\n",
    "    for example in tqdm(dataset, desc=\"Translating\"):\n",
    "        # with encode_tokenizer.as_target_tokenizer():\n",
    "        #     input_ids = encode_tokenizer.encode(example['Bahnar'], return_tensors='pt').to(device)\n",
    "\n",
    "        # output_ids = model.generate(input_ids)[0]\n",
    "        # pred = decode_tokenizer.decode(output_ids, skip_special_tokens=True)\n",
    "        pred = translate(example['Bahnar'], model)\n",
    "        predictions.append(pred)\n",
    "\n",
    "        references.append([example['English']])\n",
    "\n",
    "    return predictions, references\n",
    "\n",
    "test_examples = [{'Bahnar': ex['Bahnar'], 'English': ex['English']} for ex in ba_en_test_dataset]\n",
    "predictions, references = evaluate_model(model, test_examples)"
   ]
  },
  {
   "cell_type": "code",
   "execution_count": 32,
   "id": "a04f192a",
   "metadata": {
    "execution": {
     "iopub.execute_input": "2025-06-09T13:45:53.958328Z",
     "iopub.status.busy": "2025-06-09T13:45:53.958103Z",
     "iopub.status.idle": "2025-06-09T13:45:53.962729Z",
     "shell.execute_reply": "2025-06-09T13:45:53.962099Z"
    },
    "papermill": {
     "duration": 0.01516,
     "end_time": "2025-06-09T13:45:53.963795",
     "exception": false,
     "start_time": "2025-06-09T13:45:53.948635",
     "status": "completed"
    },
    "tags": []
   },
   "outputs": [
    {
     "data": {
      "text/plain": [
       "([\"I'll leave but I can't help you\"], ['I release you, but can do no more.\\n'])"
      ]
     },
     "execution_count": 32,
     "metadata": {},
     "output_type": "execute_result"
    }
   ],
   "source": [
    "predictions[0], references[0] # Check format of predictions and references"
   ]
  },
  {
   "cell_type": "code",
   "execution_count": 33,
   "id": "5e114cdc",
   "metadata": {
    "execution": {
     "iopub.execute_input": "2025-06-09T13:45:53.980092Z",
     "iopub.status.busy": "2025-06-09T13:45:53.979891Z",
     "iopub.status.idle": "2025-06-09T13:45:53.984014Z",
     "shell.execute_reply": "2025-06-09T13:45:53.983550Z"
    },
    "papermill": {
     "duration": 0.013327,
     "end_time": "2025-06-09T13:45:53.985021",
     "exception": false,
     "start_time": "2025-06-09T13:45:53.971694",
     "status": "completed"
    },
    "tags": []
   },
   "outputs": [
    {
     "data": {
      "text/plain": [
       "(1000, 1000)"
      ]
     },
     "execution_count": 33,
     "metadata": {},
     "output_type": "execute_result"
    }
   ],
   "source": [
    "len(predictions), len(references)"
   ]
  },
  {
   "cell_type": "code",
   "execution_count": 34,
   "id": "4acd59f5",
   "metadata": {
    "execution": {
     "iopub.execute_input": "2025-06-09T13:45:54.001688Z",
     "iopub.status.busy": "2025-06-09T13:45:54.001473Z",
     "iopub.status.idle": "2025-06-09T13:45:54.006048Z",
     "shell.execute_reply": "2025-06-09T13:45:54.005424Z"
    },
    "papermill": {
     "duration": 0.014099,
     "end_time": "2025-06-09T13:45:54.006984",
     "exception": false,
     "start_time": "2025-06-09T13:45:53.992885",
     "status": "completed"
    },
    "tags": []
   },
   "outputs": [
    {
     "name": "stdout",
     "output_type": "stream",
     "text": [
      "[['I release you, but can do no more.\\n'], ['You have as much right to be a knight as any man.\\n']]\n",
      "[\"I'll leave but I can't help you\", 'Thou art more mighty than none:']\n"
     ]
    }
   ],
   "source": [
    "preds = []\n",
    "refs = []\n",
    "for pred in predictions:\n",
    "    preds.append(pred[0])\n",
    "\n",
    "for ref in references:\n",
    "    refs.append(ref)\n",
    "\n",
    "print(refs[:2])\n",
    "print(preds[:2])"
   ]
  },
  {
   "cell_type": "code",
   "execution_count": 35,
   "id": "fae9182c",
   "metadata": {
    "execution": {
     "iopub.execute_input": "2025-06-09T13:45:54.023686Z",
     "iopub.status.busy": "2025-06-09T13:45:54.023508Z",
     "iopub.status.idle": "2025-06-09T13:45:54.337197Z",
     "shell.execute_reply": "2025-06-09T13:45:54.336498Z"
    },
    "papermill": {
     "duration": 0.323198,
     "end_time": "2025-06-09T13:45:54.338278",
     "exception": false,
     "start_time": "2025-06-09T13:45:54.015080",
     "status": "completed"
    },
    "tags": []
   },
   "outputs": [
    {
     "name": "stdout",
     "output_type": "stream",
     "text": [
      "BLEU:  20.56\n",
      "CHRF: 38.17\n",
      "TER: 36.37\n"
     ]
    }
   ],
   "source": [
    "# preds = [_[0] for _ in preds]\n",
    "# refs = [_[0] for _ in refs]\n",
    "\n",
    "# Calculate and print the BLEU score\n",
    "bleu = sacrebleu.corpus_bleu(preds, refs)\n",
    "print(\"BLEU: \", round(bleu.score, 2))\n",
    "\n",
    "# Calculate CHRF\n",
    "chrf = sacrebleu.corpus_chrf(preds, refs)\n",
    "print(\"CHRF:\", round(chrf.score, 2))\n",
    "\n",
    "# Calculate TER\n",
    "metric = sacrebleu.metrics.TER()\n",
    "ter = metric.corpus_score(preds, refs)\n",
    "print(\"TER:\", round(ter.score, 2))\n",
    "\n",
    "# wandb.log({\"BLEU\": round(bleu.score, 2), \"CHRF\": round(chrf.score, 2), \"TER\": round(ter.score, 2)})"
   ]
  },
  {
   "cell_type": "code",
   "execution_count": 36,
   "id": "a6ad460e",
   "metadata": {
    "execution": {
     "iopub.execute_input": "2025-06-09T13:45:54.355804Z",
     "iopub.status.busy": "2025-06-09T13:45:54.355347Z",
     "iopub.status.idle": "2025-06-09T13:45:54.359134Z",
     "shell.execute_reply": "2025-06-09T13:45:54.358356Z"
    },
    "papermill": {
     "duration": 0.013588,
     "end_time": "2025-06-09T13:45:54.360166",
     "exception": false,
     "start_time": "2025-06-09T13:45:54.346578",
     "status": "completed"
    },
    "tags": []
   },
   "outputs": [
    {
     "name": "stdout",
     "output_type": "stream",
     "text": [
      "Prediction 12: Take the shield, and the bow that thou canst find\n",
      "Reference 12: Get all the weapons and ammo you can.\n",
      "\n",
      "Prediction 13: My daughter's never heard of it\n",
      "Reference 13: My daughter will get over it.\n",
      "\n",
      "Prediction 14: And their office was under full command by the hand of Herodias, at the commandment of Herodias\n",
      "Reference 14: - Chancellor Angela Merkel, during a news conference with President Putin.\n",
      "\n",
      "Prediction 15: And Hosane Rahman, keeper of the jawbone, thou knowest how to pronounce him ruler\n",
      "Reference 15: And Hosain Rahman, the CEO of Aliph Jawbone, you know, really understands that you need a different structure.\n",
      "\n",
      "Prediction 16: And the decree shall be, that the accursed thing should be brought unto him for ever: even unto the plague and to the stroke shall he be brought unto the end\n",
      "Reference 16: The court order to seize organization property owned by Jehovah's Witnesses adds insult to injury.\n",
      "\n",
      "Prediction 17: you did find it already\n",
      "Reference 17: You've already found him.\n",
      "\n",
      "Prediction 18: And in the place of his place shall no evil touch him\n",
      "Reference 18: Once there's no tumor to attack, there's nothing for the antibodies to get confused about.\n",
      "\n",
      "Prediction 19: But wait, we are here unto this very end\n",
      "Reference 19: - Okay, well, we are until this is all over.\n",
      "\n",
      "Prediction 20: But I'll go and see God\n",
      "Reference 20: I'll go check on Grandpa.\n",
      "\n"
     ]
    }
   ],
   "source": [
    "# Display the first 3 prediction-reference pairs\n",
    "for i in range(11,20):\n",
    "    print(f\"Prediction {i+1}: {predictions[i][0]}\")\n",
    "    print(f\"Reference {i+1}: {references[i][0]}\")"
   ]
  },
  {
   "cell_type": "code",
   "execution_count": 37,
   "id": "54065618",
   "metadata": {
    "execution": {
     "iopub.execute_input": "2025-06-09T13:45:54.376959Z",
     "iopub.status.busy": "2025-06-09T13:45:54.376521Z",
     "iopub.status.idle": "2025-06-09T13:45:54.541098Z",
     "shell.execute_reply": "2025-06-09T13:45:54.540501Z"
    },
    "papermill": {
     "duration": 0.174017,
     "end_time": "2025-06-09T13:45:54.542207",
     "exception": false,
     "start_time": "2025-06-09T13:45:54.368190",
     "status": "completed"
    },
    "tags": []
   },
   "outputs": [
    {
     "data": {
      "text/plain": [
       "[\"He's Peter Grifin, but he did it\"]"
      ]
     },
     "execution_count": 37,
     "metadata": {},
     "output_type": "execute_result"
    }
   ],
   "source": [
    "translate(\"Sư âu Peter Griffin, mă-lei sư ăch pơm.\", model, src_lang='bah_Latn', tgt_lang='eng_Latn')"
   ]
  },
  {
   "cell_type": "code",
   "execution_count": null,
   "id": "dfbda403",
   "metadata": {},
   "outputs": [],
   "source": [
    "        # model.save_pretrained(MODEL_SAVE_PATH)\n",
    "        # tokenizer.save_pretrained(MODEL_SAVE_PATH)\n",
    "        # torch.save(optimizer.state_dict(), os.path.join(MODEL_SAVE_PATH, 'optimizer.pt'))\n",
    "        # torch.save(scheduler.state_dict(), os.path.join(MODEL_SAVE_PATH, 'scheduler.pt'))"
   ]
  }
 ],
 "metadata": {
  "kaggle": {
   "accelerator": "gpu",
   "dataSources": [
    {
     "databundleVersionId": 8628753,
     "datasetId": 5063775,
     "sourceId": 8488207,
     "sourceType": "datasetVersion"
    },
    {
     "databundleVersionId": 8627771,
     "datasetId": 5063149,
     "sourceId": 8487291,
     "sourceType": "datasetVersion"
    },
    {
     "databundleVersionId": 12224693,
     "modelInstanceId": 315471,
     "sourceId": 383542,
     "sourceType": "modelInstanceVersion"
    },
    {
     "databundleVersionId": 12210002,
     "modelInstanceId": 315471,
     "sourceId": 382014,
     "sourceType": "modelInstanceVersion"
    },
    {
     "sourceId": 238705337,
     "sourceType": "kernelVersion"
    }
   ],
   "dockerImageVersionId": 31011,
   "isGpuEnabled": true,
   "isInternetEnabled": true,
   "language": "python",
   "sourceType": "notebook"
  },
  "kernelspec": {
   "display_name": "Python 3",
   "language": "python",
   "name": "python3"
  },
  "language_info": {
   "codemirror_mode": {
    "name": "ipython",
    "version": 3
   },
   "file_extension": ".py",
   "mimetype": "text/x-python",
   "name": "python",
   "nbconvert_exporter": "python",
   "pygments_lexer": "ipython3",
   "version": "3.11.11"
  },
  "papermill": {
   "default_parameters": {},
   "duration": 10144.369393,
   "end_time": "2025-06-09T13:45:57.689161",
   "environment_variables": {},
   "exception": null,
   "input_path": "__notebook__.ipynb",
   "output_path": "__notebook__.ipynb",
   "parameters": {},
   "start_time": "2025-06-09T10:56:53.319768",
   "version": "2.6.0"
  },
  "widgets": {
   "application/vnd.jupyter.widget-state+json": {
    "state": {
     "03a5babbbcce4a68a06f249362ced66b": {
      "model_module": "@jupyter-widgets/controls",
      "model_module_version": "2.0.0",
      "model_name": "HTMLModel",
      "state": {
       "_dom_classes": [],
       "_model_module": "@jupyter-widgets/controls",
       "_model_module_version": "2.0.0",
       "_model_name": "HTMLModel",
       "_view_count": null,
       "_view_module": "@jupyter-widgets/controls",
       "_view_module_version": "2.0.0",
       "_view_name": "HTMLView",
       "description": "",
       "description_allow_html": false,
       "layout": "IPY_MODEL_361c95b6ae394788ab9a470db0402a2c",
       "placeholder": "​",
       "style": "IPY_MODEL_5cc62c59b085428d850da78be01c0893",
       "tabbable": null,
       "tooltip": null,
       "value": "Translating: 100%"
      }
     },
     "09e9711139a54ab99335a3f0fd395e2e": {
      "model_module": "@jupyter-widgets/controls",
      "model_module_version": "2.0.0",
      "model_name": "HTMLStyleModel",
      "state": {
       "_model_module": "@jupyter-widgets/controls",
       "_model_module_version": "2.0.0",
       "_model_name": "HTMLStyleModel",
       "_view_count": null,
       "_view_module": "@jupyter-widgets/base",
       "_view_module_version": "2.0.0",
       "_view_name": "StyleView",
       "background": null,
       "description_width": "",
       "font_size": null,
       "text_color": null
      }
     },
     "0b55a3b1ad8c402b830eb5eb291a6d05": {
      "model_module": "@jupyter-widgets/base",
      "model_module_version": "2.0.0",
      "model_name": "LayoutModel",
      "state": {
       "_model_module": "@jupyter-widgets/base",
       "_model_module_version": "2.0.0",
       "_model_name": "LayoutModel",
       "_view_count": null,
       "_view_module": "@jupyter-widgets/base",
       "_view_module_version": "2.0.0",
       "_view_name": "LayoutView",
       "align_content": null,
       "align_items": null,
       "align_self": null,
       "border_bottom": null,
       "border_left": null,
       "border_right": null,
       "border_top": null,
       "bottom": null,
       "display": null,
       "flex": null,
       "flex_flow": null,
       "grid_area": null,
       "grid_auto_columns": null,
       "grid_auto_flow": null,
       "grid_auto_rows": null,
       "grid_column": null,
       "grid_gap": null,
       "grid_row": null,
       "grid_template_areas": null,
       "grid_template_columns": null,
       "grid_template_rows": null,
       "height": null,
       "justify_content": null,
       "justify_items": null,
       "left": null,
       "margin": null,
       "max_height": null,
       "max_width": null,
       "min_height": null,
       "min_width": null,
       "object_fit": null,
       "object_position": null,
       "order": null,
       "overflow": null,
       "padding": null,
       "right": null,
       "top": null,
       "visibility": null,
       "width": null
      }
     },
     "0e6ca65bff6140a7b0166245cc6214ab": {
      "model_module": "@jupyter-widgets/base",
      "model_module_version": "2.0.0",
      "model_name": "LayoutModel",
      "state": {
       "_model_module": "@jupyter-widgets/base",
       "_model_module_version": "2.0.0",
       "_model_name": "LayoutModel",
       "_view_count": null,
       "_view_module": "@jupyter-widgets/base",
       "_view_module_version": "2.0.0",
       "_view_name": "LayoutView",
       "align_content": null,
       "align_items": null,
       "align_self": null,
       "border_bottom": null,
       "border_left": null,
       "border_right": null,
       "border_top": null,
       "bottom": null,
       "display": null,
       "flex": null,
       "flex_flow": null,
       "grid_area": null,
       "grid_auto_columns": null,
       "grid_auto_flow": null,
       "grid_auto_rows": null,
       "grid_column": null,
       "grid_gap": null,
       "grid_row": null,
       "grid_template_areas": null,
       "grid_template_columns": null,
       "grid_template_rows": null,
       "height": null,
       "justify_content": null,
       "justify_items": null,
       "left": null,
       "margin": null,
       "max_height": null,
       "max_width": null,
       "min_height": null,
       "min_width": null,
       "object_fit": null,
       "object_position": null,
       "order": null,
       "overflow": null,
       "padding": null,
       "right": null,
       "top": null,
       "visibility": null,
       "width": null
      }
     },
     "112313a6790d4f14b0112c2e15a16987": {
      "model_module": "@jupyter-widgets/base",
      "model_module_version": "2.0.0",
      "model_name": "LayoutModel",
      "state": {
       "_model_module": "@jupyter-widgets/base",
       "_model_module_version": "2.0.0",
       "_model_name": "LayoutModel",
       "_view_count": null,
       "_view_module": "@jupyter-widgets/base",
       "_view_module_version": "2.0.0",
       "_view_name": "LayoutView",
       "align_content": null,
       "align_items": null,
       "align_self": null,
       "border_bottom": null,
       "border_left": null,
       "border_right": null,
       "border_top": null,
       "bottom": null,
       "display": null,
       "flex": null,
       "flex_flow": null,
       "grid_area": null,
       "grid_auto_columns": null,
       "grid_auto_flow": null,
       "grid_auto_rows": null,
       "grid_column": null,
       "grid_gap": null,
       "grid_row": null,
       "grid_template_areas": null,
       "grid_template_columns": null,
       "grid_template_rows": null,
       "height": null,
       "justify_content": null,
       "justify_items": null,
       "left": null,
       "margin": null,
       "max_height": null,
       "max_width": null,
       "min_height": null,
       "min_width": null,
       "object_fit": null,
       "object_position": null,
       "order": null,
       "overflow": null,
       "padding": null,
       "right": null,
       "top": null,
       "visibility": null,
       "width": null
      }
     },
     "169df37b414b46e588b92f01ac6451c5": {
      "model_module": "@jupyter-widgets/controls",
      "model_module_version": "2.0.0",
      "model_name": "HTMLStyleModel",
      "state": {
       "_model_module": "@jupyter-widgets/controls",
       "_model_module_version": "2.0.0",
       "_model_name": "HTMLStyleModel",
       "_view_count": null,
       "_view_module": "@jupyter-widgets/base",
       "_view_module_version": "2.0.0",
       "_view_name": "StyleView",
       "background": null,
       "description_width": "",
       "font_size": null,
       "text_color": null
      }
     },
     "198fdc980a084c48b6a1e4cae27a82d4": {
      "model_module": "@jupyter-widgets/base",
      "model_module_version": "2.0.0",
      "model_name": "LayoutModel",
      "state": {
       "_model_module": "@jupyter-widgets/base",
       "_model_module_version": "2.0.0",
       "_model_name": "LayoutModel",
       "_view_count": null,
       "_view_module": "@jupyter-widgets/base",
       "_view_module_version": "2.0.0",
       "_view_name": "LayoutView",
       "align_content": null,
       "align_items": null,
       "align_self": null,
       "border_bottom": null,
       "border_left": null,
       "border_right": null,
       "border_top": null,
       "bottom": null,
       "display": null,
       "flex": null,
       "flex_flow": null,
       "grid_area": null,
       "grid_auto_columns": null,
       "grid_auto_flow": null,
       "grid_auto_rows": null,
       "grid_column": null,
       "grid_gap": null,
       "grid_row": null,
       "grid_template_areas": null,
       "grid_template_columns": null,
       "grid_template_rows": null,
       "height": null,
       "justify_content": null,
       "justify_items": null,
       "left": null,
       "margin": null,
       "max_height": null,
       "max_width": null,
       "min_height": null,
       "min_width": null,
       "object_fit": null,
       "object_position": null,
       "order": null,
       "overflow": null,
       "padding": null,
       "right": null,
       "top": null,
       "visibility": null,
       "width": null
      }
     },
     "1a86718c707b42eba3ee5c7c5150731b": {
      "model_module": "@jupyter-widgets/base",
      "model_module_version": "2.0.0",
      "model_name": "LayoutModel",
      "state": {
       "_model_module": "@jupyter-widgets/base",
       "_model_module_version": "2.0.0",
       "_model_name": "LayoutModel",
       "_view_count": null,
       "_view_module": "@jupyter-widgets/base",
       "_view_module_version": "2.0.0",
       "_view_name": "LayoutView",
       "align_content": null,
       "align_items": null,
       "align_self": null,
       "border_bottom": null,
       "border_left": null,
       "border_right": null,
       "border_top": null,
       "bottom": null,
       "display": null,
       "flex": null,
       "flex_flow": null,
       "grid_area": null,
       "grid_auto_columns": null,
       "grid_auto_flow": null,
       "grid_auto_rows": null,
       "grid_column": null,
       "grid_gap": null,
       "grid_row": null,
       "grid_template_areas": null,
       "grid_template_columns": null,
       "grid_template_rows": null,
       "height": null,
       "justify_content": null,
       "justify_items": null,
       "left": null,
       "margin": null,
       "max_height": null,
       "max_width": null,
       "min_height": null,
       "min_width": null,
       "object_fit": null,
       "object_position": null,
       "order": null,
       "overflow": null,
       "padding": null,
       "right": null,
       "top": null,
       "visibility": null,
       "width": null
      }
     },
     "334575789dcf47aa926f25e5a7fde691": {
      "model_module": "@jupyter-widgets/controls",
      "model_module_version": "2.0.0",
      "model_name": "FloatProgressModel",
      "state": {
       "_dom_classes": [],
       "_model_module": "@jupyter-widgets/controls",
       "_model_module_version": "2.0.0",
       "_model_name": "FloatProgressModel",
       "_view_count": null,
       "_view_module": "@jupyter-widgets/controls",
       "_view_module_version": "2.0.0",
       "_view_name": "ProgressView",
       "bar_style": "success",
       "description": "",
       "description_allow_html": false,
       "layout": "IPY_MODEL_9db489d37c6443b68e293351b3769c86",
       "max": 25224,
       "min": 0,
       "orientation": "horizontal",
       "style": "IPY_MODEL_b140fa3fc0394edbb3a0badec730cfb5",
       "tabbable": null,
       "tooltip": null,
       "value": 25224
      }
     },
     "361c95b6ae394788ab9a470db0402a2c": {
      "model_module": "@jupyter-widgets/base",
      "model_module_version": "2.0.0",
      "model_name": "LayoutModel",
      "state": {
       "_model_module": "@jupyter-widgets/base",
       "_model_module_version": "2.0.0",
       "_model_name": "LayoutModel",
       "_view_count": null,
       "_view_module": "@jupyter-widgets/base",
       "_view_module_version": "2.0.0",
       "_view_name": "LayoutView",
       "align_content": null,
       "align_items": null,
       "align_self": null,
       "border_bottom": null,
       "border_left": null,
       "border_right": null,
       "border_top": null,
       "bottom": null,
       "display": null,
       "flex": null,
       "flex_flow": null,
       "grid_area": null,
       "grid_auto_columns": null,
       "grid_auto_flow": null,
       "grid_auto_rows": null,
       "grid_column": null,
       "grid_gap": null,
       "grid_row": null,
       "grid_template_areas": null,
       "grid_template_columns": null,
       "grid_template_rows": null,
       "height": null,
       "justify_content": null,
       "justify_items": null,
       "left": null,
       "margin": null,
       "max_height": null,
       "max_width": null,
       "min_height": null,
       "min_width": null,
       "object_fit": null,
       "object_position": null,
       "order": null,
       "overflow": null,
       "padding": null,
       "right": null,
       "top": null,
       "visibility": null,
       "width": null
      }
     },
     "3731905722284a7189dcf7d1efbb359b": {
      "model_module": "@jupyter-widgets/base",
      "model_module_version": "2.0.0",
      "model_name": "LayoutModel",
      "state": {
       "_model_module": "@jupyter-widgets/base",
       "_model_module_version": "2.0.0",
       "_model_name": "LayoutModel",
       "_view_count": null,
       "_view_module": "@jupyter-widgets/base",
       "_view_module_version": "2.0.0",
       "_view_name": "LayoutView",
       "align_content": null,
       "align_items": null,
       "align_self": null,
       "border_bottom": null,
       "border_left": null,
       "border_right": null,
       "border_top": null,
       "bottom": null,
       "display": null,
       "flex": null,
       "flex_flow": null,
       "grid_area": null,
       "grid_auto_columns": null,
       "grid_auto_flow": null,
       "grid_auto_rows": null,
       "grid_column": null,
       "grid_gap": null,
       "grid_row": null,
       "grid_template_areas": null,
       "grid_template_columns": null,
       "grid_template_rows": null,
       "height": null,
       "justify_content": null,
       "justify_items": null,
       "left": null,
       "margin": null,
       "max_height": null,
       "max_width": null,
       "min_height": null,
       "min_width": null,
       "object_fit": null,
       "object_position": null,
       "order": null,
       "overflow": null,
       "padding": null,
       "right": null,
       "top": null,
       "visibility": null,
       "width": null
      }
     },
     "3cbf0d716dc34f6b830782d143123add": {
      "model_module": "@jupyter-widgets/controls",
      "model_module_version": "2.0.0",
      "model_name": "HTMLStyleModel",
      "state": {
       "_model_module": "@jupyter-widgets/controls",
       "_model_module_version": "2.0.0",
       "_model_name": "HTMLStyleModel",
       "_view_count": null,
       "_view_module": "@jupyter-widgets/base",
       "_view_module_version": "2.0.0",
       "_view_name": "StyleView",
       "background": null,
       "description_width": "",
       "font_size": null,
       "text_color": null
      }
     },
     "4e6d5f3fd891457381684af90230d753": {
      "model_module": "@jupyter-widgets/controls",
      "model_module_version": "2.0.0",
      "model_name": "HTMLModel",
      "state": {
       "_dom_classes": [],
       "_model_module": "@jupyter-widgets/controls",
       "_model_module_version": "2.0.0",
       "_model_name": "HTMLModel",
       "_view_count": null,
       "_view_module": "@jupyter-widgets/controls",
       "_view_module_version": "2.0.0",
       "_view_name": "HTMLView",
       "description": "",
       "description_allow_html": false,
       "layout": "IPY_MODEL_0e6ca65bff6140a7b0166245cc6214ab",
       "placeholder": "​",
       "style": "IPY_MODEL_591d73572fff447c900ec6133608cde4",
       "tabbable": null,
       "tooltip": null,
       "value": "Map: 100%"
      }
     },
     "5692632958e0450f920342fc791c13d2": {
      "model_module": "@jupyter-widgets/controls",
      "model_module_version": "2.0.0",
      "model_name": "ProgressStyleModel",
      "state": {
       "_model_module": "@jupyter-widgets/controls",
       "_model_module_version": "2.0.0",
       "_model_name": "ProgressStyleModel",
       "_view_count": null,
       "_view_module": "@jupyter-widgets/base",
       "_view_module_version": "2.0.0",
       "_view_name": "StyleView",
       "bar_color": null,
       "description_width": ""
      }
     },
     "591d73572fff447c900ec6133608cde4": {
      "model_module": "@jupyter-widgets/controls",
      "model_module_version": "2.0.0",
      "model_name": "HTMLStyleModel",
      "state": {
       "_model_module": "@jupyter-widgets/controls",
       "_model_module_version": "2.0.0",
       "_model_name": "HTMLStyleModel",
       "_view_count": null,
       "_view_module": "@jupyter-widgets/base",
       "_view_module_version": "2.0.0",
       "_view_name": "StyleView",
       "background": null,
       "description_width": "",
       "font_size": null,
       "text_color": null
      }
     },
     "5cc62c59b085428d850da78be01c0893": {
      "model_module": "@jupyter-widgets/controls",
      "model_module_version": "2.0.0",
      "model_name": "HTMLStyleModel",
      "state": {
       "_model_module": "@jupyter-widgets/controls",
       "_model_module_version": "2.0.0",
       "_model_name": "HTMLStyleModel",
       "_view_count": null,
       "_view_module": "@jupyter-widgets/base",
       "_view_module_version": "2.0.0",
       "_view_name": "StyleView",
       "background": null,
       "description_width": "",
       "font_size": null,
       "text_color": null
      }
     },
     "5f02a3768fe14de6b08b923b6dfd57f8": {
      "model_module": "@jupyter-widgets/controls",
      "model_module_version": "2.0.0",
      "model_name": "HTMLModel",
      "state": {
       "_dom_classes": [],
       "_model_module": "@jupyter-widgets/controls",
       "_model_module_version": "2.0.0",
       "_model_name": "HTMLModel",
       "_view_count": null,
       "_view_module": "@jupyter-widgets/controls",
       "_view_module_version": "2.0.0",
       "_view_name": "HTMLView",
       "description": "",
       "description_allow_html": false,
       "layout": "IPY_MODEL_198fdc980a084c48b6a1e4cae27a82d4",
       "placeholder": "​",
       "style": "IPY_MODEL_8354feee6edc407a8f733b3b9fcdf07c",
       "tabbable": null,
       "tooltip": null,
       "value": "100%"
      }
     },
     "6979c70870f34cd386da14623d74facf": {
      "model_module": "@jupyter-widgets/base",
      "model_module_version": "2.0.0",
      "model_name": "LayoutModel",
      "state": {
       "_model_module": "@jupyter-widgets/base",
       "_model_module_version": "2.0.0",
       "_model_name": "LayoutModel",
       "_view_count": null,
       "_view_module": "@jupyter-widgets/base",
       "_view_module_version": "2.0.0",
       "_view_name": "LayoutView",
       "align_content": null,
       "align_items": null,
       "align_self": null,
       "border_bottom": null,
       "border_left": null,
       "border_right": null,
       "border_top": null,
       "bottom": null,
       "display": null,
       "flex": null,
       "flex_flow": null,
       "grid_area": null,
       "grid_auto_columns": null,
       "grid_auto_flow": null,
       "grid_auto_rows": null,
       "grid_column": null,
       "grid_gap": null,
       "grid_row": null,
       "grid_template_areas": null,
       "grid_template_columns": null,
       "grid_template_rows": null,
       "height": null,
       "justify_content": null,
       "justify_items": null,
       "left": null,
       "margin": null,
       "max_height": null,
       "max_width": null,
       "min_height": null,
       "min_width": null,
       "object_fit": null,
       "object_position": null,
       "order": null,
       "overflow": null,
       "padding": null,
       "right": null,
       "top": null,
       "visibility": null,
       "width": null
      }
     },
     "6fd2c480262a42d3a1d23c070e5230ac": {
      "model_module": "@jupyter-widgets/controls",
      "model_module_version": "2.0.0",
      "model_name": "FloatProgressModel",
      "state": {
       "_dom_classes": [],
       "_model_module": "@jupyter-widgets/controls",
       "_model_module_version": "2.0.0",
       "_model_name": "FloatProgressModel",
       "_view_count": null,
       "_view_module": "@jupyter-widgets/controls",
       "_view_module_version": "2.0.0",
       "_view_name": "ProgressView",
       "bar_style": "success",
       "description": "",
       "description_allow_html": false,
       "layout": "IPY_MODEL_a0ffb899883d4cd297f9aec23d5b3ffb",
       "max": 1514,
       "min": 0,
       "orientation": "horizontal",
       "style": "IPY_MODEL_b030c11cb9d4475f8df84b31bba4774a",
       "tabbable": null,
       "tooltip": null,
       "value": 1514
      }
     },
     "798fa32fe0bb4c0b8ce6083a32b99b21": {
      "model_module": "@jupyter-widgets/base",
      "model_module_version": "2.0.0",
      "model_name": "LayoutModel",
      "state": {
       "_model_module": "@jupyter-widgets/base",
       "_model_module_version": "2.0.0",
       "_model_name": "LayoutModel",
       "_view_count": null,
       "_view_module": "@jupyter-widgets/base",
       "_view_module_version": "2.0.0",
       "_view_name": "LayoutView",
       "align_content": null,
       "align_items": null,
       "align_self": null,
       "border_bottom": null,
       "border_left": null,
       "border_right": null,
       "border_top": null,
       "bottom": null,
       "display": null,
       "flex": null,
       "flex_flow": null,
       "grid_area": null,
       "grid_auto_columns": null,
       "grid_auto_flow": null,
       "grid_auto_rows": null,
       "grid_column": null,
       "grid_gap": null,
       "grid_row": null,
       "grid_template_areas": null,
       "grid_template_columns": null,
       "grid_template_rows": null,
       "height": null,
       "justify_content": null,
       "justify_items": null,
       "left": null,
       "margin": null,
       "max_height": null,
       "max_width": null,
       "min_height": null,
       "min_width": null,
       "object_fit": null,
       "object_position": null,
       "order": null,
       "overflow": null,
       "padding": null,
       "right": null,
       "top": null,
       "visibility": null,
       "width": null
      }
     },
     "82bccc9df02d4ee99ec8ad626d57a897": {
      "model_module": "@jupyter-widgets/base",
      "model_module_version": "2.0.0",
      "model_name": "LayoutModel",
      "state": {
       "_model_module": "@jupyter-widgets/base",
       "_model_module_version": "2.0.0",
       "_model_name": "LayoutModel",
       "_view_count": null,
       "_view_module": "@jupyter-widgets/base",
       "_view_module_version": "2.0.0",
       "_view_name": "LayoutView",
       "align_content": null,
       "align_items": null,
       "align_self": null,
       "border_bottom": null,
       "border_left": null,
       "border_right": null,
       "border_top": null,
       "bottom": null,
       "display": null,
       "flex": null,
       "flex_flow": null,
       "grid_area": null,
       "grid_auto_columns": null,
       "grid_auto_flow": null,
       "grid_auto_rows": null,
       "grid_column": null,
       "grid_gap": null,
       "grid_row": null,
       "grid_template_areas": null,
       "grid_template_columns": null,
       "grid_template_rows": null,
       "height": null,
       "justify_content": null,
       "justify_items": null,
       "left": null,
       "margin": null,
       "max_height": null,
       "max_width": null,
       "min_height": null,
       "min_width": null,
       "object_fit": null,
       "object_position": null,
       "order": null,
       "overflow": null,
       "padding": null,
       "right": null,
       "top": null,
       "visibility": null,
       "width": null
      }
     },
     "8354feee6edc407a8f733b3b9fcdf07c": {
      "model_module": "@jupyter-widgets/controls",
      "model_module_version": "2.0.0",
      "model_name": "HTMLStyleModel",
      "state": {
       "_model_module": "@jupyter-widgets/controls",
       "_model_module_version": "2.0.0",
       "_model_name": "HTMLStyleModel",
       "_view_count": null,
       "_view_module": "@jupyter-widgets/base",
       "_view_module_version": "2.0.0",
       "_view_name": "StyleView",
       "background": null,
       "description_width": "",
       "font_size": null,
       "text_color": null
      }
     },
     "8eed5895be5c436ebd4b13e724123115": {
      "model_module": "@jupyter-widgets/controls",
      "model_module_version": "2.0.0",
      "model_name": "HTMLStyleModel",
      "state": {
       "_model_module": "@jupyter-widgets/controls",
       "_model_module_version": "2.0.0",
       "_model_name": "HTMLStyleModel",
       "_view_count": null,
       "_view_module": "@jupyter-widgets/base",
       "_view_module_version": "2.0.0",
       "_view_name": "StyleView",
       "background": null,
       "description_width": "",
       "font_size": null,
       "text_color": null
      }
     },
     "92ef317e79734cbfadf3d704ecc96b71": {
      "model_module": "@jupyter-widgets/base",
      "model_module_version": "2.0.0",
      "model_name": "LayoutModel",
      "state": {
       "_model_module": "@jupyter-widgets/base",
       "_model_module_version": "2.0.0",
       "_model_name": "LayoutModel",
       "_view_count": null,
       "_view_module": "@jupyter-widgets/base",
       "_view_module_version": "2.0.0",
       "_view_name": "LayoutView",
       "align_content": null,
       "align_items": null,
       "align_self": null,
       "border_bottom": null,
       "border_left": null,
       "border_right": null,
       "border_top": null,
       "bottom": null,
       "display": null,
       "flex": null,
       "flex_flow": null,
       "grid_area": null,
       "grid_auto_columns": null,
       "grid_auto_flow": null,
       "grid_auto_rows": null,
       "grid_column": null,
       "grid_gap": null,
       "grid_row": null,
       "grid_template_areas": null,
       "grid_template_columns": null,
       "grid_template_rows": null,
       "height": null,
       "justify_content": null,
       "justify_items": null,
       "left": null,
       "margin": null,
       "max_height": null,
       "max_width": null,
       "min_height": null,
       "min_width": null,
       "object_fit": null,
       "object_position": null,
       "order": null,
       "overflow": null,
       "padding": null,
       "right": null,
       "top": null,
       "visibility": null,
       "width": null
      }
     },
     "974bfd2f72194929b5bf91b0e69bc53e": {
      "model_module": "@jupyter-widgets/controls",
      "model_module_version": "2.0.0",
      "model_name": "HTMLStyleModel",
      "state": {
       "_model_module": "@jupyter-widgets/controls",
       "_model_module_version": "2.0.0",
       "_model_name": "HTMLStyleModel",
       "_view_count": null,
       "_view_module": "@jupyter-widgets/base",
       "_view_module_version": "2.0.0",
       "_view_name": "StyleView",
       "background": null,
       "description_width": "",
       "font_size": null,
       "text_color": null
      }
     },
     "97e93c26115045dbb0789713893a6ac7": {
      "model_module": "@jupyter-widgets/base",
      "model_module_version": "2.0.0",
      "model_name": "LayoutModel",
      "state": {
       "_model_module": "@jupyter-widgets/base",
       "_model_module_version": "2.0.0",
       "_model_name": "LayoutModel",
       "_view_count": null,
       "_view_module": "@jupyter-widgets/base",
       "_view_module_version": "2.0.0",
       "_view_name": "LayoutView",
       "align_content": null,
       "align_items": null,
       "align_self": null,
       "border_bottom": null,
       "border_left": null,
       "border_right": null,
       "border_top": null,
       "bottom": null,
       "display": null,
       "flex": null,
       "flex_flow": null,
       "grid_area": null,
       "grid_auto_columns": null,
       "grid_auto_flow": null,
       "grid_auto_rows": null,
       "grid_column": null,
       "grid_gap": null,
       "grid_row": null,
       "grid_template_areas": null,
       "grid_template_columns": null,
       "grid_template_rows": null,
       "height": null,
       "justify_content": null,
       "justify_items": null,
       "left": null,
       "margin": null,
       "max_height": null,
       "max_width": null,
       "min_height": null,
       "min_width": null,
       "object_fit": null,
       "object_position": null,
       "order": null,
       "overflow": null,
       "padding": null,
       "right": null,
       "top": null,
       "visibility": null,
       "width": null
      }
     },
     "9cce2f0c2f7a427ca9985182180db3d2": {
      "model_module": "@jupyter-widgets/base",
      "model_module_version": "2.0.0",
      "model_name": "LayoutModel",
      "state": {
       "_model_module": "@jupyter-widgets/base",
       "_model_module_version": "2.0.0",
       "_model_name": "LayoutModel",
       "_view_count": null,
       "_view_module": "@jupyter-widgets/base",
       "_view_module_version": "2.0.0",
       "_view_name": "LayoutView",
       "align_content": null,
       "align_items": null,
       "align_self": null,
       "border_bottom": null,
       "border_left": null,
       "border_right": null,
       "border_top": null,
       "bottom": null,
       "display": null,
       "flex": null,
       "flex_flow": null,
       "grid_area": null,
       "grid_auto_columns": null,
       "grid_auto_flow": null,
       "grid_auto_rows": null,
       "grid_column": null,
       "grid_gap": null,
       "grid_row": null,
       "grid_template_areas": null,
       "grid_template_columns": null,
       "grid_template_rows": null,
       "height": null,
       "justify_content": null,
       "justify_items": null,
       "left": null,
       "margin": null,
       "max_height": null,
       "max_width": null,
       "min_height": null,
       "min_width": null,
       "object_fit": null,
       "object_position": null,
       "order": null,
       "overflow": null,
       "padding": null,
       "right": null,
       "top": null,
       "visibility": null,
       "width": null
      }
     },
     "9db489d37c6443b68e293351b3769c86": {
      "model_module": "@jupyter-widgets/base",
      "model_module_version": "2.0.0",
      "model_name": "LayoutModel",
      "state": {
       "_model_module": "@jupyter-widgets/base",
       "_model_module_version": "2.0.0",
       "_model_name": "LayoutModel",
       "_view_count": null,
       "_view_module": "@jupyter-widgets/base",
       "_view_module_version": "2.0.0",
       "_view_name": "LayoutView",
       "align_content": null,
       "align_items": null,
       "align_self": null,
       "border_bottom": null,
       "border_left": null,
       "border_right": null,
       "border_top": null,
       "bottom": null,
       "display": null,
       "flex": null,
       "flex_flow": null,
       "grid_area": null,
       "grid_auto_columns": null,
       "grid_auto_flow": null,
       "grid_auto_rows": null,
       "grid_column": null,
       "grid_gap": null,
       "grid_row": null,
       "grid_template_areas": null,
       "grid_template_columns": null,
       "grid_template_rows": null,
       "height": null,
       "justify_content": null,
       "justify_items": null,
       "left": null,
       "margin": null,
       "max_height": null,
       "max_width": null,
       "min_height": null,
       "min_width": null,
       "object_fit": null,
       "object_position": null,
       "order": null,
       "overflow": null,
       "padding": null,
       "right": null,
       "top": null,
       "visibility": null,
       "width": null
      }
     },
     "9defedaf86274cf890e11c236f75a8aa": {
      "model_module": "@jupyter-widgets/controls",
      "model_module_version": "2.0.0",
      "model_name": "HTMLModel",
      "state": {
       "_dom_classes": [],
       "_model_module": "@jupyter-widgets/controls",
       "_model_module_version": "2.0.0",
       "_model_name": "HTMLModel",
       "_view_count": null,
       "_view_module": "@jupyter-widgets/controls",
       "_view_module_version": "2.0.0",
       "_view_name": "HTMLView",
       "description": "",
       "description_allow_html": false,
       "layout": "IPY_MODEL_798fa32fe0bb4c0b8ce6083a32b99b21",
       "placeholder": "​",
       "style": "IPY_MODEL_169df37b414b46e588b92f01ac6451c5",
       "tabbable": null,
       "tooltip": null,
       "value": " 25224/25224 [00:17&lt;00:00, 1494.08 examples/s]"
      }
     },
     "a0ffb899883d4cd297f9aec23d5b3ffb": {
      "model_module": "@jupyter-widgets/base",
      "model_module_version": "2.0.0",
      "model_name": "LayoutModel",
      "state": {
       "_model_module": "@jupyter-widgets/base",
       "_model_module_version": "2.0.0",
       "_model_name": "LayoutModel",
       "_view_count": null,
       "_view_module": "@jupyter-widgets/base",
       "_view_module_version": "2.0.0",
       "_view_name": "LayoutView",
       "align_content": null,
       "align_items": null,
       "align_self": null,
       "border_bottom": null,
       "border_left": null,
       "border_right": null,
       "border_top": null,
       "bottom": null,
       "display": null,
       "flex": null,
       "flex_flow": null,
       "grid_area": null,
       "grid_auto_columns": null,
       "grid_auto_flow": null,
       "grid_auto_rows": null,
       "grid_column": null,
       "grid_gap": null,
       "grid_row": null,
       "grid_template_areas": null,
       "grid_template_columns": null,
       "grid_template_rows": null,
       "height": null,
       "justify_content": null,
       "justify_items": null,
       "left": null,
       "margin": null,
       "max_height": null,
       "max_width": null,
       "min_height": null,
       "min_width": null,
       "object_fit": null,
       "object_position": null,
       "order": null,
       "overflow": null,
       "padding": null,
       "right": null,
       "top": null,
       "visibility": null,
       "width": null
      }
     },
     "a2411d66d0e64df585737d87bdb04316": {
      "model_module": "@jupyter-widgets/base",
      "model_module_version": "2.0.0",
      "model_name": "LayoutModel",
      "state": {
       "_model_module": "@jupyter-widgets/base",
       "_model_module_version": "2.0.0",
       "_model_name": "LayoutModel",
       "_view_count": null,
       "_view_module": "@jupyter-widgets/base",
       "_view_module_version": "2.0.0",
       "_view_name": "LayoutView",
       "align_content": null,
       "align_items": null,
       "align_self": null,
       "border_bottom": null,
       "border_left": null,
       "border_right": null,
       "border_top": null,
       "bottom": null,
       "display": null,
       "flex": null,
       "flex_flow": null,
       "grid_area": null,
       "grid_auto_columns": null,
       "grid_auto_flow": null,
       "grid_auto_rows": null,
       "grid_column": null,
       "grid_gap": null,
       "grid_row": null,
       "grid_template_areas": null,
       "grid_template_columns": null,
       "grid_template_rows": null,
       "height": null,
       "justify_content": null,
       "justify_items": null,
       "left": null,
       "margin": null,
       "max_height": null,
       "max_width": null,
       "min_height": null,
       "min_width": null,
       "object_fit": null,
       "object_position": null,
       "order": null,
       "overflow": null,
       "padding": null,
       "right": null,
       "top": null,
       "visibility": null,
       "width": null
      }
     },
     "a3d01e01ef0e4395b43d7ec4a094a7e4": {
      "model_module": "@jupyter-widgets/controls",
      "model_module_version": "2.0.0",
      "model_name": "HTMLModel",
      "state": {
       "_dom_classes": [],
       "_model_module": "@jupyter-widgets/controls",
       "_model_module_version": "2.0.0",
       "_model_name": "HTMLModel",
       "_view_count": null,
       "_view_module": "@jupyter-widgets/controls",
       "_view_module_version": "2.0.0",
       "_view_name": "HTMLView",
       "description": "",
       "description_allow_html": false,
       "layout": "IPY_MODEL_92ef317e79734cbfadf3d704ecc96b71",
       "placeholder": "​",
       "style": "IPY_MODEL_974bfd2f72194929b5bf91b0e69bc53e",
       "tabbable": null,
       "tooltip": null,
       "value": " 1000/1000 [04:16&lt;00:00,  2.63it/s]"
      }
     },
     "a4bc69a0a4b8472b83721a571e30f2e7": {
      "model_module": "@jupyter-widgets/base",
      "model_module_version": "2.0.0",
      "model_name": "LayoutModel",
      "state": {
       "_model_module": "@jupyter-widgets/base",
       "_model_module_version": "2.0.0",
       "_model_name": "LayoutModel",
       "_view_count": null,
       "_view_module": "@jupyter-widgets/base",
       "_view_module_version": "2.0.0",
       "_view_name": "LayoutView",
       "align_content": null,
       "align_items": null,
       "align_self": null,
       "border_bottom": null,
       "border_left": null,
       "border_right": null,
       "border_top": null,
       "bottom": null,
       "display": null,
       "flex": null,
       "flex_flow": null,
       "grid_area": null,
       "grid_auto_columns": null,
       "grid_auto_flow": null,
       "grid_auto_rows": null,
       "grid_column": null,
       "grid_gap": null,
       "grid_row": null,
       "grid_template_areas": null,
       "grid_template_columns": null,
       "grid_template_rows": null,
       "height": null,
       "justify_content": null,
       "justify_items": null,
       "left": null,
       "margin": null,
       "max_height": null,
       "max_width": null,
       "min_height": null,
       "min_width": null,
       "object_fit": null,
       "object_position": null,
       "order": null,
       "overflow": null,
       "padding": null,
       "right": null,
       "top": null,
       "visibility": null,
       "width": null
      }
     },
     "a4ec333b7b864499ba542c4957179ab4": {
      "model_module": "@jupyter-widgets/controls",
      "model_module_version": "2.0.0",
      "model_name": "HTMLModel",
      "state": {
       "_dom_classes": [],
       "_model_module": "@jupyter-widgets/controls",
       "_model_module_version": "2.0.0",
       "_model_name": "HTMLModel",
       "_view_count": null,
       "_view_module": "@jupyter-widgets/controls",
       "_view_module_version": "2.0.0",
       "_view_name": "HTMLView",
       "description": "",
       "description_allow_html": false,
       "layout": "IPY_MODEL_112313a6790d4f14b0112c2e15a16987",
       "placeholder": "​",
       "style": "IPY_MODEL_09e9711139a54ab99335a3f0fd395e2e",
       "tabbable": null,
       "tooltip": null,
       "value": " 10000/10000 [2:43:15&lt;00:00,  1.08it/s]"
      }
     },
     "a641d00ba3e2484191ad35c9631764fc": {
      "model_module": "@jupyter-widgets/controls",
      "model_module_version": "2.0.0",
      "model_name": "HTMLModel",
      "state": {
       "_dom_classes": [],
       "_model_module": "@jupyter-widgets/controls",
       "_model_module_version": "2.0.0",
       "_model_name": "HTMLModel",
       "_view_count": null,
       "_view_module": "@jupyter-widgets/controls",
       "_view_module_version": "2.0.0",
       "_view_name": "HTMLView",
       "description": "",
       "description_allow_html": false,
       "layout": "IPY_MODEL_0b55a3b1ad8c402b830eb5eb291a6d05",
       "placeholder": "​",
       "style": "IPY_MODEL_3cbf0d716dc34f6b830782d143123add",
       "tabbable": null,
       "tooltip": null,
       "value": "100%"
      }
     },
     "b030c11cb9d4475f8df84b31bba4774a": {
      "model_module": "@jupyter-widgets/controls",
      "model_module_version": "2.0.0",
      "model_name": "ProgressStyleModel",
      "state": {
       "_model_module": "@jupyter-widgets/controls",
       "_model_module_version": "2.0.0",
       "_model_name": "ProgressStyleModel",
       "_view_count": null,
       "_view_module": "@jupyter-widgets/base",
       "_view_module_version": "2.0.0",
       "_view_name": "StyleView",
       "bar_color": null,
       "description_width": ""
      }
     },
     "b140fa3fc0394edbb3a0badec730cfb5": {
      "model_module": "@jupyter-widgets/controls",
      "model_module_version": "2.0.0",
      "model_name": "ProgressStyleModel",
      "state": {
       "_model_module": "@jupyter-widgets/controls",
       "_model_module_version": "2.0.0",
       "_model_name": "ProgressStyleModel",
       "_view_count": null,
       "_view_module": "@jupyter-widgets/base",
       "_view_module_version": "2.0.0",
       "_view_name": "StyleView",
       "bar_color": null,
       "description_width": ""
      }
     },
     "b1fa16bbf1fc4a8ca3cbf65391672498": {
      "model_module": "@jupyter-widgets/controls",
      "model_module_version": "2.0.0",
      "model_name": "HBoxModel",
      "state": {
       "_dom_classes": [],
       "_model_module": "@jupyter-widgets/controls",
       "_model_module_version": "2.0.0",
       "_model_name": "HBoxModel",
       "_view_count": null,
       "_view_module": "@jupyter-widgets/controls",
       "_view_module_version": "2.0.0",
       "_view_name": "HBoxView",
       "box_style": "",
       "children": [
        "IPY_MODEL_cc82deaaa0c440369df07acee1e150f9",
        "IPY_MODEL_6fd2c480262a42d3a1d23c070e5230ac",
        "IPY_MODEL_db30dcd187a14729927f5674e13f86d0"
       ],
       "layout": "IPY_MODEL_3731905722284a7189dcf7d1efbb359b",
       "tabbable": null,
       "tooltip": null
      }
     },
     "bada27b7113644808c0da5e811180055": {
      "model_module": "@jupyter-widgets/controls",
      "model_module_version": "2.0.0",
      "model_name": "HBoxModel",
      "state": {
       "_dom_classes": [],
       "_model_module": "@jupyter-widgets/controls",
       "_model_module_version": "2.0.0",
       "_model_name": "HBoxModel",
       "_view_count": null,
       "_view_module": "@jupyter-widgets/controls",
       "_view_module_version": "2.0.0",
       "_view_name": "HBoxView",
       "box_style": "",
       "children": [
        "IPY_MODEL_03a5babbbcce4a68a06f249362ced66b",
        "IPY_MODEL_e9fe33841ce0468a9532b8d2397a169e",
        "IPY_MODEL_a3d01e01ef0e4395b43d7ec4a094a7e4"
       ],
       "layout": "IPY_MODEL_6979c70870f34cd386da14623d74facf",
       "tabbable": null,
       "tooltip": null
      }
     },
     "bc3a8dec96ed4f6886358bc36a505865": {
      "model_module": "@jupyter-widgets/controls",
      "model_module_version": "2.0.0",
      "model_name": "HBoxModel",
      "state": {
       "_dom_classes": [],
       "_model_module": "@jupyter-widgets/controls",
       "_model_module_version": "2.0.0",
       "_model_name": "HBoxModel",
       "_view_count": null,
       "_view_module": "@jupyter-widgets/controls",
       "_view_module_version": "2.0.0",
       "_view_name": "HBoxView",
       "box_style": "",
       "children": [
        "IPY_MODEL_5f02a3768fe14de6b08b923b6dfd57f8",
        "IPY_MODEL_ee11cc99d6ec49848112de8722242440",
        "IPY_MODEL_a4ec333b7b864499ba542c4957179ab4"
       ],
       "layout": "IPY_MODEL_1a86718c707b42eba3ee5c7c5150731b",
       "tabbable": null,
       "tooltip": null
      }
     },
     "bf0236f86f1e49bdb79bf537669158c8": {
      "model_module": "@jupyter-widgets/controls",
      "model_module_version": "2.0.0",
      "model_name": "ProgressStyleModel",
      "state": {
       "_model_module": "@jupyter-widgets/controls",
       "_model_module_version": "2.0.0",
       "_model_name": "ProgressStyleModel",
       "_view_count": null,
       "_view_module": "@jupyter-widgets/base",
       "_view_module_version": "2.0.0",
       "_view_name": "StyleView",
       "bar_color": null,
       "description_width": ""
      }
     },
     "c12ccff21fc0474cb570f6471550042e": {
      "model_module": "@jupyter-widgets/base",
      "model_module_version": "2.0.0",
      "model_name": "LayoutModel",
      "state": {
       "_model_module": "@jupyter-widgets/base",
       "_model_module_version": "2.0.0",
       "_model_name": "LayoutModel",
       "_view_count": null,
       "_view_module": "@jupyter-widgets/base",
       "_view_module_version": "2.0.0",
       "_view_name": "LayoutView",
       "align_content": null,
       "align_items": null,
       "align_self": null,
       "border_bottom": null,
       "border_left": null,
       "border_right": null,
       "border_top": null,
       "bottom": null,
       "display": null,
       "flex": null,
       "flex_flow": null,
       "grid_area": null,
       "grid_auto_columns": null,
       "grid_auto_flow": null,
       "grid_auto_rows": null,
       "grid_column": null,
       "grid_gap": null,
       "grid_row": null,
       "grid_template_areas": null,
       "grid_template_columns": null,
       "grid_template_rows": null,
       "height": null,
       "justify_content": null,
       "justify_items": null,
       "left": null,
       "margin": null,
       "max_height": null,
       "max_width": null,
       "min_height": null,
       "min_width": null,
       "object_fit": null,
       "object_position": null,
       "order": null,
       "overflow": null,
       "padding": null,
       "right": null,
       "top": null,
       "visibility": null,
       "width": null
      }
     },
     "cbd6861b37364620981193cde87bc3e5": {
      "model_module": "@jupyter-widgets/controls",
      "model_module_version": "2.0.0",
      "model_name": "HBoxModel",
      "state": {
       "_dom_classes": [],
       "_model_module": "@jupyter-widgets/controls",
       "_model_module_version": "2.0.0",
       "_model_name": "HBoxModel",
       "_view_count": null,
       "_view_module": "@jupyter-widgets/controls",
       "_view_module_version": "2.0.0",
       "_view_name": "HBoxView",
       "box_style": "",
       "children": [
        "IPY_MODEL_4e6d5f3fd891457381684af90230d753",
        "IPY_MODEL_cc80aecaa7d8489fa286723b8277338f",
        "IPY_MODEL_9defedaf86274cf890e11c236f75a8aa"
       ],
       "layout": "IPY_MODEL_97e93c26115045dbb0789713893a6ac7",
       "tabbable": null,
       "tooltip": null
      }
     },
     "cc80aecaa7d8489fa286723b8277338f": {
      "model_module": "@jupyter-widgets/controls",
      "model_module_version": "2.0.0",
      "model_name": "FloatProgressModel",
      "state": {
       "_dom_classes": [],
       "_model_module": "@jupyter-widgets/controls",
       "_model_module_version": "2.0.0",
       "_model_name": "FloatProgressModel",
       "_view_count": null,
       "_view_module": "@jupyter-widgets/controls",
       "_view_module_version": "2.0.0",
       "_view_name": "ProgressView",
       "bar_style": "success",
       "description": "",
       "description_allow_html": false,
       "layout": "IPY_MODEL_82bccc9df02d4ee99ec8ad626d57a897",
       "max": 25224,
       "min": 0,
       "orientation": "horizontal",
       "style": "IPY_MODEL_bf0236f86f1e49bdb79bf537669158c8",
       "tabbable": null,
       "tooltip": null,
       "value": 25224
      }
     },
     "cc82deaaa0c440369df07acee1e150f9": {
      "model_module": "@jupyter-widgets/controls",
      "model_module_version": "2.0.0",
      "model_name": "HTMLModel",
      "state": {
       "_dom_classes": [],
       "_model_module": "@jupyter-widgets/controls",
       "_model_module_version": "2.0.0",
       "_model_name": "HTMLModel",
       "_view_count": null,
       "_view_module": "@jupyter-widgets/controls",
       "_view_module_version": "2.0.0",
       "_view_name": "HTMLView",
       "description": "",
       "description_allow_html": false,
       "layout": "IPY_MODEL_a4bc69a0a4b8472b83721a571e30f2e7",
       "placeholder": "​",
       "style": "IPY_MODEL_8eed5895be5c436ebd4b13e724123115",
       "tabbable": null,
       "tooltip": null,
       "value": "100%"
      }
     },
     "cda95bccab0d445da41aad4b4e05a846": {
      "model_module": "@jupyter-widgets/controls",
      "model_module_version": "2.0.0",
      "model_name": "HBoxModel",
      "state": {
       "_dom_classes": [],
       "_model_module": "@jupyter-widgets/controls",
       "_model_module_version": "2.0.0",
       "_model_name": "HBoxModel",
       "_view_count": null,
       "_view_module": "@jupyter-widgets/controls",
       "_view_module_version": "2.0.0",
       "_view_name": "HBoxView",
       "box_style": "",
       "children": [
        "IPY_MODEL_a641d00ba3e2484191ad35c9631764fc",
        "IPY_MODEL_334575789dcf47aa926f25e5a7fde691",
        "IPY_MODEL_e4eb23028f734509a97a5f209cf53b2a"
       ],
       "layout": "IPY_MODEL_c12ccff21fc0474cb570f6471550042e",
       "tabbable": null,
       "tooltip": null
      }
     },
     "d791e3f797fb414abdfc56a78aafb49a": {
      "model_module": "@jupyter-widgets/base",
      "model_module_version": "2.0.0",
      "model_name": "LayoutModel",
      "state": {
       "_model_module": "@jupyter-widgets/base",
       "_model_module_version": "2.0.0",
       "_model_name": "LayoutModel",
       "_view_count": null,
       "_view_module": "@jupyter-widgets/base",
       "_view_module_version": "2.0.0",
       "_view_name": "LayoutView",
       "align_content": null,
       "align_items": null,
       "align_self": null,
       "border_bottom": null,
       "border_left": null,
       "border_right": null,
       "border_top": null,
       "bottom": null,
       "display": null,
       "flex": null,
       "flex_flow": null,
       "grid_area": null,
       "grid_auto_columns": null,
       "grid_auto_flow": null,
       "grid_auto_rows": null,
       "grid_column": null,
       "grid_gap": null,
       "grid_row": null,
       "grid_template_areas": null,
       "grid_template_columns": null,
       "grid_template_rows": null,
       "height": null,
       "justify_content": null,
       "justify_items": null,
       "left": null,
       "margin": null,
       "max_height": null,
       "max_width": null,
       "min_height": null,
       "min_width": null,
       "object_fit": null,
       "object_position": null,
       "order": null,
       "overflow": null,
       "padding": null,
       "right": null,
       "top": null,
       "visibility": null,
       "width": null
      }
     },
     "db30dcd187a14729927f5674e13f86d0": {
      "model_module": "@jupyter-widgets/controls",
      "model_module_version": "2.0.0",
      "model_name": "HTMLModel",
      "state": {
       "_dom_classes": [],
       "_model_module": "@jupyter-widgets/controls",
       "_model_module_version": "2.0.0",
       "_model_name": "HTMLModel",
       "_view_count": null,
       "_view_module": "@jupyter-widgets/controls",
       "_view_module_version": "2.0.0",
       "_view_name": "HTMLView",
       "description": "",
       "description_allow_html": false,
       "layout": "IPY_MODEL_9cce2f0c2f7a427ca9985182180db3d2",
       "placeholder": "​",
       "style": "IPY_MODEL_fb112df1bfdc4ce4bc4dd6b8eb0b6a57",
       "tabbable": null,
       "tooltip": null,
       "value": " 1514/1514 [00:00&lt;00:00, 2221.13it/s]"
      }
     },
     "e4eb23028f734509a97a5f209cf53b2a": {
      "model_module": "@jupyter-widgets/controls",
      "model_module_version": "2.0.0",
      "model_name": "HTMLModel",
      "state": {
       "_dom_classes": [],
       "_model_module": "@jupyter-widgets/controls",
       "_model_module_version": "2.0.0",
       "_model_name": "HTMLModel",
       "_view_count": null,
       "_view_module": "@jupyter-widgets/controls",
       "_view_module_version": "2.0.0",
       "_view_name": "HTMLView",
       "description": "",
       "description_allow_html": false,
       "layout": "IPY_MODEL_d791e3f797fb414abdfc56a78aafb49a",
       "placeholder": "​",
       "style": "IPY_MODEL_f6395f41ae904c089b9edb07a24b632e",
       "tabbable": null,
       "tooltip": null,
       "value": " 25224/25224 [00:07&lt;00:00, 3779.09it/s]"
      }
     },
     "e9fe33841ce0468a9532b8d2397a169e": {
      "model_module": "@jupyter-widgets/controls",
      "model_module_version": "2.0.0",
      "model_name": "FloatProgressModel",
      "state": {
       "_dom_classes": [],
       "_model_module": "@jupyter-widgets/controls",
       "_model_module_version": "2.0.0",
       "_model_name": "FloatProgressModel",
       "_view_count": null,
       "_view_module": "@jupyter-widgets/controls",
       "_view_module_version": "2.0.0",
       "_view_name": "ProgressView",
       "bar_style": "success",
       "description": "",
       "description_allow_html": false,
       "layout": "IPY_MODEL_f8a8cb947b884fe49951a55158385803",
       "max": 1000,
       "min": 0,
       "orientation": "horizontal",
       "style": "IPY_MODEL_f8ed3c9249e54bd0ad6942904fa30114",
       "tabbable": null,
       "tooltip": null,
       "value": 1000
      }
     },
     "ee11cc99d6ec49848112de8722242440": {
      "model_module": "@jupyter-widgets/controls",
      "model_module_version": "2.0.0",
      "model_name": "FloatProgressModel",
      "state": {
       "_dom_classes": [],
       "_model_module": "@jupyter-widgets/controls",
       "_model_module_version": "2.0.0",
       "_model_name": "FloatProgressModel",
       "_view_count": null,
       "_view_module": "@jupyter-widgets/controls",
       "_view_module_version": "2.0.0",
       "_view_name": "ProgressView",
       "bar_style": "success",
       "description": "",
       "description_allow_html": false,
       "layout": "IPY_MODEL_a2411d66d0e64df585737d87bdb04316",
       "max": 10000,
       "min": 0,
       "orientation": "horizontal",
       "style": "IPY_MODEL_5692632958e0450f920342fc791c13d2",
       "tabbable": null,
       "tooltip": null,
       "value": 10000
      }
     },
     "f6395f41ae904c089b9edb07a24b632e": {
      "model_module": "@jupyter-widgets/controls",
      "model_module_version": "2.0.0",
      "model_name": "HTMLStyleModel",
      "state": {
       "_model_module": "@jupyter-widgets/controls",
       "_model_module_version": "2.0.0",
       "_model_name": "HTMLStyleModel",
       "_view_count": null,
       "_view_module": "@jupyter-widgets/base",
       "_view_module_version": "2.0.0",
       "_view_name": "StyleView",
       "background": null,
       "description_width": "",
       "font_size": null,
       "text_color": null
      }
     },
     "f8a8cb947b884fe49951a55158385803": {
      "model_module": "@jupyter-widgets/base",
      "model_module_version": "2.0.0",
      "model_name": "LayoutModel",
      "state": {
       "_model_module": "@jupyter-widgets/base",
       "_model_module_version": "2.0.0",
       "_model_name": "LayoutModel",
       "_view_count": null,
       "_view_module": "@jupyter-widgets/base",
       "_view_module_version": "2.0.0",
       "_view_name": "LayoutView",
       "align_content": null,
       "align_items": null,
       "align_self": null,
       "border_bottom": null,
       "border_left": null,
       "border_right": null,
       "border_top": null,
       "bottom": null,
       "display": null,
       "flex": null,
       "flex_flow": null,
       "grid_area": null,
       "grid_auto_columns": null,
       "grid_auto_flow": null,
       "grid_auto_rows": null,
       "grid_column": null,
       "grid_gap": null,
       "grid_row": null,
       "grid_template_areas": null,
       "grid_template_columns": null,
       "grid_template_rows": null,
       "height": null,
       "justify_content": null,
       "justify_items": null,
       "left": null,
       "margin": null,
       "max_height": null,
       "max_width": null,
       "min_height": null,
       "min_width": null,
       "object_fit": null,
       "object_position": null,
       "order": null,
       "overflow": null,
       "padding": null,
       "right": null,
       "top": null,
       "visibility": null,
       "width": null
      }
     },
     "f8ed3c9249e54bd0ad6942904fa30114": {
      "model_module": "@jupyter-widgets/controls",
      "model_module_version": "2.0.0",
      "model_name": "ProgressStyleModel",
      "state": {
       "_model_module": "@jupyter-widgets/controls",
       "_model_module_version": "2.0.0",
       "_model_name": "ProgressStyleModel",
       "_view_count": null,
       "_view_module": "@jupyter-widgets/base",
       "_view_module_version": "2.0.0",
       "_view_name": "StyleView",
       "bar_color": null,
       "description_width": ""
      }
     },
     "fb112df1bfdc4ce4bc4dd6b8eb0b6a57": {
      "model_module": "@jupyter-widgets/controls",
      "model_module_version": "2.0.0",
      "model_name": "HTMLStyleModel",
      "state": {
       "_model_module": "@jupyter-widgets/controls",
       "_model_module_version": "2.0.0",
       "_model_name": "HTMLStyleModel",
       "_view_count": null,
       "_view_module": "@jupyter-widgets/base",
       "_view_module_version": "2.0.0",
       "_view_name": "StyleView",
       "background": null,
       "description_width": "",
       "font_size": null,
       "text_color": null
      }
     }
    },
    "version_major": 2,
    "version_minor": 0
   }
  }
 },
 "nbformat": 4,
 "nbformat_minor": 5
}
