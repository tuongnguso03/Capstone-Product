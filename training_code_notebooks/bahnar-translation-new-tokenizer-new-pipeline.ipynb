{
 "cells": [
  {
   "cell_type": "code",
   "execution_count": 1,
   "id": "297f16f3",
   "metadata": {
    "execution": {
     "iopub.execute_input": "2025-04-14T07:25:03.773001Z",
     "iopub.status.busy": "2025-04-14T07:25:03.772518Z",
     "iopub.status.idle": "2025-04-14T07:25:03.778525Z",
     "shell.execute_reply": "2025-04-14T07:25:03.778034Z"
    },
    "id": "TnhanWBXCSnE",
    "papermill": {
     "duration": 0.016423,
     "end_time": "2025-04-14T07:25:03.779553",
     "exception": false,
     "start_time": "2025-04-14T07:25:03.763130",
     "status": "completed"
    },
    "tags": []
   },
   "outputs": [],
   "source": [
    "import warnings\n",
    "warnings.filterwarnings('ignore')"
   ]
  },
  {
   "cell_type": "markdown",
   "id": "201bf925",
   "metadata": {
    "id": "1CqYUjE3W5YA",
    "papermill": {
     "duration": 0.007629,
     "end_time": "2025-04-14T07:25:03.794943",
     "exception": false,
     "start_time": "2025-04-14T07:25:03.787314",
     "status": "completed"
    },
    "tags": []
   },
   "source": [
    "### Wandb session"
   ]
  },
  {
   "cell_type": "code",
   "execution_count": 2,
   "id": "86546ba7",
   "metadata": {
    "execution": {
     "iopub.execute_input": "2025-04-14T07:25:03.810930Z",
     "iopub.status.busy": "2025-04-14T07:25:03.810736Z",
     "iopub.status.idle": "2025-04-14T07:25:08.498983Z",
     "shell.execute_reply": "2025-04-14T07:25:08.498433Z"
    },
    "id": "A4kt78hJW5YC",
    "papermill": {
     "duration": 4.697411,
     "end_time": "2025-04-14T07:25:08.500386",
     "exception": false,
     "start_time": "2025-04-14T07:25:03.802975",
     "status": "completed"
    },
    "tags": []
   },
   "outputs": [
    {
     "name": "stderr",
     "output_type": "stream",
     "text": [
      "\u001b[34m\u001b[1mwandb\u001b[0m: \u001b[33mWARNING\u001b[0m If you're specifying your api key in code, ensure this code is not shared publicly.\n",
      "\u001b[34m\u001b[1mwandb\u001b[0m: \u001b[33mWARNING\u001b[0m Consider setting the WANDB_API_KEY environment variable, or running `wandb login` from the command line.\n",
      "\u001b[34m\u001b[1mwandb\u001b[0m: Appending key for api.wandb.ai to your netrc file: /root/.netrc\n",
      "\u001b[34m\u001b[1mwandb\u001b[0m: Currently logged in as: \u001b[33mmetalwallcrusher\u001b[0m (\u001b[33mmetalwallcrusher-vinuniversity\u001b[0m) to \u001b[32mhttps://api.wandb.ai\u001b[0m. Use \u001b[1m`wandb login --relogin`\u001b[0m to force relogin\n",
      "\u001b[34m\u001b[1mwandb\u001b[0m: Using wandb-core as the SDK backend.  Please refer to https://wandb.me/wandb-core for more information.\n",
      "\u001b[34m\u001b[1mwandb\u001b[0m: Tracking run with wandb version 0.19.6\n",
      "\u001b[34m\u001b[1mwandb\u001b[0m: Run data is saved locally in \u001b[35m\u001b[1m/kaggle/working/wandb/run-20250414_072506-l0t2t29t\u001b[0m\n",
      "\u001b[34m\u001b[1mwandb\u001b[0m: Run \u001b[1m`wandb offline`\u001b[0m to turn off syncing.\n",
      "\u001b[34m\u001b[1mwandb\u001b[0m: Syncing run \u001b[33mmajor-salad-88\u001b[0m\n",
      "\u001b[34m\u001b[1mwandb\u001b[0m: ⭐️ View project at \u001b[34m\u001b[4mhttps://wandb.ai/metalwallcrusher-vinuniversity/augmented_test\u001b[0m\n",
      "\u001b[34m\u001b[1mwandb\u001b[0m: 🚀 View run at \u001b[34m\u001b[4mhttps://wandb.ai/metalwallcrusher-vinuniversity/augmented_test/runs/l0t2t29t\u001b[0m\n"
     ]
    }
   ],
   "source": [
    "import wandb\n",
    "wandb.login(key='6f62d15846ae3ef63e0c80b3ab1f4de94d5cc8a4')\n",
    "wandb.init(project='augmented_test')\n",
    "\n",
    "import os\n",
    "os.environ[\"WANDB_DISABLED\"] = \"true\"\n"
   ]
  },
  {
   "cell_type": "markdown",
   "id": "fe2dcf58",
   "metadata": {
    "id": "pBdHIwc5W5YD",
    "papermill": {
     "duration": 0.007644,
     "end_time": "2025-04-14T07:25:08.516770",
     "exception": false,
     "start_time": "2025-04-14T07:25:08.509126",
     "status": "completed"
    },
    "tags": []
   },
   "source": [
    "### Cleaning the kaggle/working directory"
   ]
  },
  {
   "cell_type": "code",
   "execution_count": 3,
   "id": "1d7425fe",
   "metadata": {
    "execution": {
     "iopub.execute_input": "2025-04-14T07:25:08.533849Z",
     "iopub.status.busy": "2025-04-14T07:25:08.533650Z",
     "iopub.status.idle": "2025-04-14T07:25:08.540122Z",
     "shell.execute_reply": "2025-04-14T07:25:08.539406Z"
    },
    "id": "iMzQQ3TcW5YD",
    "papermill": {
     "duration": 0.016881,
     "end_time": "2025-04-14T07:25:08.541347",
     "exception": false,
     "start_time": "2025-04-14T07:25:08.524466",
     "status": "completed"
    },
    "tags": []
   },
   "outputs": [
    {
     "name": "stdout",
     "output_type": "stream",
     "text": [
      "Cleaning complete.\n"
     ]
    }
   ],
   "source": [
    "import os\n",
    "import shutil\n",
    "\n",
    "directory = '/kaggle/working'\n",
    "\n",
    "# Loop through each item in the directory\n",
    "for filename in os.listdir(directory):\n",
    "    file_path = os.path.join(directory, filename)\n",
    "    try:\n",
    "        if os.path.isfile(file_path) or os.path.islink(file_path):\n",
    "            os.unlink(file_path)  # Removes files and links\n",
    "        elif os.path.isdir(file_path):\n",
    "            shutil.rmtree(file_path)  # Removes directories and their contents\n",
    "    except Exception as e:\n",
    "        print(f'Failed to delete {file_path}. Reason: {e}')\n",
    "\n",
    "print(\"Cleaning complete.\")"
   ]
  },
  {
   "cell_type": "markdown",
   "id": "331a72df",
   "metadata": {
    "id": "8Mbb_K3QW5YD",
    "papermill": {
     "duration": 0.007859,
     "end_time": "2025-04-14T07:25:08.557035",
     "exception": false,
     "start_time": "2025-04-14T07:25:08.549176",
     "status": "completed"
    },
    "tags": []
   },
   "source": [
    "### Installing dependencies"
   ]
  },
  {
   "cell_type": "code",
   "execution_count": 4,
   "id": "17e11c47",
   "metadata": {
    "execution": {
     "iopub.execute_input": "2025-04-14T07:25:08.573462Z",
     "iopub.status.busy": "2025-04-14T07:25:08.573062Z",
     "iopub.status.idle": "2025-04-14T07:25:18.949970Z",
     "shell.execute_reply": "2025-04-14T07:25:18.948942Z"
    },
    "id": "9-svHB12W5YD",
    "papermill": {
     "duration": 10.386931,
     "end_time": "2025-04-14T07:25:18.951696",
     "exception": false,
     "start_time": "2025-04-14T07:25:08.564765",
     "status": "completed"
    },
    "tags": []
   },
   "outputs": [
    {
     "name": "stdout",
     "output_type": "stream",
     "text": [
      "\u001b[2K   \u001b[90m━━━━━━━━━━━━━━━━━━━━━━━━━━━━━━━━━━━━━━━━\u001b[0m \u001b[32m183.9/183.9 kB\u001b[0m \u001b[31m4.4 MB/s\u001b[0m eta \u001b[36m0:00:00\u001b[0m\r\n",
      "\u001b[?25h\u001b[31mERROR: pip's dependency resolver does not currently take into account all the packages that are installed. This behaviour is the source of the following dependency conflicts.\r\n",
      "gcsfs 2024.10.0 requires fsspec==2024.10.0, but you have fsspec 2024.12.0 which is incompatible.\r\n",
      "torch 2.5.1+cu124 requires nvidia-cublas-cu12==12.4.5.8; platform_system == \"Linux\" and platform_machine == \"x86_64\", but you have nvidia-cublas-cu12 12.8.4.1 which is incompatible.\r\n",
      "torch 2.5.1+cu124 requires nvidia-cudnn-cu12==9.1.0.70; platform_system == \"Linux\" and platform_machine == \"x86_64\", but you have nvidia-cudnn-cu12 9.3.0.75 which is incompatible.\r\n",
      "torch 2.5.1+cu124 requires nvidia-cufft-cu12==11.2.1.3; platform_system == \"Linux\" and platform_machine == \"x86_64\", but you have nvidia-cufft-cu12 11.3.3.83 which is incompatible.\r\n",
      "torch 2.5.1+cu124 requires nvidia-curand-cu12==10.3.5.147; platform_system == \"Linux\" and platform_machine == \"x86_64\", but you have nvidia-curand-cu12 10.3.9.90 which is incompatible.\r\n",
      "torch 2.5.1+cu124 requires nvidia-cusolver-cu12==11.6.1.9; platform_system == \"Linux\" and platform_machine == \"x86_64\", but you have nvidia-cusolver-cu12 11.7.3.90 which is incompatible.\r\n",
      "torch 2.5.1+cu124 requires nvidia-cusparse-cu12==12.3.1.170; platform_system == \"Linux\" and platform_machine == \"x86_64\", but you have nvidia-cusparse-cu12 12.5.8.93 which is incompatible.\r\n",
      "torch 2.5.1+cu124 requires nvidia-nvjitlink-cu12==12.4.127; platform_system == \"Linux\" and platform_machine == \"x86_64\", but you have nvidia-nvjitlink-cu12 12.8.93 which is incompatible.\r\n",
      "bigframes 1.36.0 requires rich<14,>=12.4.4, but you have rich 14.0.0 which is incompatible.\u001b[0m\u001b[31m\r\n",
      "\u001b[2K     \u001b[90m━━━━━━━━━━━━━━━━━━━━━━━━━━━━━━━━━━━━━━━━\u001b[0m \u001b[32m51.8/51.8 kB\u001b[0m \u001b[31m1.7 MB/s\u001b[0m eta \u001b[36m0:00:00\u001b[0m\r\n",
      "\u001b[2K   \u001b[90m━━━━━━━━━━━━━━━━━━━━━━━━━━━━━━━━━━━━━━━━\u001b[0m \u001b[32m104.1/104.1 kB\u001b[0m \u001b[31m4.2 MB/s\u001b[0m eta \u001b[36m0:00:00\u001b[0m\r\n",
      "\u001b[?25h"
     ]
    }
   ],
   "source": [
    "!pip install -q -U sentencepiece\n",
    "!pip install -q -U datasets\n",
    "!pip install -q -U sacrebleu"
   ]
  },
  {
   "cell_type": "markdown",
   "id": "e73b0165",
   "metadata": {
    "id": "fjvdNxXRW5YE",
    "papermill": {
     "duration": 0.008033,
     "end_time": "2025-04-14T07:25:18.968351",
     "exception": false,
     "start_time": "2025-04-14T07:25:18.960318",
     "status": "completed"
    },
    "tags": []
   },
   "source": [
    "### Importing libraries"
   ]
  },
  {
   "cell_type": "code",
   "execution_count": 5,
   "id": "5de4bd55",
   "metadata": {
    "execution": {
     "iopub.execute_input": "2025-04-14T07:25:18.985863Z",
     "iopub.status.busy": "2025-04-14T07:25:18.985591Z",
     "iopub.status.idle": "2025-04-14T07:25:21.619448Z",
     "shell.execute_reply": "2025-04-14T07:25:21.618848Z"
    },
    "id": "0NqLWvK1W5YE",
    "papermill": {
     "duration": 2.64437,
     "end_time": "2025-04-14T07:25:21.620805",
     "exception": false,
     "start_time": "2025-04-14T07:25:18.976435",
     "status": "completed"
    },
    "tags": []
   },
   "outputs": [],
   "source": [
    "from datasets import Dataset, concatenate_datasets"
   ]
  },
  {
   "cell_type": "code",
   "execution_count": 6,
   "id": "2612600d",
   "metadata": {
    "execution": {
     "iopub.execute_input": "2025-04-14T07:25:21.638690Z",
     "iopub.status.busy": "2025-04-14T07:25:21.638315Z",
     "iopub.status.idle": "2025-04-14T07:25:48.344224Z",
     "shell.execute_reply": "2025-04-14T07:25:48.343589Z"
    },
    "id": "I4SpTMyU2wcv",
    "papermill": {
     "duration": 26.716167,
     "end_time": "2025-04-14T07:25:48.345641",
     "exception": false,
     "start_time": "2025-04-14T07:25:21.629474",
     "status": "completed"
    },
    "tags": []
   },
   "outputs": [
    {
     "name": "stderr",
     "output_type": "stream",
     "text": [
      "2025-04-14 07:25:36.020237: E external/local_xla/xla/stream_executor/cuda/cuda_fft.cc:477] Unable to register cuFFT factory: Attempting to register factory for plugin cuFFT when one has already been registered\n",
      "WARNING: All log messages before absl::InitializeLog() is called are written to STDERR\n",
      "E0000 00:00:1744615536.208768      19 cuda_dnn.cc:8310] Unable to register cuDNN factory: Attempting to register factory for plugin cuDNN when one has already been registered\n",
      "E0000 00:00:1744615536.268290      19 cuda_blas.cc:1418] Unable to register cuBLAS factory: Attempting to register factory for plugin cuBLAS when one has already been registered\n"
     ]
    }
   ],
   "source": [
    "import torch\n",
    "import sentencepiece\n",
    "from transformers import AutoTokenizer, AutoModelForSeq2SeqLM, Seq2SeqTrainer, Seq2SeqTrainingArguments\n",
    "from datasets import load_dataset\n",
    "# import numpy as np \n",
    "import pandas as pd\n",
    "from sklearn.model_selection import train_test_split\n",
    "from datasets import Dataset, concatenate_datasets\n",
    "\n",
    "import sacrebleu"
   ]
  },
  {
   "cell_type": "markdown",
   "id": "fdf536c4",
   "metadata": {
    "id": "1bWdL6fRW5YE",
    "papermill": {
     "duration": 0.008275,
     "end_time": "2025-04-14T07:25:48.362610",
     "exception": false,
     "start_time": "2025-04-14T07:25:48.354335",
     "status": "completed"
    },
    "tags": []
   },
   "source": [
    "### Reproducibility"
   ]
  },
  {
   "cell_type": "code",
   "execution_count": 7,
   "id": "6922467e",
   "metadata": {
    "execution": {
     "iopub.execute_input": "2025-04-14T07:25:48.380089Z",
     "iopub.status.busy": "2025-04-14T07:25:48.379491Z",
     "iopub.status.idle": "2025-04-14T07:25:48.387456Z",
     "shell.execute_reply": "2025-04-14T07:25:48.386934Z"
    },
    "id": "UjL5cNEc2wcw",
    "papermill": {
     "duration": 0.01774,
     "end_time": "2025-04-14T07:25:48.388490",
     "exception": false,
     "start_time": "2025-04-14T07:25:48.370750",
     "status": "completed"
    },
    "tags": []
   },
   "outputs": [],
   "source": [
    "RANDOM_SEED = 42\n",
    "# np.random.seed(RANDOM_SEED)\n",
    "torch.manual_seed(RANDOM_SEED)\n",
    "# If you are using CUDA\n",
    "torch.cuda.manual_seed_all(RANDOM_SEED)\n",
    "# Check if GPU is available\n",
    "device = torch.device(\"cuda\" if torch.cuda.is_available() else \"cpu\")\n",
    "\n",
    "MAX_LEN = 384\n",
    "PADDING_LEN = 228"
   ]
  },
  {
   "cell_type": "markdown",
   "id": "5a428e4d",
   "metadata": {
    "id": "ZGw2ZPFnW5YE",
    "papermill": {
     "duration": 0.00807,
     "end_time": "2025-04-14T07:25:48.404766",
     "exception": false,
     "start_time": "2025-04-14T07:25:48.396696",
     "status": "completed"
    },
    "tags": []
   },
   "source": [
    "### Loading the pretrained model"
   ]
  },
  {
   "cell_type": "code",
   "execution_count": 8,
   "id": "18cc95ea",
   "metadata": {
    "execution": {
     "iopub.execute_input": "2025-04-14T07:25:48.421737Z",
     "iopub.status.busy": "2025-04-14T07:25:48.421523Z",
     "iopub.status.idle": "2025-04-14T07:25:52.742680Z",
     "shell.execute_reply": "2025-04-14T07:25:52.741938Z"
    },
    "id": "cR6SJn0l2wcx",
    "papermill": {
     "duration": 4.33095,
     "end_time": "2025-04-14T07:25:52.743882",
     "exception": false,
     "start_time": "2025-04-14T07:25:48.412932",
     "status": "completed"
    },
    "tags": []
   },
   "outputs": [
    {
     "data": {
      "application/vnd.jupyter.widget-view+json": {
       "model_id": "7f76d4cb5c004ef09d5d54239c37a9d7",
       "version_major": 2,
       "version_minor": 0
      },
      "text/plain": [
       "tokenizer_config.json:   0%|          | 0.00/44.0 [00:00<?, ?B/s]"
      ]
     },
     "metadata": {},
     "output_type": "display_data"
    },
    {
     "data": {
      "application/vnd.jupyter.widget-view+json": {
       "model_id": "6c01312c9bea4e8cb029569f25a1cbb0",
       "version_major": 2,
       "version_minor": 0
      },
      "text/plain": [
       "config.json:   0%|          | 0.00/1.39k [00:00<?, ?B/s]"
      ]
     },
     "metadata": {},
     "output_type": "display_data"
    },
    {
     "data": {
      "application/vnd.jupyter.widget-view+json": {
       "model_id": "1dbfd5ad97de40069aa5fc105b1dc305",
       "version_major": 2,
       "version_minor": 0
      },
      "text/plain": [
       "source.spm:   0%|          | 0.00/756k [00:00<?, ?B/s]"
      ]
     },
     "metadata": {},
     "output_type": "display_data"
    },
    {
     "data": {
      "application/vnd.jupyter.widget-view+json": {
       "model_id": "fc0081942fb3463fb6e5e381f043c96d",
       "version_major": 2,
       "version_minor": 0
      },
      "text/plain": [
       "target.spm:   0%|          | 0.00/809k [00:00<?, ?B/s]"
      ]
     },
     "metadata": {},
     "output_type": "display_data"
    },
    {
     "data": {
      "application/vnd.jupyter.widget-view+json": {
       "model_id": "9b9dd056e2964799b4229befedb393c0",
       "version_major": 2,
       "version_minor": 0
      },
      "text/plain": [
       "vocab.json:   0%|          | 0.00/1.19M [00:00<?, ?B/s]"
      ]
     },
     "metadata": {},
     "output_type": "display_data"
    },
    {
     "data": {
      "application/vnd.jupyter.widget-view+json": {
       "model_id": "39f57fb374a8493598066aa2434af67c",
       "version_major": 2,
       "version_minor": 0
      },
      "text/plain": [
       "pytorch_model.bin:   0%|          | 0.00/289M [00:00<?, ?B/s]"
      ]
     },
     "metadata": {},
     "output_type": "display_data"
    },
    {
     "data": {
      "application/vnd.jupyter.widget-view+json": {
       "model_id": "2aa1d8ef0fc24b6bac4b6db7ff2761d1",
       "version_major": 2,
       "version_minor": 0
      },
      "text/plain": [
       "generation_config.json:   0%|          | 0.00/293 [00:00<?, ?B/s]"
      ]
     },
     "metadata": {},
     "output_type": "display_data"
    }
   ],
   "source": [
    "model_name = \"Helsinki-NLP/opus-mt-vi-en\"  # Example model for Bahnar to English\n",
    "ba_en_tokenizer = AutoTokenizer.from_pretrained(\"/kaggle/input/update-en-vi-ba-tokenizer\")\n",
    "vi_en_tokenizer = AutoTokenizer.from_pretrained(model_name)\n",
    "model = AutoModelForSeq2SeqLM.from_pretrained(model_name)"
   ]
  },
  {
   "cell_type": "markdown",
   "id": "3b21399e",
   "metadata": {
    "id": "W0FIGm6XW5YF",
    "papermill": {
     "duration": 0.009361,
     "end_time": "2025-04-14T07:25:52.762842",
     "exception": false,
     "start_time": "2025-04-14T07:25:52.753481",
     "status": "completed"
    },
    "tags": []
   },
   "source": [
    "### Loading the dataset"
   ]
  },
  {
   "cell_type": "code",
   "execution_count": 9,
   "id": "8fe43bb2",
   "metadata": {
    "execution": {
     "iopub.execute_input": "2025-04-14T07:25:52.783481Z",
     "iopub.status.busy": "2025-04-14T07:25:52.783235Z",
     "iopub.status.idle": "2025-04-14T07:25:53.133366Z",
     "shell.execute_reply": "2025-04-14T07:25:53.132460Z"
    },
    "id": "LJz0myyQ2wcy",
    "papermill": {
     "duration": 0.36258,
     "end_time": "2025-04-14T07:25:53.135156",
     "exception": false,
     "start_time": "2025-04-14T07:25:52.772576",
     "status": "completed"
    },
    "tags": []
   },
   "outputs": [
    {
     "data": {
      "application/vnd.jupyter.widget-view+json": {
       "model_id": "299274e8397d46d7abd3d8ecd892f1c7",
       "version_major": 2,
       "version_minor": 0
      },
      "text/plain": [
       "model.safetensors:   0%|          | 0.00/289M [00:00<?, ?B/s]"
      ]
     },
     "metadata": {},
     "output_type": "display_data"
    }
   ],
   "source": [
    "with open('/kaggle/input/train-eng-bdq-phase2dataset-v1/bdq-eng.train.bdq', 'r', encoding='utf-8') as file_ba:\n",
    "    ba_data = file_ba.readlines()\n",
    "with open('/kaggle/input/train-eng-bdq-phase2dataset-v1/bdq-eng.train.eng', 'r', encoding='utf-8') as file_en:\n",
    "    en_data = file_en.readlines()\n",
    "assert len(ba_data) == len(en_data), \"The files don't have the same number of lines.\"\n",
    "train_df = pd.DataFrame({'English': en_data, 'Bahnar': ba_data})\n",
    "train_df, val_df = train_test_split(train_df, test_size=0.1, random_state=RANDOM_SEED)\n",
    "\n",
    "ba_en_train_dataset = Dataset.from_pandas(train_df)\n",
    "ba_en_val_dataset = Dataset.from_pandas(val_df)\n",
    "\n",
    "with open('/kaggle/input/train-vie-eng-phomt-dev-dataset/dev.vi', 'r', encoding='utf-8') as file_vi:\n",
    "    vi_data = file_vi.readlines()\n",
    "with open('/kaggle/input/train-vie-eng-phomt-dev-dataset/dev.en', 'r', encoding='utf-8') as file_en:\n",
    "    en_data = file_en.readlines()\n",
    "assert len(vi_data) == len(en_data), \"The files don't have the same number of lines.\"\n",
    "train_df = pd.DataFrame({'English': en_data, 'Vietnamese': vi_data})\n",
    "\n",
    "vi_en_train_dataset = Dataset.from_pandas(train_df)"
   ]
  },
  {
   "cell_type": "code",
   "execution_count": 10,
   "id": "8d1c0b91",
   "metadata": {
    "execution": {
     "iopub.execute_input": "2025-04-14T07:25:53.172275Z",
     "iopub.status.busy": "2025-04-14T07:25:53.171611Z",
     "iopub.status.idle": "2025-04-14T07:25:53.211878Z",
     "shell.execute_reply": "2025-04-14T07:25:53.211150Z"
    },
    "id": "bWR4szpNW5YF",
    "papermill": {
     "duration": 0.063855,
     "end_time": "2025-04-14T07:25:53.213848",
     "exception": false,
     "start_time": "2025-04-14T07:25:53.149993",
     "status": "completed"
    },
    "tags": []
   },
   "outputs": [
    {
     "name": "stdout",
     "output_type": "stream",
     "text": [
      "21801 2423 1000\n",
      "18719\n"
     ]
    }
   ],
   "source": [
    "\n",
    "with open('/kaggle/input/test-eng-bdq-phase2dataset-v1/bdq-eng.test.bdq', 'r', encoding='utf-8') as file_ba:\n",
    "    ba_data = file_ba.readlines()\n",
    "with open('/kaggle/input/test-eng-bdq-phase2dataset-v1/bdq-eng.test.eng', 'r', encoding='utf-8') as file_en:\n",
    "    en_data = file_en.readlines()\n",
    "assert len(ba_data) == len(en_data), \"The files don't have the same number of lines.\"\n",
    "test_df = pd.DataFrame({'English': en_data, 'Bahnar': ba_data})\n",
    "ba_en_test_dataset = Dataset.from_pandas(test_df)\n",
    "\n",
    "print(len(ba_en_train_dataset), len(ba_en_val_dataset), len(ba_en_test_dataset))\n",
    "print(len(vi_en_train_dataset))"
   ]
  },
  {
   "cell_type": "markdown",
   "id": "fdd3c561",
   "metadata": {
    "papermill": {
     "duration": 0.010433,
     "end_time": "2025-04-14T07:25:53.311246",
     "exception": false,
     "start_time": "2025-04-14T07:25:53.300813",
     "status": "completed"
    },
    "tags": []
   },
   "source": [
    "### Adding more pivot, translated data\n"
   ]
  },
  {
   "cell_type": "code",
   "execution_count": 11,
   "id": "7d4af5f3",
   "metadata": {
    "execution": {
     "iopub.execute_input": "2025-04-14T07:25:53.335349Z",
     "iopub.status.busy": "2025-04-14T07:25:53.334911Z",
     "iopub.status.idle": "2025-04-14T07:25:53.339689Z",
     "shell.execute_reply": "2025-04-14T07:25:53.338826Z"
    },
    "papermill": {
     "duration": 0.018639,
     "end_time": "2025-04-14T07:25:53.341021",
     "exception": false,
     "start_time": "2025-04-14T07:25:53.322382",
     "status": "completed"
    },
    "tags": []
   },
   "outputs": [],
   "source": [
    "#Add pivot\n",
    "# with open('/kaggle/input/enviba/train.ba', 'r', encoding='utf-8') as file_ba:\n",
    "#     ba_data = file_ba.readlines()\n",
    "# with open('/kaggle/input/enviba/train2.en', 'r', encoding='utf-8') as file_en:\n",
    "#     en_data = file_en.readlines()\n",
    "# assert len(ba_data) == len(en_data), \"The files don't have the same number of lines.\"\n",
    "# aug_train_df = pd.DataFrame({'English': en_data, 'Bahnar': ba_data})\n",
    "\n",
    "# augmented = Dataset.from_pandas(aug_train_df)\n",
    "# ba_en_train_dataset = concatenate_datasets([ba_en_train_dataset, augmented]).shuffle(seed=RANDOM_SEED)"
   ]
  },
  {
   "cell_type": "markdown",
   "id": "e8101f1b",
   "metadata": {
    "papermill": {
     "duration": 0.022567,
     "end_time": "2025-04-14T07:25:53.378563",
     "exception": false,
     "start_time": "2025-04-14T07:25:53.355996",
     "status": "completed"
    },
    "tags": []
   },
   "source": [
    "#### Investigate current tokenizer"
   ]
  },
  {
   "cell_type": "code",
   "execution_count": 12,
   "id": "ff3b83fb",
   "metadata": {
    "execution": {
     "iopub.execute_input": "2025-04-14T07:25:53.404977Z",
     "iopub.status.busy": "2025-04-14T07:25:53.404735Z",
     "iopub.status.idle": "2025-04-14T07:25:53.410110Z",
     "shell.execute_reply": "2025-04-14T07:25:53.409306Z"
    },
    "papermill": {
     "duration": 0.018844,
     "end_time": "2025-04-14T07:25:53.411288",
     "exception": false,
     "start_time": "2025-04-14T07:25:53.392444",
     "status": "completed"
    },
    "tags": []
   },
   "outputs": [
    {
     "data": {
      "text/plain": [
       "53739"
      ]
     },
     "execution_count": 12,
     "metadata": {},
     "output_type": "execute_result"
    }
   ],
   "source": [
    "len(ba_en_tokenizer.encoder)"
   ]
  },
  {
   "cell_type": "code",
   "execution_count": 13,
   "id": "a333d7b5",
   "metadata": {
    "execution": {
     "iopub.execute_input": "2025-04-14T07:25:53.431480Z",
     "iopub.status.busy": "2025-04-14T07:25:53.431159Z",
     "iopub.status.idle": "2025-04-14T07:25:53.436671Z",
     "shell.execute_reply": "2025-04-14T07:25:53.435904Z"
    },
    "papermill": {
     "duration": 0.017268,
     "end_time": "2025-04-14T07:25:53.437861",
     "exception": false,
     "start_time": "2025-04-14T07:25:53.420593",
     "status": "completed"
    },
    "tags": []
   },
   "outputs": [
    {
     "name": "stdout",
     "output_type": "stream",
     "text": [
      "53739\n"
     ]
    }
   ],
   "source": [
    "with ba_en_tokenizer.as_target_tokenizer():\n",
    "    print(len(ba_en_tokenizer.encoder))"
   ]
  },
  {
   "cell_type": "code",
   "execution_count": 14,
   "id": "9b8b441c",
   "metadata": {
    "execution": {
     "iopub.execute_input": "2025-04-14T07:25:53.460657Z",
     "iopub.status.busy": "2025-04-14T07:25:53.460357Z",
     "iopub.status.idle": "2025-04-14T07:25:53.473529Z",
     "shell.execute_reply": "2025-04-14T07:25:53.472827Z"
    },
    "papermill": {
     "duration": 0.026479,
     "end_time": "2025-04-14T07:25:53.474642",
     "exception": false,
     "start_time": "2025-04-14T07:25:53.448163",
     "status": "completed"
    },
    "tags": []
   },
   "outputs": [
    {
     "name": "stdout",
     "output_type": "stream",
     "text": [
      "Pơhrôp pơguăng chô̆ ăn maih tơ ao lu iĕm\n",
      "\n",
      "['Pơ', '▁h', 'r', 'ôp', 'pơ', '▁gu', 'ăng', '▁ch', 'ô̆', '▁ăn', '▁ma', 'ih', '▁tơ', '▁ao', '▁lu', 'iĕ', '▁m']\n"
     ]
    },
    {
     "data": {
      "text/plain": [
       "[56013,\n",
       " 3654,\n",
       " 1067,\n",
       " 55285,\n",
       " 53993,\n",
       " 10810,\n",
       " 19469,\n",
       " 4257,\n",
       " 58366,\n",
       " 317,\n",
       " 870,\n",
       " 57376,\n",
       " 3063,\n",
       " 5908,\n",
       " 6741,\n",
       " 55393,\n",
       " 2636,\n",
       " 0]"
      ]
     },
     "execution_count": 14,
     "metadata": {},
     "output_type": "execute_result"
    }
   ],
   "source": [
    "\n",
    "print(ba_en_train_dataset[0][\"Bahnar\"])\n",
    "print(ba_en_tokenizer.tokenize(ba_en_train_dataset[0][\"Bahnar\"]))\n",
    "list(ba_en_tokenizer.encode(ba_en_train_dataset[0][\"Bahnar\"]))"
   ]
  },
  {
   "cell_type": "code",
   "execution_count": 15,
   "id": "b8e3b456",
   "metadata": {
    "execution": {
     "iopub.execute_input": "2025-04-14T07:25:53.495400Z",
     "iopub.status.busy": "2025-04-14T07:25:53.495149Z",
     "iopub.status.idle": "2025-04-14T07:25:53.505699Z",
     "shell.execute_reply": "2025-04-14T07:25:53.504928Z"
    },
    "papermill": {
     "duration": 0.022314,
     "end_time": "2025-04-14T07:25:53.506980",
     "exception": false,
     "start_time": "2025-04-14T07:25:53.484666",
     "status": "completed"
    },
    "tags": []
   },
   "outputs": [
    {
     "name": "stdout",
     "output_type": "stream",
     "text": [
      "Pơhrôp pơguăng chô̆ ăn maih tơ ao lu iĕm\n",
      "\n",
      "['▁P', 'ơ', 'h', 'rô', 'p', '▁p', 'ơ', 'gu', 'ăng', '▁chô', '̆', '▁ăn', '▁mai', 'h', '▁tơ', '▁ao', '▁lu', '▁', 'i', 'ĕ', 'm']\n"
     ]
    },
    {
     "data": {
      "text/plain": [
       "[1929,\n",
       " 15619,\n",
       " 1266,\n",
       " 7008,\n",
       " 883,\n",
       " 3843,\n",
       " 15619,\n",
       " 5782,\n",
       " 19469,\n",
       " 7751,\n",
       " 49915,\n",
       " 317,\n",
       " 1396,\n",
       " 1266,\n",
       " 3063,\n",
       " 5908,\n",
       " 6741,\n",
       " 301,\n",
       " 231,\n",
       " 1,\n",
       " 78,\n",
       " 0]"
      ]
     },
     "execution_count": 15,
     "metadata": {},
     "output_type": "execute_result"
    }
   ],
   "source": [
    "\n",
    "print(ba_en_train_dataset[0][\"Bahnar\"])\n",
    "print(vi_en_tokenizer.tokenize(ba_en_train_dataset[0][\"Bahnar\"]))\n",
    "list(vi_en_tokenizer.encode(ba_en_train_dataset[0][\"Bahnar\"]))"
   ]
  },
  {
   "cell_type": "code",
   "execution_count": 16,
   "id": "78a733f6",
   "metadata": {
    "execution": {
     "iopub.execute_input": "2025-04-14T07:25:53.527381Z",
     "iopub.status.busy": "2025-04-14T07:25:53.527151Z",
     "iopub.status.idle": "2025-04-14T07:25:53.535949Z",
     "shell.execute_reply": "2025-04-14T07:25:53.535226Z"
    },
    "papermill": {
     "duration": 0.020558,
     "end_time": "2025-04-14T07:25:53.537391",
     "exception": false,
     "start_time": "2025-04-14T07:25:53.516833",
     "status": "completed"
    },
    "tags": []
   },
   "outputs": [
    {
     "name": "stdout",
     "output_type": "stream",
     "text": [
      "Who put on ornaments of gold upon your apparel\n",
      "\n",
      "['▁Who', '▁put', '▁on', '▁or', 'na', 'ments', '▁of', '▁', 'gold', '▁', 'upon', '▁your', '▁app', 'are', 'l']\n"
     ]
    },
    {
     "data": {
      "text/plain": [
       "[654,\n",
       " 578,\n",
       " 55,\n",
       " 196,\n",
       " 1344,\n",
       " 10998,\n",
       " 12,\n",
       " 301,\n",
       " 46185,\n",
       " 301,\n",
       " 25166,\n",
       " 77,\n",
       " 12811,\n",
       " 7885,\n",
       " 1194,\n",
       " 0]"
      ]
     },
     "execution_count": 16,
     "metadata": {},
     "output_type": "execute_result"
    }
   ],
   "source": [
    "print(ba_en_train_dataset[0][\"English\"])\n",
    "print(ba_en_tokenizer.tokenize(ba_en_train_dataset[0][\"English\"]))\n",
    "list(ba_en_tokenizer.encode(ba_en_train_dataset[0][\"English\"]))"
   ]
  },
  {
   "cell_type": "code",
   "execution_count": 17,
   "id": "f86927a4",
   "metadata": {
    "execution": {
     "iopub.execute_input": "2025-04-14T07:25:53.568914Z",
     "iopub.status.busy": "2025-04-14T07:25:53.568639Z",
     "iopub.status.idle": "2025-04-14T07:25:53.577502Z",
     "shell.execute_reply": "2025-04-14T07:25:53.576658Z"
    },
    "papermill": {
     "duration": 0.026972,
     "end_time": "2025-04-14T07:25:53.578874",
     "exception": false,
     "start_time": "2025-04-14T07:25:53.551902",
     "status": "completed"
    },
    "tags": []
   },
   "outputs": [
    {
     "name": "stdout",
     "output_type": "stream",
     "text": [
      "Who put on ornaments of gold upon your apparel\n",
      "\n",
      "['▁Who', '▁put', '▁on', '▁or', 'na', 'ments', '▁of', '▁', 'gold', '▁', 'upon', '▁your', '▁app', 'are', 'l']\n"
     ]
    },
    {
     "data": {
      "text/plain": [
       "[654,\n",
       " 578,\n",
       " 55,\n",
       " 196,\n",
       " 1344,\n",
       " 10998,\n",
       " 12,\n",
       " 301,\n",
       " 46185,\n",
       " 301,\n",
       " 25166,\n",
       " 77,\n",
       " 12811,\n",
       " 7885,\n",
       " 1194,\n",
       " 0]"
      ]
     },
     "execution_count": 17,
     "metadata": {},
     "output_type": "execute_result"
    }
   ],
   "source": [
    "print(ba_en_train_dataset[0][\"English\"])\n",
    "print(vi_en_tokenizer.tokenize(ba_en_train_dataset[0][\"English\"]))\n",
    "list(vi_en_tokenizer.encode(ba_en_train_dataset[0][\"English\"]))"
   ]
  },
  {
   "cell_type": "markdown",
   "id": "039efb53",
   "metadata": {
    "id": "Lp7-10dFW5YF",
    "papermill": {
     "duration": 0.010284,
     "end_time": "2025-04-14T07:25:53.672475",
     "exception": false,
     "start_time": "2025-04-14T07:25:53.662191",
     "status": "completed"
    },
    "tags": []
   },
   "source": [
    "### Preprocess the dataset with tokenizer"
   ]
  },
  {
   "cell_type": "code",
   "execution_count": 20,
   "id": "816617a3",
   "metadata": {
    "execution": {
     "iopub.execute_input": "2025-04-14T07:25:53.698846Z",
     "iopub.status.busy": "2025-04-14T07:25:53.698253Z",
     "iopub.status.idle": "2025-04-14T07:26:08.169145Z",
     "shell.execute_reply": "2025-04-14T07:26:08.168538Z"
    },
    "id": "hs7OvOKu2wcz",
    "papermill": {
     "duration": 14.485686,
     "end_time": "2025-04-14T07:26:08.170337",
     "exception": false,
     "start_time": "2025-04-14T07:25:53.684651",
     "status": "completed"
    },
    "tags": []
   },
   "outputs": [
    {
     "data": {
      "application/vnd.jupyter.widget-view+json": {
       "model_id": "14f2775c5dc741b99c934eb2c74c52bf",
       "version_major": 2,
       "version_minor": 0
      },
      "text/plain": [
       "Map:   0%|          | 0/21801 [00:00<?, ? examples/s]"
      ]
     },
     "metadata": {},
     "output_type": "display_data"
    },
    {
     "data": {
      "application/vnd.jupyter.widget-view+json": {
       "model_id": "67fd08aa4a40424aaaf2d37513c6b704",
       "version_major": 2,
       "version_minor": 0
      },
      "text/plain": [
       "Map:   0%|          | 0/2423 [00:00<?, ? examples/s]"
      ]
     },
     "metadata": {},
     "output_type": "display_data"
    }
   ],
   "source": [
    "def preprocess_function_target(examples):\n",
    "    inputs = examples['Bahnar']\n",
    "    targets = examples['English']\n",
    "    try:\n",
    "        model_inputs = ba_en_tokenizer(inputs, max_length=PADDING_LEN, padding='max_length', truncation=True)\n",
    "    \n",
    "        # Set up the tokenizer for Bahnar\n",
    "        with ba_en_tokenizer.as_target_tokenizer():\n",
    "            labels = ba_en_tokenizer(targets, max_length=PADDING_LEN, padding='max_length', truncation=True)\n",
    "    \n",
    "        model_inputs[\"labels\"] = labels[\"input_ids\"]\n",
    "        return model_inputs\n",
    "    except:\n",
    "        print(inputs)\n",
    "    \n",
    "\n",
    "tokenized_ba_en = ba_en_train_dataset.map(preprocess_function_target, batched=True)\n",
    "tokenized_ba_en_val = ba_en_val_dataset.map(preprocess_function_target, batched=True)"
   ]
  },
  {
   "cell_type": "code",
   "execution_count": 21,
   "id": "f262c36d",
   "metadata": {
    "execution": {
     "iopub.execute_input": "2025-04-14T07:26:08.191278Z",
     "iopub.status.busy": "2025-04-14T07:26:08.191004Z",
     "iopub.status.idle": "2025-04-14T07:26:15.223399Z",
     "shell.execute_reply": "2025-04-14T07:26:15.222845Z"
    },
    "id": "qz9KfZueW5YF",
    "papermill": {
     "duration": 7.043964,
     "end_time": "2025-04-14T07:26:15.224542",
     "exception": false,
     "start_time": "2025-04-14T07:26:08.180578",
     "status": "completed"
    },
    "tags": []
   },
   "outputs": [
    {
     "data": {
      "application/vnd.jupyter.widget-view+json": {
       "model_id": "903a1e376d6c43a9b9fc1438a497c8fa",
       "version_major": 2,
       "version_minor": 0
      },
      "text/plain": [
       "Map:   0%|          | 0/18719 [00:00<?, ? examples/s]"
      ]
     },
     "metadata": {},
     "output_type": "display_data"
    }
   ],
   "source": [
    "def preprocess_function_source(examples):\n",
    "    inputs = examples['Vietnamese']\n",
    "    targets = examples['English']\n",
    "    model_inputs = vi_en_tokenizer(inputs, max_length=PADDING_LEN, padding='max_length', truncation=True)\n",
    "\n",
    "    # Set up the tokenizer for Vietnamese\n",
    "    with vi_en_tokenizer.as_target_tokenizer():\n",
    "        labels = vi_en_tokenizer(targets, max_length=PADDING_LEN, padding='max_length', truncation=True)\n",
    "\n",
    "    model_inputs[\"labels\"] = labels[\"input_ids\"]\n",
    "    return model_inputs\n",
    "\n",
    "tokenized_vi_en = vi_en_train_dataset.map(preprocess_function_source, batched=True)"
   ]
  },
  {
   "cell_type": "markdown",
   "id": "b4db133c",
   "metadata": {
    "id": "yleMRcFsW5YF",
    "papermill": {
     "duration": 0.009732,
     "end_time": "2025-04-14T07:26:15.244740",
     "exception": false,
     "start_time": "2025-04-14T07:26:15.235008",
     "status": "completed"
    },
    "tags": []
   },
   "source": [
    "### Concatenate Vietnamese-English and Bahnar-English Dataset"
   ]
  },
  {
   "cell_type": "code",
   "execution_count": 22,
   "id": "2b4aca27",
   "metadata": {
    "execution": {
     "iopub.execute_input": "2025-04-14T07:26:15.266414Z",
     "iopub.status.busy": "2025-04-14T07:26:15.265941Z",
     "iopub.status.idle": "2025-04-14T07:26:15.279042Z",
     "shell.execute_reply": "2025-04-14T07:26:15.278238Z"
    },
    "id": "1oAaZ6P0W5YF",
    "papermill": {
     "duration": 0.024888,
     "end_time": "2025-04-14T07:26:15.280137",
     "exception": false,
     "start_time": "2025-04-14T07:26:15.255249",
     "status": "completed"
    },
    "tags": []
   },
   "outputs": [
    {
     "name": "stdout",
     "output_type": "stream",
     "text": [
      "Dataset({\n",
      "    features: ['English', 'Vietnamese', 'input_ids', 'attention_mask', 'labels', 'Bahnar', '__index_level_0__'],\n",
      "    num_rows: 40520\n",
      "})\n"
     ]
    }
   ],
   "source": [
    "tokenized_viAndba_en = concatenate_datasets([tokenized_vi_en, tokenized_ba_en ])\n",
    "# viOrba_en_dataset is now a combined dataset\n",
    "print(tokenized_viAndba_en)"
   ]
  },
  {
   "cell_type": "code",
   "execution_count": 23,
   "id": "2b2030a7",
   "metadata": {
    "execution": {
     "iopub.execute_input": "2025-04-14T07:26:15.300801Z",
     "iopub.status.busy": "2025-04-14T07:26:15.300578Z",
     "iopub.status.idle": "2025-04-14T07:26:15.303566Z",
     "shell.execute_reply": "2025-04-14T07:26:15.303037Z"
    },
    "id": "vqlYgx3xW5YF",
    "papermill": {
     "duration": 0.014232,
     "end_time": "2025-04-14T07:26:15.304586",
     "exception": false,
     "start_time": "2025-04-14T07:26:15.290354",
     "status": "completed"
    },
    "tags": []
   },
   "outputs": [],
   "source": [
    "# shuffled_dataset = tokenized_viAndba_en.shuffle(seed=RANDOM_SEED)"
   ]
  },
  {
   "cell_type": "markdown",
   "id": "3312b62e",
   "metadata": {
    "id": "xhJRUO_UW5YG",
    "papermill": {
     "duration": 0.009547,
     "end_time": "2025-04-14T07:26:15.323779",
     "exception": false,
     "start_time": "2025-04-14T07:26:15.314232",
     "status": "completed"
    },
    "tags": []
   },
   "source": [
    "\n",
    "### Train the model"
   ]
  },
  {
   "cell_type": "markdown",
   "id": "e92fb9e0",
   "metadata": {},
   "source": [
    "#### Train the embedding"
   ]
  },
  {
   "cell_type": "code",
   "execution_count": 24,
   "id": "791b65cf",
   "metadata": {
    "execution": {
     "iopub.execute_input": "2025-04-14T07:26:15.344024Z",
     "iopub.status.busy": "2025-04-14T07:26:15.343400Z",
     "iopub.status.idle": "2025-04-14T07:26:16.251713Z",
     "shell.execute_reply": "2025-04-14T07:26:16.250733Z"
    },
    "papermill": {
     "duration": 0.920008,
     "end_time": "2025-04-14T07:26:16.253311",
     "exception": false,
     "start_time": "2025-04-14T07:26:15.333303",
     "status": "completed"
    },
    "tags": []
   },
   "outputs": [
    {
     "name": "stderr",
     "output_type": "stream",
     "text": [
      "The new embeddings will be initialized from a multivariate normal distribution that has old embeddings' mean and covariance. As described in this article: https://nlp.stanford.edu/~johnhew/vocab-expansion.html. To disable this, use `mean_resizing=False`\n"
     ]
    },
    {
     "data": {
      "text/plain": [
       "Embedding(58879, 512, padding_idx=53738)"
      ]
     },
     "execution_count": 24,
     "metadata": {},
     "output_type": "execute_result"
    }
   ],
   "source": [
    "# add new, random embeddings for the new tokens\n",
    "model.resize_token_embeddings(len(ba_en_tokenizer))"
   ]
  },
  {
   "cell_type": "code",
   "execution_count": 25,
   "id": "67ceb12c",
   "metadata": {
    "execution": {
     "iopub.execute_input": "2025-04-14T07:26:16.289552Z",
     "iopub.status.busy": "2025-04-14T07:26:16.289302Z",
     "iopub.status.idle": "2025-04-14T07:26:16.293986Z",
     "shell.execute_reply": "2025-04-14T07:26:16.293443Z"
    },
    "papermill": {
     "duration": 0.021632,
     "end_time": "2025-04-14T07:26:16.294972",
     "exception": false,
     "start_time": "2025-04-14T07:26:16.273340",
     "status": "completed"
    },
    "tags": []
   },
   "outputs": [],
   "source": [
    "# Freeze all layers except for the embedding layers\n",
    "def freeze_model_except_embeddings(model):\n",
    "    for name, param in model.named_parameters():\n",
    "        if 'embed_tokens' not in name and 'shared' not in name:\n",
    "            param.requires_grad = False\n",
    "        else:\n",
    "            param.requires_grad = True\n",
    "\n",
    "# Apply the function to freeze the model\n",
    "freeze_model_except_embeddings(model)"
   ]
  },
  {
   "cell_type": "code",
   "execution_count": 26,
   "id": "8353403e",
   "metadata": {
    "execution": {
     "iopub.execute_input": "2025-04-14T07:26:16.315470Z",
     "iopub.status.busy": "2025-04-14T07:26:16.315266Z",
     "iopub.status.idle": "2025-04-14T07:26:16.568355Z",
     "shell.execute_reply": "2025-04-14T07:26:16.567616Z"
    },
    "papermill": {
     "duration": 0.26465,
     "end_time": "2025-04-14T07:26:16.569657",
     "exception": false,
     "start_time": "2025-04-14T07:26:16.305007",
     "status": "completed"
    },
    "tags": []
   },
   "outputs": [
    {
     "data": {
      "text/plain": [
       "MarianMTModel(\n",
       "  (model): MarianModel(\n",
       "    (shared): Embedding(58879, 512, padding_idx=53738)\n",
       "    (encoder): MarianEncoder(\n",
       "      (embed_tokens): Embedding(58879, 512, padding_idx=53738)\n",
       "      (embed_positions): MarianSinusoidalPositionalEmbedding(512, 512)\n",
       "      (layers): ModuleList(\n",
       "        (0-5): 6 x MarianEncoderLayer(\n",
       "          (self_attn): MarianAttention(\n",
       "            (k_proj): Linear(in_features=512, out_features=512, bias=True)\n",
       "            (v_proj): Linear(in_features=512, out_features=512, bias=True)\n",
       "            (q_proj): Linear(in_features=512, out_features=512, bias=True)\n",
       "            (out_proj): Linear(in_features=512, out_features=512, bias=True)\n",
       "          )\n",
       "          (self_attn_layer_norm): LayerNorm((512,), eps=1e-05, elementwise_affine=True)\n",
       "          (activation_fn): SiLU()\n",
       "          (fc1): Linear(in_features=512, out_features=2048, bias=True)\n",
       "          (fc2): Linear(in_features=2048, out_features=512, bias=True)\n",
       "          (final_layer_norm): LayerNorm((512,), eps=1e-05, elementwise_affine=True)\n",
       "        )\n",
       "      )\n",
       "    )\n",
       "    (decoder): MarianDecoder(\n",
       "      (embed_tokens): Embedding(58879, 512, padding_idx=53738)\n",
       "      (embed_positions): MarianSinusoidalPositionalEmbedding(512, 512)\n",
       "      (layers): ModuleList(\n",
       "        (0-5): 6 x MarianDecoderLayer(\n",
       "          (self_attn): MarianAttention(\n",
       "            (k_proj): Linear(in_features=512, out_features=512, bias=True)\n",
       "            (v_proj): Linear(in_features=512, out_features=512, bias=True)\n",
       "            (q_proj): Linear(in_features=512, out_features=512, bias=True)\n",
       "            (out_proj): Linear(in_features=512, out_features=512, bias=True)\n",
       "          )\n",
       "          (activation_fn): SiLU()\n",
       "          (self_attn_layer_norm): LayerNorm((512,), eps=1e-05, elementwise_affine=True)\n",
       "          (encoder_attn): MarianAttention(\n",
       "            (k_proj): Linear(in_features=512, out_features=512, bias=True)\n",
       "            (v_proj): Linear(in_features=512, out_features=512, bias=True)\n",
       "            (q_proj): Linear(in_features=512, out_features=512, bias=True)\n",
       "            (out_proj): Linear(in_features=512, out_features=512, bias=True)\n",
       "          )\n",
       "          (encoder_attn_layer_norm): LayerNorm((512,), eps=1e-05, elementwise_affine=True)\n",
       "          (fc1): Linear(in_features=512, out_features=2048, bias=True)\n",
       "          (fc2): Linear(in_features=2048, out_features=512, bias=True)\n",
       "          (final_layer_norm): LayerNorm((512,), eps=1e-05, elementwise_affine=True)\n",
       "        )\n",
       "      )\n",
       "    )\n",
       "  )\n",
       "  (lm_head): Linear(in_features=512, out_features=58879, bias=False)\n",
       ")"
      ]
     },
     "execution_count": 26,
     "metadata": {},
     "output_type": "execute_result"
    }
   ],
   "source": [
    "model.to(device)"
   ]
  },
  {
   "cell_type": "code",
   "execution_count": 27,
   "id": "10bda8b4",
   "metadata": {
    "execution": {
     "iopub.execute_input": "2025-04-14T07:26:16.591447Z",
     "iopub.status.busy": "2025-04-14T07:26:16.590972Z",
     "iopub.status.idle": "2025-04-14T07:26:16.595939Z",
     "shell.execute_reply": "2025-04-14T07:26:16.595281Z"
    },
    "papermill": {
     "duration": 0.016694,
     "end_time": "2025-04-14T07:26:16.596994",
     "exception": false,
     "start_time": "2025-04-14T07:26:16.580300",
     "status": "completed"
    },
    "tags": []
   },
   "outputs": [
    {
     "name": "stdout",
     "output_type": "stream",
     "text": [
      "40520\n"
     ]
    }
   ],
   "source": [
    "from transformers import DataCollatorForSeq2Seq, Seq2SeqTrainingArguments, Seq2SeqTrainer, EarlyStoppingCallback\n",
    "\n",
    "print((len(tokenized_viAndba_en)))\n",
    "# Use data collator\n",
    "data_collator = DataCollatorForSeq2Seq(ba_en_tokenizer, model=model)"
   ]
  },
  {
   "cell_type": "code",
   "execution_count": 28,
   "id": "849ab3d0",
   "metadata": {
    "execution": {
     "iopub.execute_input": "2025-04-14T07:26:16.617740Z",
     "iopub.status.busy": "2025-04-14T07:26:16.617543Z",
     "iopub.status.idle": "2025-04-14T08:00:15.964656Z",
     "shell.execute_reply": "2025-04-14T08:00:15.964094Z"
    },
    "id": "9UIiL5ofW5YG",
    "papermill": {
     "duration": 2039.358486,
     "end_time": "2025-04-14T08:00:15.965706",
     "exception": false,
     "start_time": "2025-04-14T07:26:16.607220",
     "status": "completed"
    },
    "tags": []
   },
   "outputs": [
    {
     "name": "stderr",
     "output_type": "stream",
     "text": [
      "Using the `WANDB_DISABLED` environment variable is deprecated and will be removed in v5. Use the --report_to flag to control the integrations used for logging result (for instance --report_to none).\n"
     ]
    },
    {
     "data": {
      "text/html": [
       "\n",
       "    <div>\n",
       "      \n",
       "      <progress value='3801' max='3801' style='width:300px; height:20px; vertical-align: middle;'></progress>\n",
       "      [3801/3801 33:57, Epoch 3/3]\n",
       "    </div>\n",
       "    <table border=\"1\" class=\"dataframe\">\n",
       "  <thead>\n",
       " <tr style=\"text-align: left;\">\n",
       "      <th>Epoch</th>\n",
       "      <th>Training Loss</th>\n",
       "      <th>Validation Loss</th>\n",
       "    </tr>\n",
       "  </thead>\n",
       "  <tbody>\n",
       "    <tr>\n",
       "      <td>1</td>\n",
       "      <td>2.030200</td>\n",
       "      <td>0.535799</td>\n",
       "    </tr>\n",
       "    <tr>\n",
       "      <td>2</td>\n",
       "      <td>0.384400</td>\n",
       "      <td>0.441054</td>\n",
       "    </tr>\n",
       "    <tr>\n",
       "      <td>3</td>\n",
       "      <td>0.357100</td>\n",
       "      <td>0.429123</td>\n",
       "    </tr>\n",
       "  </tbody>\n",
       "</table><p>"
      ],
      "text/plain": [
       "<IPython.core.display.HTML object>"
      ]
     },
     "metadata": {},
     "output_type": "display_data"
    },
    {
     "data": {
      "text/plain": [
       "TrainOutput(global_step=3801, training_loss=1.2431512545109171, metrics={'train_runtime': 2038.5564, 'train_samples_per_second': 59.63, 'train_steps_per_second': 1.865, 'total_flos': 7339970584903680.0, 'train_loss': 1.2431512545109171, 'epoch': 3.0})"
      ]
     },
     "execution_count": 28,
     "metadata": {},
     "output_type": "execute_result"
    }
   ],
   "source": [
    "# Define training arguments for training the embedding layers\n",
    "embedding_training_args = Seq2SeqTrainingArguments(\n",
    "    output_dir=\"./results_embedding\",\n",
    "    eval_strategy=\"epoch\",\n",
    "    learning_rate=2e-5,\n",
    "    per_device_train_batch_size=32,\n",
    "    per_device_eval_batch_size=32,\n",
    "    num_train_epochs=3,  # Adjust the number of epochs as needed\n",
    "    weight_decay=0.015,\n",
    "    save_total_limit=3,\n",
    ")\n",
    "\n",
    "# Create a trainer for training the embedding layers\n",
    "embedding_trainer = Seq2SeqTrainer(\n",
    "    model=model,\n",
    "    args=embedding_training_args,\n",
    "    train_dataset=tokenized_viAndba_en,\n",
    "    eval_dataset=tokenized_ba_en_val,\n",
    "    data_collator=data_collator,\n",
    ")\n",
    "\n",
    "# Train the embedding layers\n",
    "embedding_trainer.train()"
   ]
  },
  {
   "cell_type": "markdown",
   "id": "1b5b1a24",
   "metadata": {},
   "source": [
    "#### Train the embedding and the encoding"
   ]
  },
  {
   "cell_type": "code",
   "execution_count": 29,
   "id": "a37f8c43",
   "metadata": {
    "execution": {
     "iopub.execute_input": "2025-04-14T08:00:15.987861Z",
     "iopub.status.busy": "2025-04-14T08:00:15.987301Z",
     "iopub.status.idle": "2025-04-14T08:37:06.399022Z",
     "shell.execute_reply": "2025-04-14T08:37:06.398317Z"
    },
    "papermill": {
     "duration": 2210.423852,
     "end_time": "2025-04-14T08:37:06.400287",
     "exception": false,
     "start_time": "2025-04-14T08:00:15.976435",
     "status": "completed"
    },
    "tags": []
   },
   "outputs": [
    {
     "name": "stderr",
     "output_type": "stream",
     "text": [
      "Using the `WANDB_DISABLED` environment variable is deprecated and will be removed in v5. Use the --report_to flag to control the integrations used for logging result (for instance --report_to none).\n"
     ]
    },
    {
     "data": {
      "text/html": [
       "\n",
       "    <div>\n",
       "      \n",
       "      <progress value='3801' max='3801' style='width:300px; height:20px; vertical-align: middle;'></progress>\n",
       "      [3801/3801 36:48, Epoch 3/3]\n",
       "    </div>\n",
       "    <table border=\"1\" class=\"dataframe\">\n",
       "  <thead>\n",
       " <tr style=\"text-align: left;\">\n",
       "      <th>Epoch</th>\n",
       "      <th>Training Loss</th>\n",
       "      <th>Validation Loss</th>\n",
       "    </tr>\n",
       "  </thead>\n",
       "  <tbody>\n",
       "    <tr>\n",
       "      <td>1</td>\n",
       "      <td>0.268900</td>\n",
       "      <td>0.310849</td>\n",
       "    </tr>\n",
       "    <tr>\n",
       "      <td>2</td>\n",
       "      <td>0.223400</td>\n",
       "      <td>0.272432</td>\n",
       "    </tr>\n",
       "    <tr>\n",
       "      <td>3</td>\n",
       "      <td>0.213300</td>\n",
       "      <td>0.263793</td>\n",
       "    </tr>\n",
       "  </tbody>\n",
       "</table><p>"
      ],
      "text/plain": [
       "<IPython.core.display.HTML object>"
      ]
     },
     "metadata": {},
     "output_type": "display_data"
    },
    {
     "data": {
      "text/plain": [
       "TrainOutput(global_step=3801, training_loss=0.238301370244878, metrics={'train_runtime': 2209.3867, 'train_samples_per_second': 55.02, 'train_steps_per_second': 1.72, 'total_flos': 7339970584903680.0, 'train_loss': 0.238301370244878, 'epoch': 3.0})"
      ]
     },
     "execution_count": 29,
     "metadata": {},
     "output_type": "execute_result"
    }
   ],
   "source": [
    "def freeze_model_except_emb_enc(model):\n",
    "    for name, param in model.named_parameters():\n",
    "        if not (name.startswith(\"model.encoder\") or \"embed_tokens\" in name or \"shared\" in name):\n",
    "            param.requires_grad = False\n",
    "        else:\n",
    "            param.requires_grad = True\n",
    "\n",
    "model.to(\"cpu\")\n",
    "# Apply the function to freeze the model\n",
    "freeze_model_except_emb_enc(model)\n",
    "model.to(device)\n",
    "\n",
    "# Define training arguments for training the embedding layers\n",
    "emb_enc_training_args = Seq2SeqTrainingArguments(\n",
    "    output_dir=\"./results_embedding\",\n",
    "    eval_strategy=\"epoch\",\n",
    "    learning_rate=2e-5,\n",
    "    per_device_train_batch_size=32,\n",
    "    per_device_eval_batch_size=32,\n",
    "    num_train_epochs=4,  # Adjust the number of epochs as needed\n",
    "    weight_decay=0.015,\n",
    "    save_total_limit=3,\n",
    ")\n",
    "\n",
    "# Create a trainer for training the embedding layers\n",
    "emb_enc_trainer = Seq2SeqTrainer(\n",
    "    model=model,\n",
    "    args=embedding_training_args,\n",
    "    train_dataset=tokenized_viAndba_en,\n",
    "    eval_dataset=tokenized_ba_en_val,\n",
    "    data_collator=data_collator,\n",
    ")\n",
    "\n",
    "# Train the embedding layers\n",
    "emb_enc_trainer.train()\n"
   ]
  },
  {
   "cell_type": "markdown",
   "id": "8d6ea2cb",
   "metadata": {},
   "source": [
    "#### Train the whole model"
   ]
  },
  {
   "cell_type": "code",
   "execution_count": 30,
   "id": "cdab9464",
   "metadata": {
    "execution": {
     "iopub.execute_input": "2025-04-14T08:37:06.422485Z",
     "iopub.status.busy": "2025-04-14T08:37:06.422257Z",
     "iopub.status.idle": "2025-04-14T08:37:06.798514Z",
     "shell.execute_reply": "2025-04-14T08:37:06.797766Z"
    },
    "papermill": {
     "duration": 0.388544,
     "end_time": "2025-04-14T08:37:06.799808",
     "exception": false,
     "start_time": "2025-04-14T08:37:06.411264",
     "status": "completed"
    },
    "tags": []
   },
   "outputs": [
    {
     "data": {
      "text/plain": [
       "MarianMTModel(\n",
       "  (model): MarianModel(\n",
       "    (shared): Embedding(58879, 512, padding_idx=53738)\n",
       "    (encoder): MarianEncoder(\n",
       "      (embed_tokens): Embedding(58879, 512, padding_idx=53738)\n",
       "      (embed_positions): MarianSinusoidalPositionalEmbedding(512, 512)\n",
       "      (layers): ModuleList(\n",
       "        (0-5): 6 x MarianEncoderLayer(\n",
       "          (self_attn): MarianAttention(\n",
       "            (k_proj): Linear(in_features=512, out_features=512, bias=True)\n",
       "            (v_proj): Linear(in_features=512, out_features=512, bias=True)\n",
       "            (q_proj): Linear(in_features=512, out_features=512, bias=True)\n",
       "            (out_proj): Linear(in_features=512, out_features=512, bias=True)\n",
       "          )\n",
       "          (self_attn_layer_norm): LayerNorm((512,), eps=1e-05, elementwise_affine=True)\n",
       "          (activation_fn): SiLU()\n",
       "          (fc1): Linear(in_features=512, out_features=2048, bias=True)\n",
       "          (fc2): Linear(in_features=2048, out_features=512, bias=True)\n",
       "          (final_layer_norm): LayerNorm((512,), eps=1e-05, elementwise_affine=True)\n",
       "        )\n",
       "      )\n",
       "    )\n",
       "    (decoder): MarianDecoder(\n",
       "      (embed_tokens): Embedding(58879, 512, padding_idx=53738)\n",
       "      (embed_positions): MarianSinusoidalPositionalEmbedding(512, 512)\n",
       "      (layers): ModuleList(\n",
       "        (0-5): 6 x MarianDecoderLayer(\n",
       "          (self_attn): MarianAttention(\n",
       "            (k_proj): Linear(in_features=512, out_features=512, bias=True)\n",
       "            (v_proj): Linear(in_features=512, out_features=512, bias=True)\n",
       "            (q_proj): Linear(in_features=512, out_features=512, bias=True)\n",
       "            (out_proj): Linear(in_features=512, out_features=512, bias=True)\n",
       "          )\n",
       "          (activation_fn): SiLU()\n",
       "          (self_attn_layer_norm): LayerNorm((512,), eps=1e-05, elementwise_affine=True)\n",
       "          (encoder_attn): MarianAttention(\n",
       "            (k_proj): Linear(in_features=512, out_features=512, bias=True)\n",
       "            (v_proj): Linear(in_features=512, out_features=512, bias=True)\n",
       "            (q_proj): Linear(in_features=512, out_features=512, bias=True)\n",
       "            (out_proj): Linear(in_features=512, out_features=512, bias=True)\n",
       "          )\n",
       "          (encoder_attn_layer_norm): LayerNorm((512,), eps=1e-05, elementwise_affine=True)\n",
       "          (fc1): Linear(in_features=512, out_features=2048, bias=True)\n",
       "          (fc2): Linear(in_features=2048, out_features=512, bias=True)\n",
       "          (final_layer_norm): LayerNorm((512,), eps=1e-05, elementwise_affine=True)\n",
       "        )\n",
       "      )\n",
       "    )\n",
       "  )\n",
       "  (lm_head): Linear(in_features=512, out_features=58879, bias=False)\n",
       ")"
      ]
     },
     "execution_count": 30,
     "metadata": {},
     "output_type": "execute_result"
    }
   ],
   "source": [
    "# Unfreeze all layers\n",
    "def unfreeze_model(model):\n",
    "    for param in model.parameters():\n",
    "        param.requires_grad = True\n",
    "\n",
    "# Apply the function to unfreeze the model\n",
    "model.to(\"cpu\")\n",
    "unfreeze_model(model)\n",
    "model.to(device)"
   ]
  },
  {
   "cell_type": "code",
   "execution_count": 31,
   "id": "167bba02",
   "metadata": {
    "execution": {
     "iopub.execute_input": "2025-04-14T08:37:06.822453Z",
     "iopub.status.busy": "2025-04-14T08:37:06.822244Z",
     "iopub.status.idle": "2025-04-14T09:31:26.697641Z",
     "shell.execute_reply": "2025-04-14T09:31:26.696674Z"
    },
    "papermill": {
     "duration": 3259.887844,
     "end_time": "2025-04-14T09:31:26.699084",
     "exception": false,
     "start_time": "2025-04-14T08:37:06.811240",
     "status": "completed"
    },
    "tags": []
   },
   "outputs": [
    {
     "name": "stderr",
     "output_type": "stream",
     "text": [
      "Using the `WANDB_DISABLED` environment variable is deprecated and will be removed in v5. Use the --report_to flag to control the integrations used for logging result (for instance --report_to none).\n"
     ]
    },
    {
     "data": {
      "text/html": [
       "\n",
       "    <div>\n",
       "      \n",
       "      <progress value='5068' max='5068' style='width:300px; height:20px; vertical-align: middle;'></progress>\n",
       "      [5068/5068 54:18, Epoch 4/4]\n",
       "    </div>\n",
       "    <table border=\"1\" class=\"dataframe\">\n",
       "  <thead>\n",
       " <tr style=\"text-align: left;\">\n",
       "      <th>Epoch</th>\n",
       "      <th>Training Loss</th>\n",
       "      <th>Validation Loss</th>\n",
       "    </tr>\n",
       "  </thead>\n",
       "  <tbody>\n",
       "    <tr>\n",
       "      <td>1</td>\n",
       "      <td>0.193600</td>\n",
       "      <td>0.218288</td>\n",
       "    </tr>\n",
       "    <tr>\n",
       "      <td>2</td>\n",
       "      <td>0.168000</td>\n",
       "      <td>0.204004</td>\n",
       "    </tr>\n",
       "    <tr>\n",
       "      <td>3</td>\n",
       "      <td>0.159500</td>\n",
       "      <td>0.195845</td>\n",
       "    </tr>\n",
       "    <tr>\n",
       "      <td>4</td>\n",
       "      <td>0.152100</td>\n",
       "      <td>0.193768</td>\n",
       "    </tr>\n",
       "  </tbody>\n",
       "</table><p>"
      ],
      "text/plain": [
       "<IPython.core.display.HTML object>"
      ]
     },
     "metadata": {},
     "output_type": "display_data"
    },
    {
     "data": {
      "text/plain": [
       "TrainOutput(global_step=5068, training_loss=0.16817206798243353, metrics={'train_runtime': 3259.2091, 'train_samples_per_second': 49.73, 'train_steps_per_second': 1.555, 'total_flos': 9786627446538240.0, 'train_loss': 0.16817206798243353, 'epoch': 4.0})"
      ]
     },
     "execution_count": 31,
     "metadata": {},
     "output_type": "execute_result"
    }
   ],
   "source": [
    "# Define training arguments for training the entire model\n",
    "full_training_args = Seq2SeqTrainingArguments(\n",
    "    output_dir=\"./results_full\",\n",
    "    eval_strategy=\"epoch\",\n",
    "    learning_rate=2e-5,\n",
    "    per_device_train_batch_size=32,\n",
    "    per_device_eval_batch_size=32,\n",
    "    num_train_epochs=4,  # Adjust the number of epochs as needed\n",
    "    weight_decay=0.015,\n",
    "    save_total_limit=3,\n",
    ")\n",
    "\n",
    "# Create a trainer for training the entire model\n",
    "full_trainer = Seq2SeqTrainer(\n",
    "    model=model,\n",
    "    args=full_training_args,\n",
    "    train_dataset=tokenized_viAndba_en,\n",
    "    eval_dataset=tokenized_ba_en_val,\n",
    "    data_collator=data_collator,\n",
    ")\n",
    "\n",
    "# Train the entire model\n",
    "full_trainer.train()"
   ]
  },
  {
   "cell_type": "markdown",
   "id": "af4c72c2",
   "metadata": {
    "id": "8NGxbVFkW5YG",
    "papermill": {
     "duration": 0.010712,
     "end_time": "2025-04-14T09:31:26.721264",
     "exception": false,
     "start_time": "2025-04-14T09:31:26.710552",
     "status": "completed"
    },
    "tags": []
   },
   "source": [
    "### Test the model"
   ]
  },
  {
   "cell_type": "code",
   "execution_count": 32,
   "id": "c2deb587",
   "metadata": {
    "execution": {
     "iopub.execute_input": "2025-04-14T09:31:26.743809Z",
     "iopub.status.busy": "2025-04-14T09:31:26.743529Z",
     "iopub.status.idle": "2025-04-14T09:31:26.748466Z",
     "shell.execute_reply": "2025-04-14T09:31:26.747943Z"
    },
    "id": "jsffqDumW5YG",
    "papermill": {
     "duration": 0.017632,
     "end_time": "2025-04-14T09:31:26.749560",
     "exception": false,
     "start_time": "2025-04-14T09:31:26.731928",
     "status": "completed"
    },
    "tags": []
   },
   "outputs": [],
   "source": [
    "import torch\n",
    "from tqdm.auto import tqdm\n",
    "\n",
    "def evaluate_model(model, encode_tokenizer, decode_tokenizer, dataset, device):\n",
    "    model.eval()\n",
    "    prt = True\n",
    "\n",
    "    predictions, references = [], []\n",
    "    for example in tqdm(dataset, desc=\"Translating\"):\n",
    "        with encode_tokenizer.as_target_tokenizer():\n",
    "            input_ids = encode_tokenizer.encode(example['Bahnar'], return_tensors='pt').to(device)\n",
    "\n",
    "        output_ids = model.generate(input_ids)[0]\n",
    "        pred = decode_tokenizer.decode(output_ids, skip_special_tokens=True)\n",
    "        predictions.append([pred])\n",
    "\n",
    "        references.append([example['English']])\n",
    "\n",
    "    return predictions, references\n"
   ]
  },
  {
   "cell_type": "code",
   "execution_count": 33,
   "id": "e4fcfffe",
   "metadata": {
    "execution": {
     "iopub.execute_input": "2025-04-14T09:31:26.772552Z",
     "iopub.status.busy": "2025-04-14T09:31:26.772323Z",
     "iopub.status.idle": "2025-04-14T09:36:15.214687Z",
     "shell.execute_reply": "2025-04-14T09:36:15.214108Z"
    },
    "id": "CNr4jLFB2wc1",
    "papermill": {
     "duration": 288.455323,
     "end_time": "2025-04-14T09:36:15.215735",
     "exception": false,
     "start_time": "2025-04-14T09:31:26.760412",
     "status": "completed"
    },
    "tags": []
   },
   "outputs": [
    {
     "data": {
      "application/vnd.jupyter.widget-view+json": {
       "model_id": "f253cc6d042f484a99e7d47e3814c7e3",
       "version_major": 2,
       "version_minor": 0
      },
      "text/plain": [
       "Translating:   0%|          | 0/1000 [00:00<?, ?it/s]"
      ]
     },
     "metadata": {},
     "output_type": "display_data"
    }
   ],
   "source": [
    "test_examples = [{'Bahnar': ex['Bahnar'], 'English': ex['English']} for ex in ba_en_test_dataset]\n",
    "predictions, references = evaluate_model(model, ba_en_tokenizer, ba_en_tokenizer, test_examples, device)"
   ]
  },
  {
   "cell_type": "code",
   "execution_count": 34,
   "id": "ae18ac06",
   "metadata": {
    "execution": {
     "iopub.execute_input": "2025-04-14T09:36:15.239460Z",
     "iopub.status.busy": "2025-04-14T09:36:15.239227Z",
     "iopub.status.idle": "2025-04-14T09:36:15.243879Z",
     "shell.execute_reply": "2025-04-14T09:36:15.243273Z"
    },
    "id": "uUnFFH5g2wc6",
    "papermill": {
     "duration": 0.017329,
     "end_time": "2025-04-14T09:36:15.244908",
     "exception": false,
     "start_time": "2025-04-14T09:36:15.227579",
     "status": "completed"
    },
    "tags": []
   },
   "outputs": [
    {
     "data": {
      "text/plain": [
       "(['Tho u shalt do no more than that, thou shalt do no more'],\n",
       " ['I release you, but can do no more.\\n'])"
      ]
     },
     "execution_count": 34,
     "metadata": {},
     "output_type": "execute_result"
    }
   ],
   "source": [
    "predictions[0], references[0] # Check format of predictions and references"
   ]
  },
  {
   "cell_type": "code",
   "execution_count": 35,
   "id": "2da84e05",
   "metadata": {
    "execution": {
     "iopub.execute_input": "2025-04-14T09:36:15.268334Z",
     "iopub.status.busy": "2025-04-14T09:36:15.268051Z",
     "iopub.status.idle": "2025-04-14T09:36:15.272598Z",
     "shell.execute_reply": "2025-04-14T09:36:15.271898Z"
    },
    "id": "-h_IaaDJW5YG",
    "papermill": {
     "duration": 0.017533,
     "end_time": "2025-04-14T09:36:15.273714",
     "exception": false,
     "start_time": "2025-04-14T09:36:15.256181",
     "status": "completed"
    },
    "tags": []
   },
   "outputs": [
    {
     "data": {
      "text/plain": [
       "(1000, 1000)"
      ]
     },
     "execution_count": 35,
     "metadata": {},
     "output_type": "execute_result"
    }
   ],
   "source": [
    "len(predictions), len(references)"
   ]
  },
  {
   "cell_type": "markdown",
   "id": "cf32871e",
   "metadata": {
    "id": "YMXwgqipW5YG",
    "papermill": {
     "duration": 0.011181,
     "end_time": "2025-04-14T09:36:15.296482",
     "exception": false,
     "start_time": "2025-04-14T09:36:15.285301",
     "status": "completed"
    },
    "tags": []
   },
   "source": [
    "#### Calculate sacreBLEU"
   ]
  },
  {
   "cell_type": "code",
   "execution_count": 36,
   "id": "36e0ccd8",
   "metadata": {
    "execution": {
     "iopub.execute_input": "2025-04-14T09:36:15.319691Z",
     "iopub.status.busy": "2025-04-14T09:36:15.319402Z",
     "iopub.status.idle": "2025-04-14T09:36:15.326153Z",
     "shell.execute_reply": "2025-04-14T09:36:15.325367Z"
    },
    "id": "H7Z188QrW5YG",
    "papermill": {
     "duration": 0.019766,
     "end_time": "2025-04-14T09:36:15.327291",
     "exception": false,
     "start_time": "2025-04-14T09:36:15.307525",
     "status": "completed"
    },
    "tags": []
   },
   "outputs": [
    {
     "name": "stdout",
     "output_type": "stream",
     "text": [
      "[['I release you, but can do no more.\\n'], ['You have as much right to be a knight as any man.\\n']]\n",
      "['Tho u shalt do no more than that, thou shalt do no more', 'Tho u art not a man of understanding']\n"
     ]
    }
   ],
   "source": [
    "preds = []\n",
    "refs = []\n",
    "for pred in predictions:\n",
    "    preds.append(pred[0])\n",
    "\n",
    "for ref in references:\n",
    "    refs.append(ref)\n",
    "\n",
    "print(refs[:2])\n",
    "print(preds[:2])"
   ]
  },
  {
   "cell_type": "code",
   "execution_count": 37,
   "id": "4492d75f",
   "metadata": {
    "execution": {
     "iopub.execute_input": "2025-04-14T09:36:15.351556Z",
     "iopub.status.busy": "2025-04-14T09:36:15.350956Z",
     "iopub.status.idle": "2025-04-14T09:36:15.716766Z",
     "shell.execute_reply": "2025-04-14T09:36:15.715902Z"
    },
    "id": "LtQX-dIpW5YG",
    "papermill": {
     "duration": 0.379068,
     "end_time": "2025-04-14T09:36:15.718194",
     "exception": false,
     "start_time": "2025-04-14T09:36:15.339126",
     "status": "completed"
    },
    "tags": []
   },
   "outputs": [
    {
     "name": "stdout",
     "output_type": "stream",
     "text": [
      "BLEU:  21.36\n",
      "CHRF: 27.89\n",
      "TER: 80.01\n"
     ]
    }
   ],
   "source": [
    "# Calculate and print the BLEU score\n",
    "bleu = sacrebleu.corpus_bleu(preds, refs)\n",
    "print(\"BLEU: \", round(bleu.score, 2))\n",
    "\n",
    "# Calculate CHRF\n",
    "chrf = sacrebleu.corpus_chrf(preds, refs)\n",
    "print(\"CHRF:\", round(chrf.score, 2))\n",
    "\n",
    "# Calculate TER\n",
    "metric = sacrebleu.metrics.TER()\n",
    "ter = metric.corpus_score(preds, refs)\n",
    "print(\"TER:\", round(ter.score, 2))\n",
    "\n",
    "# wandb.log({\"BLEU\": round(bleu.score, 2), \"CHRF\": round(chrf.score, 2), \"TER\": round(ter.score, 2)})\n"
   ]
  },
  {
   "cell_type": "markdown",
   "id": "e43b47bb",
   "metadata": {
    "id": "QZuGP2_CW5YH",
    "papermill": {
     "duration": 0.011415,
     "end_time": "2025-04-14T09:36:15.742506",
     "exception": false,
     "start_time": "2025-04-14T09:36:15.731091",
     "status": "completed"
    },
    "tags": []
   },
   "source": [
    "### Saving the model"
   ]
  },
  {
   "cell_type": "code",
   "execution_count": 38,
   "id": "2357ae6b",
   "metadata": {
    "execution": {
     "iopub.execute_input": "2025-04-14T09:36:15.766306Z",
     "iopub.status.busy": "2025-04-14T09:36:15.765727Z",
     "iopub.status.idle": "2025-04-14T09:36:16.622348Z",
     "shell.execute_reply": "2025-04-14T09:36:16.621624Z"
    },
    "id": "G-nAkj_vW5YH",
    "papermill": {
     "duration": 0.869762,
     "end_time": "2025-04-14T09:36:16.623549",
     "exception": false,
     "start_time": "2025-04-14T09:36:15.753787",
     "status": "completed"
    },
    "tags": []
   },
   "outputs": [
    {
     "data": {
      "text/plain": [
       "('./tokenizer/tokenizer_config.json',\n",
       " './tokenizer/special_tokens_map.json',\n",
       " './tokenizer/vocab.json',\n",
       " './tokenizer/source.spm',\n",
       " './tokenizer/target.spm',\n",
       " './tokenizer/added_tokens.json')"
      ]
     },
     "execution_count": 38,
     "metadata": {},
     "output_type": "execute_result"
    }
   ],
   "source": [
    "# Step 5: Save the Model\n",
    "model.save_pretrained(\"./model1.1.1\")\n",
    "ba_en_tokenizer.save_pretrained(\"./tokenizer1.1.1\")\n",
    "vi_en_tokenizer.save_pretrained(\"./tokenizer\")"
   ]
  },
  {
   "cell_type": "markdown",
   "id": "6e9ca9e7",
   "metadata": {
    "id": "e_ls_NMnW5YH",
    "papermill": {
     "duration": 0.011071,
     "end_time": "2025-04-14T09:36:16.646640",
     "exception": false,
     "start_time": "2025-04-14T09:36:16.635569",
     "status": "completed"
    },
    "tags": []
   },
   "source": [
    "### Display translated and references for qualitative evaluation"
   ]
  },
  {
   "cell_type": "code",
   "execution_count": 39,
   "id": "622b9dfd",
   "metadata": {
    "execution": {
     "iopub.execute_input": "2025-04-14T09:36:16.670343Z",
     "iopub.status.busy": "2025-04-14T09:36:16.670052Z",
     "iopub.status.idle": "2025-04-14T09:36:16.682946Z",
     "shell.execute_reply": "2025-04-14T09:36:16.682107Z"
    },
    "id": "ojla4E232wc9",
    "papermill": {
     "duration": 0.026203,
     "end_time": "2025-04-14T09:36:16.684094",
     "exception": false,
     "start_time": "2025-04-14T09:36:16.657891",
     "status": "completed"
    },
    "tags": []
   },
   "outputs": [
    {
     "name": "stdout",
     "output_type": "stream",
     "text": [
      "Prediction 1: Tho u shalt do no more than that, thou shalt do no more\n",
      "Reference 1: I release you, but can do no more.\n",
      "\n",
      "Prediction 2: Tho u art not a man of understanding\n",
      "Reference 2: You have as much right to be a knight as any man.\n",
      "\n",
      "Prediction 3: No, no, no, no, no, no, no, no, no, no, no, no, no, no, no, no, no.\n",
      "Reference 3: No. Leave me alone.\n",
      "\n",
      "Prediction 4: Where are you going to help me?\n",
      "Reference 4: I'm here to help!\n",
      "\n",
      "Prediction 5: And all t hin gs that thou hast done are good and bad: and all t hin gs that thou hast done are good and bad; and all t hin gs that thou hast done are good and bad\n",
      "Reference 5: All you wanna do is pee.\n",
      "\n",
      "Prediction 6: And it shall come to pass, that there shall be no end of all t hin gs to do in all the service of the land, and in all the land of Egypt, and in all the multitude thereof, and in all the multitude thereof, and in all the multitude thereof\n",
      "Reference 6: And these platforms were certainly very helpful to activists in Tunisia and Egypt this past spring and beyond.\n",
      "\n",
      "Prediction 7: And the wrath of him that doeth these t hin gs, and of all t hin gs, and of all t hin gs, and of all t hin gs\n",
      "Reference 7: He's an architect, and Charlie is deeply concerned about global climate change.\n",
      "\n",
      "Prediction 8: The c hil dren took the young c hil dren's c hil dren.\n",
      "Reference 8: She took my little girl.\n",
      "\n",
      "Prediction 9: For this shall not be the end of all t hin gs, neither shall t hin gs be the end of all t hin gs\n",
      "Reference 9: No, please, it's not my freedom I seek.\n",
      "\n",
      "Prediction 10: It's hot, it's hot, it's hot, it's hot, it's hot, it's hot, it's hot, it's hot, it's hot, it's hot, it's hot, it's hot, it's hot!\n",
      "Reference 10: After all, who am I?\n",
      "\n"
     ]
    }
   ],
   "source": [
    "# Display the first 3 prediction-reference pairs\n",
    "for i in range(10):\n",
    "    print(f\"Prediction {i+1}: {predictions[i][0]}\")\n",
    "    print(f\"Reference {i+1}: {references[i][0]}\")"
   ]
  },
  {
   "cell_type": "markdown",
   "id": "f7c97cd8",
   "metadata": {
    "id": "ONNBI6jH2wc_",
    "papermill": {
     "duration": 0.011306,
     "end_time": "2025-04-14T09:36:16.707781",
     "exception": false,
     "start_time": "2025-04-14T09:36:16.696475",
     "status": "completed"
    },
    "tags": []
   },
   "source": [
    "### Clean up the output"
   ]
  },
  {
   "cell_type": "code",
   "execution_count": 40,
   "id": "9e958fa1",
   "metadata": {
    "execution": {
     "iopub.execute_input": "2025-04-14T09:36:16.732769Z",
     "iopub.status.busy": "2025-04-14T09:36:16.732124Z",
     "iopub.status.idle": "2025-04-14T09:36:16.735753Z",
     "shell.execute_reply": "2025-04-14T09:36:16.735024Z"
    },
    "id": "45JUmM8B2wc_",
    "papermill": {
     "duration": 0.017795,
     "end_time": "2025-04-14T09:36:16.737036",
     "exception": false,
     "start_time": "2025-04-14T09:36:16.719241",
     "status": "completed"
    },
    "tags": []
   },
   "outputs": [],
   "source": [
    "\n",
    "# import os\n",
    "# import shutil\n",
    "\n",
    "# def clear_directory_except_subdir(directory, subdir):\n",
    "#     for item in os.listdir(directory):\n",
    "#         item_path = os.path.join(directory, item)\n",
    "#         if os.path.isdir(item_path) and item_path not in subdir:\n",
    "#             shutil.rmtree(item_path)  # Remove directories\n",
    "#         elif os.path.isfile(item_path) and item_path not in subdir:\n",
    "#             os.remove(item_path)  # Remove files\n",
    "\n",
    "# # Usage\n",
    "# working_dir = '/kaggle/working'\n",
    "# results_dir = ['/kaggle/working/results', '/kaggle/working/en-ba-model', '/kaggle/working/en-ba-tokenizer', '/kaggle/working/en-ba-aug-tokenizer', '/kaggle/working/en-ba-aug-model']\n",
    "# clear_directory_except_subdir(working_dir, results_dir)\n"
   ]
  },
  {
   "cell_type": "markdown",
   "id": "93c42281",
   "metadata": {
    "id": "aXccwetDW5YK",
    "papermill": {
     "duration": 0.011587,
     "end_time": "2025-04-14T09:36:16.760614",
     "exception": false,
     "start_time": "2025-04-14T09:36:16.749027",
     "status": "completed"
    },
    "tags": []
   },
   "source": [
    "# Zip the model"
   ]
  },
  {
   "cell_type": "code",
   "execution_count": 41,
   "id": "fc7a5971",
   "metadata": {
    "execution": {
     "iopub.execute_input": "2025-04-14T09:36:16.784392Z",
     "iopub.status.busy": "2025-04-14T09:36:16.784148Z",
     "iopub.status.idle": "2025-04-14T09:36:16.787631Z",
     "shell.execute_reply": "2025-04-14T09:36:16.786912Z"
    },
    "id": "JOEbcY1tW5YK",
    "papermill": {
     "duration": 0.016839,
     "end_time": "2025-04-14T09:36:16.788800",
     "exception": false,
     "start_time": "2025-04-14T09:36:16.771961",
     "status": "completed"
    },
    "tags": []
   },
   "outputs": [],
   "source": [
    "# !zip -r model1.1.1.zip /kaggle/working/model1.1.1"
   ]
  },
  {
   "cell_type": "code",
   "execution_count": 42,
   "id": "0c399337",
   "metadata": {
    "execution": {
     "iopub.execute_input": "2025-04-14T09:36:16.813131Z",
     "iopub.status.busy": "2025-04-14T09:36:16.812658Z",
     "iopub.status.idle": "2025-04-14T09:36:16.818693Z",
     "shell.execute_reply": "2025-04-14T09:36:16.817989Z"
    },
    "id": "l6WmW88JW5YK",
    "papermill": {
     "duration": 0.019197,
     "end_time": "2025-04-14T09:36:16.819738",
     "exception": false,
     "start_time": "2025-04-14T09:36:16.800541",
     "status": "completed"
    },
    "tags": []
   },
   "outputs": [],
   "source": [
    "# !zip -r tokenizer1.1.1.zip /kaggle/working/tokenizer1.1.1"
   ]
  },
  {
   "cell_type": "code",
   "execution_count": 43,
   "id": "4e8727fc",
   "metadata": {
    "execution": {
     "iopub.execute_input": "2025-04-14T09:36:16.844011Z",
     "iopub.status.busy": "2025-04-14T09:36:16.843724Z",
     "iopub.status.idle": "2025-04-14T09:36:16.847232Z",
     "shell.execute_reply": "2025-04-14T09:36:16.846519Z"
    },
    "id": "rS4irleCW5YK",
    "papermill": {
     "duration": 0.016975,
     "end_time": "2025-04-14T09:36:16.848454",
     "exception": false,
     "start_time": "2025-04-14T09:36:16.831479",
     "status": "completed"
    },
    "tags": []
   },
   "outputs": [],
   "source": [
    "# !zip -r tokenizer.zip /kaggle/working/tokenizer"
   ]
  },
  {
   "cell_type": "markdown",
   "id": "22a3ffb1",
   "metadata": {
    "id": "yJ7nY0QrW5YK",
    "papermill": {
     "duration": 0.011401,
     "end_time": "2025-04-14T09:36:16.871440",
     "exception": false,
     "start_time": "2025-04-14T09:36:16.860039",
     "status": "completed"
    },
    "tags": []
   },
   "source": [
    "# **Load the model and test**"
   ]
  },
  {
   "cell_type": "code",
   "execution_count": 44,
   "id": "1615846f",
   "metadata": {
    "execution": {
     "iopub.execute_input": "2025-04-14T09:36:16.896093Z",
     "iopub.status.busy": "2025-04-14T09:36:16.895499Z",
     "iopub.status.idle": "2025-04-14T09:36:16.899101Z",
     "shell.execute_reply": "2025-04-14T09:36:16.898389Z"
    },
    "id": "pbJ_G7MWW5YK",
    "papermill": {
     "duration": 0.017076,
     "end_time": "2025-04-14T09:36:16.900275",
     "exception": false,
     "start_time": "2025-04-14T09:36:16.883199",
     "status": "completed"
    },
    "tags": []
   },
   "outputs": [],
   "source": [
    "# import torch\n",
    "# from tqdm.auto import tqdm\n",
    "\n",
    "# def evaluate_model(model, encode_tokenizer, decode_tokenizer, dataset, device):\n",
    "#     model.eval()\n",
    "\n",
    "#     predictions, references = [], []\n",
    "#     for example in tqdm(dataset, desc=\"Translating\"):\n",
    "#         with encode_tokenizer.as_target_tokenizer():\n",
    "#             input_ids = encode_tokenizer.encode(example['Bahnar'], return_tensors='pt').to(device)\n",
    "\n",
    "#         output_ids = model.generate(input_ids)[0]\n",
    "#         pred = decode_tokenizer.decode(output_ids, skip_special_tokens=True)\n",
    "#         predictions.append([pred])\n",
    "\n",
    "#         references.append([example['English']])\n",
    "\n",
    "#     return predictions, references\n"
   ]
  },
  {
   "cell_type": "code",
   "execution_count": 45,
   "id": "b3d59d48",
   "metadata": {
    "execution": {
     "iopub.execute_input": "2025-04-14T09:36:16.923868Z",
     "iopub.status.busy": "2025-04-14T09:36:16.923667Z",
     "iopub.status.idle": "2025-04-14T09:36:16.926718Z",
     "shell.execute_reply": "2025-04-14T09:36:16.926219Z"
    },
    "id": "-vXe4FLBW5YK",
    "papermill": {
     "duration": 0.016091,
     "end_time": "2025-04-14T09:36:16.927768",
     "exception": false,
     "start_time": "2025-04-14T09:36:16.911677",
     "status": "completed"
    },
    "tags": []
   },
   "outputs": [],
   "source": [
    "# model_path = '/kaggle/working/model1.1.1'\n",
    "# tokenizer_path = '/kaggle/working/model1.1.1'\n",
    "\n",
    "# # Load the model and tokenizer\n",
    "# loaded_model = AutoModelForSeq2SeqLM.from_pretrained(model_path).to(device)\n",
    "# loaded_tokenizer = AutoTokenizer.from_pretrained(tokenizer_path)\n",
    "\n",
    "# # Evaluate the model\n",
    "# test_examples = [{'Bahnar': ex['Bahnar'], 'English': ex['English']} for ex in ba_en_test_dataset]\n",
    "# predictions, references = evaluate_model(loaded_model, en_ba_tokenizer, en_ba_tokenizer, test_examples, device)"
   ]
  },
  {
   "cell_type": "code",
   "execution_count": 46,
   "id": "d2d5da37",
   "metadata": {
    "execution": {
     "iopub.execute_input": "2025-04-14T09:36:16.951709Z",
     "iopub.status.busy": "2025-04-14T09:36:16.951486Z",
     "iopub.status.idle": "2025-04-14T09:36:16.954691Z",
     "shell.execute_reply": "2025-04-14T09:36:16.954020Z"
    },
    "id": "ogK4vNBoW5YK",
    "papermill": {
     "duration": 0.016333,
     "end_time": "2025-04-14T09:36:16.955716",
     "exception": false,
     "start_time": "2025-04-14T09:36:16.939383",
     "status": "completed"
    },
    "tags": []
   },
   "outputs": [],
   "source": [
    "# preds = []\n",
    "# refs = []\n",
    "# for pred in predictions:\n",
    "#     preds.append(pred[0])\n",
    "\n",
    "# for ref in references:\n",
    "#     refs.append(ref)\n",
    "\n",
    "# print(refs[:10])\n",
    "# print(preds[:10])"
   ]
  },
  {
   "cell_type": "code",
   "execution_count": 47,
   "id": "3c3ef5b1",
   "metadata": {
    "execution": {
     "iopub.execute_input": "2025-04-14T09:36:16.979125Z",
     "iopub.status.busy": "2025-04-14T09:36:16.978878Z",
     "iopub.status.idle": "2025-04-14T09:36:16.981810Z",
     "shell.execute_reply": "2025-04-14T09:36:16.981317Z"
    },
    "id": "8KXTa_jMW5YK",
    "papermill": {
     "duration": 0.015713,
     "end_time": "2025-04-14T09:36:16.982829",
     "exception": false,
     "start_time": "2025-04-14T09:36:16.967116",
     "status": "completed"
    },
    "tags": []
   },
   "outputs": [],
   "source": [
    "# # Calculate and print the BLEU score\n",
    "# bleu = sacrebleu.corpus_bleu(preds, refs)\n",
    "# print(\"BLEU: \", round(bleu.score, 2))\n",
    "\n",
    "# # Calculate CHRF\n",
    "# chrf = sacrebleu.corpus_chrf(preds, refs)\n",
    "# print(\"CHRF:\", round(chrf.score, 2))\n",
    "\n",
    "# # Calculate TER\n",
    "# metric = sacrebleu.metrics.TER()\n",
    "# ter = metric.corpus_score(preds, refs)\n",
    "# print(\"TER:\", round(ter.score, 2))"
   ]
  }
 ],
 "metadata": {
  "accelerator": "GPU",
  "colab": {
   "gpuType": "T4",
   "private_outputs": true,
   "provenance": []
  },
  "kaggle": {
   "accelerator": "gpu",
   "dataSources": [
    {
     "datasetId": 5063149,
     "sourceId": 8487291,
     "sourceType": "datasetVersion"
    },
    {
     "datasetId": 5063775,
     "sourceId": 8488207,
     "sourceType": "datasetVersion"
    },
    {
     "datasetId": 5074078,
     "sourceId": 8502007,
     "sourceType": "datasetVersion"
    },
    {
     "datasetId": 5105744,
     "sourceId": 8545653,
     "sourceType": "datasetVersion"
    },
    {
     "datasetId": 5105750,
     "sourceId": 8545660,
     "sourceType": "datasetVersion"
    },
    {
     "datasetId": 6732520,
     "sourceId": 10920203,
     "sourceType": "datasetVersion"
    },
    {
     "datasetId": 6792139,
     "sourceId": 10924922,
     "sourceType": "datasetVersion"
    },
    {
     "datasetId": 6792264,
     "sourceId": 10925117,
     "sourceType": "datasetVersion"
    },
    {
     "datasetId": 6794485,
     "sourceId": 10928017,
     "sourceType": "datasetVersion"
    },
    {
     "datasetId": 6796986,
     "sourceId": 10935781,
     "sourceType": "datasetVersion"
    },
    {
     "datasetId": 6831985,
     "sourceId": 10978738,
     "sourceType": "datasetVersion"
    }
   ],
   "dockerImageVersionId": 31011,
   "isGpuEnabled": true,
   "isInternetEnabled": true,
   "language": "python",
   "sourceType": "notebook"
  },
  "kernelspec": {
   "display_name": "Python 3",
   "language": "python",
   "name": "python3"
  },
  "language_info": {
   "codemirror_mode": {
    "name": "ipython",
    "version": 3
   },
   "file_extension": ".py",
   "mimetype": "text/x-python",
   "name": "python",
   "nbconvert_exporter": "python",
   "pygments_lexer": "ipython3",
   "version": "3.11.11"
  },
  "papermill": {
   "default_parameters": {},
   "duration": 7880.351824,
   "end_time": "2025-04-14T09:36:20.013801",
   "environment_variables": {},
   "exception": null,
   "input_path": "__notebook__.ipynb",
   "output_path": "__notebook__.ipynb",
   "parameters": {},
   "start_time": "2025-04-14T07:24:59.661977",
   "version": "2.6.0"
  },
  "widgets": {
   "application/vnd.jupyter.widget-state+json": {
    "state": {
     "0035d689b0cf48a7bb212a596f48ce69": {
      "model_module": "@jupyter-widgets/controls",
      "model_module_version": "2.0.0",
      "model_name": "HTMLStyleModel",
      "state": {
       "_model_module": "@jupyter-widgets/controls",
       "_model_module_version": "2.0.0",
       "_model_name": "HTMLStyleModel",
       "_view_count": null,
       "_view_module": "@jupyter-widgets/base",
       "_view_module_version": "2.0.0",
       "_view_name": "StyleView",
       "background": null,
       "description_width": "",
       "font_size": null,
       "text_color": null
      }
     },
     "03dbaba58650409999f48a413a1ea670": {
      "model_module": "@jupyter-widgets/controls",
      "model_module_version": "2.0.0",
      "model_name": "ProgressStyleModel",
      "state": {
       "_model_module": "@jupyter-widgets/controls",
       "_model_module_version": "2.0.0",
       "_model_name": "ProgressStyleModel",
       "_view_count": null,
       "_view_module": "@jupyter-widgets/base",
       "_view_module_version": "2.0.0",
       "_view_name": "StyleView",
       "bar_color": null,
       "description_width": ""
      }
     },
     "046d83ff7f1b4ae8accb494ffe450d84": {
      "model_module": "@jupyter-widgets/controls",
      "model_module_version": "2.0.0",
      "model_name": "HTMLModel",
      "state": {
       "_dom_classes": [],
       "_model_module": "@jupyter-widgets/controls",
       "_model_module_version": "2.0.0",
       "_model_name": "HTMLModel",
       "_view_count": null,
       "_view_module": "@jupyter-widgets/controls",
       "_view_module_version": "2.0.0",
       "_view_name": "HTMLView",
       "description": "",
       "description_allow_html": false,
       "layout": "IPY_MODEL_c82b98eca8784592abc61f644851571b",
       "placeholder": "​",
       "style": "IPY_MODEL_7653040bdc7a4d5da4634117beae83c8",
       "tabbable": null,
       "tooltip": null,
       "value": "tokenizer_config.json: 100%"
      }
     },
     "080d215b777c4844a8fcd9d8acb97aa6": {
      "model_module": "@jupyter-widgets/controls",
      "model_module_version": "2.0.0",
      "model_name": "ProgressStyleModel",
      "state": {
       "_model_module": "@jupyter-widgets/controls",
       "_model_module_version": "2.0.0",
       "_model_name": "ProgressStyleModel",
       "_view_count": null,
       "_view_module": "@jupyter-widgets/base",
       "_view_module_version": "2.0.0",
       "_view_name": "StyleView",
       "bar_color": null,
       "description_width": ""
      }
     },
     "09c2aa0bd1f54ff2a80bf40a51dcc5fa": {
      "model_module": "@jupyter-widgets/base",
      "model_module_version": "2.0.0",
      "model_name": "LayoutModel",
      "state": {
       "_model_module": "@jupyter-widgets/base",
       "_model_module_version": "2.0.0",
       "_model_name": "LayoutModel",
       "_view_count": null,
       "_view_module": "@jupyter-widgets/base",
       "_view_module_version": "2.0.0",
       "_view_name": "LayoutView",
       "align_content": null,
       "align_items": null,
       "align_self": null,
       "border_bottom": null,
       "border_left": null,
       "border_right": null,
       "border_top": null,
       "bottom": null,
       "display": null,
       "flex": null,
       "flex_flow": null,
       "grid_area": null,
       "grid_auto_columns": null,
       "grid_auto_flow": null,
       "grid_auto_rows": null,
       "grid_column": null,
       "grid_gap": null,
       "grid_row": null,
       "grid_template_areas": null,
       "grid_template_columns": null,
       "grid_template_rows": null,
       "height": null,
       "justify_content": null,
       "justify_items": null,
       "left": null,
       "margin": null,
       "max_height": null,
       "max_width": null,
       "min_height": null,
       "min_width": null,
       "object_fit": null,
       "object_position": null,
       "order": null,
       "overflow": null,
       "padding": null,
       "right": null,
       "top": null,
       "visibility": null,
       "width": null
      }
     },
     "0e1061ab11254b44a269d53e272fb8dd": {
      "model_module": "@jupyter-widgets/controls",
      "model_module_version": "2.0.0",
      "model_name": "HTMLStyleModel",
      "state": {
       "_model_module": "@jupyter-widgets/controls",
       "_model_module_version": "2.0.0",
       "_model_name": "HTMLStyleModel",
       "_view_count": null,
       "_view_module": "@jupyter-widgets/base",
       "_view_module_version": "2.0.0",
       "_view_name": "StyleView",
       "background": null,
       "description_width": "",
       "font_size": null,
       "text_color": null
      }
     },
     "0ecac02b2a454bdba2a6c300eb7b9951": {
      "model_module": "@jupyter-widgets/controls",
      "model_module_version": "2.0.0",
      "model_name": "HTMLModel",
      "state": {
       "_dom_classes": [],
       "_model_module": "@jupyter-widgets/controls",
       "_model_module_version": "2.0.0",
       "_model_name": "HTMLModel",
       "_view_count": null,
       "_view_module": "@jupyter-widgets/controls",
       "_view_module_version": "2.0.0",
       "_view_name": "HTMLView",
       "description": "",
       "description_allow_html": false,
       "layout": "IPY_MODEL_cea5bcabf70946c9987ee547579ce35f",
       "placeholder": "​",
       "style": "IPY_MODEL_7d66e8a9671f4cfabe2c829a16c00b91",
       "tabbable": null,
       "tooltip": null,
       "value": " 809k/809k [00:00&lt;00:00, 28.3MB/s]"
      }
     },
     "111bb6646e08470aa29b1ca5272c2101": {
      "model_module": "@jupyter-widgets/base",
      "model_module_version": "2.0.0",
      "model_name": "LayoutModel",
      "state": {
       "_model_module": "@jupyter-widgets/base",
       "_model_module_version": "2.0.0",
       "_model_name": "LayoutModel",
       "_view_count": null,
       "_view_module": "@jupyter-widgets/base",
       "_view_module_version": "2.0.0",
       "_view_name": "LayoutView",
       "align_content": null,
       "align_items": null,
       "align_self": null,
       "border_bottom": null,
       "border_left": null,
       "border_right": null,
       "border_top": null,
       "bottom": null,
       "display": null,
       "flex": null,
       "flex_flow": null,
       "grid_area": null,
       "grid_auto_columns": null,
       "grid_auto_flow": null,
       "grid_auto_rows": null,
       "grid_column": null,
       "grid_gap": null,
       "grid_row": null,
       "grid_template_areas": null,
       "grid_template_columns": null,
       "grid_template_rows": null,
       "height": null,
       "justify_content": null,
       "justify_items": null,
       "left": null,
       "margin": null,
       "max_height": null,
       "max_width": null,
       "min_height": null,
       "min_width": null,
       "object_fit": null,
       "object_position": null,
       "order": null,
       "overflow": null,
       "padding": null,
       "right": null,
       "top": null,
       "visibility": null,
       "width": null
      }
     },
     "119f31d6dbeb4bfdac2b52face2764c2": {
      "model_module": "@jupyter-widgets/controls",
      "model_module_version": "2.0.0",
      "model_name": "HTMLStyleModel",
      "state": {
       "_model_module": "@jupyter-widgets/controls",
       "_model_module_version": "2.0.0",
       "_model_name": "HTMLStyleModel",
       "_view_count": null,
       "_view_module": "@jupyter-widgets/base",
       "_view_module_version": "2.0.0",
       "_view_name": "StyleView",
       "background": null,
       "description_width": "",
       "font_size": null,
       "text_color": null
      }
     },
     "13d38cf64f6c4b3cad3312561e595f41": {
      "model_module": "@jupyter-widgets/base",
      "model_module_version": "2.0.0",
      "model_name": "LayoutModel",
      "state": {
       "_model_module": "@jupyter-widgets/base",
       "_model_module_version": "2.0.0",
       "_model_name": "LayoutModel",
       "_view_count": null,
       "_view_module": "@jupyter-widgets/base",
       "_view_module_version": "2.0.0",
       "_view_name": "LayoutView",
       "align_content": null,
       "align_items": null,
       "align_self": null,
       "border_bottom": null,
       "border_left": null,
       "border_right": null,
       "border_top": null,
       "bottom": null,
       "display": null,
       "flex": null,
       "flex_flow": null,
       "grid_area": null,
       "grid_auto_columns": null,
       "grid_auto_flow": null,
       "grid_auto_rows": null,
       "grid_column": null,
       "grid_gap": null,
       "grid_row": null,
       "grid_template_areas": null,
       "grid_template_columns": null,
       "grid_template_rows": null,
       "height": null,
       "justify_content": null,
       "justify_items": null,
       "left": null,
       "margin": null,
       "max_height": null,
       "max_width": null,
       "min_height": null,
       "min_width": null,
       "object_fit": null,
       "object_position": null,
       "order": null,
       "overflow": null,
       "padding": null,
       "right": null,
       "top": null,
       "visibility": null,
       "width": null
      }
     },
     "14a80f381017467499373aa973e20389": {
      "model_module": "@jupyter-widgets/base",
      "model_module_version": "2.0.0",
      "model_name": "LayoutModel",
      "state": {
       "_model_module": "@jupyter-widgets/base",
       "_model_module_version": "2.0.0",
       "_model_name": "LayoutModel",
       "_view_count": null,
       "_view_module": "@jupyter-widgets/base",
       "_view_module_version": "2.0.0",
       "_view_name": "LayoutView",
       "align_content": null,
       "align_items": null,
       "align_self": null,
       "border_bottom": null,
       "border_left": null,
       "border_right": null,
       "border_top": null,
       "bottom": null,
       "display": null,
       "flex": null,
       "flex_flow": null,
       "grid_area": null,
       "grid_auto_columns": null,
       "grid_auto_flow": null,
       "grid_auto_rows": null,
       "grid_column": null,
       "grid_gap": null,
       "grid_row": null,
       "grid_template_areas": null,
       "grid_template_columns": null,
       "grid_template_rows": null,
       "height": null,
       "justify_content": null,
       "justify_items": null,
       "left": null,
       "margin": null,
       "max_height": null,
       "max_width": null,
       "min_height": null,
       "min_width": null,
       "object_fit": null,
       "object_position": null,
       "order": null,
       "overflow": null,
       "padding": null,
       "right": null,
       "top": null,
       "visibility": null,
       "width": null
      }
     },
     "14f2775c5dc741b99c934eb2c74c52bf": {
      "model_module": "@jupyter-widgets/controls",
      "model_module_version": "2.0.0",
      "model_name": "HBoxModel",
      "state": {
       "_dom_classes": [],
       "_model_module": "@jupyter-widgets/controls",
       "_model_module_version": "2.0.0",
       "_model_name": "HBoxModel",
       "_view_count": null,
       "_view_module": "@jupyter-widgets/controls",
       "_view_module_version": "2.0.0",
       "_view_name": "HBoxView",
       "box_style": "",
       "children": [
        "IPY_MODEL_984f1fe3ddd84cce9348b2791b4b03ee",
        "IPY_MODEL_d6dac5d7e09444e9b0ee778cc5d606c8",
        "IPY_MODEL_286b0b6a5f6f4dc99a333d1d125d9662"
       ],
       "layout": "IPY_MODEL_de04eb7028a2458fbc9769d3b5d49160",
       "tabbable": null,
       "tooltip": null
      }
     },
     "17883c7f86574f57ae03e40c58f09cc9": {
      "model_module": "@jupyter-widgets/base",
      "model_module_version": "2.0.0",
      "model_name": "LayoutModel",
      "state": {
       "_model_module": "@jupyter-widgets/base",
       "_model_module_version": "2.0.0",
       "_model_name": "LayoutModel",
       "_view_count": null,
       "_view_module": "@jupyter-widgets/base",
       "_view_module_version": "2.0.0",
       "_view_name": "LayoutView",
       "align_content": null,
       "align_items": null,
       "align_self": null,
       "border_bottom": null,
       "border_left": null,
       "border_right": null,
       "border_top": null,
       "bottom": null,
       "display": null,
       "flex": null,
       "flex_flow": null,
       "grid_area": null,
       "grid_auto_columns": null,
       "grid_auto_flow": null,
       "grid_auto_rows": null,
       "grid_column": null,
       "grid_gap": null,
       "grid_row": null,
       "grid_template_areas": null,
       "grid_template_columns": null,
       "grid_template_rows": null,
       "height": null,
       "justify_content": null,
       "justify_items": null,
       "left": null,
       "margin": null,
       "max_height": null,
       "max_width": null,
       "min_height": null,
       "min_width": null,
       "object_fit": null,
       "object_position": null,
       "order": null,
       "overflow": null,
       "padding": null,
       "right": null,
       "top": null,
       "visibility": null,
       "width": null
      }
     },
     "1a5a0a4ab0474fad8b7df8a8e0f7405a": {
      "model_module": "@jupyter-widgets/base",
      "model_module_version": "2.0.0",
      "model_name": "LayoutModel",
      "state": {
       "_model_module": "@jupyter-widgets/base",
       "_model_module_version": "2.0.0",
       "_model_name": "LayoutModel",
       "_view_count": null,
       "_view_module": "@jupyter-widgets/base",
       "_view_module_version": "2.0.0",
       "_view_name": "LayoutView",
       "align_content": null,
       "align_items": null,
       "align_self": null,
       "border_bottom": null,
       "border_left": null,
       "border_right": null,
       "border_top": null,
       "bottom": null,
       "display": null,
       "flex": null,
       "flex_flow": null,
       "grid_area": null,
       "grid_auto_columns": null,
       "grid_auto_flow": null,
       "grid_auto_rows": null,
       "grid_column": null,
       "grid_gap": null,
       "grid_row": null,
       "grid_template_areas": null,
       "grid_template_columns": null,
       "grid_template_rows": null,
       "height": null,
       "justify_content": null,
       "justify_items": null,
       "left": null,
       "margin": null,
       "max_height": null,
       "max_width": null,
       "min_height": null,
       "min_width": null,
       "object_fit": null,
       "object_position": null,
       "order": null,
       "overflow": null,
       "padding": null,
       "right": null,
       "top": null,
       "visibility": null,
       "width": null
      }
     },
     "1b6d468b82de499394d78cd231565b18": {
      "model_module": "@jupyter-widgets/base",
      "model_module_version": "2.0.0",
      "model_name": "LayoutModel",
      "state": {
       "_model_module": "@jupyter-widgets/base",
       "_model_module_version": "2.0.0",
       "_model_name": "LayoutModel",
       "_view_count": null,
       "_view_module": "@jupyter-widgets/base",
       "_view_module_version": "2.0.0",
       "_view_name": "LayoutView",
       "align_content": null,
       "align_items": null,
       "align_self": null,
       "border_bottom": null,
       "border_left": null,
       "border_right": null,
       "border_top": null,
       "bottom": null,
       "display": null,
       "flex": null,
       "flex_flow": null,
       "grid_area": null,
       "grid_auto_columns": null,
       "grid_auto_flow": null,
       "grid_auto_rows": null,
       "grid_column": null,
       "grid_gap": null,
       "grid_row": null,
       "grid_template_areas": null,
       "grid_template_columns": null,
       "grid_template_rows": null,
       "height": null,
       "justify_content": null,
       "justify_items": null,
       "left": null,
       "margin": null,
       "max_height": null,
       "max_width": null,
       "min_height": null,
       "min_width": null,
       "object_fit": null,
       "object_position": null,
       "order": null,
       "overflow": null,
       "padding": null,
       "right": null,
       "top": null,
       "visibility": null,
       "width": null
      }
     },
     "1dbfd5ad97de40069aa5fc105b1dc305": {
      "model_module": "@jupyter-widgets/controls",
      "model_module_version": "2.0.0",
      "model_name": "HBoxModel",
      "state": {
       "_dom_classes": [],
       "_model_module": "@jupyter-widgets/controls",
       "_model_module_version": "2.0.0",
       "_model_name": "HBoxModel",
       "_view_count": null,
       "_view_module": "@jupyter-widgets/controls",
       "_view_module_version": "2.0.0",
       "_view_name": "HBoxView",
       "box_style": "",
       "children": [
        "IPY_MODEL_4123cd212fd042bcb394a534d084d3e3",
        "IPY_MODEL_214a1e1bc9f3407b879dedaf79ecc1a6",
        "IPY_MODEL_f6cc7377aa4a45d09305bef3463caf60"
       ],
       "layout": "IPY_MODEL_5e81834315fb4865bfe9886d37ab324c",
       "tabbable": null,
       "tooltip": null
      }
     },
     "201626d5c4bb40fd8452430410941628": {
      "model_module": "@jupyter-widgets/controls",
      "model_module_version": "2.0.0",
      "model_name": "HTMLModel",
      "state": {
       "_dom_classes": [],
       "_model_module": "@jupyter-widgets/controls",
       "_model_module_version": "2.0.0",
       "_model_name": "HTMLModel",
       "_view_count": null,
       "_view_module": "@jupyter-widgets/controls",
       "_view_module_version": "2.0.0",
       "_view_name": "HTMLView",
       "description": "",
       "description_allow_html": false,
       "layout": "IPY_MODEL_3b942631b30842b4a39c7ab5a62ae06e",
       "placeholder": "​",
       "style": "IPY_MODEL_405b2017cc6b415f9f61f7a074be2e5b",
       "tabbable": null,
       "tooltip": null,
       "value": " 289M/289M [00:01&lt;00:00, 158MB/s]"
      }
     },
     "208b17168b8f45e08d6bd5f83242512e": {
      "model_module": "@jupyter-widgets/base",
      "model_module_version": "2.0.0",
      "model_name": "LayoutModel",
      "state": {
       "_model_module": "@jupyter-widgets/base",
       "_model_module_version": "2.0.0",
       "_model_name": "LayoutModel",
       "_view_count": null,
       "_view_module": "@jupyter-widgets/base",
       "_view_module_version": "2.0.0",
       "_view_name": "LayoutView",
       "align_content": null,
       "align_items": null,
       "align_self": null,
       "border_bottom": null,
       "border_left": null,
       "border_right": null,
       "border_top": null,
       "bottom": null,
       "display": null,
       "flex": null,
       "flex_flow": null,
       "grid_area": null,
       "grid_auto_columns": null,
       "grid_auto_flow": null,
       "grid_auto_rows": null,
       "grid_column": null,
       "grid_gap": null,
       "grid_row": null,
       "grid_template_areas": null,
       "grid_template_columns": null,
       "grid_template_rows": null,
       "height": null,
       "justify_content": null,
       "justify_items": null,
       "left": null,
       "margin": null,
       "max_height": null,
       "max_width": null,
       "min_height": null,
       "min_width": null,
       "object_fit": null,
       "object_position": null,
       "order": null,
       "overflow": null,
       "padding": null,
       "right": null,
       "top": null,
       "visibility": null,
       "width": null
      }
     },
     "214a1e1bc9f3407b879dedaf79ecc1a6": {
      "model_module": "@jupyter-widgets/controls",
      "model_module_version": "2.0.0",
      "model_name": "FloatProgressModel",
      "state": {
       "_dom_classes": [],
       "_model_module": "@jupyter-widgets/controls",
       "_model_module_version": "2.0.0",
       "_model_name": "FloatProgressModel",
       "_view_count": null,
       "_view_module": "@jupyter-widgets/controls",
       "_view_module_version": "2.0.0",
       "_view_name": "ProgressView",
       "bar_style": "success",
       "description": "",
       "description_allow_html": false,
       "layout": "IPY_MODEL_208b17168b8f45e08d6bd5f83242512e",
       "max": 756168,
       "min": 0,
       "orientation": "horizontal",
       "style": "IPY_MODEL_080d215b777c4844a8fcd9d8acb97aa6",
       "tabbable": null,
       "tooltip": null,
       "value": 756168
      }
     },
     "21c20a2e66e74d1bbc3a9a031ddb2520": {
      "model_module": "@jupyter-widgets/controls",
      "model_module_version": "2.0.0",
      "model_name": "HTMLStyleModel",
      "state": {
       "_model_module": "@jupyter-widgets/controls",
       "_model_module_version": "2.0.0",
       "_model_name": "HTMLStyleModel",
       "_view_count": null,
       "_view_module": "@jupyter-widgets/base",
       "_view_module_version": "2.0.0",
       "_view_name": "StyleView",
       "background": null,
       "description_width": "",
       "font_size": null,
       "text_color": null
      }
     },
     "286b0b6a5f6f4dc99a333d1d125d9662": {
      "model_module": "@jupyter-widgets/controls",
      "model_module_version": "2.0.0",
      "model_name": "HTMLModel",
      "state": {
       "_dom_classes": [],
       "_model_module": "@jupyter-widgets/controls",
       "_model_module_version": "2.0.0",
       "_model_name": "HTMLModel",
       "_view_count": null,
       "_view_module": "@jupyter-widgets/controls",
       "_view_module_version": "2.0.0",
       "_view_name": "HTMLView",
       "description": "",
       "description_allow_html": false,
       "layout": "IPY_MODEL_cd56788c64074ea7a7259a28f42e8e1d",
       "placeholder": "​",
       "style": "IPY_MODEL_6caea527d968495dbdebd760a153cea8",
       "tabbable": null,
       "tooltip": null,
       "value": " 21801/21801 [00:11&lt;00:00, 1822.16 examples/s]"
      }
     },
     "299274e8397d46d7abd3d8ecd892f1c7": {
      "model_module": "@jupyter-widgets/controls",
      "model_module_version": "2.0.0",
      "model_name": "HBoxModel",
      "state": {
       "_dom_classes": [],
       "_model_module": "@jupyter-widgets/controls",
       "_model_module_version": "2.0.0",
       "_model_name": "HBoxModel",
       "_view_count": null,
       "_view_module": "@jupyter-widgets/controls",
       "_view_module_version": "2.0.0",
       "_view_name": "HBoxView",
       "box_style": "",
       "children": [
        "IPY_MODEL_64d0a77176a34b7299b654c2d47ac38f",
        "IPY_MODEL_d865ebc29d304508ad336061dcfea670",
        "IPY_MODEL_652a9805b3e24fefbf6143779008027c"
       ],
       "layout": "IPY_MODEL_9b69ee57bb2a4fc3be20f901fa698597",
       "tabbable": null,
       "tooltip": null
      }
     },
     "2a87bb01ab254f84acbb74e90ddf3639": {
      "model_module": "@jupyter-widgets/base",
      "model_module_version": "2.0.0",
      "model_name": "LayoutModel",
      "state": {
       "_model_module": "@jupyter-widgets/base",
       "_model_module_version": "2.0.0",
       "_model_name": "LayoutModel",
       "_view_count": null,
       "_view_module": "@jupyter-widgets/base",
       "_view_module_version": "2.0.0",
       "_view_name": "LayoutView",
       "align_content": null,
       "align_items": null,
       "align_self": null,
       "border_bottom": null,
       "border_left": null,
       "border_right": null,
       "border_top": null,
       "bottom": null,
       "display": null,
       "flex": null,
       "flex_flow": null,
       "grid_area": null,
       "grid_auto_columns": null,
       "grid_auto_flow": null,
       "grid_auto_rows": null,
       "grid_column": null,
       "grid_gap": null,
       "grid_row": null,
       "grid_template_areas": null,
       "grid_template_columns": null,
       "grid_template_rows": null,
       "height": null,
       "justify_content": null,
       "justify_items": null,
       "left": null,
       "margin": null,
       "max_height": null,
       "max_width": null,
       "min_height": null,
       "min_width": null,
       "object_fit": null,
       "object_position": null,
       "order": null,
       "overflow": null,
       "padding": null,
       "right": null,
       "top": null,
       "visibility": null,
       "width": null
      }
     },
     "2aa1d8ef0fc24b6bac4b6db7ff2761d1": {
      "model_module": "@jupyter-widgets/controls",
      "model_module_version": "2.0.0",
      "model_name": "HBoxModel",
      "state": {
       "_dom_classes": [],
       "_model_module": "@jupyter-widgets/controls",
       "_model_module_version": "2.0.0",
       "_model_name": "HBoxModel",
       "_view_count": null,
       "_view_module": "@jupyter-widgets/controls",
       "_view_module_version": "2.0.0",
       "_view_name": "HBoxView",
       "box_style": "",
       "children": [
        "IPY_MODEL_c5f681d193154a868dd5204340886745",
        "IPY_MODEL_9bbc1e720a1441acafa57dd8a938a79c",
        "IPY_MODEL_bf7bdc3bf99044e6b201ff3c4f2b9c9e"
       ],
       "layout": "IPY_MODEL_378658b1c15c44ad9d79330772bf5dd0",
       "tabbable": null,
       "tooltip": null
      }
     },
     "31e08780bc17422c8209ad72fabc066e": {
      "model_module": "@jupyter-widgets/base",
      "model_module_version": "2.0.0",
      "model_name": "LayoutModel",
      "state": {
       "_model_module": "@jupyter-widgets/base",
       "_model_module_version": "2.0.0",
       "_model_name": "LayoutModel",
       "_view_count": null,
       "_view_module": "@jupyter-widgets/base",
       "_view_module_version": "2.0.0",
       "_view_name": "LayoutView",
       "align_content": null,
       "align_items": null,
       "align_self": null,
       "border_bottom": null,
       "border_left": null,
       "border_right": null,
       "border_top": null,
       "bottom": null,
       "display": null,
       "flex": null,
       "flex_flow": null,
       "grid_area": null,
       "grid_auto_columns": null,
       "grid_auto_flow": null,
       "grid_auto_rows": null,
       "grid_column": null,
       "grid_gap": null,
       "grid_row": null,
       "grid_template_areas": null,
       "grid_template_columns": null,
       "grid_template_rows": null,
       "height": null,
       "justify_content": null,
       "justify_items": null,
       "left": null,
       "margin": null,
       "max_height": null,
       "max_width": null,
       "min_height": null,
       "min_width": null,
       "object_fit": null,
       "object_position": null,
       "order": null,
       "overflow": null,
       "padding": null,
       "right": null,
       "top": null,
       "visibility": null,
       "width": null
      }
     },
     "32f0843b289f4813b9add221a1c6cbf7": {
      "model_module": "@jupyter-widgets/controls",
      "model_module_version": "2.0.0",
      "model_name": "ProgressStyleModel",
      "state": {
       "_model_module": "@jupyter-widgets/controls",
       "_model_module_version": "2.0.0",
       "_model_name": "ProgressStyleModel",
       "_view_count": null,
       "_view_module": "@jupyter-widgets/base",
       "_view_module_version": "2.0.0",
       "_view_name": "StyleView",
       "bar_color": null,
       "description_width": ""
      }
     },
     "35c7ce5ce2a2469aa4198d4c002a629b": {
      "model_module": "@jupyter-widgets/controls",
      "model_module_version": "2.0.0",
      "model_name": "HTMLStyleModel",
      "state": {
       "_model_module": "@jupyter-widgets/controls",
       "_model_module_version": "2.0.0",
       "_model_name": "HTMLStyleModel",
       "_view_count": null,
       "_view_module": "@jupyter-widgets/base",
       "_view_module_version": "2.0.0",
       "_view_name": "StyleView",
       "background": null,
       "description_width": "",
       "font_size": null,
       "text_color": null
      }
     },
     "378658b1c15c44ad9d79330772bf5dd0": {
      "model_module": "@jupyter-widgets/base",
      "model_module_version": "2.0.0",
      "model_name": "LayoutModel",
      "state": {
       "_model_module": "@jupyter-widgets/base",
       "_model_module_version": "2.0.0",
       "_model_name": "LayoutModel",
       "_view_count": null,
       "_view_module": "@jupyter-widgets/base",
       "_view_module_version": "2.0.0",
       "_view_name": "LayoutView",
       "align_content": null,
       "align_items": null,
       "align_self": null,
       "border_bottom": null,
       "border_left": null,
       "border_right": null,
       "border_top": null,
       "bottom": null,
       "display": null,
       "flex": null,
       "flex_flow": null,
       "grid_area": null,
       "grid_auto_columns": null,
       "grid_auto_flow": null,
       "grid_auto_rows": null,
       "grid_column": null,
       "grid_gap": null,
       "grid_row": null,
       "grid_template_areas": null,
       "grid_template_columns": null,
       "grid_template_rows": null,
       "height": null,
       "justify_content": null,
       "justify_items": null,
       "left": null,
       "margin": null,
       "max_height": null,
       "max_width": null,
       "min_height": null,
       "min_width": null,
       "object_fit": null,
       "object_position": null,
       "order": null,
       "overflow": null,
       "padding": null,
       "right": null,
       "top": null,
       "visibility": null,
       "width": null
      }
     },
     "379b611c3db94b7e9f548fff2f12a500": {
      "model_module": "@jupyter-widgets/controls",
      "model_module_version": "2.0.0",
      "model_name": "HTMLStyleModel",
      "state": {
       "_model_module": "@jupyter-widgets/controls",
       "_model_module_version": "2.0.0",
       "_model_name": "HTMLStyleModel",
       "_view_count": null,
       "_view_module": "@jupyter-widgets/base",
       "_view_module_version": "2.0.0",
       "_view_name": "StyleView",
       "background": null,
       "description_width": "",
       "font_size": null,
       "text_color": null
      }
     },
     "39f57fb374a8493598066aa2434af67c": {
      "model_module": "@jupyter-widgets/controls",
      "model_module_version": "2.0.0",
      "model_name": "HBoxModel",
      "state": {
       "_dom_classes": [],
       "_model_module": "@jupyter-widgets/controls",
       "_model_module_version": "2.0.0",
       "_model_name": "HBoxModel",
       "_view_count": null,
       "_view_module": "@jupyter-widgets/controls",
       "_view_module_version": "2.0.0",
       "_view_name": "HBoxView",
       "box_style": "",
       "children": [
        "IPY_MODEL_89b8a8f3b37d423fae8da2cd65f84637",
        "IPY_MODEL_d2e2965297ab4cf386e2f1ea9c1047e2",
        "IPY_MODEL_201626d5c4bb40fd8452430410941628"
       ],
       "layout": "IPY_MODEL_d4eb8b3be36b4c8388d13ae09af93d1f",
       "tabbable": null,
       "tooltip": null
      }
     },
     "3b942631b30842b4a39c7ab5a62ae06e": {
      "model_module": "@jupyter-widgets/base",
      "model_module_version": "2.0.0",
      "model_name": "LayoutModel",
      "state": {
       "_model_module": "@jupyter-widgets/base",
       "_model_module_version": "2.0.0",
       "_model_name": "LayoutModel",
       "_view_count": null,
       "_view_module": "@jupyter-widgets/base",
       "_view_module_version": "2.0.0",
       "_view_name": "LayoutView",
       "align_content": null,
       "align_items": null,
       "align_self": null,
       "border_bottom": null,
       "border_left": null,
       "border_right": null,
       "border_top": null,
       "bottom": null,
       "display": null,
       "flex": null,
       "flex_flow": null,
       "grid_area": null,
       "grid_auto_columns": null,
       "grid_auto_flow": null,
       "grid_auto_rows": null,
       "grid_column": null,
       "grid_gap": null,
       "grid_row": null,
       "grid_template_areas": null,
       "grid_template_columns": null,
       "grid_template_rows": null,
       "height": null,
       "justify_content": null,
       "justify_items": null,
       "left": null,
       "margin": null,
       "max_height": null,
       "max_width": null,
       "min_height": null,
       "min_width": null,
       "object_fit": null,
       "object_position": null,
       "order": null,
       "overflow": null,
       "padding": null,
       "right": null,
       "top": null,
       "visibility": null,
       "width": null
      }
     },
     "3d2db04b7e2047a48e7ea51da1b7c69c": {
      "model_module": "@jupyter-widgets/controls",
      "model_module_version": "2.0.0",
      "model_name": "HTMLModel",
      "state": {
       "_dom_classes": [],
       "_model_module": "@jupyter-widgets/controls",
       "_model_module_version": "2.0.0",
       "_model_name": "HTMLModel",
       "_view_count": null,
       "_view_module": "@jupyter-widgets/controls",
       "_view_module_version": "2.0.0",
       "_view_name": "HTMLView",
       "description": "",
       "description_allow_html": false,
       "layout": "IPY_MODEL_14a80f381017467499373aa973e20389",
       "placeholder": "​",
       "style": "IPY_MODEL_54586b0c1a054930a397756eaf480e42",
       "tabbable": null,
       "tooltip": null,
       "value": "target.spm: 100%"
      }
     },
     "3d5e9c76735f453e9ede38d1d7931dc2": {
      "model_module": "@jupyter-widgets/controls",
      "model_module_version": "2.0.0",
      "model_name": "HTMLStyleModel",
      "state": {
       "_model_module": "@jupyter-widgets/controls",
       "_model_module_version": "2.0.0",
       "_model_name": "HTMLStyleModel",
       "_view_count": null,
       "_view_module": "@jupyter-widgets/base",
       "_view_module_version": "2.0.0",
       "_view_name": "StyleView",
       "background": null,
       "description_width": "",
       "font_size": null,
       "text_color": null
      }
     },
     "3dce9d9f3333496ebe96f7d53f5630f1": {
      "model_module": "@jupyter-widgets/controls",
      "model_module_version": "2.0.0",
      "model_name": "HTMLStyleModel",
      "state": {
       "_model_module": "@jupyter-widgets/controls",
       "_model_module_version": "2.0.0",
       "_model_name": "HTMLStyleModel",
       "_view_count": null,
       "_view_module": "@jupyter-widgets/base",
       "_view_module_version": "2.0.0",
       "_view_name": "StyleView",
       "background": null,
       "description_width": "",
       "font_size": null,
       "text_color": null
      }
     },
     "3ef825a9500f4f80bbae47c8eba621fa": {
      "model_module": "@jupyter-widgets/base",
      "model_module_version": "2.0.0",
      "model_name": "LayoutModel",
      "state": {
       "_model_module": "@jupyter-widgets/base",
       "_model_module_version": "2.0.0",
       "_model_name": "LayoutModel",
       "_view_count": null,
       "_view_module": "@jupyter-widgets/base",
       "_view_module_version": "2.0.0",
       "_view_name": "LayoutView",
       "align_content": null,
       "align_items": null,
       "align_self": null,
       "border_bottom": null,
       "border_left": null,
       "border_right": null,
       "border_top": null,
       "bottom": null,
       "display": null,
       "flex": null,
       "flex_flow": null,
       "grid_area": null,
       "grid_auto_columns": null,
       "grid_auto_flow": null,
       "grid_auto_rows": null,
       "grid_column": null,
       "grid_gap": null,
       "grid_row": null,
       "grid_template_areas": null,
       "grid_template_columns": null,
       "grid_template_rows": null,
       "height": null,
       "justify_content": null,
       "justify_items": null,
       "left": null,
       "margin": null,
       "max_height": null,
       "max_width": null,
       "min_height": null,
       "min_width": null,
       "object_fit": null,
       "object_position": null,
       "order": null,
       "overflow": null,
       "padding": null,
       "right": null,
       "top": null,
       "visibility": null,
       "width": null
      }
     },
     "405b2017cc6b415f9f61f7a074be2e5b": {
      "model_module": "@jupyter-widgets/controls",
      "model_module_version": "2.0.0",
      "model_name": "HTMLStyleModel",
      "state": {
       "_model_module": "@jupyter-widgets/controls",
       "_model_module_version": "2.0.0",
       "_model_name": "HTMLStyleModel",
       "_view_count": null,
       "_view_module": "@jupyter-widgets/base",
       "_view_module_version": "2.0.0",
       "_view_name": "StyleView",
       "background": null,
       "description_width": "",
       "font_size": null,
       "text_color": null
      }
     },
     "4123cd212fd042bcb394a534d084d3e3": {
      "model_module": "@jupyter-widgets/controls",
      "model_module_version": "2.0.0",
      "model_name": "HTMLModel",
      "state": {
       "_dom_classes": [],
       "_model_module": "@jupyter-widgets/controls",
       "_model_module_version": "2.0.0",
       "_model_name": "HTMLModel",
       "_view_count": null,
       "_view_module": "@jupyter-widgets/controls",
       "_view_module_version": "2.0.0",
       "_view_name": "HTMLView",
       "description": "",
       "description_allow_html": false,
       "layout": "IPY_MODEL_1b6d468b82de499394d78cd231565b18",
       "placeholder": "​",
       "style": "IPY_MODEL_119f31d6dbeb4bfdac2b52face2764c2",
       "tabbable": null,
       "tooltip": null,
       "value": "source.spm: 100%"
      }
     },
     "429487d10dd746979ec76407373308f0": {
      "model_module": "@jupyter-widgets/controls",
      "model_module_version": "2.0.0",
      "model_name": "HTMLStyleModel",
      "state": {
       "_model_module": "@jupyter-widgets/controls",
       "_model_module_version": "2.0.0",
       "_model_name": "HTMLStyleModel",
       "_view_count": null,
       "_view_module": "@jupyter-widgets/base",
       "_view_module_version": "2.0.0",
       "_view_name": "StyleView",
       "background": null,
       "description_width": "",
       "font_size": null,
       "text_color": null
      }
     },
     "45fd56f25ed64de7a6bcfc0c007b40d0": {
      "model_module": "@jupyter-widgets/base",
      "model_module_version": "2.0.0",
      "model_name": "LayoutModel",
      "state": {
       "_model_module": "@jupyter-widgets/base",
       "_model_module_version": "2.0.0",
       "_model_name": "LayoutModel",
       "_view_count": null,
       "_view_module": "@jupyter-widgets/base",
       "_view_module_version": "2.0.0",
       "_view_name": "LayoutView",
       "align_content": null,
       "align_items": null,
       "align_self": null,
       "border_bottom": null,
       "border_left": null,
       "border_right": null,
       "border_top": null,
       "bottom": null,
       "display": null,
       "flex": null,
       "flex_flow": null,
       "grid_area": null,
       "grid_auto_columns": null,
       "grid_auto_flow": null,
       "grid_auto_rows": null,
       "grid_column": null,
       "grid_gap": null,
       "grid_row": null,
       "grid_template_areas": null,
       "grid_template_columns": null,
       "grid_template_rows": null,
       "height": null,
       "justify_content": null,
       "justify_items": null,
       "left": null,
       "margin": null,
       "max_height": null,
       "max_width": null,
       "min_height": null,
       "min_width": null,
       "object_fit": null,
       "object_position": null,
       "order": null,
       "overflow": null,
       "padding": null,
       "right": null,
       "top": null,
       "visibility": null,
       "width": null
      }
     },
     "4708027a9beb4d7c911d9c66049805c9": {
      "model_module": "@jupyter-widgets/controls",
      "model_module_version": "2.0.0",
      "model_name": "HTMLModel",
      "state": {
       "_dom_classes": [],
       "_model_module": "@jupyter-widgets/controls",
       "_model_module_version": "2.0.0",
       "_model_name": "HTMLModel",
       "_view_count": null,
       "_view_module": "@jupyter-widgets/controls",
       "_view_module_version": "2.0.0",
       "_view_name": "HTMLView",
       "description": "",
       "description_allow_html": false,
       "layout": "IPY_MODEL_702e8a5d66114c7ba16729cfe9a085f9",
       "placeholder": "​",
       "style": "IPY_MODEL_56bb60d2228547caa9e58e527bf4f674",
       "tabbable": null,
       "tooltip": null,
       "value": " 44.0/44.0 [00:00&lt;00:00, 4.42kB/s]"
      }
     },
     "479a2cd8681e48c894e35d28ba3822e8": {
      "model_module": "@jupyter-widgets/base",
      "model_module_version": "2.0.0",
      "model_name": "LayoutModel",
      "state": {
       "_model_module": "@jupyter-widgets/base",
       "_model_module_version": "2.0.0",
       "_model_name": "LayoutModel",
       "_view_count": null,
       "_view_module": "@jupyter-widgets/base",
       "_view_module_version": "2.0.0",
       "_view_name": "LayoutView",
       "align_content": null,
       "align_items": null,
       "align_self": null,
       "border_bottom": null,
       "border_left": null,
       "border_right": null,
       "border_top": null,
       "bottom": null,
       "display": null,
       "flex": null,
       "flex_flow": null,
       "grid_area": null,
       "grid_auto_columns": null,
       "grid_auto_flow": null,
       "grid_auto_rows": null,
       "grid_column": null,
       "grid_gap": null,
       "grid_row": null,
       "grid_template_areas": null,
       "grid_template_columns": null,
       "grid_template_rows": null,
       "height": null,
       "justify_content": null,
       "justify_items": null,
       "left": null,
       "margin": null,
       "max_height": null,
       "max_width": null,
       "min_height": null,
       "min_width": null,
       "object_fit": null,
       "object_position": null,
       "order": null,
       "overflow": null,
       "padding": null,
       "right": null,
       "top": null,
       "visibility": null,
       "width": null
      }
     },
     "487d0b6bb34d40b5bd0e04fc34249aca": {
      "model_module": "@jupyter-widgets/controls",
      "model_module_version": "2.0.0",
      "model_name": "HTMLModel",
      "state": {
       "_dom_classes": [],
       "_model_module": "@jupyter-widgets/controls",
       "_model_module_version": "2.0.0",
       "_model_name": "HTMLModel",
       "_view_count": null,
       "_view_module": "@jupyter-widgets/controls",
       "_view_module_version": "2.0.0",
       "_view_name": "HTMLView",
       "description": "",
       "description_allow_html": false,
       "layout": "IPY_MODEL_09c2aa0bd1f54ff2a80bf40a51dcc5fa",
       "placeholder": "​",
       "style": "IPY_MODEL_379b611c3db94b7e9f548fff2f12a500",
       "tabbable": null,
       "tooltip": null,
       "value": "Map: 100%"
      }
     },
     "49b14a7e5e854a27b54e28992f9d0d05": {
      "model_module": "@jupyter-widgets/controls",
      "model_module_version": "2.0.0",
      "model_name": "FloatProgressModel",
      "state": {
       "_dom_classes": [],
       "_model_module": "@jupyter-widgets/controls",
       "_model_module_version": "2.0.0",
       "_model_name": "FloatProgressModel",
       "_view_count": null,
       "_view_module": "@jupyter-widgets/controls",
       "_view_module_version": "2.0.0",
       "_view_name": "ProgressView",
       "bar_style": "success",
       "description": "",
       "description_allow_html": false,
       "layout": "IPY_MODEL_111bb6646e08470aa29b1ca5272c2101",
       "max": 2423,
       "min": 0,
       "orientation": "horizontal",
       "style": "IPY_MODEL_9f833ba8c1a14a0f9ad72007be2e2b3f",
       "tabbable": null,
       "tooltip": null,
       "value": 2423
      }
     },
     "4b1467e24b8e416c945a67fecf3517d1": {
      "model_module": "@jupyter-widgets/base",
      "model_module_version": "2.0.0",
      "model_name": "LayoutModel",
      "state": {
       "_model_module": "@jupyter-widgets/base",
       "_model_module_version": "2.0.0",
       "_model_name": "LayoutModel",
       "_view_count": null,
       "_view_module": "@jupyter-widgets/base",
       "_view_module_version": "2.0.0",
       "_view_name": "LayoutView",
       "align_content": null,
       "align_items": null,
       "align_self": null,
       "border_bottom": null,
       "border_left": null,
       "border_right": null,
       "border_top": null,
       "bottom": null,
       "display": null,
       "flex": null,
       "flex_flow": null,
       "grid_area": null,
       "grid_auto_columns": null,
       "grid_auto_flow": null,
       "grid_auto_rows": null,
       "grid_column": null,
       "grid_gap": null,
       "grid_row": null,
       "grid_template_areas": null,
       "grid_template_columns": null,
       "grid_template_rows": null,
       "height": null,
       "justify_content": null,
       "justify_items": null,
       "left": null,
       "margin": null,
       "max_height": null,
       "max_width": null,
       "min_height": null,
       "min_width": null,
       "object_fit": null,
       "object_position": null,
       "order": null,
       "overflow": null,
       "padding": null,
       "right": null,
       "top": null,
       "visibility": null,
       "width": null
      }
     },
     "4ff305b82c6b41a48cd4448a0041dd25": {
      "model_module": "@jupyter-widgets/controls",
      "model_module_version": "2.0.0",
      "model_name": "HTMLModel",
      "state": {
       "_dom_classes": [],
       "_model_module": "@jupyter-widgets/controls",
       "_model_module_version": "2.0.0",
       "_model_name": "HTMLModel",
       "_view_count": null,
       "_view_module": "@jupyter-widgets/controls",
       "_view_module_version": "2.0.0",
       "_view_name": "HTMLView",
       "description": "",
       "description_allow_html": false,
       "layout": "IPY_MODEL_1a5a0a4ab0474fad8b7df8a8e0f7405a",
       "placeholder": "​",
       "style": "IPY_MODEL_3dce9d9f3333496ebe96f7d53f5630f1",
       "tabbable": null,
       "tooltip": null,
       "value": " 18719/18719 [00:06&lt;00:00, 2522.74 examples/s]"
      }
     },
     "52e8d0fddffc44fd8c6b0766b0fb53be": {
      "model_module": "@jupyter-widgets/controls",
      "model_module_version": "2.0.0",
      "model_name": "ProgressStyleModel",
      "state": {
       "_model_module": "@jupyter-widgets/controls",
       "_model_module_version": "2.0.0",
       "_model_name": "ProgressStyleModel",
       "_view_count": null,
       "_view_module": "@jupyter-widgets/base",
       "_view_module_version": "2.0.0",
       "_view_name": "StyleView",
       "bar_color": null,
       "description_width": ""
      }
     },
     "54586b0c1a054930a397756eaf480e42": {
      "model_module": "@jupyter-widgets/controls",
      "model_module_version": "2.0.0",
      "model_name": "HTMLStyleModel",
      "state": {
       "_model_module": "@jupyter-widgets/controls",
       "_model_module_version": "2.0.0",
       "_model_name": "HTMLStyleModel",
       "_view_count": null,
       "_view_module": "@jupyter-widgets/base",
       "_view_module_version": "2.0.0",
       "_view_name": "StyleView",
       "background": null,
       "description_width": "",
       "font_size": null,
       "text_color": null
      }
     },
     "56bb60d2228547caa9e58e527bf4f674": {
      "model_module": "@jupyter-widgets/controls",
      "model_module_version": "2.0.0",
      "model_name": "HTMLStyleModel",
      "state": {
       "_model_module": "@jupyter-widgets/controls",
       "_model_module_version": "2.0.0",
       "_model_name": "HTMLStyleModel",
       "_view_count": null,
       "_view_module": "@jupyter-widgets/base",
       "_view_module_version": "2.0.0",
       "_view_name": "StyleView",
       "background": null,
       "description_width": "",
       "font_size": null,
       "text_color": null
      }
     },
     "5c16735528ea4355ac6fd63e43aad375": {
      "model_module": "@jupyter-widgets/controls",
      "model_module_version": "2.0.0",
      "model_name": "HTMLStyleModel",
      "state": {
       "_model_module": "@jupyter-widgets/controls",
       "_model_module_version": "2.0.0",
       "_model_name": "HTMLStyleModel",
       "_view_count": null,
       "_view_module": "@jupyter-widgets/base",
       "_view_module_version": "2.0.0",
       "_view_name": "StyleView",
       "background": null,
       "description_width": "",
       "font_size": null,
       "text_color": null
      }
     },
     "5dab2dd30a8b4dc99e0d9bc0736ec42c": {
      "model_module": "@jupyter-widgets/base",
      "model_module_version": "2.0.0",
      "model_name": "LayoutModel",
      "state": {
       "_model_module": "@jupyter-widgets/base",
       "_model_module_version": "2.0.0",
       "_model_name": "LayoutModel",
       "_view_count": null,
       "_view_module": "@jupyter-widgets/base",
       "_view_module_version": "2.0.0",
       "_view_name": "LayoutView",
       "align_content": null,
       "align_items": null,
       "align_self": null,
       "border_bottom": null,
       "border_left": null,
       "border_right": null,
       "border_top": null,
       "bottom": null,
       "display": null,
       "flex": null,
       "flex_flow": null,
       "grid_area": null,
       "grid_auto_columns": null,
       "grid_auto_flow": null,
       "grid_auto_rows": null,
       "grid_column": null,
       "grid_gap": null,
       "grid_row": null,
       "grid_template_areas": null,
       "grid_template_columns": null,
       "grid_template_rows": null,
       "height": null,
       "justify_content": null,
       "justify_items": null,
       "left": null,
       "margin": null,
       "max_height": null,
       "max_width": null,
       "min_height": null,
       "min_width": null,
       "object_fit": null,
       "object_position": null,
       "order": null,
       "overflow": null,
       "padding": null,
       "right": null,
       "top": null,
       "visibility": null,
       "width": null
      }
     },
     "5e81834315fb4865bfe9886d37ab324c": {
      "model_module": "@jupyter-widgets/base",
      "model_module_version": "2.0.0",
      "model_name": "LayoutModel",
      "state": {
       "_model_module": "@jupyter-widgets/base",
       "_model_module_version": "2.0.0",
       "_model_name": "LayoutModel",
       "_view_count": null,
       "_view_module": "@jupyter-widgets/base",
       "_view_module_version": "2.0.0",
       "_view_name": "LayoutView",
       "align_content": null,
       "align_items": null,
       "align_self": null,
       "border_bottom": null,
       "border_left": null,
       "border_right": null,
       "border_top": null,
       "bottom": null,
       "display": null,
       "flex": null,
       "flex_flow": null,
       "grid_area": null,
       "grid_auto_columns": null,
       "grid_auto_flow": null,
       "grid_auto_rows": null,
       "grid_column": null,
       "grid_gap": null,
       "grid_row": null,
       "grid_template_areas": null,
       "grid_template_columns": null,
       "grid_template_rows": null,
       "height": null,
       "justify_content": null,
       "justify_items": null,
       "left": null,
       "margin": null,
       "max_height": null,
       "max_width": null,
       "min_height": null,
       "min_width": null,
       "object_fit": null,
       "object_position": null,
       "order": null,
       "overflow": null,
       "padding": null,
       "right": null,
       "top": null,
       "visibility": null,
       "width": null
      }
     },
     "5f6f0ad275044e0dad7c84bd5c73bd8c": {
      "model_module": "@jupyter-widgets/base",
      "model_module_version": "2.0.0",
      "model_name": "LayoutModel",
      "state": {
       "_model_module": "@jupyter-widgets/base",
       "_model_module_version": "2.0.0",
       "_model_name": "LayoutModel",
       "_view_count": null,
       "_view_module": "@jupyter-widgets/base",
       "_view_module_version": "2.0.0",
       "_view_name": "LayoutView",
       "align_content": null,
       "align_items": null,
       "align_self": null,
       "border_bottom": null,
       "border_left": null,
       "border_right": null,
       "border_top": null,
       "bottom": null,
       "display": null,
       "flex": null,
       "flex_flow": null,
       "grid_area": null,
       "grid_auto_columns": null,
       "grid_auto_flow": null,
       "grid_auto_rows": null,
       "grid_column": null,
       "grid_gap": null,
       "grid_row": null,
       "grid_template_areas": null,
       "grid_template_columns": null,
       "grid_template_rows": null,
       "height": null,
       "justify_content": null,
       "justify_items": null,
       "left": null,
       "margin": null,
       "max_height": null,
       "max_width": null,
       "min_height": null,
       "min_width": null,
       "object_fit": null,
       "object_position": null,
       "order": null,
       "overflow": null,
       "padding": null,
       "right": null,
       "top": null,
       "visibility": null,
       "width": null
      }
     },
     "6227968d177945a4bf047478f2a6850e": {
      "model_module": "@jupyter-widgets/base",
      "model_module_version": "2.0.0",
      "model_name": "LayoutModel",
      "state": {
       "_model_module": "@jupyter-widgets/base",
       "_model_module_version": "2.0.0",
       "_model_name": "LayoutModel",
       "_view_count": null,
       "_view_module": "@jupyter-widgets/base",
       "_view_module_version": "2.0.0",
       "_view_name": "LayoutView",
       "align_content": null,
       "align_items": null,
       "align_self": null,
       "border_bottom": null,
       "border_left": null,
       "border_right": null,
       "border_top": null,
       "bottom": null,
       "display": null,
       "flex": null,
       "flex_flow": null,
       "grid_area": null,
       "grid_auto_columns": null,
       "grid_auto_flow": null,
       "grid_auto_rows": null,
       "grid_column": null,
       "grid_gap": null,
       "grid_row": null,
       "grid_template_areas": null,
       "grid_template_columns": null,
       "grid_template_rows": null,
       "height": null,
       "justify_content": null,
       "justify_items": null,
       "left": null,
       "margin": null,
       "max_height": null,
       "max_width": null,
       "min_height": null,
       "min_width": null,
       "object_fit": null,
       "object_position": null,
       "order": null,
       "overflow": null,
       "padding": null,
       "right": null,
       "top": null,
       "visibility": null,
       "width": null
      }
     },
     "63211ae6a002494a891eb0492d5e5536": {
      "model_module": "@jupyter-widgets/base",
      "model_module_version": "2.0.0",
      "model_name": "LayoutModel",
      "state": {
       "_model_module": "@jupyter-widgets/base",
       "_model_module_version": "2.0.0",
       "_model_name": "LayoutModel",
       "_view_count": null,
       "_view_module": "@jupyter-widgets/base",
       "_view_module_version": "2.0.0",
       "_view_name": "LayoutView",
       "align_content": null,
       "align_items": null,
       "align_self": null,
       "border_bottom": null,
       "border_left": null,
       "border_right": null,
       "border_top": null,
       "bottom": null,
       "display": null,
       "flex": null,
       "flex_flow": null,
       "grid_area": null,
       "grid_auto_columns": null,
       "grid_auto_flow": null,
       "grid_auto_rows": null,
       "grid_column": null,
       "grid_gap": null,
       "grid_row": null,
       "grid_template_areas": null,
       "grid_template_columns": null,
       "grid_template_rows": null,
       "height": null,
       "justify_content": null,
       "justify_items": null,
       "left": null,
       "margin": null,
       "max_height": null,
       "max_width": null,
       "min_height": null,
       "min_width": null,
       "object_fit": null,
       "object_position": null,
       "order": null,
       "overflow": null,
       "padding": null,
       "right": null,
       "top": null,
       "visibility": null,
       "width": null
      }
     },
     "64d0a77176a34b7299b654c2d47ac38f": {
      "model_module": "@jupyter-widgets/controls",
      "model_module_version": "2.0.0",
      "model_name": "HTMLModel",
      "state": {
       "_dom_classes": [],
       "_model_module": "@jupyter-widgets/controls",
       "_model_module_version": "2.0.0",
       "_model_name": "HTMLModel",
       "_view_count": null,
       "_view_module": "@jupyter-widgets/controls",
       "_view_module_version": "2.0.0",
       "_view_name": "HTMLView",
       "description": "",
       "description_allow_html": false,
       "layout": "IPY_MODEL_9860a761cea4498e85f41366808815f5",
       "placeholder": "​",
       "style": "IPY_MODEL_429487d10dd746979ec76407373308f0",
       "tabbable": null,
       "tooltip": null,
       "value": "model.safetensors: 100%"
      }
     },
     "652a9805b3e24fefbf6143779008027c": {
      "model_module": "@jupyter-widgets/controls",
      "model_module_version": "2.0.0",
      "model_name": "HTMLModel",
      "state": {
       "_dom_classes": [],
       "_model_module": "@jupyter-widgets/controls",
       "_model_module_version": "2.0.0",
       "_model_name": "HTMLModel",
       "_view_count": null,
       "_view_module": "@jupyter-widgets/controls",
       "_view_module_version": "2.0.0",
       "_view_name": "HTMLView",
       "description": "",
       "description_allow_html": false,
       "layout": "IPY_MODEL_5dab2dd30a8b4dc99e0d9bc0736ec42c",
       "placeholder": "​",
       "style": "IPY_MODEL_b15745eed2f143b2a0a88bcba8cca51d",
       "tabbable": null,
       "tooltip": null,
       "value": " 289M/289M [00:12&lt;00:00, 12.0MB/s]"
      }
     },
     "66037bf14e594d4f861b2b962514962c": {
      "model_module": "@jupyter-widgets/base",
      "model_module_version": "2.0.0",
      "model_name": "LayoutModel",
      "state": {
       "_model_module": "@jupyter-widgets/base",
       "_model_module_version": "2.0.0",
       "_model_name": "LayoutModel",
       "_view_count": null,
       "_view_module": "@jupyter-widgets/base",
       "_view_module_version": "2.0.0",
       "_view_name": "LayoutView",
       "align_content": null,
       "align_items": null,
       "align_self": null,
       "border_bottom": null,
       "border_left": null,
       "border_right": null,
       "border_top": null,
       "bottom": null,
       "display": null,
       "flex": null,
       "flex_flow": null,
       "grid_area": null,
       "grid_auto_columns": null,
       "grid_auto_flow": null,
       "grid_auto_rows": null,
       "grid_column": null,
       "grid_gap": null,
       "grid_row": null,
       "grid_template_areas": null,
       "grid_template_columns": null,
       "grid_template_rows": null,
       "height": null,
       "justify_content": null,
       "justify_items": null,
       "left": null,
       "margin": null,
       "max_height": null,
       "max_width": null,
       "min_height": null,
       "min_width": null,
       "object_fit": null,
       "object_position": null,
       "order": null,
       "overflow": null,
       "padding": null,
       "right": null,
       "top": null,
       "visibility": null,
       "width": null
      }
     },
     "6690e588c68b4ab5bbb39d95a71cbc19": {
      "model_module": "@jupyter-widgets/base",
      "model_module_version": "2.0.0",
      "model_name": "LayoutModel",
      "state": {
       "_model_module": "@jupyter-widgets/base",
       "_model_module_version": "2.0.0",
       "_model_name": "LayoutModel",
       "_view_count": null,
       "_view_module": "@jupyter-widgets/base",
       "_view_module_version": "2.0.0",
       "_view_name": "LayoutView",
       "align_content": null,
       "align_items": null,
       "align_self": null,
       "border_bottom": null,
       "border_left": null,
       "border_right": null,
       "border_top": null,
       "bottom": null,
       "display": null,
       "flex": null,
       "flex_flow": null,
       "grid_area": null,
       "grid_auto_columns": null,
       "grid_auto_flow": null,
       "grid_auto_rows": null,
       "grid_column": null,
       "grid_gap": null,
       "grid_row": null,
       "grid_template_areas": null,
       "grid_template_columns": null,
       "grid_template_rows": null,
       "height": null,
       "justify_content": null,
       "justify_items": null,
       "left": null,
       "margin": null,
       "max_height": null,
       "max_width": null,
       "min_height": null,
       "min_width": null,
       "object_fit": null,
       "object_position": null,
       "order": null,
       "overflow": null,
       "padding": null,
       "right": null,
       "top": null,
       "visibility": null,
       "width": null
      }
     },
     "67fd08aa4a40424aaaf2d37513c6b704": {
      "model_module": "@jupyter-widgets/controls",
      "model_module_version": "2.0.0",
      "model_name": "HBoxModel",
      "state": {
       "_dom_classes": [],
       "_model_module": "@jupyter-widgets/controls",
       "_model_module_version": "2.0.0",
       "_model_name": "HBoxModel",
       "_view_count": null,
       "_view_module": "@jupyter-widgets/controls",
       "_view_module_version": "2.0.0",
       "_view_name": "HBoxView",
       "box_style": "",
       "children": [
        "IPY_MODEL_e023f3a03eff4c19a287c319a953fa83",
        "IPY_MODEL_49b14a7e5e854a27b54e28992f9d0d05",
        "IPY_MODEL_8599535f635b4402b08fc6df42b49a6b"
       ],
       "layout": "IPY_MODEL_63211ae6a002494a891eb0492d5e5536",
       "tabbable": null,
       "tooltip": null
      }
     },
     "681ef3e116504054a460f0270590335b": {
      "model_module": "@jupyter-widgets/controls",
      "model_module_version": "2.0.0",
      "model_name": "HTMLStyleModel",
      "state": {
       "_model_module": "@jupyter-widgets/controls",
       "_model_module_version": "2.0.0",
       "_model_name": "HTMLStyleModel",
       "_view_count": null,
       "_view_module": "@jupyter-widgets/base",
       "_view_module_version": "2.0.0",
       "_view_name": "StyleView",
       "background": null,
       "description_width": "",
       "font_size": null,
       "text_color": null
      }
     },
     "687f52b66ad448c78c51d97e9064aad5": {
      "model_module": "@jupyter-widgets/base",
      "model_module_version": "2.0.0",
      "model_name": "LayoutModel",
      "state": {
       "_model_module": "@jupyter-widgets/base",
       "_model_module_version": "2.0.0",
       "_model_name": "LayoutModel",
       "_view_count": null,
       "_view_module": "@jupyter-widgets/base",
       "_view_module_version": "2.0.0",
       "_view_name": "LayoutView",
       "align_content": null,
       "align_items": null,
       "align_self": null,
       "border_bottom": null,
       "border_left": null,
       "border_right": null,
       "border_top": null,
       "bottom": null,
       "display": null,
       "flex": null,
       "flex_flow": null,
       "grid_area": null,
       "grid_auto_columns": null,
       "grid_auto_flow": null,
       "grid_auto_rows": null,
       "grid_column": null,
       "grid_gap": null,
       "grid_row": null,
       "grid_template_areas": null,
       "grid_template_columns": null,
       "grid_template_rows": null,
       "height": null,
       "justify_content": null,
       "justify_items": null,
       "left": null,
       "margin": null,
       "max_height": null,
       "max_width": null,
       "min_height": null,
       "min_width": null,
       "object_fit": null,
       "object_position": null,
       "order": null,
       "overflow": null,
       "padding": null,
       "right": null,
       "top": null,
       "visibility": null,
       "width": null
      }
     },
     "6c01312c9bea4e8cb029569f25a1cbb0": {
      "model_module": "@jupyter-widgets/controls",
      "model_module_version": "2.0.0",
      "model_name": "HBoxModel",
      "state": {
       "_dom_classes": [],
       "_model_module": "@jupyter-widgets/controls",
       "_model_module_version": "2.0.0",
       "_model_name": "HBoxModel",
       "_view_count": null,
       "_view_module": "@jupyter-widgets/controls",
       "_view_module_version": "2.0.0",
       "_view_name": "HBoxView",
       "box_style": "",
       "children": [
        "IPY_MODEL_895c553599e2417d9045b9fff6312e53",
        "IPY_MODEL_aae4b1749eca448a838588ddfc01c811",
        "IPY_MODEL_acf3a645033f44648b8a7397f81aaa70"
       ],
       "layout": "IPY_MODEL_97f2d02c327e4f7cb5ab13aa88bc14bc",
       "tabbable": null,
       "tooltip": null
      }
     },
     "6caea527d968495dbdebd760a153cea8": {
      "model_module": "@jupyter-widgets/controls",
      "model_module_version": "2.0.0",
      "model_name": "HTMLStyleModel",
      "state": {
       "_model_module": "@jupyter-widgets/controls",
       "_model_module_version": "2.0.0",
       "_model_name": "HTMLStyleModel",
       "_view_count": null,
       "_view_module": "@jupyter-widgets/base",
       "_view_module_version": "2.0.0",
       "_view_name": "StyleView",
       "background": null,
       "description_width": "",
       "font_size": null,
       "text_color": null
      }
     },
     "702e8a5d66114c7ba16729cfe9a085f9": {
      "model_module": "@jupyter-widgets/base",
      "model_module_version": "2.0.0",
      "model_name": "LayoutModel",
      "state": {
       "_model_module": "@jupyter-widgets/base",
       "_model_module_version": "2.0.0",
       "_model_name": "LayoutModel",
       "_view_count": null,
       "_view_module": "@jupyter-widgets/base",
       "_view_module_version": "2.0.0",
       "_view_name": "LayoutView",
       "align_content": null,
       "align_items": null,
       "align_self": null,
       "border_bottom": null,
       "border_left": null,
       "border_right": null,
       "border_top": null,
       "bottom": null,
       "display": null,
       "flex": null,
       "flex_flow": null,
       "grid_area": null,
       "grid_auto_columns": null,
       "grid_auto_flow": null,
       "grid_auto_rows": null,
       "grid_column": null,
       "grid_gap": null,
       "grid_row": null,
       "grid_template_areas": null,
       "grid_template_columns": null,
       "grid_template_rows": null,
       "height": null,
       "justify_content": null,
       "justify_items": null,
       "left": null,
       "margin": null,
       "max_height": null,
       "max_width": null,
       "min_height": null,
       "min_width": null,
       "object_fit": null,
       "object_position": null,
       "order": null,
       "overflow": null,
       "padding": null,
       "right": null,
       "top": null,
       "visibility": null,
       "width": null
      }
     },
     "70c1d111ade44b27ab7356728d027e4d": {
      "model_module": "@jupyter-widgets/controls",
      "model_module_version": "2.0.0",
      "model_name": "HTMLStyleModel",
      "state": {
       "_model_module": "@jupyter-widgets/controls",
       "_model_module_version": "2.0.0",
       "_model_name": "HTMLStyleModel",
       "_view_count": null,
       "_view_module": "@jupyter-widgets/base",
       "_view_module_version": "2.0.0",
       "_view_name": "StyleView",
       "background": null,
       "description_width": "",
       "font_size": null,
       "text_color": null
      }
     },
     "72e59a5f466c48e9ae050400660d56c0": {
      "model_module": "@jupyter-widgets/base",
      "model_module_version": "2.0.0",
      "model_name": "LayoutModel",
      "state": {
       "_model_module": "@jupyter-widgets/base",
       "_model_module_version": "2.0.0",
       "_model_name": "LayoutModel",
       "_view_count": null,
       "_view_module": "@jupyter-widgets/base",
       "_view_module_version": "2.0.0",
       "_view_name": "LayoutView",
       "align_content": null,
       "align_items": null,
       "align_self": null,
       "border_bottom": null,
       "border_left": null,
       "border_right": null,
       "border_top": null,
       "bottom": null,
       "display": null,
       "flex": null,
       "flex_flow": null,
       "grid_area": null,
       "grid_auto_columns": null,
       "grid_auto_flow": null,
       "grid_auto_rows": null,
       "grid_column": null,
       "grid_gap": null,
       "grid_row": null,
       "grid_template_areas": null,
       "grid_template_columns": null,
       "grid_template_rows": null,
       "height": null,
       "justify_content": null,
       "justify_items": null,
       "left": null,
       "margin": null,
       "max_height": null,
       "max_width": null,
       "min_height": null,
       "min_width": null,
       "object_fit": null,
       "object_position": null,
       "order": null,
       "overflow": null,
       "padding": null,
       "right": null,
       "top": null,
       "visibility": null,
       "width": null
      }
     },
     "7653040bdc7a4d5da4634117beae83c8": {
      "model_module": "@jupyter-widgets/controls",
      "model_module_version": "2.0.0",
      "model_name": "HTMLStyleModel",
      "state": {
       "_model_module": "@jupyter-widgets/controls",
       "_model_module_version": "2.0.0",
       "_model_name": "HTMLStyleModel",
       "_view_count": null,
       "_view_module": "@jupyter-widgets/base",
       "_view_module_version": "2.0.0",
       "_view_name": "StyleView",
       "background": null,
       "description_width": "",
       "font_size": null,
       "text_color": null
      }
     },
     "787b737221f04dd9848b62af0f87db0d": {
      "model_module": "@jupyter-widgets/controls",
      "model_module_version": "2.0.0",
      "model_name": "ProgressStyleModel",
      "state": {
       "_model_module": "@jupyter-widgets/controls",
       "_model_module_version": "2.0.0",
       "_model_name": "ProgressStyleModel",
       "_view_count": null,
       "_view_module": "@jupyter-widgets/base",
       "_view_module_version": "2.0.0",
       "_view_name": "StyleView",
       "bar_color": null,
       "description_width": ""
      }
     },
     "7914ca02bd8a46d2acaa6e260bdaa2b7": {
      "model_module": "@jupyter-widgets/controls",
      "model_module_version": "2.0.0",
      "model_name": "HTMLStyleModel",
      "state": {
       "_model_module": "@jupyter-widgets/controls",
       "_model_module_version": "2.0.0",
       "_model_name": "HTMLStyleModel",
       "_view_count": null,
       "_view_module": "@jupyter-widgets/base",
       "_view_module_version": "2.0.0",
       "_view_name": "StyleView",
       "background": null,
       "description_width": "",
       "font_size": null,
       "text_color": null
      }
     },
     "7c22c1ee4bd744ad8895353b2f3d8567": {
      "model_module": "@jupyter-widgets/controls",
      "model_module_version": "2.0.0",
      "model_name": "ProgressStyleModel",
      "state": {
       "_model_module": "@jupyter-widgets/controls",
       "_model_module_version": "2.0.0",
       "_model_name": "ProgressStyleModel",
       "_view_count": null,
       "_view_module": "@jupyter-widgets/base",
       "_view_module_version": "2.0.0",
       "_view_name": "StyleView",
       "bar_color": null,
       "description_width": ""
      }
     },
     "7d66e8a9671f4cfabe2c829a16c00b91": {
      "model_module": "@jupyter-widgets/controls",
      "model_module_version": "2.0.0",
      "model_name": "HTMLStyleModel",
      "state": {
       "_model_module": "@jupyter-widgets/controls",
       "_model_module_version": "2.0.0",
       "_model_name": "HTMLStyleModel",
       "_view_count": null,
       "_view_module": "@jupyter-widgets/base",
       "_view_module_version": "2.0.0",
       "_view_name": "StyleView",
       "background": null,
       "description_width": "",
       "font_size": null,
       "text_color": null
      }
     },
     "7f76d4cb5c004ef09d5d54239c37a9d7": {
      "model_module": "@jupyter-widgets/controls",
      "model_module_version": "2.0.0",
      "model_name": "HBoxModel",
      "state": {
       "_dom_classes": [],
       "_model_module": "@jupyter-widgets/controls",
       "_model_module_version": "2.0.0",
       "_model_name": "HBoxModel",
       "_view_count": null,
       "_view_module": "@jupyter-widgets/controls",
       "_view_module_version": "2.0.0",
       "_view_name": "HBoxView",
       "box_style": "",
       "children": [
        "IPY_MODEL_046d83ff7f1b4ae8accb494ffe450d84",
        "IPY_MODEL_f6e4911ea35446938cd0ffdd3a6f6f10",
        "IPY_MODEL_4708027a9beb4d7c911d9c66049805c9"
       ],
       "layout": "IPY_MODEL_479a2cd8681e48c894e35d28ba3822e8",
       "tabbable": null,
       "tooltip": null
      }
     },
     "80878b52b36c4febb6160b71b407c450": {
      "model_module": "@jupyter-widgets/controls",
      "model_module_version": "2.0.0",
      "model_name": "FloatProgressModel",
      "state": {
       "_dom_classes": [],
       "_model_module": "@jupyter-widgets/controls",
       "_model_module_version": "2.0.0",
       "_model_name": "FloatProgressModel",
       "_view_count": null,
       "_view_module": "@jupyter-widgets/controls",
       "_view_module_version": "2.0.0",
       "_view_name": "ProgressView",
       "bar_style": "success",
       "description": "",
       "description_allow_html": false,
       "layout": "IPY_MODEL_fc845d75a2474cdd95d6bd9012c31c42",
       "max": 1000,
       "min": 0,
       "orientation": "horizontal",
       "style": "IPY_MODEL_a2548a3e91f54b16ab25132229579d75",
       "tabbable": null,
       "tooltip": null,
       "value": 1000
      }
     },
     "8599535f635b4402b08fc6df42b49a6b": {
      "model_module": "@jupyter-widgets/controls",
      "model_module_version": "2.0.0",
      "model_name": "HTMLModel",
      "state": {
       "_dom_classes": [],
       "_model_module": "@jupyter-widgets/controls",
       "_model_module_version": "2.0.0",
       "_model_name": "HTMLModel",
       "_view_count": null,
       "_view_module": "@jupyter-widgets/controls",
       "_view_module_version": "2.0.0",
       "_view_name": "HTMLView",
       "description": "",
       "description_allow_html": false,
       "layout": "IPY_MODEL_c031f6ccb44b4a1e8160830ab1bbf7da",
       "placeholder": "​",
       "style": "IPY_MODEL_d8857e5815cc44598f0dd4b751b09349",
       "tabbable": null,
       "tooltip": null,
       "value": " 2423/2423 [00:01&lt;00:00, 1919.75 examples/s]"
      }
     },
     "895c553599e2417d9045b9fff6312e53": {
      "model_module": "@jupyter-widgets/controls",
      "model_module_version": "2.0.0",
      "model_name": "HTMLModel",
      "state": {
       "_dom_classes": [],
       "_model_module": "@jupyter-widgets/controls",
       "_model_module_version": "2.0.0",
       "_model_name": "HTMLModel",
       "_view_count": null,
       "_view_module": "@jupyter-widgets/controls",
       "_view_module_version": "2.0.0",
       "_view_name": "HTMLView",
       "description": "",
       "description_allow_html": false,
       "layout": "IPY_MODEL_dae4c0ad673d4ceabc5dd5f8df17dd6a",
       "placeholder": "​",
       "style": "IPY_MODEL_8df3708e47254a15bef12f81ce6b5175",
       "tabbable": null,
       "tooltip": null,
       "value": "config.json: 100%"
      }
     },
     "89b8a8f3b37d423fae8da2cd65f84637": {
      "model_module": "@jupyter-widgets/controls",
      "model_module_version": "2.0.0",
      "model_name": "HTMLModel",
      "state": {
       "_dom_classes": [],
       "_model_module": "@jupyter-widgets/controls",
       "_model_module_version": "2.0.0",
       "_model_name": "HTMLModel",
       "_view_count": null,
       "_view_module": "@jupyter-widgets/controls",
       "_view_module_version": "2.0.0",
       "_view_name": "HTMLView",
       "description": "",
       "description_allow_html": false,
       "layout": "IPY_MODEL_9824b7c8e9ae4cc4aec41c349abce3c4",
       "placeholder": "​",
       "style": "IPY_MODEL_21c20a2e66e74d1bbc3a9a031ddb2520",
       "tabbable": null,
       "tooltip": null,
       "value": "pytorch_model.bin: 100%"
      }
     },
     "8a709a55d72a474098c37089ae4ee9e0": {
      "model_module": "@jupyter-widgets/base",
      "model_module_version": "2.0.0",
      "model_name": "LayoutModel",
      "state": {
       "_model_module": "@jupyter-widgets/base",
       "_model_module_version": "2.0.0",
       "_model_name": "LayoutModel",
       "_view_count": null,
       "_view_module": "@jupyter-widgets/base",
       "_view_module_version": "2.0.0",
       "_view_name": "LayoutView",
       "align_content": null,
       "align_items": null,
       "align_self": null,
       "border_bottom": null,
       "border_left": null,
       "border_right": null,
       "border_top": null,
       "bottom": null,
       "display": null,
       "flex": null,
       "flex_flow": null,
       "grid_area": null,
       "grid_auto_columns": null,
       "grid_auto_flow": null,
       "grid_auto_rows": null,
       "grid_column": null,
       "grid_gap": null,
       "grid_row": null,
       "grid_template_areas": null,
       "grid_template_columns": null,
       "grid_template_rows": null,
       "height": null,
       "justify_content": null,
       "justify_items": null,
       "left": null,
       "margin": null,
       "max_height": null,
       "max_width": null,
       "min_height": null,
       "min_width": null,
       "object_fit": null,
       "object_position": null,
       "order": null,
       "overflow": null,
       "padding": null,
       "right": null,
       "top": null,
       "visibility": null,
       "width": null
      }
     },
     "8df3708e47254a15bef12f81ce6b5175": {
      "model_module": "@jupyter-widgets/controls",
      "model_module_version": "2.0.0",
      "model_name": "HTMLStyleModel",
      "state": {
       "_model_module": "@jupyter-widgets/controls",
       "_model_module_version": "2.0.0",
       "_model_name": "HTMLStyleModel",
       "_view_count": null,
       "_view_module": "@jupyter-widgets/base",
       "_view_module_version": "2.0.0",
       "_view_name": "StyleView",
       "background": null,
       "description_width": "",
       "font_size": null,
       "text_color": null
      }
     },
     "903a1e376d6c43a9b9fc1438a497c8fa": {
      "model_module": "@jupyter-widgets/controls",
      "model_module_version": "2.0.0",
      "model_name": "HBoxModel",
      "state": {
       "_dom_classes": [],
       "_model_module": "@jupyter-widgets/controls",
       "_model_module_version": "2.0.0",
       "_model_name": "HBoxModel",
       "_view_count": null,
       "_view_module": "@jupyter-widgets/controls",
       "_view_module_version": "2.0.0",
       "_view_name": "HBoxView",
       "box_style": "",
       "children": [
        "IPY_MODEL_487d0b6bb34d40b5bd0e04fc34249aca",
        "IPY_MODEL_998e8c7988704f07a6403a4302b383b1",
        "IPY_MODEL_4ff305b82c6b41a48cd4448a0041dd25"
       ],
       "layout": "IPY_MODEL_66037bf14e594d4f861b2b962514962c",
       "tabbable": null,
       "tooltip": null
      }
     },
     "97f2d02c327e4f7cb5ab13aa88bc14bc": {
      "model_module": "@jupyter-widgets/base",
      "model_module_version": "2.0.0",
      "model_name": "LayoutModel",
      "state": {
       "_model_module": "@jupyter-widgets/base",
       "_model_module_version": "2.0.0",
       "_model_name": "LayoutModel",
       "_view_count": null,
       "_view_module": "@jupyter-widgets/base",
       "_view_module_version": "2.0.0",
       "_view_name": "LayoutView",
       "align_content": null,
       "align_items": null,
       "align_self": null,
       "border_bottom": null,
       "border_left": null,
       "border_right": null,
       "border_top": null,
       "bottom": null,
       "display": null,
       "flex": null,
       "flex_flow": null,
       "grid_area": null,
       "grid_auto_columns": null,
       "grid_auto_flow": null,
       "grid_auto_rows": null,
       "grid_column": null,
       "grid_gap": null,
       "grid_row": null,
       "grid_template_areas": null,
       "grid_template_columns": null,
       "grid_template_rows": null,
       "height": null,
       "justify_content": null,
       "justify_items": null,
       "left": null,
       "margin": null,
       "max_height": null,
       "max_width": null,
       "min_height": null,
       "min_width": null,
       "object_fit": null,
       "object_position": null,
       "order": null,
       "overflow": null,
       "padding": null,
       "right": null,
       "top": null,
       "visibility": null,
       "width": null
      }
     },
     "9824b7c8e9ae4cc4aec41c349abce3c4": {
      "model_module": "@jupyter-widgets/base",
      "model_module_version": "2.0.0",
      "model_name": "LayoutModel",
      "state": {
       "_model_module": "@jupyter-widgets/base",
       "_model_module_version": "2.0.0",
       "_model_name": "LayoutModel",
       "_view_count": null,
       "_view_module": "@jupyter-widgets/base",
       "_view_module_version": "2.0.0",
       "_view_name": "LayoutView",
       "align_content": null,
       "align_items": null,
       "align_self": null,
       "border_bottom": null,
       "border_left": null,
       "border_right": null,
       "border_top": null,
       "bottom": null,
       "display": null,
       "flex": null,
       "flex_flow": null,
       "grid_area": null,
       "grid_auto_columns": null,
       "grid_auto_flow": null,
       "grid_auto_rows": null,
       "grid_column": null,
       "grid_gap": null,
       "grid_row": null,
       "grid_template_areas": null,
       "grid_template_columns": null,
       "grid_template_rows": null,
       "height": null,
       "justify_content": null,
       "justify_items": null,
       "left": null,
       "margin": null,
       "max_height": null,
       "max_width": null,
       "min_height": null,
       "min_width": null,
       "object_fit": null,
       "object_position": null,
       "order": null,
       "overflow": null,
       "padding": null,
       "right": null,
       "top": null,
       "visibility": null,
       "width": null
      }
     },
     "984f1fe3ddd84cce9348b2791b4b03ee": {
      "model_module": "@jupyter-widgets/controls",
      "model_module_version": "2.0.0",
      "model_name": "HTMLModel",
      "state": {
       "_dom_classes": [],
       "_model_module": "@jupyter-widgets/controls",
       "_model_module_version": "2.0.0",
       "_model_name": "HTMLModel",
       "_view_count": null,
       "_view_module": "@jupyter-widgets/controls",
       "_view_module_version": "2.0.0",
       "_view_name": "HTMLView",
       "description": "",
       "description_allow_html": false,
       "layout": "IPY_MODEL_31e08780bc17422c8209ad72fabc066e",
       "placeholder": "​",
       "style": "IPY_MODEL_7914ca02bd8a46d2acaa6e260bdaa2b7",
       "tabbable": null,
       "tooltip": null,
       "value": "Map: 100%"
      }
     },
     "9860a761cea4498e85f41366808815f5": {
      "model_module": "@jupyter-widgets/base",
      "model_module_version": "2.0.0",
      "model_name": "LayoutModel",
      "state": {
       "_model_module": "@jupyter-widgets/base",
       "_model_module_version": "2.0.0",
       "_model_name": "LayoutModel",
       "_view_count": null,
       "_view_module": "@jupyter-widgets/base",
       "_view_module_version": "2.0.0",
       "_view_name": "LayoutView",
       "align_content": null,
       "align_items": null,
       "align_self": null,
       "border_bottom": null,
       "border_left": null,
       "border_right": null,
       "border_top": null,
       "bottom": null,
       "display": null,
       "flex": null,
       "flex_flow": null,
       "grid_area": null,
       "grid_auto_columns": null,
       "grid_auto_flow": null,
       "grid_auto_rows": null,
       "grid_column": null,
       "grid_gap": null,
       "grid_row": null,
       "grid_template_areas": null,
       "grid_template_columns": null,
       "grid_template_rows": null,
       "height": null,
       "justify_content": null,
       "justify_items": null,
       "left": null,
       "margin": null,
       "max_height": null,
       "max_width": null,
       "min_height": null,
       "min_width": null,
       "object_fit": null,
       "object_position": null,
       "order": null,
       "overflow": null,
       "padding": null,
       "right": null,
       "top": null,
       "visibility": null,
       "width": null
      }
     },
     "998e8c7988704f07a6403a4302b383b1": {
      "model_module": "@jupyter-widgets/controls",
      "model_module_version": "2.0.0",
      "model_name": "FloatProgressModel",
      "state": {
       "_dom_classes": [],
       "_model_module": "@jupyter-widgets/controls",
       "_model_module_version": "2.0.0",
       "_model_name": "FloatProgressModel",
       "_view_count": null,
       "_view_module": "@jupyter-widgets/controls",
       "_view_module_version": "2.0.0",
       "_view_name": "ProgressView",
       "bar_style": "success",
       "description": "",
       "description_allow_html": false,
       "layout": "IPY_MODEL_fc1fb7d435014a26b52e1ec4c10dc261",
       "max": 18719,
       "min": 0,
       "orientation": "horizontal",
       "style": "IPY_MODEL_c66f7f5de8a246b492970cddeaefc4f1",
       "tabbable": null,
       "tooltip": null,
       "value": 18719
      }
     },
     "99f8b85a0a254a44822f1bf14226fea9": {
      "model_module": "@jupyter-widgets/controls",
      "model_module_version": "2.0.0",
      "model_name": "ProgressStyleModel",
      "state": {
       "_model_module": "@jupyter-widgets/controls",
       "_model_module_version": "2.0.0",
       "_model_name": "ProgressStyleModel",
       "_view_count": null,
       "_view_module": "@jupyter-widgets/base",
       "_view_module_version": "2.0.0",
       "_view_name": "StyleView",
       "bar_color": null,
       "description_width": ""
      }
     },
     "9b69ee57bb2a4fc3be20f901fa698597": {
      "model_module": "@jupyter-widgets/base",
      "model_module_version": "2.0.0",
      "model_name": "LayoutModel",
      "state": {
       "_model_module": "@jupyter-widgets/base",
       "_model_module_version": "2.0.0",
       "_model_name": "LayoutModel",
       "_view_count": null,
       "_view_module": "@jupyter-widgets/base",
       "_view_module_version": "2.0.0",
       "_view_name": "LayoutView",
       "align_content": null,
       "align_items": null,
       "align_self": null,
       "border_bottom": null,
       "border_left": null,
       "border_right": null,
       "border_top": null,
       "bottom": null,
       "display": null,
       "flex": null,
       "flex_flow": null,
       "grid_area": null,
       "grid_auto_columns": null,
       "grid_auto_flow": null,
       "grid_auto_rows": null,
       "grid_column": null,
       "grid_gap": null,
       "grid_row": null,
       "grid_template_areas": null,
       "grid_template_columns": null,
       "grid_template_rows": null,
       "height": null,
       "justify_content": null,
       "justify_items": null,
       "left": null,
       "margin": null,
       "max_height": null,
       "max_width": null,
       "min_height": null,
       "min_width": null,
       "object_fit": null,
       "object_position": null,
       "order": null,
       "overflow": null,
       "padding": null,
       "right": null,
       "top": null,
       "visibility": null,
       "width": null
      }
     },
     "9b9dd056e2964799b4229befedb393c0": {
      "model_module": "@jupyter-widgets/controls",
      "model_module_version": "2.0.0",
      "model_name": "HBoxModel",
      "state": {
       "_dom_classes": [],
       "_model_module": "@jupyter-widgets/controls",
       "_model_module_version": "2.0.0",
       "_model_name": "HBoxModel",
       "_view_count": null,
       "_view_module": "@jupyter-widgets/controls",
       "_view_module_version": "2.0.0",
       "_view_name": "HBoxView",
       "box_style": "",
       "children": [
        "IPY_MODEL_acec1022cf5c4b3795c43db40bdd20cd",
        "IPY_MODEL_c3ecddf763e94f06b3454687e74dbc12",
        "IPY_MODEL_f6bb67d769954ca68f543ba624fd1771"
       ],
       "layout": "IPY_MODEL_8a709a55d72a474098c37089ae4ee9e0",
       "tabbable": null,
       "tooltip": null
      }
     },
     "9bbc1e720a1441acafa57dd8a938a79c": {
      "model_module": "@jupyter-widgets/controls",
      "model_module_version": "2.0.0",
      "model_name": "FloatProgressModel",
      "state": {
       "_dom_classes": [],
       "_model_module": "@jupyter-widgets/controls",
       "_model_module_version": "2.0.0",
       "_model_name": "FloatProgressModel",
       "_view_count": null,
       "_view_module": "@jupyter-widgets/controls",
       "_view_module_version": "2.0.0",
       "_view_name": "ProgressView",
       "bar_style": "success",
       "description": "",
       "description_allow_html": false,
       "layout": "IPY_MODEL_4b1467e24b8e416c945a67fecf3517d1",
       "max": 293,
       "min": 0,
       "orientation": "horizontal",
       "style": "IPY_MODEL_7c22c1ee4bd744ad8895353b2f3d8567",
       "tabbable": null,
       "tooltip": null,
       "value": 293
      }
     },
     "9c666f18ef6b472cb212a101fe92a901": {
      "model_module": "@jupyter-widgets/base",
      "model_module_version": "2.0.0",
      "model_name": "LayoutModel",
      "state": {
       "_model_module": "@jupyter-widgets/base",
       "_model_module_version": "2.0.0",
       "_model_name": "LayoutModel",
       "_view_count": null,
       "_view_module": "@jupyter-widgets/base",
       "_view_module_version": "2.0.0",
       "_view_name": "LayoutView",
       "align_content": null,
       "align_items": null,
       "align_self": null,
       "border_bottom": null,
       "border_left": null,
       "border_right": null,
       "border_top": null,
       "bottom": null,
       "display": null,
       "flex": null,
       "flex_flow": null,
       "grid_area": null,
       "grid_auto_columns": null,
       "grid_auto_flow": null,
       "grid_auto_rows": null,
       "grid_column": null,
       "grid_gap": null,
       "grid_row": null,
       "grid_template_areas": null,
       "grid_template_columns": null,
       "grid_template_rows": null,
       "height": null,
       "justify_content": null,
       "justify_items": null,
       "left": null,
       "margin": null,
       "max_height": null,
       "max_width": null,
       "min_height": null,
       "min_width": null,
       "object_fit": null,
       "object_position": null,
       "order": null,
       "overflow": null,
       "padding": null,
       "right": null,
       "top": null,
       "visibility": null,
       "width": null
      }
     },
     "9ca8ee665eea4bf7835dac024e8fcf1a": {
      "model_module": "@jupyter-widgets/base",
      "model_module_version": "2.0.0",
      "model_name": "LayoutModel",
      "state": {
       "_model_module": "@jupyter-widgets/base",
       "_model_module_version": "2.0.0",
       "_model_name": "LayoutModel",
       "_view_count": null,
       "_view_module": "@jupyter-widgets/base",
       "_view_module_version": "2.0.0",
       "_view_name": "LayoutView",
       "align_content": null,
       "align_items": null,
       "align_self": null,
       "border_bottom": null,
       "border_left": null,
       "border_right": null,
       "border_top": null,
       "bottom": null,
       "display": null,
       "flex": null,
       "flex_flow": null,
       "grid_area": null,
       "grid_auto_columns": null,
       "grid_auto_flow": null,
       "grid_auto_rows": null,
       "grid_column": null,
       "grid_gap": null,
       "grid_row": null,
       "grid_template_areas": null,
       "grid_template_columns": null,
       "grid_template_rows": null,
       "height": null,
       "justify_content": null,
       "justify_items": null,
       "left": null,
       "margin": null,
       "max_height": null,
       "max_width": null,
       "min_height": null,
       "min_width": null,
       "object_fit": null,
       "object_position": null,
       "order": null,
       "overflow": null,
       "padding": null,
       "right": null,
       "top": null,
       "visibility": null,
       "width": null
      }
     },
     "9f833ba8c1a14a0f9ad72007be2e2b3f": {
      "model_module": "@jupyter-widgets/controls",
      "model_module_version": "2.0.0",
      "model_name": "ProgressStyleModel",
      "state": {
       "_model_module": "@jupyter-widgets/controls",
       "_model_module_version": "2.0.0",
       "_model_name": "ProgressStyleModel",
       "_view_count": null,
       "_view_module": "@jupyter-widgets/base",
       "_view_module_version": "2.0.0",
       "_view_name": "StyleView",
       "bar_color": null,
       "description_width": ""
      }
     },
     "a2548a3e91f54b16ab25132229579d75": {
      "model_module": "@jupyter-widgets/controls",
      "model_module_version": "2.0.0",
      "model_name": "ProgressStyleModel",
      "state": {
       "_model_module": "@jupyter-widgets/controls",
       "_model_module_version": "2.0.0",
       "_model_name": "ProgressStyleModel",
       "_view_count": null,
       "_view_module": "@jupyter-widgets/base",
       "_view_module_version": "2.0.0",
       "_view_name": "StyleView",
       "bar_color": null,
       "description_width": ""
      }
     },
     "a364dda330ae4a35901150a417977517": {
      "model_module": "@jupyter-widgets/controls",
      "model_module_version": "2.0.0",
      "model_name": "HTMLStyleModel",
      "state": {
       "_model_module": "@jupyter-widgets/controls",
       "_model_module_version": "2.0.0",
       "_model_name": "HTMLStyleModel",
       "_view_count": null,
       "_view_module": "@jupyter-widgets/base",
       "_view_module_version": "2.0.0",
       "_view_name": "StyleView",
       "background": null,
       "description_width": "",
       "font_size": null,
       "text_color": null
      }
     },
     "aa21e021edf04868893482deb8bdc8ca": {
      "model_module": "@jupyter-widgets/base",
      "model_module_version": "2.0.0",
      "model_name": "LayoutModel",
      "state": {
       "_model_module": "@jupyter-widgets/base",
       "_model_module_version": "2.0.0",
       "_model_name": "LayoutModel",
       "_view_count": null,
       "_view_module": "@jupyter-widgets/base",
       "_view_module_version": "2.0.0",
       "_view_name": "LayoutView",
       "align_content": null,
       "align_items": null,
       "align_self": null,
       "border_bottom": null,
       "border_left": null,
       "border_right": null,
       "border_top": null,
       "bottom": null,
       "display": null,
       "flex": null,
       "flex_flow": null,
       "grid_area": null,
       "grid_auto_columns": null,
       "grid_auto_flow": null,
       "grid_auto_rows": null,
       "grid_column": null,
       "grid_gap": null,
       "grid_row": null,
       "grid_template_areas": null,
       "grid_template_columns": null,
       "grid_template_rows": null,
       "height": null,
       "justify_content": null,
       "justify_items": null,
       "left": null,
       "margin": null,
       "max_height": null,
       "max_width": null,
       "min_height": null,
       "min_width": null,
       "object_fit": null,
       "object_position": null,
       "order": null,
       "overflow": null,
       "padding": null,
       "right": null,
       "top": null,
       "visibility": null,
       "width": null
      }
     },
     "aae4b1749eca448a838588ddfc01c811": {
      "model_module": "@jupyter-widgets/controls",
      "model_module_version": "2.0.0",
      "model_name": "FloatProgressModel",
      "state": {
       "_dom_classes": [],
       "_model_module": "@jupyter-widgets/controls",
       "_model_module_version": "2.0.0",
       "_model_name": "FloatProgressModel",
       "_view_count": null,
       "_view_module": "@jupyter-widgets/controls",
       "_view_module_version": "2.0.0",
       "_view_name": "ProgressView",
       "bar_style": "success",
       "description": "",
       "description_allow_html": false,
       "layout": "IPY_MODEL_d865597a5b1943e98b693c83139007fb",
       "max": 1394,
       "min": 0,
       "orientation": "horizontal",
       "style": "IPY_MODEL_787b737221f04dd9848b62af0f87db0d",
       "tabbable": null,
       "tooltip": null,
       "value": 1394
      }
     },
     "acec1022cf5c4b3795c43db40bdd20cd": {
      "model_module": "@jupyter-widgets/controls",
      "model_module_version": "2.0.0",
      "model_name": "HTMLModel",
      "state": {
       "_dom_classes": [],
       "_model_module": "@jupyter-widgets/controls",
       "_model_module_version": "2.0.0",
       "_model_name": "HTMLModel",
       "_view_count": null,
       "_view_module": "@jupyter-widgets/controls",
       "_view_module_version": "2.0.0",
       "_view_name": "HTMLView",
       "description": "",
       "description_allow_html": false,
       "layout": "IPY_MODEL_9ca8ee665eea4bf7835dac024e8fcf1a",
       "placeholder": "​",
       "style": "IPY_MODEL_70c1d111ade44b27ab7356728d027e4d",
       "tabbable": null,
       "tooltip": null,
       "value": "vocab.json: 100%"
      }
     },
     "acf3a645033f44648b8a7397f81aaa70": {
      "model_module": "@jupyter-widgets/controls",
      "model_module_version": "2.0.0",
      "model_name": "HTMLModel",
      "state": {
       "_dom_classes": [],
       "_model_module": "@jupyter-widgets/controls",
       "_model_module_version": "2.0.0",
       "_model_name": "HTMLModel",
       "_view_count": null,
       "_view_module": "@jupyter-widgets/controls",
       "_view_module_version": "2.0.0",
       "_view_name": "HTMLView",
       "description": "",
       "description_allow_html": false,
       "layout": "IPY_MODEL_9c666f18ef6b472cb212a101fe92a901",
       "placeholder": "​",
       "style": "IPY_MODEL_a364dda330ae4a35901150a417977517",
       "tabbable": null,
       "tooltip": null,
       "value": " 1.39k/1.39k [00:00&lt;00:00, 162kB/s]"
      }
     },
     "b0a2b00342384f12ac20e36c40b0e8e8": {
      "model_module": "@jupyter-widgets/controls",
      "model_module_version": "2.0.0",
      "model_name": "ProgressStyleModel",
      "state": {
       "_model_module": "@jupyter-widgets/controls",
       "_model_module_version": "2.0.0",
       "_model_name": "ProgressStyleModel",
       "_view_count": null,
       "_view_module": "@jupyter-widgets/base",
       "_view_module_version": "2.0.0",
       "_view_name": "StyleView",
       "bar_color": null,
       "description_width": ""
      }
     },
     "b15745eed2f143b2a0a88bcba8cca51d": {
      "model_module": "@jupyter-widgets/controls",
      "model_module_version": "2.0.0",
      "model_name": "HTMLStyleModel",
      "state": {
       "_model_module": "@jupyter-widgets/controls",
       "_model_module_version": "2.0.0",
       "_model_name": "HTMLStyleModel",
       "_view_count": null,
       "_view_module": "@jupyter-widgets/base",
       "_view_module_version": "2.0.0",
       "_view_name": "StyleView",
       "background": null,
       "description_width": "",
       "font_size": null,
       "text_color": null
      }
     },
     "bf7bdc3bf99044e6b201ff3c4f2b9c9e": {
      "model_module": "@jupyter-widgets/controls",
      "model_module_version": "2.0.0",
      "model_name": "HTMLModel",
      "state": {
       "_dom_classes": [],
       "_model_module": "@jupyter-widgets/controls",
       "_model_module_version": "2.0.0",
       "_model_name": "HTMLModel",
       "_view_count": null,
       "_view_module": "@jupyter-widgets/controls",
       "_view_module_version": "2.0.0",
       "_view_name": "HTMLView",
       "description": "",
       "description_allow_html": false,
       "layout": "IPY_MODEL_687f52b66ad448c78c51d97e9064aad5",
       "placeholder": "​",
       "style": "IPY_MODEL_5c16735528ea4355ac6fd63e43aad375",
       "tabbable": null,
       "tooltip": null,
       "value": " 293/293 [00:00&lt;00:00, 41.3kB/s]"
      }
     },
     "c031f6ccb44b4a1e8160830ab1bbf7da": {
      "model_module": "@jupyter-widgets/base",
      "model_module_version": "2.0.0",
      "model_name": "LayoutModel",
      "state": {
       "_model_module": "@jupyter-widgets/base",
       "_model_module_version": "2.0.0",
       "_model_name": "LayoutModel",
       "_view_count": null,
       "_view_module": "@jupyter-widgets/base",
       "_view_module_version": "2.0.0",
       "_view_name": "LayoutView",
       "align_content": null,
       "align_items": null,
       "align_self": null,
       "border_bottom": null,
       "border_left": null,
       "border_right": null,
       "border_top": null,
       "bottom": null,
       "display": null,
       "flex": null,
       "flex_flow": null,
       "grid_area": null,
       "grid_auto_columns": null,
       "grid_auto_flow": null,
       "grid_auto_rows": null,
       "grid_column": null,
       "grid_gap": null,
       "grid_row": null,
       "grid_template_areas": null,
       "grid_template_columns": null,
       "grid_template_rows": null,
       "height": null,
       "justify_content": null,
       "justify_items": null,
       "left": null,
       "margin": null,
       "max_height": null,
       "max_width": null,
       "min_height": null,
       "min_width": null,
       "object_fit": null,
       "object_position": null,
       "order": null,
       "overflow": null,
       "padding": null,
       "right": null,
       "top": null,
       "visibility": null,
       "width": null
      }
     },
     "c3ecddf763e94f06b3454687e74dbc12": {
      "model_module": "@jupyter-widgets/controls",
      "model_module_version": "2.0.0",
      "model_name": "FloatProgressModel",
      "state": {
       "_dom_classes": [],
       "_model_module": "@jupyter-widgets/controls",
       "_model_module_version": "2.0.0",
       "_model_name": "FloatProgressModel",
       "_view_count": null,
       "_view_module": "@jupyter-widgets/controls",
       "_view_module_version": "2.0.0",
       "_view_name": "ProgressView",
       "bar_style": "success",
       "description": "",
       "description_allow_html": false,
       "layout": "IPY_MODEL_c59c118019084c3a86b9984979b5d4dc",
       "max": 1193597,
       "min": 0,
       "orientation": "horizontal",
       "style": "IPY_MODEL_32f0843b289f4813b9add221a1c6cbf7",
       "tabbable": null,
       "tooltip": null,
       "value": 1193597
      }
     },
     "c59c118019084c3a86b9984979b5d4dc": {
      "model_module": "@jupyter-widgets/base",
      "model_module_version": "2.0.0",
      "model_name": "LayoutModel",
      "state": {
       "_model_module": "@jupyter-widgets/base",
       "_model_module_version": "2.0.0",
       "_model_name": "LayoutModel",
       "_view_count": null,
       "_view_module": "@jupyter-widgets/base",
       "_view_module_version": "2.0.0",
       "_view_name": "LayoutView",
       "align_content": null,
       "align_items": null,
       "align_self": null,
       "border_bottom": null,
       "border_left": null,
       "border_right": null,
       "border_top": null,
       "bottom": null,
       "display": null,
       "flex": null,
       "flex_flow": null,
       "grid_area": null,
       "grid_auto_columns": null,
       "grid_auto_flow": null,
       "grid_auto_rows": null,
       "grid_column": null,
       "grid_gap": null,
       "grid_row": null,
       "grid_template_areas": null,
       "grid_template_columns": null,
       "grid_template_rows": null,
       "height": null,
       "justify_content": null,
       "justify_items": null,
       "left": null,
       "margin": null,
       "max_height": null,
       "max_width": null,
       "min_height": null,
       "min_width": null,
       "object_fit": null,
       "object_position": null,
       "order": null,
       "overflow": null,
       "padding": null,
       "right": null,
       "top": null,
       "visibility": null,
       "width": null
      }
     },
     "c5f681d193154a868dd5204340886745": {
      "model_module": "@jupyter-widgets/controls",
      "model_module_version": "2.0.0",
      "model_name": "HTMLModel",
      "state": {
       "_dom_classes": [],
       "_model_module": "@jupyter-widgets/controls",
       "_model_module_version": "2.0.0",
       "_model_name": "HTMLModel",
       "_view_count": null,
       "_view_module": "@jupyter-widgets/controls",
       "_view_module_version": "2.0.0",
       "_view_name": "HTMLView",
       "description": "",
       "description_allow_html": false,
       "layout": "IPY_MODEL_e663629eac1b46caa5646cc08aa3702d",
       "placeholder": "​",
       "style": "IPY_MODEL_35c7ce5ce2a2469aa4198d4c002a629b",
       "tabbable": null,
       "tooltip": null,
       "value": "generation_config.json: 100%"
      }
     },
     "c66f7f5de8a246b492970cddeaefc4f1": {
      "model_module": "@jupyter-widgets/controls",
      "model_module_version": "2.0.0",
      "model_name": "ProgressStyleModel",
      "state": {
       "_model_module": "@jupyter-widgets/controls",
       "_model_module_version": "2.0.0",
       "_model_name": "ProgressStyleModel",
       "_view_count": null,
       "_view_module": "@jupyter-widgets/base",
       "_view_module_version": "2.0.0",
       "_view_name": "StyleView",
       "bar_color": null,
       "description_width": ""
      }
     },
     "c82b98eca8784592abc61f644851571b": {
      "model_module": "@jupyter-widgets/base",
      "model_module_version": "2.0.0",
      "model_name": "LayoutModel",
      "state": {
       "_model_module": "@jupyter-widgets/base",
       "_model_module_version": "2.0.0",
       "_model_name": "LayoutModel",
       "_view_count": null,
       "_view_module": "@jupyter-widgets/base",
       "_view_module_version": "2.0.0",
       "_view_name": "LayoutView",
       "align_content": null,
       "align_items": null,
       "align_self": null,
       "border_bottom": null,
       "border_left": null,
       "border_right": null,
       "border_top": null,
       "bottom": null,
       "display": null,
       "flex": null,
       "flex_flow": null,
       "grid_area": null,
       "grid_auto_columns": null,
       "grid_auto_flow": null,
       "grid_auto_rows": null,
       "grid_column": null,
       "grid_gap": null,
       "grid_row": null,
       "grid_template_areas": null,
       "grid_template_columns": null,
       "grid_template_rows": null,
       "height": null,
       "justify_content": null,
       "justify_items": null,
       "left": null,
       "margin": null,
       "max_height": null,
       "max_width": null,
       "min_height": null,
       "min_width": null,
       "object_fit": null,
       "object_position": null,
       "order": null,
       "overflow": null,
       "padding": null,
       "right": null,
       "top": null,
       "visibility": null,
       "width": null
      }
     },
     "cd56788c64074ea7a7259a28f42e8e1d": {
      "model_module": "@jupyter-widgets/base",
      "model_module_version": "2.0.0",
      "model_name": "LayoutModel",
      "state": {
       "_model_module": "@jupyter-widgets/base",
       "_model_module_version": "2.0.0",
       "_model_name": "LayoutModel",
       "_view_count": null,
       "_view_module": "@jupyter-widgets/base",
       "_view_module_version": "2.0.0",
       "_view_name": "LayoutView",
       "align_content": null,
       "align_items": null,
       "align_self": null,
       "border_bottom": null,
       "border_left": null,
       "border_right": null,
       "border_top": null,
       "bottom": null,
       "display": null,
       "flex": null,
       "flex_flow": null,
       "grid_area": null,
       "grid_auto_columns": null,
       "grid_auto_flow": null,
       "grid_auto_rows": null,
       "grid_column": null,
       "grid_gap": null,
       "grid_row": null,
       "grid_template_areas": null,
       "grid_template_columns": null,
       "grid_template_rows": null,
       "height": null,
       "justify_content": null,
       "justify_items": null,
       "left": null,
       "margin": null,
       "max_height": null,
       "max_width": null,
       "min_height": null,
       "min_width": null,
       "object_fit": null,
       "object_position": null,
       "order": null,
       "overflow": null,
       "padding": null,
       "right": null,
       "top": null,
       "visibility": null,
       "width": null
      }
     },
     "cea5bcabf70946c9987ee547579ce35f": {
      "model_module": "@jupyter-widgets/base",
      "model_module_version": "2.0.0",
      "model_name": "LayoutModel",
      "state": {
       "_model_module": "@jupyter-widgets/base",
       "_model_module_version": "2.0.0",
       "_model_name": "LayoutModel",
       "_view_count": null,
       "_view_module": "@jupyter-widgets/base",
       "_view_module_version": "2.0.0",
       "_view_name": "LayoutView",
       "align_content": null,
       "align_items": null,
       "align_self": null,
       "border_bottom": null,
       "border_left": null,
       "border_right": null,
       "border_top": null,
       "bottom": null,
       "display": null,
       "flex": null,
       "flex_flow": null,
       "grid_area": null,
       "grid_auto_columns": null,
       "grid_auto_flow": null,
       "grid_auto_rows": null,
       "grid_column": null,
       "grid_gap": null,
       "grid_row": null,
       "grid_template_areas": null,
       "grid_template_columns": null,
       "grid_template_rows": null,
       "height": null,
       "justify_content": null,
       "justify_items": null,
       "left": null,
       "margin": null,
       "max_height": null,
       "max_width": null,
       "min_height": null,
       "min_width": null,
       "object_fit": null,
       "object_position": null,
       "order": null,
       "overflow": null,
       "padding": null,
       "right": null,
       "top": null,
       "visibility": null,
       "width": null
      }
     },
     "d2e2965297ab4cf386e2f1ea9c1047e2": {
      "model_module": "@jupyter-widgets/controls",
      "model_module_version": "2.0.0",
      "model_name": "FloatProgressModel",
      "state": {
       "_dom_classes": [],
       "_model_module": "@jupyter-widgets/controls",
       "_model_module_version": "2.0.0",
       "_model_name": "FloatProgressModel",
       "_view_count": null,
       "_view_module": "@jupyter-widgets/controls",
       "_view_module_version": "2.0.0",
       "_view_name": "ProgressView",
       "bar_style": "success",
       "description": "",
       "description_allow_html": false,
       "layout": "IPY_MODEL_de66f86bdafa46d79d2377f12959393c",
       "max": 288977385,
       "min": 0,
       "orientation": "horizontal",
       "style": "IPY_MODEL_03dbaba58650409999f48a413a1ea670",
       "tabbable": null,
       "tooltip": null,
       "value": 288977385
      }
     },
     "d4eb8b3be36b4c8388d13ae09af93d1f": {
      "model_module": "@jupyter-widgets/base",
      "model_module_version": "2.0.0",
      "model_name": "LayoutModel",
      "state": {
       "_model_module": "@jupyter-widgets/base",
       "_model_module_version": "2.0.0",
       "_model_name": "LayoutModel",
       "_view_count": null,
       "_view_module": "@jupyter-widgets/base",
       "_view_module_version": "2.0.0",
       "_view_name": "LayoutView",
       "align_content": null,
       "align_items": null,
       "align_self": null,
       "border_bottom": null,
       "border_left": null,
       "border_right": null,
       "border_top": null,
       "bottom": null,
       "display": null,
       "flex": null,
       "flex_flow": null,
       "grid_area": null,
       "grid_auto_columns": null,
       "grid_auto_flow": null,
       "grid_auto_rows": null,
       "grid_column": null,
       "grid_gap": null,
       "grid_row": null,
       "grid_template_areas": null,
       "grid_template_columns": null,
       "grid_template_rows": null,
       "height": null,
       "justify_content": null,
       "justify_items": null,
       "left": null,
       "margin": null,
       "max_height": null,
       "max_width": null,
       "min_height": null,
       "min_width": null,
       "object_fit": null,
       "object_position": null,
       "order": null,
       "overflow": null,
       "padding": null,
       "right": null,
       "top": null,
       "visibility": null,
       "width": null
      }
     },
     "d6dac5d7e09444e9b0ee778cc5d606c8": {
      "model_module": "@jupyter-widgets/controls",
      "model_module_version": "2.0.0",
      "model_name": "FloatProgressModel",
      "state": {
       "_dom_classes": [],
       "_model_module": "@jupyter-widgets/controls",
       "_model_module_version": "2.0.0",
       "_model_name": "FloatProgressModel",
       "_view_count": null,
       "_view_module": "@jupyter-widgets/controls",
       "_view_module_version": "2.0.0",
       "_view_name": "ProgressView",
       "bar_style": "success",
       "description": "",
       "description_allow_html": false,
       "layout": "IPY_MODEL_13d38cf64f6c4b3cad3312561e595f41",
       "max": 21801,
       "min": 0,
       "orientation": "horizontal",
       "style": "IPY_MODEL_99f8b85a0a254a44822f1bf14226fea9",
       "tabbable": null,
       "tooltip": null,
       "value": 21801
      }
     },
     "d865597a5b1943e98b693c83139007fb": {
      "model_module": "@jupyter-widgets/base",
      "model_module_version": "2.0.0",
      "model_name": "LayoutModel",
      "state": {
       "_model_module": "@jupyter-widgets/base",
       "_model_module_version": "2.0.0",
       "_model_name": "LayoutModel",
       "_view_count": null,
       "_view_module": "@jupyter-widgets/base",
       "_view_module_version": "2.0.0",
       "_view_name": "LayoutView",
       "align_content": null,
       "align_items": null,
       "align_self": null,
       "border_bottom": null,
       "border_left": null,
       "border_right": null,
       "border_top": null,
       "bottom": null,
       "display": null,
       "flex": null,
       "flex_flow": null,
       "grid_area": null,
       "grid_auto_columns": null,
       "grid_auto_flow": null,
       "grid_auto_rows": null,
       "grid_column": null,
       "grid_gap": null,
       "grid_row": null,
       "grid_template_areas": null,
       "grid_template_columns": null,
       "grid_template_rows": null,
       "height": null,
       "justify_content": null,
       "justify_items": null,
       "left": null,
       "margin": null,
       "max_height": null,
       "max_width": null,
       "min_height": null,
       "min_width": null,
       "object_fit": null,
       "object_position": null,
       "order": null,
       "overflow": null,
       "padding": null,
       "right": null,
       "top": null,
       "visibility": null,
       "width": null
      }
     },
     "d865ebc29d304508ad336061dcfea670": {
      "model_module": "@jupyter-widgets/controls",
      "model_module_version": "2.0.0",
      "model_name": "FloatProgressModel",
      "state": {
       "_dom_classes": [],
       "_model_module": "@jupyter-widgets/controls",
       "_model_module_version": "2.0.0",
       "_model_name": "FloatProgressModel",
       "_view_count": null,
       "_view_module": "@jupyter-widgets/controls",
       "_view_module_version": "2.0.0",
       "_view_name": "ProgressView",
       "bar_style": "success",
       "description": "",
       "description_allow_html": false,
       "layout": "IPY_MODEL_72e59a5f466c48e9ae050400660d56c0",
       "max": 288952844,
       "min": 0,
       "orientation": "horizontal",
       "style": "IPY_MODEL_b0a2b00342384f12ac20e36c40b0e8e8",
       "tabbable": null,
       "tooltip": null,
       "value": 288952844
      }
     },
     "d8857e5815cc44598f0dd4b751b09349": {
      "model_module": "@jupyter-widgets/controls",
      "model_module_version": "2.0.0",
      "model_name": "HTMLStyleModel",
      "state": {
       "_model_module": "@jupyter-widgets/controls",
       "_model_module_version": "2.0.0",
       "_model_name": "HTMLStyleModel",
       "_view_count": null,
       "_view_module": "@jupyter-widgets/base",
       "_view_module_version": "2.0.0",
       "_view_name": "StyleView",
       "background": null,
       "description_width": "",
       "font_size": null,
       "text_color": null
      }
     },
     "dae4c0ad673d4ceabc5dd5f8df17dd6a": {
      "model_module": "@jupyter-widgets/base",
      "model_module_version": "2.0.0",
      "model_name": "LayoutModel",
      "state": {
       "_model_module": "@jupyter-widgets/base",
       "_model_module_version": "2.0.0",
       "_model_name": "LayoutModel",
       "_view_count": null,
       "_view_module": "@jupyter-widgets/base",
       "_view_module_version": "2.0.0",
       "_view_name": "LayoutView",
       "align_content": null,
       "align_items": null,
       "align_self": null,
       "border_bottom": null,
       "border_left": null,
       "border_right": null,
       "border_top": null,
       "bottom": null,
       "display": null,
       "flex": null,
       "flex_flow": null,
       "grid_area": null,
       "grid_auto_columns": null,
       "grid_auto_flow": null,
       "grid_auto_rows": null,
       "grid_column": null,
       "grid_gap": null,
       "grid_row": null,
       "grid_template_areas": null,
       "grid_template_columns": null,
       "grid_template_rows": null,
       "height": null,
       "justify_content": null,
       "justify_items": null,
       "left": null,
       "margin": null,
       "max_height": null,
       "max_width": null,
       "min_height": null,
       "min_width": null,
       "object_fit": null,
       "object_position": null,
       "order": null,
       "overflow": null,
       "padding": null,
       "right": null,
       "top": null,
       "visibility": null,
       "width": null
      }
     },
     "de04eb7028a2458fbc9769d3b5d49160": {
      "model_module": "@jupyter-widgets/base",
      "model_module_version": "2.0.0",
      "model_name": "LayoutModel",
      "state": {
       "_model_module": "@jupyter-widgets/base",
       "_model_module_version": "2.0.0",
       "_model_name": "LayoutModel",
       "_view_count": null,
       "_view_module": "@jupyter-widgets/base",
       "_view_module_version": "2.0.0",
       "_view_name": "LayoutView",
       "align_content": null,
       "align_items": null,
       "align_self": null,
       "border_bottom": null,
       "border_left": null,
       "border_right": null,
       "border_top": null,
       "bottom": null,
       "display": null,
       "flex": null,
       "flex_flow": null,
       "grid_area": null,
       "grid_auto_columns": null,
       "grid_auto_flow": null,
       "grid_auto_rows": null,
       "grid_column": null,
       "grid_gap": null,
       "grid_row": null,
       "grid_template_areas": null,
       "grid_template_columns": null,
       "grid_template_rows": null,
       "height": null,
       "justify_content": null,
       "justify_items": null,
       "left": null,
       "margin": null,
       "max_height": null,
       "max_width": null,
       "min_height": null,
       "min_width": null,
       "object_fit": null,
       "object_position": null,
       "order": null,
       "overflow": null,
       "padding": null,
       "right": null,
       "top": null,
       "visibility": null,
       "width": null
      }
     },
     "de66f86bdafa46d79d2377f12959393c": {
      "model_module": "@jupyter-widgets/base",
      "model_module_version": "2.0.0",
      "model_name": "LayoutModel",
      "state": {
       "_model_module": "@jupyter-widgets/base",
       "_model_module_version": "2.0.0",
       "_model_name": "LayoutModel",
       "_view_count": null,
       "_view_module": "@jupyter-widgets/base",
       "_view_module_version": "2.0.0",
       "_view_name": "LayoutView",
       "align_content": null,
       "align_items": null,
       "align_self": null,
       "border_bottom": null,
       "border_left": null,
       "border_right": null,
       "border_top": null,
       "bottom": null,
       "display": null,
       "flex": null,
       "flex_flow": null,
       "grid_area": null,
       "grid_auto_columns": null,
       "grid_auto_flow": null,
       "grid_auto_rows": null,
       "grid_column": null,
       "grid_gap": null,
       "grid_row": null,
       "grid_template_areas": null,
       "grid_template_columns": null,
       "grid_template_rows": null,
       "height": null,
       "justify_content": null,
       "justify_items": null,
       "left": null,
       "margin": null,
       "max_height": null,
       "max_width": null,
       "min_height": null,
       "min_width": null,
       "object_fit": null,
       "object_position": null,
       "order": null,
       "overflow": null,
       "padding": null,
       "right": null,
       "top": null,
       "visibility": null,
       "width": null
      }
     },
     "e023f3a03eff4c19a287c319a953fa83": {
      "model_module": "@jupyter-widgets/controls",
      "model_module_version": "2.0.0",
      "model_name": "HTMLModel",
      "state": {
       "_dom_classes": [],
       "_model_module": "@jupyter-widgets/controls",
       "_model_module_version": "2.0.0",
       "_model_name": "HTMLModel",
       "_view_count": null,
       "_view_module": "@jupyter-widgets/controls",
       "_view_module_version": "2.0.0",
       "_view_name": "HTMLView",
       "description": "",
       "description_allow_html": false,
       "layout": "IPY_MODEL_6690e588c68b4ab5bbb39d95a71cbc19",
       "placeholder": "​",
       "style": "IPY_MODEL_0e1061ab11254b44a269d53e272fb8dd",
       "tabbable": null,
       "tooltip": null,
       "value": "Map: 100%"
      }
     },
     "e28a6795ce434939a058666ce05e2d8c": {
      "model_module": "@jupyter-widgets/controls",
      "model_module_version": "2.0.0",
      "model_name": "ProgressStyleModel",
      "state": {
       "_model_module": "@jupyter-widgets/controls",
       "_model_module_version": "2.0.0",
       "_model_name": "ProgressStyleModel",
       "_view_count": null,
       "_view_module": "@jupyter-widgets/base",
       "_view_module_version": "2.0.0",
       "_view_name": "StyleView",
       "bar_color": null,
       "description_width": ""
      }
     },
     "e5e2748769ec4630827649755a09f5b1": {
      "model_module": "@jupyter-widgets/controls",
      "model_module_version": "2.0.0",
      "model_name": "HTMLModel",
      "state": {
       "_dom_classes": [],
       "_model_module": "@jupyter-widgets/controls",
       "_model_module_version": "2.0.0",
       "_model_name": "HTMLModel",
       "_view_count": null,
       "_view_module": "@jupyter-widgets/controls",
       "_view_module_version": "2.0.0",
       "_view_name": "HTMLView",
       "description": "",
       "description_allow_html": false,
       "layout": "IPY_MODEL_2a87bb01ab254f84acbb74e90ddf3639",
       "placeholder": "​",
       "style": "IPY_MODEL_681ef3e116504054a460f0270590335b",
       "tabbable": null,
       "tooltip": null,
       "value": "Translating: 100%"
      }
     },
     "e663629eac1b46caa5646cc08aa3702d": {
      "model_module": "@jupyter-widgets/base",
      "model_module_version": "2.0.0",
      "model_name": "LayoutModel",
      "state": {
       "_model_module": "@jupyter-widgets/base",
       "_model_module_version": "2.0.0",
       "_model_name": "LayoutModel",
       "_view_count": null,
       "_view_module": "@jupyter-widgets/base",
       "_view_module_version": "2.0.0",
       "_view_name": "LayoutView",
       "align_content": null,
       "align_items": null,
       "align_self": null,
       "border_bottom": null,
       "border_left": null,
       "border_right": null,
       "border_top": null,
       "bottom": null,
       "display": null,
       "flex": null,
       "flex_flow": null,
       "grid_area": null,
       "grid_auto_columns": null,
       "grid_auto_flow": null,
       "grid_auto_rows": null,
       "grid_column": null,
       "grid_gap": null,
       "grid_row": null,
       "grid_template_areas": null,
       "grid_template_columns": null,
       "grid_template_rows": null,
       "height": null,
       "justify_content": null,
       "justify_items": null,
       "left": null,
       "margin": null,
       "max_height": null,
       "max_width": null,
       "min_height": null,
       "min_width": null,
       "object_fit": null,
       "object_position": null,
       "order": null,
       "overflow": null,
       "padding": null,
       "right": null,
       "top": null,
       "visibility": null,
       "width": null
      }
     },
     "e8678f823ffb4f87ad7963202b9cf0a3": {
      "model_module": "@jupyter-widgets/controls",
      "model_module_version": "2.0.0",
      "model_name": "HTMLModel",
      "state": {
       "_dom_classes": [],
       "_model_module": "@jupyter-widgets/controls",
       "_model_module_version": "2.0.0",
       "_model_name": "HTMLModel",
       "_view_count": null,
       "_view_module": "@jupyter-widgets/controls",
       "_view_module_version": "2.0.0",
       "_view_name": "HTMLView",
       "description": "",
       "description_allow_html": false,
       "layout": "IPY_MODEL_6227968d177945a4bf047478f2a6850e",
       "placeholder": "​",
       "style": "IPY_MODEL_3d5e9c76735f453e9ede38d1d7931dc2",
       "tabbable": null,
       "tooltip": null,
       "value": " 1000/1000 [04:48&lt;00:00,  3.05it/s]"
      }
     },
     "ecc66be3874d4abcb559244a5463b404": {
      "model_module": "@jupyter-widgets/base",
      "model_module_version": "2.0.0",
      "model_name": "LayoutModel",
      "state": {
       "_model_module": "@jupyter-widgets/base",
       "_model_module_version": "2.0.0",
       "_model_name": "LayoutModel",
       "_view_count": null,
       "_view_module": "@jupyter-widgets/base",
       "_view_module_version": "2.0.0",
       "_view_name": "LayoutView",
       "align_content": null,
       "align_items": null,
       "align_self": null,
       "border_bottom": null,
       "border_left": null,
       "border_right": null,
       "border_top": null,
       "bottom": null,
       "display": null,
       "flex": null,
       "flex_flow": null,
       "grid_area": null,
       "grid_auto_columns": null,
       "grid_auto_flow": null,
       "grid_auto_rows": null,
       "grid_column": null,
       "grid_gap": null,
       "grid_row": null,
       "grid_template_areas": null,
       "grid_template_columns": null,
       "grid_template_rows": null,
       "height": null,
       "justify_content": null,
       "justify_items": null,
       "left": null,
       "margin": null,
       "max_height": null,
       "max_width": null,
       "min_height": null,
       "min_width": null,
       "object_fit": null,
       "object_position": null,
       "order": null,
       "overflow": null,
       "padding": null,
       "right": null,
       "top": null,
       "visibility": null,
       "width": null
      }
     },
     "f253cc6d042f484a99e7d47e3814c7e3": {
      "model_module": "@jupyter-widgets/controls",
      "model_module_version": "2.0.0",
      "model_name": "HBoxModel",
      "state": {
       "_dom_classes": [],
       "_model_module": "@jupyter-widgets/controls",
       "_model_module_version": "2.0.0",
       "_model_name": "HBoxModel",
       "_view_count": null,
       "_view_module": "@jupyter-widgets/controls",
       "_view_module_version": "2.0.0",
       "_view_name": "HBoxView",
       "box_style": "",
       "children": [
        "IPY_MODEL_e5e2748769ec4630827649755a09f5b1",
        "IPY_MODEL_80878b52b36c4febb6160b71b407c450",
        "IPY_MODEL_e8678f823ffb4f87ad7963202b9cf0a3"
       ],
       "layout": "IPY_MODEL_17883c7f86574f57ae03e40c58f09cc9",
       "tabbable": null,
       "tooltip": null
      }
     },
     "f58ff0e9d30b4b5281f39cba849f7db5": {
      "model_module": "@jupyter-widgets/controls",
      "model_module_version": "2.0.0",
      "model_name": "FloatProgressModel",
      "state": {
       "_dom_classes": [],
       "_model_module": "@jupyter-widgets/controls",
       "_model_module_version": "2.0.0",
       "_model_name": "FloatProgressModel",
       "_view_count": null,
       "_view_module": "@jupyter-widgets/controls",
       "_view_module_version": "2.0.0",
       "_view_name": "ProgressView",
       "bar_style": "success",
       "description": "",
       "description_allow_html": false,
       "layout": "IPY_MODEL_45fd56f25ed64de7a6bcfc0c007b40d0",
       "max": 808853,
       "min": 0,
       "orientation": "horizontal",
       "style": "IPY_MODEL_52e8d0fddffc44fd8c6b0766b0fb53be",
       "tabbable": null,
       "tooltip": null,
       "value": 808853
      }
     },
     "f6bb67d769954ca68f543ba624fd1771": {
      "model_module": "@jupyter-widgets/controls",
      "model_module_version": "2.0.0",
      "model_name": "HTMLModel",
      "state": {
       "_dom_classes": [],
       "_model_module": "@jupyter-widgets/controls",
       "_model_module_version": "2.0.0",
       "_model_name": "HTMLModel",
       "_view_count": null,
       "_view_module": "@jupyter-widgets/controls",
       "_view_module_version": "2.0.0",
       "_view_name": "HTMLView",
       "description": "",
       "description_allow_html": false,
       "layout": "IPY_MODEL_3ef825a9500f4f80bbae47c8eba621fa",
       "placeholder": "​",
       "style": "IPY_MODEL_0035d689b0cf48a7bb212a596f48ce69",
       "tabbable": null,
       "tooltip": null,
       "value": " 1.19M/1.19M [00:00&lt;00:00, 18.2MB/s]"
      }
     },
     "f6cc7377aa4a45d09305bef3463caf60": {
      "model_module": "@jupyter-widgets/controls",
      "model_module_version": "2.0.0",
      "model_name": "HTMLModel",
      "state": {
       "_dom_classes": [],
       "_model_module": "@jupyter-widgets/controls",
       "_model_module_version": "2.0.0",
       "_model_name": "HTMLModel",
       "_view_count": null,
       "_view_module": "@jupyter-widgets/controls",
       "_view_module_version": "2.0.0",
       "_view_name": "HTMLView",
       "description": "",
       "description_allow_html": false,
       "layout": "IPY_MODEL_5f6f0ad275044e0dad7c84bd5c73bd8c",
       "placeholder": "​",
       "style": "IPY_MODEL_f959fef36fac4790ad1833c87e163b45",
       "tabbable": null,
       "tooltip": null,
       "value": " 756k/756k [00:00&lt;00:00, 13.4MB/s]"
      }
     },
     "f6e4911ea35446938cd0ffdd3a6f6f10": {
      "model_module": "@jupyter-widgets/controls",
      "model_module_version": "2.0.0",
      "model_name": "FloatProgressModel",
      "state": {
       "_dom_classes": [],
       "_model_module": "@jupyter-widgets/controls",
       "_model_module_version": "2.0.0",
       "_model_name": "FloatProgressModel",
       "_view_count": null,
       "_view_module": "@jupyter-widgets/controls",
       "_view_module_version": "2.0.0",
       "_view_name": "ProgressView",
       "bar_style": "success",
       "description": "",
       "description_allow_html": false,
       "layout": "IPY_MODEL_aa21e021edf04868893482deb8bdc8ca",
       "max": 44,
       "min": 0,
       "orientation": "horizontal",
       "style": "IPY_MODEL_e28a6795ce434939a058666ce05e2d8c",
       "tabbable": null,
       "tooltip": null,
       "value": 44
      }
     },
     "f959fef36fac4790ad1833c87e163b45": {
      "model_module": "@jupyter-widgets/controls",
      "model_module_version": "2.0.0",
      "model_name": "HTMLStyleModel",
      "state": {
       "_model_module": "@jupyter-widgets/controls",
       "_model_module_version": "2.0.0",
       "_model_name": "HTMLStyleModel",
       "_view_count": null,
       "_view_module": "@jupyter-widgets/base",
       "_view_module_version": "2.0.0",
       "_view_name": "StyleView",
       "background": null,
       "description_width": "",
       "font_size": null,
       "text_color": null
      }
     },
     "fc0081942fb3463fb6e5e381f043c96d": {
      "model_module": "@jupyter-widgets/controls",
      "model_module_version": "2.0.0",
      "model_name": "HBoxModel",
      "state": {
       "_dom_classes": [],
       "_model_module": "@jupyter-widgets/controls",
       "_model_module_version": "2.0.0",
       "_model_name": "HBoxModel",
       "_view_count": null,
       "_view_module": "@jupyter-widgets/controls",
       "_view_module_version": "2.0.0",
       "_view_name": "HBoxView",
       "box_style": "",
       "children": [
        "IPY_MODEL_3d2db04b7e2047a48e7ea51da1b7c69c",
        "IPY_MODEL_f58ff0e9d30b4b5281f39cba849f7db5",
        "IPY_MODEL_0ecac02b2a454bdba2a6c300eb7b9951"
       ],
       "layout": "IPY_MODEL_ecc66be3874d4abcb559244a5463b404",
       "tabbable": null,
       "tooltip": null
      }
     },
     "fc1fb7d435014a26b52e1ec4c10dc261": {
      "model_module": "@jupyter-widgets/base",
      "model_module_version": "2.0.0",
      "model_name": "LayoutModel",
      "state": {
       "_model_module": "@jupyter-widgets/base",
       "_model_module_version": "2.0.0",
       "_model_name": "LayoutModel",
       "_view_count": null,
       "_view_module": "@jupyter-widgets/base",
       "_view_module_version": "2.0.0",
       "_view_name": "LayoutView",
       "align_content": null,
       "align_items": null,
       "align_self": null,
       "border_bottom": null,
       "border_left": null,
       "border_right": null,
       "border_top": null,
       "bottom": null,
       "display": null,
       "flex": null,
       "flex_flow": null,
       "grid_area": null,
       "grid_auto_columns": null,
       "grid_auto_flow": null,
       "grid_auto_rows": null,
       "grid_column": null,
       "grid_gap": null,
       "grid_row": null,
       "grid_template_areas": null,
       "grid_template_columns": null,
       "grid_template_rows": null,
       "height": null,
       "justify_content": null,
       "justify_items": null,
       "left": null,
       "margin": null,
       "max_height": null,
       "max_width": null,
       "min_height": null,
       "min_width": null,
       "object_fit": null,
       "object_position": null,
       "order": null,
       "overflow": null,
       "padding": null,
       "right": null,
       "top": null,
       "visibility": null,
       "width": null
      }
     },
     "fc845d75a2474cdd95d6bd9012c31c42": {
      "model_module": "@jupyter-widgets/base",
      "model_module_version": "2.0.0",
      "model_name": "LayoutModel",
      "state": {
       "_model_module": "@jupyter-widgets/base",
       "_model_module_version": "2.0.0",
       "_model_name": "LayoutModel",
       "_view_count": null,
       "_view_module": "@jupyter-widgets/base",
       "_view_module_version": "2.0.0",
       "_view_name": "LayoutView",
       "align_content": null,
       "align_items": null,
       "align_self": null,
       "border_bottom": null,
       "border_left": null,
       "border_right": null,
       "border_top": null,
       "bottom": null,
       "display": null,
       "flex": null,
       "flex_flow": null,
       "grid_area": null,
       "grid_auto_columns": null,
       "grid_auto_flow": null,
       "grid_auto_rows": null,
       "grid_column": null,
       "grid_gap": null,
       "grid_row": null,
       "grid_template_areas": null,
       "grid_template_columns": null,
       "grid_template_rows": null,
       "height": null,
       "justify_content": null,
       "justify_items": null,
       "left": null,
       "margin": null,
       "max_height": null,
       "max_width": null,
       "min_height": null,
       "min_width": null,
       "object_fit": null,
       "object_position": null,
       "order": null,
       "overflow": null,
       "padding": null,
       "right": null,
       "top": null,
       "visibility": null,
       "width": null
      }
     }
    },
    "version_major": 2,
    "version_minor": 0
   }
  }
 },
 "nbformat": 4,
 "nbformat_minor": 5
}
