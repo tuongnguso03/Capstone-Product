{
 "cells": [
  {
   "cell_type": "code",
   "execution_count": 22,
   "id": "35c220d3",
   "metadata": {},
   "outputs": [],
   "source": [
    "import requests\n",
    "import json\n",
    "\n",
    "# --- Configuration ---\n",
    "# Ensure your FastAPI application (containing the review router) is running.\n",
    "# By default, uvicorn runs on http://127.0.0.1:8000\n",
    "BASE_URL = \"http://localhost:8000\"\n",
    "REVIEW_ENDPOINT_URL = f\"{BASE_URL}/reviews/\" # Matches the router prefix and endpoint path\n",
    "\n",
    "# --- Sample Review Data ---\n",
    "# You can modify this data to test different scenarios\n",
    "sample_review_valid = {\n",
    "    \"src\": \"This is a test source text from Jupyter.\",\n",
    "    \"tgt\": \"Đây là một văn bản nguồn thử nghiệm từ Jupyter.\",\n",
    "    \"rate\": 5\n",
    "}\n",
    "\n",
    "sample_review_invalid_rate_too_high = {\n",
    "    \"src\": \"Another source from Jupyter.\",\n",
    "    \"tgt\": \"Một nguồn khác từ Jupyter.\",\n",
    "    \"rate\": 7 # Invalid: rate should be <= 5\n",
    "}\n",
    "\n",
    "sample_review_missing_field = {\n",
    "    \"src\": \"Source without target from Jupyter.\",\n",
    "    \"rate\": 3 # Invalid: 'tgt' field is missing\n",
    "}\n",
    "\n",
    "# --- Helper Function to Send Request ---\n",
    "def send_review_request(payload: dict, description: str):\n",
    "    \"\"\"\n",
    "    Sends a POST request to the review endpoint with the given payload.\n",
    "    Prints the server's response.\n",
    "    \"\"\"\n",
    "    print(f\"\\n--- Testing: {description} ---\")\n",
    "    print(f\"Sending payload: {json.dumps(payload, indent=2)}\")\n",
    "    try:\n",
    "        response = requests.post(REVIEW_ENDPOINT_URL, json=payload)\n",
    "        print(f\"Response Status Code: {response.status_code}\")\n",
    "        try:\n",
    "            response_json = response.json()\n",
    "            print(f\"Response JSON: {json.dumps(response_json, indent=2)}\")\n",
    "        except json.JSONDecodeError:\n",
    "            print(f\"Response Content (not JSON): {response.text}\")\n",
    "        return response # Return the response object for further inspection if needed\n",
    "    except requests.exceptions.ConnectionError as e:\n",
    "        print(f\"Connection Error: Could not connect to the server at {REVIEW_ENDPOINT_URL}.\")\n",
    "        print(\"Please ensure your FastAPI application is running.\")\n",
    "    except Exception as e:\n",
    "        print(f\"An unexpected error occurred: {e}\")\n",
    "    return None # Return None if an error occurred before getting a response\n"
   ]
  },
  {
   "cell_type": "code",
   "execution_count": 24,
   "id": "3052a6b5",
   "metadata": {},
   "outputs": [
    {
     "name": "stdout",
     "output_type": "stream",
     "text": [
      "\n",
      "--- Testing: test 1 ---\n",
      "Sending payload: {\n",
      "  \"src\": \"This is a test source text from Jupyter.\",\n",
      "  \"tgt\": \"\\u0110\\u00e2y l\\u00e0 m\\u1ed9t v\\u0103n b\\u1ea3n ngu\\u1ed3n th\\u1eed nghi\\u1ec7m t\\u1eeb Jupyter.\",\n",
      "  \"rate\": 5\n",
      "}\n",
      "Response Status Code: 200\n",
      "Response JSON: {\n",
      "  \"status\": \"success\",\n",
      "  \"review_id\": \"k5mdfQym0tsReLtjIuec\",\n",
      "  \"message\": \"Review submitted successfully.\"\n",
      "}\n"
     ]
    },
    {
     "data": {
      "text/plain": [
       "<Response [200]>"
      ]
     },
     "execution_count": 24,
     "metadata": {},
     "output_type": "execute_result"
    }
   ],
   "source": [
    "send_review_request(sample_review_valid, \"test 1\")"
   ]
  }
 ],
 "metadata": {
  "kernelspec": {
   "display_name": "CVclass",
   "language": "python",
   "name": "python3"
  },
  "language_info": {
   "codemirror_mode": {
    "name": "ipython",
    "version": 3
   },
   "file_extension": ".py",
   "mimetype": "text/x-python",
   "name": "python",
   "nbconvert_exporter": "python",
   "pygments_lexer": "ipython3",
   "version": "3.9.19"
  }
 },
 "nbformat": 4,
 "nbformat_minor": 5
}
